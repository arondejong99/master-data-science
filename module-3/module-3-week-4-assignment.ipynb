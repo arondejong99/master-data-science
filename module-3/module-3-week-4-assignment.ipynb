{
 "cells": [
  {
   "cell_type": "markdown",
   "id": "a4fbb5ae",
   "metadata": {},
   "source": [
    "# Superstore data\n",
    "In this notebook, an EDA will be performed on the superstore excel sheet.\n",
    "\n",
    "Steps:\n",
    "- Import the data\n",
    "- Clean the data\n",
    "- Distribution of all columns\n",
    "- Correlation matrix\n",
    "- Detect (un)usual patterns"
   ]
  },
  {
   "cell_type": "code",
   "execution_count": 31,
   "id": "3ee2c4ff",
   "metadata": {},
   "outputs": [],
   "source": [
    "# Import the necessary modules\n",
    "import pandas as pd\n",
    "import numpy as np\n",
    "import matplotlib.pyplot as plt\n",
    "import seaborn as sns\n",
    "import datetime as dt"
   ]
  },
  {
   "cell_type": "markdown",
   "id": "a9e98e00",
   "metadata": {},
   "source": [
    "## Import the data"
   ]
  },
  {
   "cell_type": "code",
   "execution_count": 32,
   "id": "169f7f74",
   "metadata": {
    "scrolled": false
   },
   "outputs": [
    {
     "data": {
      "text/html": [
       "<div>\n",
       "<style scoped>\n",
       "    .dataframe tbody tr th:only-of-type {\n",
       "        vertical-align: middle;\n",
       "    }\n",
       "\n",
       "    .dataframe tbody tr th {\n",
       "        vertical-align: top;\n",
       "    }\n",
       "\n",
       "    .dataframe thead th {\n",
       "        text-align: right;\n",
       "    }\n",
       "</style>\n",
       "<table border=\"1\" class=\"dataframe\">\n",
       "  <thead>\n",
       "    <tr style=\"text-align: right;\">\n",
       "      <th></th>\n",
       "      <th>Row ID</th>\n",
       "      <th>Order ID</th>\n",
       "      <th>Order Date</th>\n",
       "      <th>Ship Date</th>\n",
       "      <th>Ship Mode</th>\n",
       "      <th>Customer ID</th>\n",
       "      <th>Customer Name</th>\n",
       "      <th>Segment</th>\n",
       "      <th>Country</th>\n",
       "      <th>City</th>\n",
       "      <th>...</th>\n",
       "      <th>Postal Code</th>\n",
       "      <th>Region</th>\n",
       "      <th>Product ID</th>\n",
       "      <th>Category</th>\n",
       "      <th>Sub-Category</th>\n",
       "      <th>Product Name</th>\n",
       "      <th>Sales</th>\n",
       "      <th>Quantity</th>\n",
       "      <th>Discount</th>\n",
       "      <th>Profit</th>\n",
       "    </tr>\n",
       "  </thead>\n",
       "  <tbody>\n",
       "    <tr>\n",
       "      <th>0</th>\n",
       "      <td>1</td>\n",
       "      <td>CA-2016-152156</td>\n",
       "      <td>2016-11-08</td>\n",
       "      <td>2016-11-11</td>\n",
       "      <td>Second Class</td>\n",
       "      <td>CG-12520</td>\n",
       "      <td>Claire Gute</td>\n",
       "      <td>Consumer</td>\n",
       "      <td>United States</td>\n",
       "      <td>Henderson</td>\n",
       "      <td>...</td>\n",
       "      <td>42420</td>\n",
       "      <td>South</td>\n",
       "      <td>FUR-BO-10001798</td>\n",
       "      <td>Furniture</td>\n",
       "      <td>Bookcases</td>\n",
       "      <td>Bush Somerset Collection Bookcase</td>\n",
       "      <td>261.9600</td>\n",
       "      <td>2</td>\n",
       "      <td>0.00</td>\n",
       "      <td>41.9136</td>\n",
       "    </tr>\n",
       "    <tr>\n",
       "      <th>1</th>\n",
       "      <td>2</td>\n",
       "      <td>CA-2016-152156</td>\n",
       "      <td>2016-11-08</td>\n",
       "      <td>2016-11-11</td>\n",
       "      <td>Second Class</td>\n",
       "      <td>CG-12520</td>\n",
       "      <td>Claire Gute</td>\n",
       "      <td>Consumer</td>\n",
       "      <td>United States</td>\n",
       "      <td>Henderson</td>\n",
       "      <td>...</td>\n",
       "      <td>42420</td>\n",
       "      <td>South</td>\n",
       "      <td>FUR-CH-10000454</td>\n",
       "      <td>Furniture</td>\n",
       "      <td>Chairs</td>\n",
       "      <td>Hon Deluxe Fabric Upholstered Stacking Chairs,...</td>\n",
       "      <td>731.9400</td>\n",
       "      <td>3</td>\n",
       "      <td>0.00</td>\n",
       "      <td>219.5820</td>\n",
       "    </tr>\n",
       "    <tr>\n",
       "      <th>2</th>\n",
       "      <td>3</td>\n",
       "      <td>CA-2016-138688</td>\n",
       "      <td>2016-06-12</td>\n",
       "      <td>2016-06-16</td>\n",
       "      <td>Second Class</td>\n",
       "      <td>DV-13045</td>\n",
       "      <td>Darrin Van Huff</td>\n",
       "      <td>Corporate</td>\n",
       "      <td>United States</td>\n",
       "      <td>Los Angeles</td>\n",
       "      <td>...</td>\n",
       "      <td>90036</td>\n",
       "      <td>West</td>\n",
       "      <td>OFF-LA-10000240</td>\n",
       "      <td>Office Supplies</td>\n",
       "      <td>Labels</td>\n",
       "      <td>Self-Adhesive Address Labels for Typewriters b...</td>\n",
       "      <td>14.6200</td>\n",
       "      <td>2</td>\n",
       "      <td>0.00</td>\n",
       "      <td>6.8714</td>\n",
       "    </tr>\n",
       "    <tr>\n",
       "      <th>3</th>\n",
       "      <td>4</td>\n",
       "      <td>US-2015-108966</td>\n",
       "      <td>2015-10-11</td>\n",
       "      <td>2015-10-18</td>\n",
       "      <td>Standard Class</td>\n",
       "      <td>SO-20335</td>\n",
       "      <td>Sean O'Donnell</td>\n",
       "      <td>Consumer</td>\n",
       "      <td>United States</td>\n",
       "      <td>Fort Lauderdale</td>\n",
       "      <td>...</td>\n",
       "      <td>33311</td>\n",
       "      <td>South</td>\n",
       "      <td>FUR-TA-10000577</td>\n",
       "      <td>Furniture</td>\n",
       "      <td>Tables</td>\n",
       "      <td>Bretford CR4500 Series Slim Rectangular Table</td>\n",
       "      <td>957.5775</td>\n",
       "      <td>5</td>\n",
       "      <td>0.45</td>\n",
       "      <td>-383.0310</td>\n",
       "    </tr>\n",
       "    <tr>\n",
       "      <th>4</th>\n",
       "      <td>5</td>\n",
       "      <td>US-2015-108966</td>\n",
       "      <td>2015-10-11</td>\n",
       "      <td>2015-10-18</td>\n",
       "      <td>Standard Class</td>\n",
       "      <td>SO-20335</td>\n",
       "      <td>Sean O'Donnell</td>\n",
       "      <td>Consumer</td>\n",
       "      <td>United States</td>\n",
       "      <td>Fort Lauderdale</td>\n",
       "      <td>...</td>\n",
       "      <td>33311</td>\n",
       "      <td>South</td>\n",
       "      <td>OFF-ST-10000760</td>\n",
       "      <td>Office Supplies</td>\n",
       "      <td>Storage</td>\n",
       "      <td>Eldon Fold 'N Roll Cart System</td>\n",
       "      <td>22.3680</td>\n",
       "      <td>2</td>\n",
       "      <td>0.20</td>\n",
       "      <td>2.5164</td>\n",
       "    </tr>\n",
       "  </tbody>\n",
       "</table>\n",
       "<p>5 rows × 21 columns</p>\n",
       "</div>"
      ],
      "text/plain": [
       "   Row ID        Order ID Order Date  Ship Date       Ship Mode Customer ID  \\\n",
       "0       1  CA-2016-152156 2016-11-08 2016-11-11    Second Class    CG-12520   \n",
       "1       2  CA-2016-152156 2016-11-08 2016-11-11    Second Class    CG-12520   \n",
       "2       3  CA-2016-138688 2016-06-12 2016-06-16    Second Class    DV-13045   \n",
       "3       4  US-2015-108966 2015-10-11 2015-10-18  Standard Class    SO-20335   \n",
       "4       5  US-2015-108966 2015-10-11 2015-10-18  Standard Class    SO-20335   \n",
       "\n",
       "     Customer Name    Segment        Country             City  ...  \\\n",
       "0      Claire Gute   Consumer  United States        Henderson  ...   \n",
       "1      Claire Gute   Consumer  United States        Henderson  ...   \n",
       "2  Darrin Van Huff  Corporate  United States      Los Angeles  ...   \n",
       "3   Sean O'Donnell   Consumer  United States  Fort Lauderdale  ...   \n",
       "4   Sean O'Donnell   Consumer  United States  Fort Lauderdale  ...   \n",
       "\n",
       "  Postal Code  Region       Product ID         Category Sub-Category  \\\n",
       "0       42420   South  FUR-BO-10001798        Furniture    Bookcases   \n",
       "1       42420   South  FUR-CH-10000454        Furniture       Chairs   \n",
       "2       90036    West  OFF-LA-10000240  Office Supplies       Labels   \n",
       "3       33311   South  FUR-TA-10000577        Furniture       Tables   \n",
       "4       33311   South  OFF-ST-10000760  Office Supplies      Storage   \n",
       "\n",
       "                                        Product Name     Sales  Quantity  \\\n",
       "0                  Bush Somerset Collection Bookcase  261.9600         2   \n",
       "1  Hon Deluxe Fabric Upholstered Stacking Chairs,...  731.9400         3   \n",
       "2  Self-Adhesive Address Labels for Typewriters b...   14.6200         2   \n",
       "3      Bretford CR4500 Series Slim Rectangular Table  957.5775         5   \n",
       "4                     Eldon Fold 'N Roll Cart System   22.3680         2   \n",
       "\n",
       "   Discount    Profit  \n",
       "0      0.00   41.9136  \n",
       "1      0.00  219.5820  \n",
       "2      0.00    6.8714  \n",
       "3      0.45 -383.0310  \n",
       "4      0.20    2.5164  \n",
       "\n",
       "[5 rows x 21 columns]"
      ]
     },
     "execution_count": 32,
     "metadata": {},
     "output_type": "execute_result"
    }
   ],
   "source": [
    "# Import the dataset\n",
    "# The excel sheet contains multiple sheets, so a dataframe will be created seperately for each sheet\n",
    "# Import the Orders sheet\n",
    "filename = \"Sample - Superstore.xls\"\n",
    "orders = pd.read_excel(filename, sheet_name = 'Orders')\n",
    "orders.head()"
   ]
  },
  {
   "cell_type": "code",
   "execution_count": 33,
   "id": "b76f4a57",
   "metadata": {
    "scrolled": true
   },
   "outputs": [
    {
     "data": {
      "text/html": [
       "<div>\n",
       "<style scoped>\n",
       "    .dataframe tbody tr th:only-of-type {\n",
       "        vertical-align: middle;\n",
       "    }\n",
       "\n",
       "    .dataframe tbody tr th {\n",
       "        vertical-align: top;\n",
       "    }\n",
       "\n",
       "    .dataframe thead th {\n",
       "        text-align: right;\n",
       "    }\n",
       "</style>\n",
       "<table border=\"1\" class=\"dataframe\">\n",
       "  <thead>\n",
       "    <tr style=\"text-align: right;\">\n",
       "      <th></th>\n",
       "      <th>Returned</th>\n",
       "      <th>Order ID</th>\n",
       "    </tr>\n",
       "  </thead>\n",
       "  <tbody>\n",
       "    <tr>\n",
       "      <th>0</th>\n",
       "      <td>Yes</td>\n",
       "      <td>CA-2017-153822</td>\n",
       "    </tr>\n",
       "    <tr>\n",
       "      <th>1</th>\n",
       "      <td>Yes</td>\n",
       "      <td>CA-2017-129707</td>\n",
       "    </tr>\n",
       "    <tr>\n",
       "      <th>2</th>\n",
       "      <td>Yes</td>\n",
       "      <td>CA-2014-152345</td>\n",
       "    </tr>\n",
       "    <tr>\n",
       "      <th>3</th>\n",
       "      <td>Yes</td>\n",
       "      <td>CA-2015-156440</td>\n",
       "    </tr>\n",
       "    <tr>\n",
       "      <th>4</th>\n",
       "      <td>Yes</td>\n",
       "      <td>US-2017-155999</td>\n",
       "    </tr>\n",
       "  </tbody>\n",
       "</table>\n",
       "</div>"
      ],
      "text/plain": [
       "  Returned        Order ID\n",
       "0      Yes  CA-2017-153822\n",
       "1      Yes  CA-2017-129707\n",
       "2      Yes  CA-2014-152345\n",
       "3      Yes  CA-2015-156440\n",
       "4      Yes  US-2017-155999"
      ]
     },
     "execution_count": 33,
     "metadata": {},
     "output_type": "execute_result"
    }
   ],
   "source": [
    "# Read the Returns sheet\n",
    "returns = pd.read_excel(filename, sheet_name = 'Returns')\n",
    "returns.head()"
   ]
  },
  {
   "cell_type": "code",
   "execution_count": 34,
   "id": "49fc1f21",
   "metadata": {
    "scrolled": true
   },
   "outputs": [
    {
     "data": {
      "text/html": [
       "<div>\n",
       "<style scoped>\n",
       "    .dataframe tbody tr th:only-of-type {\n",
       "        vertical-align: middle;\n",
       "    }\n",
       "\n",
       "    .dataframe tbody tr th {\n",
       "        vertical-align: top;\n",
       "    }\n",
       "\n",
       "    .dataframe thead th {\n",
       "        text-align: right;\n",
       "    }\n",
       "</style>\n",
       "<table border=\"1\" class=\"dataframe\">\n",
       "  <thead>\n",
       "    <tr style=\"text-align: right;\">\n",
       "      <th></th>\n",
       "      <th>Person</th>\n",
       "      <th>Region</th>\n",
       "    </tr>\n",
       "  </thead>\n",
       "  <tbody>\n",
       "    <tr>\n",
       "      <th>0</th>\n",
       "      <td>Anna Andreadi</td>\n",
       "      <td>West</td>\n",
       "    </tr>\n",
       "    <tr>\n",
       "      <th>1</th>\n",
       "      <td>Chuck Magee</td>\n",
       "      <td>East</td>\n",
       "    </tr>\n",
       "    <tr>\n",
       "      <th>2</th>\n",
       "      <td>Kelly Williams</td>\n",
       "      <td>Central</td>\n",
       "    </tr>\n",
       "    <tr>\n",
       "      <th>3</th>\n",
       "      <td>Cassandra Brandow</td>\n",
       "      <td>South</td>\n",
       "    </tr>\n",
       "  </tbody>\n",
       "</table>\n",
       "</div>"
      ],
      "text/plain": [
       "              Person   Region\n",
       "0      Anna Andreadi     West\n",
       "1        Chuck Magee     East\n",
       "2     Kelly Williams  Central\n",
       "3  Cassandra Brandow    South"
      ]
     },
     "execution_count": 34,
     "metadata": {},
     "output_type": "execute_result"
    }
   ],
   "source": [
    "# Read the people dataset\n",
    "peoples = pd.read_excel(filename, sheet_name = 'People')\n",
    "peoples.head()"
   ]
  },
  {
   "cell_type": "code",
   "execution_count": 35,
   "id": "be2b41e1",
   "metadata": {},
   "outputs": [
    {
     "data": {
      "text/html": [
       "<div>\n",
       "<style scoped>\n",
       "    .dataframe tbody tr th:only-of-type {\n",
       "        vertical-align: middle;\n",
       "    }\n",
       "\n",
       "    .dataframe tbody tr th {\n",
       "        vertical-align: top;\n",
       "    }\n",
       "\n",
       "    .dataframe thead th {\n",
       "        text-align: right;\n",
       "    }\n",
       "</style>\n",
       "<table border=\"1\" class=\"dataframe\">\n",
       "  <thead>\n",
       "    <tr style=\"text-align: right;\">\n",
       "      <th></th>\n",
       "      <th>Order ID</th>\n",
       "      <th>Order Date</th>\n",
       "      <th>Ship Date</th>\n",
       "      <th>Ship Mode</th>\n",
       "      <th>Customer ID</th>\n",
       "      <th>Customer Name</th>\n",
       "      <th>Segment</th>\n",
       "      <th>Country</th>\n",
       "      <th>City</th>\n",
       "      <th>State</th>\n",
       "      <th>...</th>\n",
       "      <th>Product ID</th>\n",
       "      <th>Category</th>\n",
       "      <th>Sub-Category</th>\n",
       "      <th>Product Name</th>\n",
       "      <th>Sales</th>\n",
       "      <th>Quantity</th>\n",
       "      <th>Discount</th>\n",
       "      <th>Profit</th>\n",
       "      <th>Returned</th>\n",
       "      <th>Person</th>\n",
       "    </tr>\n",
       "    <tr>\n",
       "      <th>Row ID</th>\n",
       "      <th></th>\n",
       "      <th></th>\n",
       "      <th></th>\n",
       "      <th></th>\n",
       "      <th></th>\n",
       "      <th></th>\n",
       "      <th></th>\n",
       "      <th></th>\n",
       "      <th></th>\n",
       "      <th></th>\n",
       "      <th></th>\n",
       "      <th></th>\n",
       "      <th></th>\n",
       "      <th></th>\n",
       "      <th></th>\n",
       "      <th></th>\n",
       "      <th></th>\n",
       "      <th></th>\n",
       "      <th></th>\n",
       "      <th></th>\n",
       "      <th></th>\n",
       "    </tr>\n",
       "  </thead>\n",
       "  <tbody>\n",
       "    <tr>\n",
       "      <th>1</th>\n",
       "      <td>CA-2016-152156</td>\n",
       "      <td>2016-11-08</td>\n",
       "      <td>2016-11-11</td>\n",
       "      <td>Second Class</td>\n",
       "      <td>CG-12520</td>\n",
       "      <td>Claire Gute</td>\n",
       "      <td>Consumer</td>\n",
       "      <td>United States</td>\n",
       "      <td>Henderson</td>\n",
       "      <td>Kentucky</td>\n",
       "      <td>...</td>\n",
       "      <td>FUR-BO-10001798</td>\n",
       "      <td>Furniture</td>\n",
       "      <td>Bookcases</td>\n",
       "      <td>Bush Somerset Collection Bookcase</td>\n",
       "      <td>261.9600</td>\n",
       "      <td>2</td>\n",
       "      <td>0.00</td>\n",
       "      <td>41.9136</td>\n",
       "      <td>NaN</td>\n",
       "      <td>Cassandra Brandow</td>\n",
       "    </tr>\n",
       "    <tr>\n",
       "      <th>2</th>\n",
       "      <td>CA-2016-152156</td>\n",
       "      <td>2016-11-08</td>\n",
       "      <td>2016-11-11</td>\n",
       "      <td>Second Class</td>\n",
       "      <td>CG-12520</td>\n",
       "      <td>Claire Gute</td>\n",
       "      <td>Consumer</td>\n",
       "      <td>United States</td>\n",
       "      <td>Henderson</td>\n",
       "      <td>Kentucky</td>\n",
       "      <td>...</td>\n",
       "      <td>FUR-CH-10000454</td>\n",
       "      <td>Furniture</td>\n",
       "      <td>Chairs</td>\n",
       "      <td>Hon Deluxe Fabric Upholstered Stacking Chairs,...</td>\n",
       "      <td>731.9400</td>\n",
       "      <td>3</td>\n",
       "      <td>0.00</td>\n",
       "      <td>219.5820</td>\n",
       "      <td>NaN</td>\n",
       "      <td>Cassandra Brandow</td>\n",
       "    </tr>\n",
       "    <tr>\n",
       "      <th>3</th>\n",
       "      <td>CA-2016-138688</td>\n",
       "      <td>2016-06-12</td>\n",
       "      <td>2016-06-16</td>\n",
       "      <td>Second Class</td>\n",
       "      <td>DV-13045</td>\n",
       "      <td>Darrin Van Huff</td>\n",
       "      <td>Corporate</td>\n",
       "      <td>United States</td>\n",
       "      <td>Los Angeles</td>\n",
       "      <td>California</td>\n",
       "      <td>...</td>\n",
       "      <td>OFF-LA-10000240</td>\n",
       "      <td>Office Supplies</td>\n",
       "      <td>Labels</td>\n",
       "      <td>Self-Adhesive Address Labels for Typewriters b...</td>\n",
       "      <td>14.6200</td>\n",
       "      <td>2</td>\n",
       "      <td>0.00</td>\n",
       "      <td>6.8714</td>\n",
       "      <td>NaN</td>\n",
       "      <td>Anna Andreadi</td>\n",
       "    </tr>\n",
       "    <tr>\n",
       "      <th>4</th>\n",
       "      <td>US-2015-108966</td>\n",
       "      <td>2015-10-11</td>\n",
       "      <td>2015-10-18</td>\n",
       "      <td>Standard Class</td>\n",
       "      <td>SO-20335</td>\n",
       "      <td>Sean O'Donnell</td>\n",
       "      <td>Consumer</td>\n",
       "      <td>United States</td>\n",
       "      <td>Fort Lauderdale</td>\n",
       "      <td>Florida</td>\n",
       "      <td>...</td>\n",
       "      <td>FUR-TA-10000577</td>\n",
       "      <td>Furniture</td>\n",
       "      <td>Tables</td>\n",
       "      <td>Bretford CR4500 Series Slim Rectangular Table</td>\n",
       "      <td>957.5775</td>\n",
       "      <td>5</td>\n",
       "      <td>0.45</td>\n",
       "      <td>-383.0310</td>\n",
       "      <td>NaN</td>\n",
       "      <td>Cassandra Brandow</td>\n",
       "    </tr>\n",
       "    <tr>\n",
       "      <th>5</th>\n",
       "      <td>US-2015-108966</td>\n",
       "      <td>2015-10-11</td>\n",
       "      <td>2015-10-18</td>\n",
       "      <td>Standard Class</td>\n",
       "      <td>SO-20335</td>\n",
       "      <td>Sean O'Donnell</td>\n",
       "      <td>Consumer</td>\n",
       "      <td>United States</td>\n",
       "      <td>Fort Lauderdale</td>\n",
       "      <td>Florida</td>\n",
       "      <td>...</td>\n",
       "      <td>OFF-ST-10000760</td>\n",
       "      <td>Office Supplies</td>\n",
       "      <td>Storage</td>\n",
       "      <td>Eldon Fold 'N Roll Cart System</td>\n",
       "      <td>22.3680</td>\n",
       "      <td>2</td>\n",
       "      <td>0.20</td>\n",
       "      <td>2.5164</td>\n",
       "      <td>NaN</td>\n",
       "      <td>Cassandra Brandow</td>\n",
       "    </tr>\n",
       "  </tbody>\n",
       "</table>\n",
       "<p>5 rows × 22 columns</p>\n",
       "</div>"
      ],
      "text/plain": [
       "              Order ID Order Date  Ship Date       Ship Mode Customer ID  \\\n",
       "Row ID                                                                     \n",
       "1       CA-2016-152156 2016-11-08 2016-11-11    Second Class    CG-12520   \n",
       "2       CA-2016-152156 2016-11-08 2016-11-11    Second Class    CG-12520   \n",
       "3       CA-2016-138688 2016-06-12 2016-06-16    Second Class    DV-13045   \n",
       "4       US-2015-108966 2015-10-11 2015-10-18  Standard Class    SO-20335   \n",
       "5       US-2015-108966 2015-10-11 2015-10-18  Standard Class    SO-20335   \n",
       "\n",
       "          Customer Name    Segment        Country             City  \\\n",
       "Row ID                                                               \n",
       "1           Claire Gute   Consumer  United States        Henderson   \n",
       "2           Claire Gute   Consumer  United States        Henderson   \n",
       "3       Darrin Van Huff  Corporate  United States      Los Angeles   \n",
       "4        Sean O'Donnell   Consumer  United States  Fort Lauderdale   \n",
       "5        Sean O'Donnell   Consumer  United States  Fort Lauderdale   \n",
       "\n",
       "             State  ...       Product ID         Category Sub-Category  \\\n",
       "Row ID              ...                                                  \n",
       "1         Kentucky  ...  FUR-BO-10001798        Furniture    Bookcases   \n",
       "2         Kentucky  ...  FUR-CH-10000454        Furniture       Chairs   \n",
       "3       California  ...  OFF-LA-10000240  Office Supplies       Labels   \n",
       "4          Florida  ...  FUR-TA-10000577        Furniture       Tables   \n",
       "5          Florida  ...  OFF-ST-10000760  Office Supplies      Storage   \n",
       "\n",
       "                                             Product Name     Sales Quantity  \\\n",
       "Row ID                                                                         \n",
       "1                       Bush Somerset Collection Bookcase  261.9600        2   \n",
       "2       Hon Deluxe Fabric Upholstered Stacking Chairs,...  731.9400        3   \n",
       "3       Self-Adhesive Address Labels for Typewriters b...   14.6200        2   \n",
       "4           Bretford CR4500 Series Slim Rectangular Table  957.5775        5   \n",
       "5                          Eldon Fold 'N Roll Cart System   22.3680        2   \n",
       "\n",
       "        Discount    Profit  Returned             Person  \n",
       "Row ID                                                   \n",
       "1           0.00   41.9136       NaN  Cassandra Brandow  \n",
       "2           0.00  219.5820       NaN  Cassandra Brandow  \n",
       "3           0.00    6.8714       NaN      Anna Andreadi  \n",
       "4           0.45 -383.0310       NaN  Cassandra Brandow  \n",
       "5           0.20    2.5164       NaN  Cassandra Brandow  \n",
       "\n",
       "[5 rows x 22 columns]"
      ]
     },
     "execution_count": 35,
     "metadata": {},
     "output_type": "execute_result"
    }
   ],
   "source": [
    "# Combining the datasets into one\n",
    "# Combining the orders with the returns \n",
    "df = pd.merge(left = orders, right = returns, left_on = 'Order ID', right_on = 'Order ID', how = 'left')\n",
    "\n",
    "# Combining the df created earlier with the peoples sheet\n",
    "df = pd.merge(left = df, right = peoples, left_on = 'Region', right_on = 'Region', how = 'left')\n",
    "\n",
    "# Setting the index by Row ID\n",
    "df.set_index('Row ID', inplace = True)\n",
    "\n",
    "df.head()"
   ]
  },
  {
   "cell_type": "markdown",
   "id": "0d350c42",
   "metadata": {},
   "source": [
    "## Clean the data\n",
    "In this chapter, the data will be cleaned. This will be done by doing the following steps:\n",
    "- Showing information about the number of rows and columns\n",
    "- Replacing NaN values\n",
    "- Changing the column names\n",
    "- Dealing with duplicates"
   ]
  },
  {
   "cell_type": "markdown",
   "id": "9dfebcac",
   "metadata": {},
   "source": [
    "### Show information about the number of rows and columns"
   ]
  },
  {
   "cell_type": "code",
   "execution_count": 36,
   "id": "dde7f985",
   "metadata": {
    "scrolled": false
   },
   "outputs": [
    {
     "name": "stdout",
     "output_type": "stream",
     "text": [
      "The percentage of missing data is: 0.04181599869012317\n",
      "The shape of the data is: (9994, 22)\n",
      "<class 'pandas.core.frame.DataFrame'>\n",
      "Int64Index: 9994 entries, 1 to 9994\n",
      "Data columns (total 22 columns):\n",
      " #   Column         Non-Null Count  Dtype         \n",
      "---  ------         --------------  -----         \n",
      " 0   Order ID       9994 non-null   object        \n",
      " 1   Order Date     9994 non-null   datetime64[ns]\n",
      " 2   Ship Date      9994 non-null   datetime64[ns]\n",
      " 3   Ship Mode      9994 non-null   object        \n",
      " 4   Customer ID    9994 non-null   object        \n",
      " 5   Customer Name  9994 non-null   object        \n",
      " 6   Segment        9994 non-null   object        \n",
      " 7   Country        9994 non-null   object        \n",
      " 8   City           9994 non-null   object        \n",
      " 9   State          9994 non-null   object        \n",
      " 10  Postal Code    9994 non-null   int64         \n",
      " 11  Region         9994 non-null   object        \n",
      " 12  Product ID     9994 non-null   object        \n",
      " 13  Category       9994 non-null   object        \n",
      " 14  Sub-Category   9994 non-null   object        \n",
      " 15  Product Name   9994 non-null   object        \n",
      " 16  Sales          9994 non-null   float64       \n",
      " 17  Quantity       9994 non-null   int64         \n",
      " 18  Discount       9994 non-null   float64       \n",
      " 19  Profit         9994 non-null   float64       \n",
      " 20  Returned       800 non-null    object        \n",
      " 21  Person         9994 non-null   object        \n",
      "dtypes: datetime64[ns](2), float64(3), int64(2), object(15)\n",
      "memory usage: 1.8+ MB\n",
      "None\n"
     ]
    }
   ],
   "source": [
    "# Use the info method to display information about the number of rows and columns\n",
    "# Display the missing data\n",
    "missing_per = (df.isna().sum().sum() / (df.shape[0] * df.shape[1]))\n",
    "print(\"The percentage of missing data is:\", missing_per)\n",
    "print(\"The shape of the data is:\", df.shape)\n",
    "print(df.info())"
   ]
  },
  {
   "cell_type": "markdown",
   "id": "0749158d",
   "metadata": {},
   "source": [
    "### Findings\n",
    "The orders sheet contains 9994 rows with 20 different columns. There's missing data in the returned column, because it \n",
    "was merged with a dataframe that only contained the order ids that are returned. To fix this, each Nan value needs to be replaced with 'No'.\n",
    "\n",
    "\n",
    "The returned sheet contains 296 rows with Order Id as the index and a Returned column with only 'Yes' values. \n",
    "The peoples dataframe contains 4 different rows with 2 columns: the persons name and the related region.\n",
    "\n",
    "Some columns data type needs to be changed. Those columns are\n",
    "- Postal Code: to string\n",
    "- Ship Mode: to category\n",
    "- Segment: to category\n",
    "- Category: to category\n",
    "- Sub-Category: to category\n",
    "- Returned: boolean\n",
    "\n",
    "Also the column names need to be in lower case and seperated by a '_' instead of a spacebar.\n",
    "\n",
    "Furthermore, the sheets have to be combined. In order to do that, it needs to be merged:\n",
    "- orders and returns: combine on the Order Id column\n",
    "- order and people: combine on the Region columns\n",
    "\n",
    "### Replace Nan values"
   ]
  },
  {
   "cell_type": "code",
   "execution_count": 37,
   "id": "cf47a5fe",
   "metadata": {},
   "outputs": [
    {
     "name": "stdout",
     "output_type": "stream",
     "text": [
      "<BooleanArray>\n",
      "[False, True]\n",
      "Length: 2, dtype: boolean\n"
     ]
    }
   ],
   "source": [
    "# Replace the Nan values of the returned column with 'No'\n",
    "df['Returned'] = df.Returned.fillna('No')\n",
    "\n",
    "# Replace with 1 and 0 and change the dtype to boolean\n",
    "mapping = {\"Yes\": 1, \"No\": 0}\n",
    "df['Returned'] = df.Returned.replace(mapping)\n",
    "df['Returned'] = df.Returned.astype('boolean')\n",
    "print(df.Returned.unique())"
   ]
  },
  {
   "cell_type": "markdown",
   "id": "804d8d12",
   "metadata": {},
   "source": [
    "### Change columns"
   ]
  },
  {
   "cell_type": "code",
   "execution_count": 38,
   "id": "391222f9",
   "metadata": {
    "scrolled": false
   },
   "outputs": [
    {
     "name": "stdout",
     "output_type": "stream",
     "text": [
      "<class 'pandas.core.frame.DataFrame'>\n",
      "Int64Index: 9994 entries, 1 to 9994\n",
      "Data columns (total 22 columns):\n",
      " #   Column         Non-Null Count  Dtype         \n",
      "---  ------         --------------  -----         \n",
      " 0   order_id       9994 non-null   object        \n",
      " 1   order_date     9994 non-null   datetime64[ns]\n",
      " 2   ship_date      9994 non-null   datetime64[ns]\n",
      " 3   ship_mode      9994 non-null   category      \n",
      " 4   customer_id    9994 non-null   object        \n",
      " 5   customer_name  9994 non-null   object        \n",
      " 6   segment        9994 non-null   category      \n",
      " 7   country        9994 non-null   object        \n",
      " 8   city           9994 non-null   object        \n",
      " 9   state          9994 non-null   object        \n",
      " 10  postal_code    9994 non-null   object        \n",
      " 11  region         9994 non-null   category      \n",
      " 12  product_id     9994 non-null   object        \n",
      " 13  category       9994 non-null   category      \n",
      " 14  sub-category   9994 non-null   object        \n",
      " 15  product_name   9994 non-null   object        \n",
      " 16  sales          9994 non-null   float64       \n",
      " 17  quantity       9994 non-null   int64         \n",
      " 18  discount       9994 non-null   float64       \n",
      " 19  profit         9994 non-null   float64       \n",
      " 20  returned       9994 non-null   boolean       \n",
      " 21  person         9994 non-null   object        \n",
      "dtypes: boolean(1), category(4), datetime64[ns](2), float64(3), int64(1), object(11)\n",
      "memory usage: 1.4+ MB\n"
     ]
    }
   ],
   "source": [
    "# Remove the capital letter and replace spacebars with underscores for all columns\n",
    "new_cols = [x.replace(\" \", \"_\").lower() for x in df.columns]\n",
    "df.columns = new_cols\n",
    "\n",
    "# Change postal_code to string object\n",
    "df['postal_code'] = df.postal_code.astype('object')\n",
    "\n",
    "# Change the columns that need to have a category data type\n",
    "cols = ['ship_mode', 'segment', 'category', 'region']\n",
    "df[cols] = df[cols].astype('category')\n",
    "\n",
    "# Show info of the dataframe to confirm the changes\n",
    "df.info()"
   ]
  },
  {
   "cell_type": "markdown",
   "id": "032a07b4",
   "metadata": {},
   "source": [
    "### Dealing with duplicates"
   ]
  },
  {
   "cell_type": "code",
   "execution_count": null,
   "id": "8bf02ba8",
   "metadata": {},
   "outputs": [],
   "source": [
    "# Selecting the duplicates. A row is duplicated if it has the same values for order_id, product_id, and customer_id\n",
    "subset = ['order_id', 'product_id', 'customer_id']\n",
    "dups = df.duplicated(subset = subset, keep = False)\n",
    "dups_sorted = df[dups].sort_values('order_id')\n",
    "\n",
    "\n",
    "\n",
    "display(dups_sorted[['order_id', 'product_id', 'ship_date', 'customer_id', 'person', 'quantity']])\n",
    "  "
   ]
  },
  {
   "cell_type": "markdown",
   "id": "3b110f07",
   "metadata": {},
   "source": [
    "#### Findings\n",
    "Based on the found duplicates, it noticed that all duplicates are different in quantity. This indicates that the duplicates can be dealt with be combining the quantity into one order."
   ]
  },
  {
   "cell_type": "code",
   "execution_count": 41,
   "id": "f576a33f",
   "metadata": {},
   "outputs": [
    {
     "data": {
      "text/html": [
       "<div>\n",
       "<style scoped>\n",
       "    .dataframe tbody tr th:only-of-type {\n",
       "        vertical-align: middle;\n",
       "    }\n",
       "\n",
       "    .dataframe tbody tr th {\n",
       "        vertical-align: top;\n",
       "    }\n",
       "\n",
       "    .dataframe thead th {\n",
       "        text-align: right;\n",
       "    }\n",
       "</style>\n",
       "<table border=\"1\" class=\"dataframe\">\n",
       "  <thead>\n",
       "    <tr style=\"text-align: right;\">\n",
       "      <th></th>\n",
       "      <th>order_id</th>\n",
       "      <th>quantity</th>\n",
       "    </tr>\n",
       "  </thead>\n",
       "  <tbody>\n",
       "    <tr>\n",
       "      <th>0</th>\n",
       "      <td>CA-2015-103135</td>\n",
       "      <td>60</td>\n",
       "    </tr>\n",
       "    <tr>\n",
       "      <th>1</th>\n",
       "      <td>CA-2016-129714</td>\n",
       "      <td>24</td>\n",
       "    </tr>\n",
       "    <tr>\n",
       "      <th>2</th>\n",
       "      <td>CA-2016-137043</td>\n",
       "      <td>36</td>\n",
       "    </tr>\n",
       "    <tr>\n",
       "      <th>3</th>\n",
       "      <td>CA-2016-140571</td>\n",
       "      <td>64</td>\n",
       "    </tr>\n",
       "    <tr>\n",
       "      <th>4</th>\n",
       "      <td>CA-2017-118017</td>\n",
       "      <td>56</td>\n",
       "    </tr>\n",
       "    <tr>\n",
       "      <th>5</th>\n",
       "      <td>CA-2017-152912</td>\n",
       "      <td>48</td>\n",
       "    </tr>\n",
       "    <tr>\n",
       "      <th>6</th>\n",
       "      <td>US-2014-150119</td>\n",
       "      <td>16</td>\n",
       "    </tr>\n",
       "    <tr>\n",
       "      <th>7</th>\n",
       "      <td>US-2016-123750</td>\n",
       "      <td>48</td>\n",
       "    </tr>\n",
       "  </tbody>\n",
       "</table>\n",
       "</div>"
      ],
      "text/plain": [
       "         order_id  quantity\n",
       "0  CA-2015-103135        60\n",
       "1  CA-2016-129714        24\n",
       "2  CA-2016-137043        36\n",
       "3  CA-2016-140571        64\n",
       "4  CA-2017-118017        56\n",
       "5  CA-2017-152912        48\n",
       "6  US-2014-150119        16\n",
       "7  US-2016-123750        48"
      ]
     },
     "metadata": {},
     "output_type": "display_data"
    },
    {
     "name": "stdout",
     "output_type": "stream",
     "text": [
      "The sum of the duplicates is: 0\n"
     ]
    }
   ],
   "source": [
    "# Dealing with the duplicates\n",
    "# Get the sum of the quantity of each duplicate\n",
    "statistics = {'quantity': 'sum'}\n",
    "grouped = dups_sorted.groupby('order_id').agg(statistics).reset_index()\n",
    "display(grouped)\n",
    "\n",
    "# Loop through the duplicates. Replace the quantity of a match with the df with the corresponding quantity\n",
    "for x in range(len(grouped)):\n",
    "    order_id = grouped.order_id[x]\n",
    "    quan = grouped.quantity[x]\n",
    "    df.loc[df.order_id == order_id, 'quantity'] = quan\n",
    "\n",
    "# CRemove the duplicates\n",
    "subset = ['order_id', 'product_id', 'customer_id']\n",
    "\n",
    "df = df.drop_duplicates(subset = subset)\n",
    "dup_tot = sum(df.duplicated())\n",
    "print(f\"The sum of the duplicates is: {dup_tot}\")"
   ]
  },
  {
   "cell_type": "markdown",
   "id": "eb7cd42d",
   "metadata": {},
   "source": [
    "## Distribution of all columns\n",
    "In this chapter, the columns of the data will be distributed. This will be split into two sections:\n",
    "- Displaying the median, mean and unique values\n",
    "- Showing plot for each column\n",
    "\n",
    "### Displaying median, mean and unique values\n",
    "In this paragraph, the column distribution statistics will be shown. The displaying is done for each dataype,\n",
    "because each data type has different statistics to show."
   ]
  },
  {
   "cell_type": "code",
   "execution_count": 44,
   "id": "ceae5918",
   "metadata": {},
   "outputs": [
    {
     "name": "stdout",
     "output_type": "stream",
     "text": [
      "The median, mean, unique values for object columns\n"
     ]
    },
    {
     "data": {
      "text/html": [
       "<div>\n",
       "<style scoped>\n",
       "    .dataframe tbody tr th:only-of-type {\n",
       "        vertical-align: middle;\n",
       "    }\n",
       "\n",
       "    .dataframe tbody tr th {\n",
       "        vertical-align: top;\n",
       "    }\n",
       "\n",
       "    .dataframe thead th {\n",
       "        text-align: right;\n",
       "    }\n",
       "</style>\n",
       "<table border=\"1\" class=\"dataframe\">\n",
       "  <thead>\n",
       "    <tr style=\"text-align: right;\">\n",
       "      <th></th>\n",
       "      <th>order_id</th>\n",
       "      <th>customer_id</th>\n",
       "      <th>customer_name</th>\n",
       "      <th>country</th>\n",
       "      <th>city</th>\n",
       "      <th>state</th>\n",
       "      <th>postal_code</th>\n",
       "      <th>product_id</th>\n",
       "      <th>sub-category</th>\n",
       "      <th>product_name</th>\n",
       "      <th>person</th>\n",
       "    </tr>\n",
       "  </thead>\n",
       "  <tbody>\n",
       "    <tr>\n",
       "      <th>count</th>\n",
       "      <td>9986</td>\n",
       "      <td>9986</td>\n",
       "      <td>9986</td>\n",
       "      <td>9986</td>\n",
       "      <td>9986</td>\n",
       "      <td>9986</td>\n",
       "      <td>9986</td>\n",
       "      <td>9986</td>\n",
       "      <td>9986</td>\n",
       "      <td>9986</td>\n",
       "      <td>9986</td>\n",
       "    </tr>\n",
       "    <tr>\n",
       "      <th>unique</th>\n",
       "      <td>5009</td>\n",
       "      <td>793</td>\n",
       "      <td>793</td>\n",
       "      <td>1</td>\n",
       "      <td>531</td>\n",
       "      <td>49</td>\n",
       "      <td>631</td>\n",
       "      <td>1862</td>\n",
       "      <td>17</td>\n",
       "      <td>1850</td>\n",
       "      <td>4</td>\n",
       "    </tr>\n",
       "    <tr>\n",
       "      <th>top</th>\n",
       "      <td>CA-2017-100111</td>\n",
       "      <td>WB-21850</td>\n",
       "      <td>William Brown</td>\n",
       "      <td>United States</td>\n",
       "      <td>New York City</td>\n",
       "      <td>California</td>\n",
       "      <td>10035</td>\n",
       "      <td>OFF-PA-10001970</td>\n",
       "      <td>Binders</td>\n",
       "      <td>Staple envelope</td>\n",
       "      <td>Anna Andreadi</td>\n",
       "    </tr>\n",
       "    <tr>\n",
       "      <th>freq</th>\n",
       "      <td>14</td>\n",
       "      <td>37</td>\n",
       "      <td>37</td>\n",
       "      <td>9986</td>\n",
       "      <td>914</td>\n",
       "      <td>2001</td>\n",
       "      <td>263</td>\n",
       "      <td>18</td>\n",
       "      <td>1522</td>\n",
       "      <td>48</td>\n",
       "      <td>3202</td>\n",
       "    </tr>\n",
       "  </tbody>\n",
       "</table>\n",
       "</div>"
      ],
      "text/plain": [
       "              order_id customer_id  customer_name        country  \\\n",
       "count             9986        9986           9986           9986   \n",
       "unique            5009         793            793              1   \n",
       "top     CA-2017-100111    WB-21850  William Brown  United States   \n",
       "freq                14          37             37           9986   \n",
       "\n",
       "                 city       state  postal_code       product_id sub-category  \\\n",
       "count            9986        9986         9986             9986         9986   \n",
       "unique            531          49          631             1862           17   \n",
       "top     New York City  California        10035  OFF-PA-10001970      Binders   \n",
       "freq              914        2001          263               18         1522   \n",
       "\n",
       "           product_name         person  \n",
       "count              9986           9986  \n",
       "unique             1850              4  \n",
       "top     Staple envelope  Anna Andreadi  \n",
       "freq                 48           3202  "
      ]
     },
     "metadata": {},
     "output_type": "display_data"
    },
    {
     "name": "stdout",
     "output_type": "stream",
     "text": [
      "The median, mean, unique values for datetime columns\n"
     ]
    },
    {
     "name": "stderr",
     "output_type": "stream",
     "text": [
      "C:\\Users\\arjo\\AppData\\Local\\Temp/ipykernel_22980/1908151518.py:5: FutureWarning: Treating datetime data as categorical rather than numeric in `.describe` is deprecated and will be removed in a future version of pandas. Specify `datetime_is_numeric=True` to silence this warning and adopt the future behavior now.\n",
      "  display(df.describe(include = str(d)))\n"
     ]
    },
    {
     "data": {
      "text/html": [
       "<div>\n",
       "<style scoped>\n",
       "    .dataframe tbody tr th:only-of-type {\n",
       "        vertical-align: middle;\n",
       "    }\n",
       "\n",
       "    .dataframe tbody tr th {\n",
       "        vertical-align: top;\n",
       "    }\n",
       "\n",
       "    .dataframe thead th {\n",
       "        text-align: right;\n",
       "    }\n",
       "</style>\n",
       "<table border=\"1\" class=\"dataframe\">\n",
       "  <thead>\n",
       "    <tr style=\"text-align: right;\">\n",
       "      <th></th>\n",
       "      <th>order_date</th>\n",
       "      <th>ship_date</th>\n",
       "    </tr>\n",
       "  </thead>\n",
       "  <tbody>\n",
       "    <tr>\n",
       "      <th>count</th>\n",
       "      <td>9986</td>\n",
       "      <td>9986</td>\n",
       "    </tr>\n",
       "    <tr>\n",
       "      <th>unique</th>\n",
       "      <td>1237</td>\n",
       "      <td>1334</td>\n",
       "    </tr>\n",
       "    <tr>\n",
       "      <th>top</th>\n",
       "      <td>2016-09-05 00:00:00</td>\n",
       "      <td>2015-12-16 00:00:00</td>\n",
       "    </tr>\n",
       "    <tr>\n",
       "      <th>freq</th>\n",
       "      <td>38</td>\n",
       "      <td>35</td>\n",
       "    </tr>\n",
       "    <tr>\n",
       "      <th>first</th>\n",
       "      <td>2014-01-03 00:00:00</td>\n",
       "      <td>2014-01-07 00:00:00</td>\n",
       "    </tr>\n",
       "    <tr>\n",
       "      <th>last</th>\n",
       "      <td>2017-12-30 00:00:00</td>\n",
       "      <td>2018-01-05 00:00:00</td>\n",
       "    </tr>\n",
       "  </tbody>\n",
       "</table>\n",
       "</div>"
      ],
      "text/plain": [
       "                 order_date            ship_date\n",
       "count                  9986                 9986\n",
       "unique                 1237                 1334\n",
       "top     2016-09-05 00:00:00  2015-12-16 00:00:00\n",
       "freq                     38                   35\n",
       "first   2014-01-03 00:00:00  2014-01-07 00:00:00\n",
       "last    2017-12-30 00:00:00  2018-01-05 00:00:00"
      ]
     },
     "metadata": {},
     "output_type": "display_data"
    },
    {
     "name": "stdout",
     "output_type": "stream",
     "text": [
      "The median, mean, unique values for float columns\n"
     ]
    },
    {
     "data": {
      "text/html": [
       "<div>\n",
       "<style scoped>\n",
       "    .dataframe tbody tr th:only-of-type {\n",
       "        vertical-align: middle;\n",
       "    }\n",
       "\n",
       "    .dataframe tbody tr th {\n",
       "        vertical-align: top;\n",
       "    }\n",
       "\n",
       "    .dataframe thead th {\n",
       "        text-align: right;\n",
       "    }\n",
       "</style>\n",
       "<table border=\"1\" class=\"dataframe\">\n",
       "  <thead>\n",
       "    <tr style=\"text-align: right;\">\n",
       "      <th></th>\n",
       "      <th>sales</th>\n",
       "      <th>discount</th>\n",
       "      <th>profit</th>\n",
       "    </tr>\n",
       "  </thead>\n",
       "  <tbody>\n",
       "    <tr>\n",
       "      <th>count</th>\n",
       "      <td>9986.000000</td>\n",
       "      <td>9986.000000</td>\n",
       "      <td>9986.000000</td>\n",
       "    </tr>\n",
       "    <tr>\n",
       "      <th>mean</th>\n",
       "      <td>229.872779</td>\n",
       "      <td>0.156258</td>\n",
       "      <td>28.641480</td>\n",
       "    </tr>\n",
       "    <tr>\n",
       "      <th>std</th>\n",
       "      <td>623.477775</td>\n",
       "      <td>0.206499</td>\n",
       "      <td>234.349134</td>\n",
       "    </tr>\n",
       "    <tr>\n",
       "      <th>min</th>\n",
       "      <td>0.444000</td>\n",
       "      <td>0.000000</td>\n",
       "      <td>-6599.978000</td>\n",
       "    </tr>\n",
       "    <tr>\n",
       "      <th>25%</th>\n",
       "      <td>17.248000</td>\n",
       "      <td>0.000000</td>\n",
       "      <td>1.728000</td>\n",
       "    </tr>\n",
       "    <tr>\n",
       "      <th>50%</th>\n",
       "      <td>54.384000</td>\n",
       "      <td>0.200000</td>\n",
       "      <td>8.641350</td>\n",
       "    </tr>\n",
       "    <tr>\n",
       "      <th>75%</th>\n",
       "      <td>209.917500</td>\n",
       "      <td>0.200000</td>\n",
       "      <td>29.353800</td>\n",
       "    </tr>\n",
       "    <tr>\n",
       "      <th>max</th>\n",
       "      <td>22638.480000</td>\n",
       "      <td>0.800000</td>\n",
       "      <td>8399.976000</td>\n",
       "    </tr>\n",
       "  </tbody>\n",
       "</table>\n",
       "</div>"
      ],
      "text/plain": [
       "              sales     discount       profit\n",
       "count   9986.000000  9986.000000  9986.000000\n",
       "mean     229.872779     0.156258    28.641480\n",
       "std      623.477775     0.206499   234.349134\n",
       "min        0.444000     0.000000 -6599.978000\n",
       "25%       17.248000     0.000000     1.728000\n",
       "50%       54.384000     0.200000     8.641350\n",
       "75%      209.917500     0.200000    29.353800\n",
       "max    22638.480000     0.800000  8399.976000"
      ]
     },
     "metadata": {},
     "output_type": "display_data"
    },
    {
     "name": "stdout",
     "output_type": "stream",
     "text": [
      "The median, mean, unique values for int columns\n"
     ]
    },
    {
     "data": {
      "text/html": [
       "<div>\n",
       "<style scoped>\n",
       "    .dataframe tbody tr th:only-of-type {\n",
       "        vertical-align: middle;\n",
       "    }\n",
       "\n",
       "    .dataframe tbody tr th {\n",
       "        vertical-align: top;\n",
       "    }\n",
       "\n",
       "    .dataframe thead th {\n",
       "        text-align: right;\n",
       "    }\n",
       "</style>\n",
       "<table border=\"1\" class=\"dataframe\">\n",
       "  <thead>\n",
       "    <tr style=\"text-align: right;\">\n",
       "      <th></th>\n",
       "      <th>quantity</th>\n",
       "    </tr>\n",
       "  </thead>\n",
       "  <tbody>\n",
       "    <tr>\n",
       "      <th>count</th>\n",
       "      <td>9986.000000</td>\n",
       "    </tr>\n",
       "    <tr>\n",
       "      <th>mean</th>\n",
       "      <td>3.887543</td>\n",
       "    </tr>\n",
       "    <tr>\n",
       "      <th>std</th>\n",
       "      <td>3.101015</td>\n",
       "    </tr>\n",
       "    <tr>\n",
       "      <th>min</th>\n",
       "      <td>1.000000</td>\n",
       "    </tr>\n",
       "    <tr>\n",
       "      <th>25%</th>\n",
       "      <td>2.000000</td>\n",
       "    </tr>\n",
       "    <tr>\n",
       "      <th>50%</th>\n",
       "      <td>3.000000</td>\n",
       "    </tr>\n",
       "    <tr>\n",
       "      <th>75%</th>\n",
       "      <td>5.000000</td>\n",
       "    </tr>\n",
       "    <tr>\n",
       "      <th>max</th>\n",
       "      <td>64.000000</td>\n",
       "    </tr>\n",
       "  </tbody>\n",
       "</table>\n",
       "</div>"
      ],
      "text/plain": [
       "          quantity\n",
       "count  9986.000000\n",
       "mean      3.887543\n",
       "std       3.101015\n",
       "min       1.000000\n",
       "25%       2.000000\n",
       "50%       3.000000\n",
       "75%       5.000000\n",
       "max      64.000000"
      ]
     },
     "metadata": {},
     "output_type": "display_data"
    },
    {
     "name": "stdout",
     "output_type": "stream",
     "text": [
      "The median, mean, unique values for category columns\n"
     ]
    },
    {
     "data": {
      "text/html": [
       "<div>\n",
       "<style scoped>\n",
       "    .dataframe tbody tr th:only-of-type {\n",
       "        vertical-align: middle;\n",
       "    }\n",
       "\n",
       "    .dataframe tbody tr th {\n",
       "        vertical-align: top;\n",
       "    }\n",
       "\n",
       "    .dataframe thead th {\n",
       "        text-align: right;\n",
       "    }\n",
       "</style>\n",
       "<table border=\"1\" class=\"dataframe\">\n",
       "  <thead>\n",
       "    <tr style=\"text-align: right;\">\n",
       "      <th></th>\n",
       "      <th>ship_mode</th>\n",
       "      <th>segment</th>\n",
       "      <th>region</th>\n",
       "      <th>category</th>\n",
       "    </tr>\n",
       "  </thead>\n",
       "  <tbody>\n",
       "    <tr>\n",
       "      <th>count</th>\n",
       "      <td>9986</td>\n",
       "      <td>9986</td>\n",
       "      <td>9986</td>\n",
       "      <td>9986</td>\n",
       "    </tr>\n",
       "    <tr>\n",
       "      <th>unique</th>\n",
       "      <td>4</td>\n",
       "      <td>3</td>\n",
       "      <td>4</td>\n",
       "      <td>3</td>\n",
       "    </tr>\n",
       "    <tr>\n",
       "      <th>top</th>\n",
       "      <td>Standard Class</td>\n",
       "      <td>Consumer</td>\n",
       "      <td>West</td>\n",
       "      <td>Office Supplies</td>\n",
       "    </tr>\n",
       "    <tr>\n",
       "      <th>freq</th>\n",
       "      <td>5964</td>\n",
       "      <td>5189</td>\n",
       "      <td>3202</td>\n",
       "      <td>6022</td>\n",
       "    </tr>\n",
       "  </tbody>\n",
       "</table>\n",
       "</div>"
      ],
      "text/plain": [
       "             ship_mode   segment region         category\n",
       "count             9986      9986   9986             9986\n",
       "unique               4         3      4                3\n",
       "top     Standard Class  Consumer   West  Office Supplies\n",
       "freq              5964      5189   3202             6022"
      ]
     },
     "metadata": {},
     "output_type": "display_data"
    }
   ],
   "source": [
    "dtypes = ['object', 'datetime', 'float', 'int', 'category']\n",
    "\n",
    "for d in dtypes:\n",
    "    print(f\"The median, mean, unique values for {d} columns\")\n",
    "    display(df.describe(include = str(d)))    "
   ]
  },
  {
   "cell_type": "markdown",
   "id": "39cff8a2",
   "metadata": {},
   "source": [
    "### Visualize columns\n",
    "The following visualization types shall be used:\n",
    "- Categorical columns and boolean: bar plot\n",
    "- Int and float columns: violin plot\n",
    "- Datetime columns: bar plot per month and year"
   ]
  },
  {
   "cell_type": "markdown",
   "id": "114f1d90",
   "metadata": {},
   "source": [
    "#### Categorical and boolean data"
   ]
  },
  {
   "cell_type": "code",
   "execution_count": 45,
   "id": "de3e0cb2",
   "metadata": {
    "scrolled": true
   },
   "outputs": [
    {
     "data": {
      "text/plain": [
       "<AxesSubplot:xlabel='returned', ylabel='count'>"
      ]
     },
     "execution_count": 45,
     "metadata": {},
     "output_type": "execute_result"
    },
    {
     "data": {
      "image/png": "[encoded data removed]",
      "text/plain": [
       "<Figure size 864x864 with 6 Axes>"
      ]
     },
     "metadata": {
      "needs_background": "light"
     },
     "output_type": "display_data"
    }
   ],
   "source": [
    "# Plot hists of columns\n",
    "# set figure\n",
    "cats = df.select_dtypes('category').columns\n",
    "fig, ax = plt.subplots(nrows=3, ncols=2, figsize=(12, 12))\n",
    "\n",
    "ax[2][1].set_visible(False)\n",
    "sns.countplot(x = cats[0], data = df, ax = ax[0, 0])\n",
    "sns.countplot(x = cats[1], data = df, ax = ax[0, 1])\n",
    "sns.countplot(x = cats[2], data = df, ax = ax[1, 0])\n",
    "sns.countplot(x = cats[3], data = df, ax = ax[1, 1])\n",
    "sns.countplot(x = 'returned', data = df, ax = ax[2, 0])"
   ]
  },
  {
   "cell_type": "markdown",
   "id": "0849fe77",
   "metadata": {},
   "source": [
    "#### Numerical data"
   ]
  },
  {
   "cell_type": "code",
   "execution_count": 46,
   "id": "4c196d8e",
   "metadata": {
    "scrolled": false
   },
   "outputs": [
    {
     "data": {
      "text/plain": [
       "<AxesSubplot:xlabel='profit'>"
      ]
     },
     "execution_count": 46,
     "metadata": {},
     "output_type": "execute_result"
    },
    {
     "data": {
      "image/png": "[encoded data removed]",
      "text/plain": [
       "<Figure size 576x576 with 4 Axes>"
      ]
     },
     "metadata": {
      "needs_background": "light"
     },
     "output_type": "display_data"
    }
   ],
   "source": [
    "nums = df.select_dtypes(include = ['int', 'float']).columns\n",
    "\n",
    "# Plot box plot\n",
    "fig, ax = plt.subplots(nrows=2, ncols=2, figsize=(8, 8))\n",
    "\n",
    "sns.violinplot(x = nums[0], data = df, ax = ax[0, 0])\n",
    "sns.violinplot(x = nums[1], data = df, ax = ax[0, 1])\n",
    "sns.violinplot(x = nums[2], data = df, ax = ax[1, 0])\n",
    "sns.violinplot(x = nums[3], data = df, ax = ax[1, 1])"
   ]
  },
  {
   "cell_type": "markdown",
   "id": "1f5721cc",
   "metadata": {},
   "source": [
    "#### Datetime data\n",
    "For the datetime data, we'll check the distribution per month and per year. This will be done for the following columns:\n",
    "- order_date\n",
    "- shipdate"
   ]
  },
  {
   "cell_type": "code",
   "execution_count": 48,
   "id": "cddeb0f7",
   "metadata": {},
   "outputs": [],
   "source": [
    "# Create the columns for orders per month and per year\n",
    "df['month_order'] = df.order_date.dt.month\n",
    "df['year_order'] = df.order_date.dt.year\n",
    "\n",
    "# Set the dtype to category\n",
    "df['month_order'] = df.month_order.astype('category')\n",
    "df['year_order'] = df.year_order.astype('category')\n",
    "\n",
    "# Create the columns for shipping per month and per year\n",
    "df['month_shipping'] = df.ship_date.dt.month\n",
    "df['year_shipping'] = df.ship_date.dt.year\n",
    "\n",
    "# Set the dtype to category\n",
    "# Create the columns for shipping per month and per year\n",
    "df['month_shipping'] = df.month_shipping.astype('category')\n",
    "df['year_shipping'] = df.year_shipping.astype('category')"
   ]
  },
  {
   "cell_type": "code",
   "execution_count": 49,
   "id": "bc23b7a0",
   "metadata": {
    "scrolled": false
   },
   "outputs": [
    {
     "data": {
      "text/plain": [
       "<AxesSubplot:xlabel='year_shipping', ylabel='count'>"
      ]
     },
     "execution_count": 49,
     "metadata": {},
     "output_type": "execute_result"
    },
    {
     "data": {
      "image/png": "[encoded data removed]",
      "text/plain": [
       "<Figure size 864x864 with 4 Axes>"
      ]
     },
     "metadata": {
      "needs_background": "light"
     },
     "output_type": "display_data"
    }
   ],
   "source": [
    "# Plot bar plots using subplots\n",
    "fig, ax = plt.subplots(nrows=2, ncols=2, figsize=(12, 12))\n",
    "\n",
    "sns.countplot(x = 'month_order', data = df, ax = ax[0, 0])\n",
    "sns.countplot(x = 'year_order', data = df, ax = ax[0, 1])\n",
    "sns.countplot(x = 'month_shipping', data = df, ax = ax[1, 0])\n",
    "sns.countplot(x = 'year_shipping', data = df, ax = ax[1, 1])"
   ]
  },
  {
   "cell_type": "markdown",
   "id": "e5aaead8",
   "metadata": {},
   "source": [
    "## Correlation matrix\n",
    "In this chapter, a correlation matrix will be shown. Conclusions will also be drawn from the matrix."
   ]
  },
  {
   "cell_type": "code",
   "execution_count": 50,
   "id": "0b5419ee",
   "metadata": {},
   "outputs": [
    {
     "data": {
      "image/png": "[encoded data removed]",
      "text/plain": [
       "<Figure size 432x288 with 2 Axes>"
      ]
     },
     "metadata": {
      "needs_background": "light"
     },
     "output_type": "display_data"
    }
   ],
   "source": [
    "# Create correlation matrix\n",
    "cor = df.corr()\n",
    "\n",
    "# Display the correlation matrix\n",
    "sns.heatmap(cor, annot=True, cmap = 'vlag')\n",
    "plt.title(\"Correlation matrix\")\n",
    "plt.show()"
   ]
  },
  {
   "cell_type": "markdown",
   "id": "a6e2e156",
   "metadata": {},
   "source": [
    "### Conclusions\n",
    "Most correlations found are quite logical. E.g. discount has a small negative correlation with sales. And Sales has a correlation of 0.48 to profit. What we also see is that Discount has correlation of -0.22 with profit. This could indicate that the discounts of the product did not lead an increase in profit. This still needs some in depth analysis to confirm. Lastly, we see that the returned feature has barely an correlation with the other features.\n",
    "Other correlated features:\n",
    "- Sales and discount\n",
    "- Sales and quantity\n",
    "- Quantity and discount\n",
    "- Quantity and profit"
   ]
  },
  {
   "cell_type": "markdown",
   "id": "7f21a6ff",
   "metadata": {},
   "source": [
    "## (Un)usual patterns\n",
    "In this section, some plots will be created to detect possible patterns. The plots will be as follows:\n",
    "- Returned items per month\n",
    "- Returned items per category\n",
    "- Profit per category\n",
    "- Discounts per month vs profits per month\n",
    "\n",
    "### Returned items per month"
   ]
  },
  {
   "cell_type": "code",
   "execution_count": 51,
   "id": "8e47e83b",
   "metadata": {
    "scrolled": true
   },
   "outputs": [
    {
     "data": {
      "image/png": "[encoded data removed]",
      "text/plain": [
       "<Figure size 432x288 with 1 Axes>"
      ]
     },
     "metadata": {
      "needs_background": "light"
     },
     "output_type": "display_data"
    }
   ],
   "source": [
    "# Get the data ready\n",
    "months = np.array(df.groupby('month_order').returned.mean() * 100)\n",
    "xticks = [x for x in range(12)]\n",
    "label = [x + 1 for x in range(12)]\n",
    "\n",
    "# Plot the graph\n",
    "plt.plot(months)\n",
    "plt.xlabel(\"Month of the year\")\n",
    "plt.ylabel(\"Items returned (%)\")\n",
    "plt.title(\"Average items returned per month\")\n",
    "plt.xticks(ticks = xticks, labels = label)\n",
    "plt.show()"
   ]
  },
  {
   "cell_type": "markdown",
   "id": "182075e6",
   "metadata": {},
   "source": [
    "#### Findings\n",
    "On the month of august (8) and december (12) are the highest average items returned. The december case is probably because of the holidays that occur in that month. For august there doesn't seem to be a reason at first glamse."
   ]
  },
  {
   "cell_type": "markdown",
   "id": "ee0230ba",
   "metadata": {},
   "source": [
    "### Returned items per category\n"
   ]
  },
  {
   "cell_type": "code",
   "execution_count": 52,
   "id": "965a47fe",
   "metadata": {
    "scrolled": false
   },
   "outputs": [
    {
     "data": {
      "image/png": "[encoded data removed]",
      "text/plain": [
       "<Figure size 432x288 with 1 Axes>"
      ]
     },
     "metadata": {
      "needs_background": "light"
     },
     "output_type": "display_data"
    }
   ],
   "source": [
    "# Get the data ready\n",
    "cats = pd.DataFrame(df.groupby('category').returned.mean() * 100)\n",
    "cats.reset_index(inplace = True)\n",
    "\n",
    "# Create the plot\n",
    "plt.bar(cats.category, cats.returned)\n",
    "plt.xlabel(\"Category\")\n",
    "plt.ylabel(\"Percentage of items returned (%)\")\n",
    "plt.title(\"Average returned items per category\")\n",
    "plt.show()"
   ]
  },
  {
   "cell_type": "markdown",
   "id": "6394206a",
   "metadata": {},
   "source": [
    "#### Findings\n",
    "All categories have around the same percentage of returned items"
   ]
  },
  {
   "cell_type": "markdown",
   "id": "9b655e42",
   "metadata": {},
   "source": [
    "### Profit per category\n"
   ]
  },
  {
   "cell_type": "code",
   "execution_count": 53,
   "id": "b15cf84b",
   "metadata": {
    "scrolled": false
   },
   "outputs": [
    {
     "data": {
      "image/png": "[encoded data removed]",
      "text/plain": [
       "<Figure size 432x288 with 1 Axes>"
      ]
     },
     "metadata": {
      "needs_background": "light"
     },
     "output_type": "display_data"
    }
   ],
   "source": [
    "# Get the data ready\n",
    "profits = pd.DataFrame(df.groupby('category').profit.sum())\n",
    "profits.reset_index(inplace = True)\n",
    "\n",
    "# Create the plot\n",
    "plt.bar(profits.category, profits.profit)\n",
    "plt.xlabel(\"Category\")\n",
    "plt.ylabel(\"Total profit\")\n",
    "plt.title(\"Total profit per category\")\n",
    "plt.show()"
   ]
  },
  {
   "cell_type": "markdown",
   "id": "2387ac1d",
   "metadata": {},
   "source": [
    "#### Findings\n",
    "Technology products have the most profit. Shortly after, there comes Office Supplies. And far below that, the furniture products produce the least profit."
   ]
  },
  {
   "cell_type": "markdown",
   "id": "4e0ad91b",
   "metadata": {},
   "source": [
    "### Discounts per month vs profits per month"
   ]
  },
  {
   "cell_type": "code",
   "execution_count": 54,
   "id": "54e733b7",
   "metadata": {
    "scrolled": false
   },
   "outputs": [
    {
     "name": "stderr",
     "output_type": "stream",
     "text": [
      "C:\\Users\\arjo\\AppData\\Local\\Temp/ipykernel_22980/1378861308.py:20: UserWarning: FixedFormatter should only be used together with FixedLocator\n",
      "  ax0.set_xticklabels(label)\n",
      "C:\\Users\\arjo\\Anaconda3\\lib\\site-packages\\matplotlib\\axes\\_base.py:507: FutureWarning: Support for multi-dimensional indexing (e.g. `obj[:, None]`) is deprecated and will be removed in a future version.  Convert to a numpy array before indexing instead.\n",
      "  x = x[:, np.newaxis]\n"
     ]
    },
    {
     "data": {
      "image/png": "[encoded data removed]",
      "text/plain": [
       "<Figure size 576x864 with 2 Axes>"
      ]
     },
     "metadata": {
      "needs_background": "light"
     },
     "output_type": "display_data"
    }
   ],
   "source": [
    "# Set the discount per month\n",
    "dis_per_month = pd.DataFrame(df.groupby('month_order').discount.mean())\n",
    "\n",
    "# Set the total profit per month\n",
    "profit_per_month = pd.DataFrame(df.groupby('month_order').profit.sum())\n",
    "\n",
    "# Set the subplots\n",
    "fig, (ax0, ax1) = plt.subplots(nrows=2, ncols=1, figsize=(8, 12))\n",
    "\n",
    "# Create the discount in percentages\n",
    "discount = [x * 100 for x in dis_per_month.discount]\n",
    "\n",
    "# Set xticks with corresponding label\n",
    "xticks = [x for x in range(12)]\n",
    "label = [x + 1 for x in range(12)]\n",
    "\n",
    "# Plot the first subplot\n",
    "ax0.plot(discount)\n",
    "ax0.set_xlabel(\"Month of the year\")\n",
    "ax0.set_xticklabels(label)\n",
    "ax0.set_xticks(ticks = xticks)\n",
    "ax0.set_ylabel(\"Average discount (%)\")\n",
    "ax0.set_title(\"Average discount per month\")\n",
    "\n",
    "# Plot the second subplot\n",
    "ax1.plot(profit_per_month)\n",
    "ax1.set_xlabel(\"Month of the year\")\n",
    "ax1.set_ylabel(\"Total profit\")\n",
    "ax1.set_title(\"Total profit per month\")\n",
    "ax1.set_xticks(xticks)\n",
    "ax1.set_xticklabels(label)\n",
    "plt.show()"
   ]
  },
  {
   "cell_type": "markdown",
   "id": "6658a63b",
   "metadata": {},
   "source": [
    "#### Findings\n",
    "It seems that after a high profit has been made, there's some room for increasing the dicount. After the profits fall, the discounts fall shortly after."
   ]
  }
 ],
 "metadata": {
  "kernelspec": {
   "display_name": "Python 3 (ipykernel)",
   "language": "python",
   "name": "python3"
  },
  "language_info": {
   "codemirror_mode": {
    "name": "ipython",
    "version": 3
   },
   "file_extension": ".py",
   "mimetype": "text/x-python",
   "name": "python",
   "nbconvert_exporter": "python",
   "pygments_lexer": "ipython3",
   "version": "3.9.7"
  }
 },
 "nbformat": 4,
 "nbformat_minor": 5
}

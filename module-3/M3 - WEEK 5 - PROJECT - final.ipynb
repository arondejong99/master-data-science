{
 "cells": [
  {
   "cell_type": "markdown",
   "id": "8dfb68de-71cc-4a1c-a066-0b22f28c0d71",
   "metadata": {},
   "source": [
    "# M3 - WEEK 5 | PROJECT: Make your data shine!\n",
    "In this project, the data from the Austrailian marriage law postal survey in 2017 will be used. The data in accessable \n",
    "in the following link: https://www.abs.gov.au/AUSSTATS/abs@.nsf/DetailsPage/1800.02017?OpenDocument\n",
    "\n",
    "From that link, the following excel sheets are available:\n",
    "- Response: \"australian_marriage_law_postal_survey_2017_-_response_final.xls\"\n",
    "- Participation: \"australian_marriage_law_postal_survey_2017_-_participation_final.xls\"\n",
    "\n",
    "## Import the necessary modules"
   ]
  },
  {
   "cell_type": "code",
   "execution_count": 1,
   "id": "7a3b7e72-6449-4c79-ab68-8f399cb96bc2",
   "metadata": {},
   "outputs": [],
   "source": [
    "import pandas as pd\n",
    "import numpy as np\n",
    "import matplotlib.pyplot as plt"
   ]
  },
  {
   "cell_type": "markdown",
   "id": "42040299",
   "metadata": {},
   "source": [
    "## Importing the data"
   ]
  },
  {
   "cell_type": "code",
   "execution_count": 2,
   "id": "d35e8493-c29d-4974-bc98-754e2dbe011e",
   "metadata": {
    "tags": []
   },
   "outputs": [],
   "source": [
    "# Setting the parameters for reading the data for the response sheet\n",
    "usecols = 'A:G,I:P'\n",
    "filename = \"australian_marriage_law_postal_survey_2017_-_response_final.xls\"\n",
    "\n",
    "# Importing the data \n",
    "df1_response = pd.read_excel (filename, header = 6, sheet_name = \"Table 2\", usecols = usecols)"
   ]
  },
  {
   "cell_type": "code",
   "execution_count": 3,
   "id": "9eb87a48-309a-46dc-8e57-cbeaa6264fbb",
   "metadata": {
    "scrolled": true,
    "tags": []
   },
   "outputs": [],
   "source": [
    "# Setting the parameters for reading the data for the participation sheet\n",
    "filename = 'australian_marriage_law_postal_survey_2017_-_participation_final.xls'\n",
    "\n",
    "# Importing the data into male and female dataframes.\n",
    "# Table 5 and 6 contain the most complete data from the participation sheet. That's why those two will be chosen.\n",
    "df2_male = pd.read_excel (filename, sheet_name = 'Table 5', header = 5)\n",
    "df2_female = pd.read_excel (filename, sheet_name = 'Table 6', header = 5)"
   ]
  },
  {
   "cell_type": "markdown",
   "id": "019fb22f",
   "metadata": {},
   "source": [
    "## Cleaning the data\n",
    "In this chapter, the data from the three dataframes will be cleaned. The steps taken will be explained on each paragraph.\n",
    "\n",
    "### Response \n",
    "The first data to be cleaned, is the response data. The steps taken will be as follows:\n",
    "- Changing the column names to match better coding practices\n",
    "- Removing null values\n",
    "- Removing all rows that contain Total\n",
    "- Changing the dtypes for the columns necessary"
   ]
  },
  {
   "cell_type": "code",
   "execution_count": 4,
   "id": "1d86226f-31f2-4dcf-ab0d-a627138691d7",
   "metadata": {},
   "outputs": [
    {
     "name": "stdout",
     "output_type": "stream",
     "text": [
      "Total sum of null values: 360\n",
      "Total sum of null values: 0\n",
      "<class 'pandas.core.frame.DataFrame'>\n",
      "Int64Index: 150 entries, 1 to 171\n",
      "Data columns (total 15 columns):\n",
      " #   Column                     Non-Null Count  Dtype  \n",
      "---  ------                     --------------  -----  \n",
      " 0   area                       150 non-null    object \n",
      " 1   yes                        150 non-null    float64\n",
      " 2   yes_pct                    150 non-null    float64\n",
      " 3   no                         150 non-null    float64\n",
      " 4   no_pct                     150 non-null    float64\n",
      " 5   response_total             150 non-null    float64\n",
      " 6   response_total_pct         150 non-null    float64\n",
      " 7   response_clear             150 non-null    float64\n",
      " 8   response_clear_pct         150 non-null    float64\n",
      " 9   response_not_clear(b)      150 non-null    float64\n",
      " 10  response_not_clear(b)_pct  150 non-null    float64\n",
      " 11  non_responding             150 non-null    float64\n",
      " 12  non_responding_pct         150 non-null    float64\n",
      " 13  eligible_total             150 non-null    float64\n",
      " 14  eligible_total_pct         150 non-null    float64\n",
      "dtypes: float64(14), object(1)\n",
      "memory usage: 18.8+ KB\n"
     ]
    },
    {
     "data": {
      "text/plain": [
       "None"
      ]
     },
     "metadata": {},
     "output_type": "display_data"
    },
    {
     "data": {
      "text/html": [
       "<div>\n",
       "<style scoped>\n",
       "    .dataframe tbody tr th:only-of-type {\n",
       "        vertical-align: middle;\n",
       "    }\n",
       "\n",
       "    .dataframe tbody tr th {\n",
       "        vertical-align: top;\n",
       "    }\n",
       "\n",
       "    .dataframe thead th {\n",
       "        text-align: right;\n",
       "    }\n",
       "</style>\n",
       "<table border=\"1\" class=\"dataframe\">\n",
       "  <thead>\n",
       "    <tr style=\"text-align: right;\">\n",
       "      <th></th>\n",
       "      <th>area</th>\n",
       "      <th>yes</th>\n",
       "      <th>yes_pct</th>\n",
       "      <th>no</th>\n",
       "      <th>no_pct</th>\n",
       "      <th>response_total</th>\n",
       "      <th>response_total_pct</th>\n",
       "      <th>response_clear</th>\n",
       "      <th>response_clear_pct</th>\n",
       "      <th>response_not_clear(b)</th>\n",
       "      <th>response_not_clear(b)_pct</th>\n",
       "      <th>non_responding</th>\n",
       "      <th>non_responding_pct</th>\n",
       "      <th>eligible_total</th>\n",
       "      <th>eligible_total_pct</th>\n",
       "    </tr>\n",
       "  </thead>\n",
       "  <tbody>\n",
       "    <tr>\n",
       "      <th>1</th>\n",
       "      <td>Banks</td>\n",
       "      <td>37736.0</td>\n",
       "      <td>44.9</td>\n",
       "      <td>46343.0</td>\n",
       "      <td>55.1</td>\n",
       "      <td>84079.0</td>\n",
       "      <td>100.0</td>\n",
       "      <td>84079.0</td>\n",
       "      <td>79.9</td>\n",
       "      <td>247.0</td>\n",
       "      <td>0.2</td>\n",
       "      <td>20928.0</td>\n",
       "      <td>19.9</td>\n",
       "      <td>105254.0</td>\n",
       "      <td>100.0</td>\n",
       "    </tr>\n",
       "    <tr>\n",
       "      <th>2</th>\n",
       "      <td>Barton</td>\n",
       "      <td>37153.0</td>\n",
       "      <td>43.6</td>\n",
       "      <td>47984.0</td>\n",
       "      <td>56.4</td>\n",
       "      <td>85137.0</td>\n",
       "      <td>100.0</td>\n",
       "      <td>85137.0</td>\n",
       "      <td>77.8</td>\n",
       "      <td>226.0</td>\n",
       "      <td>0.2</td>\n",
       "      <td>24008.0</td>\n",
       "      <td>22.0</td>\n",
       "      <td>109371.0</td>\n",
       "      <td>100.0</td>\n",
       "    </tr>\n",
       "    <tr>\n",
       "      <th>3</th>\n",
       "      <td>Bennelong</td>\n",
       "      <td>42943.0</td>\n",
       "      <td>49.8</td>\n",
       "      <td>43215.0</td>\n",
       "      <td>50.2</td>\n",
       "      <td>86158.0</td>\n",
       "      <td>100.0</td>\n",
       "      <td>86158.0</td>\n",
       "      <td>81.0</td>\n",
       "      <td>244.0</td>\n",
       "      <td>0.2</td>\n",
       "      <td>19973.0</td>\n",
       "      <td>18.8</td>\n",
       "      <td>106375.0</td>\n",
       "      <td>100.0</td>\n",
       "    </tr>\n",
       "    <tr>\n",
       "      <th>4</th>\n",
       "      <td>Berowra</td>\n",
       "      <td>48471.0</td>\n",
       "      <td>54.6</td>\n",
       "      <td>40369.0</td>\n",
       "      <td>45.4</td>\n",
       "      <td>88840.0</td>\n",
       "      <td>100.0</td>\n",
       "      <td>88840.0</td>\n",
       "      <td>84.5</td>\n",
       "      <td>212.0</td>\n",
       "      <td>0.2</td>\n",
       "      <td>16038.0</td>\n",
       "      <td>15.3</td>\n",
       "      <td>105090.0</td>\n",
       "      <td>100.0</td>\n",
       "    </tr>\n",
       "    <tr>\n",
       "      <th>5</th>\n",
       "      <td>Blaxland</td>\n",
       "      <td>20406.0</td>\n",
       "      <td>26.1</td>\n",
       "      <td>57926.0</td>\n",
       "      <td>73.9</td>\n",
       "      <td>78332.0</td>\n",
       "      <td>100.0</td>\n",
       "      <td>78332.0</td>\n",
       "      <td>75.0</td>\n",
       "      <td>220.0</td>\n",
       "      <td>0.2</td>\n",
       "      <td>25883.0</td>\n",
       "      <td>24.8</td>\n",
       "      <td>104435.0</td>\n",
       "      <td>100.0</td>\n",
       "    </tr>\n",
       "  </tbody>\n",
       "</table>\n",
       "</div>"
      ],
      "text/plain": [
       "        area      yes  yes_pct       no  no_pct  response_total  \\\n",
       "1      Banks  37736.0     44.9  46343.0    55.1         84079.0   \n",
       "2     Barton  37153.0     43.6  47984.0    56.4         85137.0   \n",
       "3  Bennelong  42943.0     49.8  43215.0    50.2         86158.0   \n",
       "4    Berowra  48471.0     54.6  40369.0    45.4         88840.0   \n",
       "5   Blaxland  20406.0     26.1  57926.0    73.9         78332.0   \n",
       "\n",
       "   response_total_pct  response_clear  response_clear_pct  \\\n",
       "1               100.0         84079.0                79.9   \n",
       "2               100.0         85137.0                77.8   \n",
       "3               100.0         86158.0                81.0   \n",
       "4               100.0         88840.0                84.5   \n",
       "5               100.0         78332.0                75.0   \n",
       "\n",
       "   response_not_clear(b)  response_not_clear(b)_pct  non_responding  \\\n",
       "1                  247.0                        0.2         20928.0   \n",
       "2                  226.0                        0.2         24008.0   \n",
       "3                  244.0                        0.2         19973.0   \n",
       "4                  212.0                        0.2         16038.0   \n",
       "5                  220.0                        0.2         25883.0   \n",
       "\n",
       "   non_responding_pct  eligible_total  eligible_total_pct  \n",
       "1                19.9        105254.0               100.0  \n",
       "2                22.0        109371.0               100.0  \n",
       "3                18.8        106375.0               100.0  \n",
       "4                15.3        105090.0               100.0  \n",
       "5                24.8        104435.0               100.0  "
      ]
     },
     "metadata": {},
     "output_type": "display_data"
    }
   ],
   "source": [
    "# Setting the parameters for the column names\n",
    "col_names = [\"area\", \"yes\", \"yes_pct\", \"no\", \"no_pct\", \"response_total\", \"response_total_pct\", \"response_clear\",\n",
    "             \"response_clear_pct\", \"response_not_clear(b)\", \"response_not_clear(b)_pct\", \"non_responding\",\n",
    "             \"non_responding_pct\", \"eligible_total\", \"eligible_total_pct\"]\n",
    "\n",
    "# Changing the column names\n",
    "df1_response.columns = col_names\n",
    "\n",
    "# Checking the amount of null values before and after cleaning it\n",
    "print(\"Total sum of null values:\", df1_response.isna().sum().sum())\n",
    "df1_response = df1_response.dropna()\n",
    "print(\"Total sum of null values:\", df1_response.isna().sum().sum())\n",
    "\n",
    "## Filter out rows that contain Total\n",
    "# Set the parameters\n",
    "fil = 'Total'\n",
    "\n",
    "# Remove the rows that contain Total in the area column\n",
    "df1_response = df1_response[~df1_response.area.str.contains((fil))]\n",
    "\n",
    "# Display the data with the removed rows\n",
    "display(df1_response.info())\n",
    "display(df1_response.head())"
   ]
  },
  {
   "cell_type": "markdown",
   "id": "f042f285",
   "metadata": {},
   "source": [
    "#### Changing the dtypes\n",
    "The following columns will be changed to the appropiate data type:\n",
    "- yes, no, response_total, response_clear, response_not_clear(b), non_responding, eligible_total: integer"
   ]
  },
  {
   "cell_type": "code",
   "execution_count": 5,
   "id": "6c0748a4",
   "metadata": {},
   "outputs": [
    {
     "name": "stdout",
     "output_type": "stream",
     "text": [
      "<class 'pandas.core.frame.DataFrame'>\n",
      "Int64Index: 150 entries, 1 to 171\n",
      "Data columns (total 15 columns):\n",
      " #   Column                     Non-Null Count  Dtype  \n",
      "---  ------                     --------------  -----  \n",
      " 0   area                       150 non-null    object \n",
      " 1   yes                        150 non-null    int32  \n",
      " 2   yes_pct                    150 non-null    float64\n",
      " 3   no                         150 non-null    int32  \n",
      " 4   no_pct                     150 non-null    float64\n",
      " 5   response_total             150 non-null    int32  \n",
      " 6   response_total_pct         150 non-null    float64\n",
      " 7   response_clear             150 non-null    int32  \n",
      " 8   response_clear_pct         150 non-null    float64\n",
      " 9   response_not_clear(b)      150 non-null    int32  \n",
      " 10  response_not_clear(b)_pct  150 non-null    float64\n",
      " 11  non_responding             150 non-null    int32  \n",
      " 12  non_responding_pct         150 non-null    float64\n",
      " 13  eligible_total             150 non-null    int32  \n",
      " 14  eligible_total_pct         150 non-null    float64\n",
      "dtypes: float64(7), int32(7), object(1)\n",
      "memory usage: 14.6+ KB\n"
     ]
    },
    {
     "data": {
      "text/plain": [
       "None"
      ]
     },
     "metadata": {},
     "output_type": "display_data"
    },
    {
     "data": {
      "text/html": [
       "<div>\n",
       "<style scoped>\n",
       "    .dataframe tbody tr th:only-of-type {\n",
       "        vertical-align: middle;\n",
       "    }\n",
       "\n",
       "    .dataframe tbody tr th {\n",
       "        vertical-align: top;\n",
       "    }\n",
       "\n",
       "    .dataframe thead th {\n",
       "        text-align: right;\n",
       "    }\n",
       "</style>\n",
       "<table border=\"1\" class=\"dataframe\">\n",
       "  <thead>\n",
       "    <tr style=\"text-align: right;\">\n",
       "      <th></th>\n",
       "      <th>area</th>\n",
       "      <th>yes</th>\n",
       "      <th>yes_pct</th>\n",
       "      <th>no</th>\n",
       "      <th>no_pct</th>\n",
       "      <th>response_total</th>\n",
       "      <th>response_total_pct</th>\n",
       "      <th>response_clear</th>\n",
       "      <th>response_clear_pct</th>\n",
       "      <th>response_not_clear(b)</th>\n",
       "      <th>response_not_clear(b)_pct</th>\n",
       "      <th>non_responding</th>\n",
       "      <th>non_responding_pct</th>\n",
       "      <th>eligible_total</th>\n",
       "      <th>eligible_total_pct</th>\n",
       "    </tr>\n",
       "  </thead>\n",
       "  <tbody>\n",
       "    <tr>\n",
       "      <th>1</th>\n",
       "      <td>Banks</td>\n",
       "      <td>37736</td>\n",
       "      <td>44.9</td>\n",
       "      <td>46343</td>\n",
       "      <td>55.1</td>\n",
       "      <td>84079</td>\n",
       "      <td>100.0</td>\n",
       "      <td>84079</td>\n",
       "      <td>79.9</td>\n",
       "      <td>247</td>\n",
       "      <td>0.2</td>\n",
       "      <td>20928</td>\n",
       "      <td>19.9</td>\n",
       "      <td>105254</td>\n",
       "      <td>100.0</td>\n",
       "    </tr>\n",
       "    <tr>\n",
       "      <th>2</th>\n",
       "      <td>Barton</td>\n",
       "      <td>37153</td>\n",
       "      <td>43.6</td>\n",
       "      <td>47984</td>\n",
       "      <td>56.4</td>\n",
       "      <td>85137</td>\n",
       "      <td>100.0</td>\n",
       "      <td>85137</td>\n",
       "      <td>77.8</td>\n",
       "      <td>226</td>\n",
       "      <td>0.2</td>\n",
       "      <td>24008</td>\n",
       "      <td>22.0</td>\n",
       "      <td>109371</td>\n",
       "      <td>100.0</td>\n",
       "    </tr>\n",
       "    <tr>\n",
       "      <th>3</th>\n",
       "      <td>Bennelong</td>\n",
       "      <td>42943</td>\n",
       "      <td>49.8</td>\n",
       "      <td>43215</td>\n",
       "      <td>50.2</td>\n",
       "      <td>86158</td>\n",
       "      <td>100.0</td>\n",
       "      <td>86158</td>\n",
       "      <td>81.0</td>\n",
       "      <td>244</td>\n",
       "      <td>0.2</td>\n",
       "      <td>19973</td>\n",
       "      <td>18.8</td>\n",
       "      <td>106375</td>\n",
       "      <td>100.0</td>\n",
       "    </tr>\n",
       "    <tr>\n",
       "      <th>4</th>\n",
       "      <td>Berowra</td>\n",
       "      <td>48471</td>\n",
       "      <td>54.6</td>\n",
       "      <td>40369</td>\n",
       "      <td>45.4</td>\n",
       "      <td>88840</td>\n",
       "      <td>100.0</td>\n",
       "      <td>88840</td>\n",
       "      <td>84.5</td>\n",
       "      <td>212</td>\n",
       "      <td>0.2</td>\n",
       "      <td>16038</td>\n",
       "      <td>15.3</td>\n",
       "      <td>105090</td>\n",
       "      <td>100.0</td>\n",
       "    </tr>\n",
       "    <tr>\n",
       "      <th>5</th>\n",
       "      <td>Blaxland</td>\n",
       "      <td>20406</td>\n",
       "      <td>26.1</td>\n",
       "      <td>57926</td>\n",
       "      <td>73.9</td>\n",
       "      <td>78332</td>\n",
       "      <td>100.0</td>\n",
       "      <td>78332</td>\n",
       "      <td>75.0</td>\n",
       "      <td>220</td>\n",
       "      <td>0.2</td>\n",
       "      <td>25883</td>\n",
       "      <td>24.8</td>\n",
       "      <td>104435</td>\n",
       "      <td>100.0</td>\n",
       "    </tr>\n",
       "  </tbody>\n",
       "</table>\n",
       "</div>"
      ],
      "text/plain": [
       "        area    yes  yes_pct     no  no_pct  response_total  \\\n",
       "1      Banks  37736     44.9  46343    55.1           84079   \n",
       "2     Barton  37153     43.6  47984    56.4           85137   \n",
       "3  Bennelong  42943     49.8  43215    50.2           86158   \n",
       "4    Berowra  48471     54.6  40369    45.4           88840   \n",
       "5   Blaxland  20406     26.1  57926    73.9           78332   \n",
       "\n",
       "   response_total_pct  response_clear  response_clear_pct  \\\n",
       "1               100.0           84079                79.9   \n",
       "2               100.0           85137                77.8   \n",
       "3               100.0           86158                81.0   \n",
       "4               100.0           88840                84.5   \n",
       "5               100.0           78332                75.0   \n",
       "\n",
       "   response_not_clear(b)  response_not_clear(b)_pct  non_responding  \\\n",
       "1                    247                        0.2           20928   \n",
       "2                    226                        0.2           24008   \n",
       "3                    244                        0.2           19973   \n",
       "4                    212                        0.2           16038   \n",
       "5                    220                        0.2           25883   \n",
       "\n",
       "   non_responding_pct  eligible_total  eligible_total_pct  \n",
       "1                19.9          105254               100.0  \n",
       "2                22.0          109371               100.0  \n",
       "3                18.8          106375               100.0  \n",
       "4                15.3          105090               100.0  \n",
       "5                24.8          104435               100.0  "
      ]
     },
     "metadata": {},
     "output_type": "display_data"
    }
   ],
   "source": [
    "# Setting the columns\n",
    "ints = ['yes', 'no', 'response_total', 'response_clear', 'response_not_clear(b)', 'non_responding', 'eligible_total']\n",
    "\n",
    "# Changing to int\n",
    "df1_response[ints] = df1_response[ints].astype('int')\n",
    "\n",
    "# Showing the results\n",
    "display(df1_response.info())\n",
    "display(df1_response.head())"
   ]
  },
  {
   "cell_type": "markdown",
   "id": "299acc86",
   "metadata": {},
   "source": [
    "### Participation\n",
    "For the participation, table 5 and 6 will be used. Those tables contains participation data for each gender, age_range and city. The steps to clean this data will be as follows:\n",
    "- Replacing the columns names for both tables\n",
    "- Get the areas seperately and remove nan values from it\n",
    "- Add the gender column and set the values to associate gender\n",
    "- Remove areas that contains Divisions, Australia, total or Include\n",
    "- Repeat the areas column three times to refill in later\n",
    "- Refill the clean area column\n",
    "- Putting the age columns in the rows and create the 'age_range' column\n",
    "- Drop nan values\n",
    "\n",
    "After that, the dataframes will be merged and split based on the unique values of the 'measure' column.\n",
    "Then some for looping to replace the 'count' column by the unique measure value will be applied and unnecessary will be dropped. Then the dataframes will be merged into one based on common keys of 'gender', 'area' and 'age_range'.\n",
    "\n",
    "As the last step, the datatypes of some columns will be changed to appropiate ones.\n",
    "#### Male data"
   ]
  },
  {
   "cell_type": "code",
   "execution_count": 6,
   "id": "78f8300e",
   "metadata": {},
   "outputs": [
    {
     "name": "stdout",
     "output_type": "stream",
     "text": [
      "<class 'pandas.core.frame.DataFrame'>\n",
      "Int64Index: 6945 entries, 0 to 7140\n",
      "Data columns (total 6 columns):\n",
      " #   Column            Non-Null Count  Dtype  \n",
      "---  ------            --------------  -----  \n",
      " 0   measure           6945 non-null   object \n",
      " 1   gender            6945 non-null   object \n",
      " 2   area              6945 non-null   object \n",
      " 3   total_for_gender  6945 non-null   float64\n",
      " 4   age_range         6945 non-null   object \n",
      " 5   count             6945 non-null   float64\n",
      "dtypes: float64(2), object(4)\n",
      "memory usage: 379.8+ KB\n"
     ]
    },
    {
     "data": {
      "text/plain": [
       "None"
      ]
     },
     "metadata": {},
     "output_type": "display_data"
    },
    {
     "data": {
      "text/html": [
       "<div>\n",
       "<style scoped>\n",
       "    .dataframe tbody tr th:only-of-type {\n",
       "        vertical-align: middle;\n",
       "    }\n",
       "\n",
       "    .dataframe tbody tr th {\n",
       "        vertical-align: top;\n",
       "    }\n",
       "\n",
       "    .dataframe thead th {\n",
       "        text-align: right;\n",
       "    }\n",
       "</style>\n",
       "<table border=\"1\" class=\"dataframe\">\n",
       "  <thead>\n",
       "    <tr style=\"text-align: right;\">\n",
       "      <th></th>\n",
       "      <th>measure</th>\n",
       "      <th>gender</th>\n",
       "      <th>area</th>\n",
       "      <th>total_for_gender</th>\n",
       "      <th>age_range</th>\n",
       "      <th>count</th>\n",
       "    </tr>\n",
       "  </thead>\n",
       "  <tbody>\n",
       "    <tr>\n",
       "      <th>0</th>\n",
       "      <td>Total participants</td>\n",
       "      <td>Male</td>\n",
       "      <td>Banks</td>\n",
       "      <td>39680.0</td>\n",
       "      <td>18-19</td>\n",
       "      <td>1102.0</td>\n",
       "    </tr>\n",
       "    <tr>\n",
       "      <th>1</th>\n",
       "      <td>Eligible participants</td>\n",
       "      <td>Male</td>\n",
       "      <td>Banks</td>\n",
       "      <td>50528.0</td>\n",
       "      <td>18-19</td>\n",
       "      <td>1431.0</td>\n",
       "    </tr>\n",
       "    <tr>\n",
       "      <th>2</th>\n",
       "      <td>Participation rate (%)</td>\n",
       "      <td>Male</td>\n",
       "      <td>Banks</td>\n",
       "      <td>78.5</td>\n",
       "      <td>18-19</td>\n",
       "      <td>77.0</td>\n",
       "    </tr>\n",
       "    <tr>\n",
       "      <th>3</th>\n",
       "      <td>Total participants</td>\n",
       "      <td>Male</td>\n",
       "      <td>Barton</td>\n",
       "      <td>41088.0</td>\n",
       "      <td>18-19</td>\n",
       "      <td>977.0</td>\n",
       "    </tr>\n",
       "    <tr>\n",
       "      <th>4</th>\n",
       "      <td>Eligible participants</td>\n",
       "      <td>Male</td>\n",
       "      <td>Barton</td>\n",
       "      <td>53616.0</td>\n",
       "      <td>18-19</td>\n",
       "      <td>1278.0</td>\n",
       "    </tr>\n",
       "  </tbody>\n",
       "</table>\n",
       "</div>"
      ],
      "text/plain": [
       "                  measure gender    area  total_for_gender age_range   count\n",
       "0      Total participants   Male   Banks           39680.0     18-19  1102.0\n",
       "1   Eligible participants   Male   Banks           50528.0     18-19  1431.0\n",
       "2  Participation rate (%)   Male   Banks              78.5     18-19    77.0\n",
       "3      Total participants   Male  Barton           41088.0     18-19   977.0\n",
       "4   Eligible participants   Male  Barton           53616.0     18-19  1278.0"
      ]
     },
     "metadata": {},
     "output_type": "display_data"
    }
   ],
   "source": [
    "# Replacing the columns names\n",
    "cols = [\"area\", \"measure\",\"18-19\", \"20-24\", \"25-29\", \"30-34\", \"35-39\", \"40-44\", \"45-49\",\n",
    "        \"50-54\", \"55-59\", \"60-64\", \"65-69\", \"70-74\", \"75-79\", \"80-84\", \"85+\", \"total_for_gender\"]\n",
    "\n",
    "df2_male.columns = cols\n",
    "\n",
    "# Get the areas seperately\n",
    "areas_male = df2_male.iloc[:, 0]\n",
    "results_male = df2_male.iloc[:, 1:]\n",
    "\n",
    "results_male = results_male.dropna()\n",
    "\n",
    "# Add the gender column and set the values to 'Male'\n",
    "results_male['gender'] = 'Male'\n",
    "\n",
    "# Remove areas that contains Divisions, Australia, total or Include\n",
    "fil = 'Divisions|Australia|Include|total'\n",
    "areas_male = areas_male[areas_male.str.contains(fil) == False]\n",
    "\n",
    "# Repeat the areas column three times to refill in later\n",
    "areas_male = [area for area in areas_male for i in range(4)]\n",
    "\n",
    "# Refill the area column\n",
    "results_male['area'] = pd.Series(areas_male)\n",
    "\n",
    "# Putting the age columns in the rows and create the 'age_range' column\n",
    "results_male = results_male.melt(id_vars = ['measure', 'gender', 'area', 'total_for_gender'], \n",
    "                       var_name = \"age_range\", value_name = 'count')\n",
    "\n",
    "\n",
    "# Drop nan values and display the final info of the dataframe\n",
    "results_male = results_male.dropna()\n",
    "display(results_male.info())\n",
    "display(results_male.head())"
   ]
  },
  {
   "cell_type": "markdown",
   "id": "92b83f57",
   "metadata": {},
   "source": [
    "#### Female data"
   ]
  },
  {
   "cell_type": "code",
   "execution_count": 7,
   "id": "8ae1bc15",
   "metadata": {},
   "outputs": [
    {
     "name": "stdout",
     "output_type": "stream",
     "text": [
      "<class 'pandas.core.frame.DataFrame'>\n",
      "Int64Index: 6945 entries, 0 to 7140\n",
      "Data columns (total 6 columns):\n",
      " #   Column            Non-Null Count  Dtype  \n",
      "---  ------            --------------  -----  \n",
      " 0   measure           6945 non-null   object \n",
      " 1   gender            6945 non-null   object \n",
      " 2   area              6945 non-null   object \n",
      " 3   total_for_gender  6945 non-null   float64\n",
      " 4   age_range         6945 non-null   object \n",
      " 5   count             6945 non-null   float64\n",
      "dtypes: float64(2), object(4)\n",
      "memory usage: 379.8+ KB\n"
     ]
    },
    {
     "data": {
      "text/plain": [
       "None"
      ]
     },
     "metadata": {},
     "output_type": "display_data"
    },
    {
     "data": {
      "text/html": [
       "<div>\n",
       "<style scoped>\n",
       "    .dataframe tbody tr th:only-of-type {\n",
       "        vertical-align: middle;\n",
       "    }\n",
       "\n",
       "    .dataframe tbody tr th {\n",
       "        vertical-align: top;\n",
       "    }\n",
       "\n",
       "    .dataframe thead th {\n",
       "        text-align: right;\n",
       "    }\n",
       "</style>\n",
       "<table border=\"1\" class=\"dataframe\">\n",
       "  <thead>\n",
       "    <tr style=\"text-align: right;\">\n",
       "      <th></th>\n",
       "      <th>measure</th>\n",
       "      <th>gender</th>\n",
       "      <th>area</th>\n",
       "      <th>total_for_gender</th>\n",
       "      <th>age_range</th>\n",
       "      <th>count</th>\n",
       "    </tr>\n",
       "  </thead>\n",
       "  <tbody>\n",
       "    <tr>\n",
       "      <th>0</th>\n",
       "      <td>Total participants</td>\n",
       "      <td>Female</td>\n",
       "      <td>Banks</td>\n",
       "      <td>44166.0</td>\n",
       "      <td>18-19</td>\n",
       "      <td>1253.0</td>\n",
       "    </tr>\n",
       "    <tr>\n",
       "      <th>1</th>\n",
       "      <td>Eligible participants</td>\n",
       "      <td>Female</td>\n",
       "      <td>Banks</td>\n",
       "      <td>54154.0</td>\n",
       "      <td>18-19</td>\n",
       "      <td>1514.0</td>\n",
       "    </tr>\n",
       "    <tr>\n",
       "      <th>2</th>\n",
       "      <td>Participation rate (%)</td>\n",
       "      <td>Female</td>\n",
       "      <td>Banks</td>\n",
       "      <td>81.6</td>\n",
       "      <td>18-19</td>\n",
       "      <td>82.8</td>\n",
       "    </tr>\n",
       "    <tr>\n",
       "      <th>3</th>\n",
       "      <td>Total participants</td>\n",
       "      <td>Female</td>\n",
       "      <td>Barton</td>\n",
       "      <td>43879.0</td>\n",
       "      <td>18-19</td>\n",
       "      <td>1061.0</td>\n",
       "    </tr>\n",
       "    <tr>\n",
       "      <th>4</th>\n",
       "      <td>Eligible participants</td>\n",
       "      <td>Female</td>\n",
       "      <td>Barton</td>\n",
       "      <td>55290.0</td>\n",
       "      <td>18-19</td>\n",
       "      <td>1309.0</td>\n",
       "    </tr>\n",
       "  </tbody>\n",
       "</table>\n",
       "</div>"
      ],
      "text/plain": [
       "                  measure  gender    area  total_for_gender age_range   count\n",
       "0      Total participants  Female   Banks           44166.0     18-19  1253.0\n",
       "1   Eligible participants  Female   Banks           54154.0     18-19  1514.0\n",
       "2  Participation rate (%)  Female   Banks              81.6     18-19    82.8\n",
       "3      Total participants  Female  Barton           43879.0     18-19  1061.0\n",
       "4   Eligible participants  Female  Barton           55290.0     18-19  1309.0"
      ]
     },
     "metadata": {},
     "output_type": "display_data"
    }
   ],
   "source": [
    "# Rename the columns in the female dataframe\n",
    "df2_female.columns = cols\n",
    "\n",
    "# Get the areas and results seperately\n",
    "areas_female = df2_female.iloc[:, 0]\n",
    "results_female = df2_female.iloc[:, 1:]\n",
    "\n",
    "# Drop nan values from the results dataframe\n",
    "results_female = results_female.dropna()\n",
    "\n",
    "# Adding the gender column and assign it to female\n",
    "results_female['gender'] = 'Female'\n",
    "\n",
    "# Remove values that contain divisions, australia, includes and total\n",
    "fil = 'Divisions|Australia|Includes|total'\n",
    "areas_female = areas_female[areas_female.str.contains(fil) == False]\n",
    "\n",
    "# Repeat the areas column three times to refill in later\n",
    "areas_female = [area for area in areas_female for i in range(4)]\n",
    "\n",
    "# Refill the dataframe with the area columns\n",
    "results_female['area'] = pd.Series(areas_female)\n",
    "\n",
    "# Putting the age columns in the rows\n",
    "results_female = results_female.melt(id_vars = ['measure', 'gender', 'area', 'total_for_gender'], \n",
    "                       var_name = \"age_range\", value_name = 'count')\n",
    "\n",
    "# Dropping nan values and displaying the final female dataframe\n",
    "results_female = results_female.dropna()\n",
    "display(results_female.info())\n",
    "display(results_female.head())"
   ]
  },
  {
   "cell_type": "markdown",
   "id": "d7af8b63",
   "metadata": {},
   "source": [
    "#### Combining the two dataframes"
   ]
  },
  {
   "cell_type": "code",
   "execution_count": 8,
   "id": "a40fe4e7",
   "metadata": {
    "scrolled": true
   },
   "outputs": [
    {
     "name": "stdout",
     "output_type": "stream",
     "text": [
      "<class 'pandas.core.frame.DataFrame'>\n",
      "Int64Index: 4530 entries, 0 to 4529\n",
      "Data columns (total 6 columns):\n",
      " #   Column                  Non-Null Count  Dtype  \n",
      "---  ------                  --------------  -----  \n",
      " 0   gender                  4530 non-null   object \n",
      " 1   area                    4530 non-null   object \n",
      " 2   age_range               4530 non-null   object \n",
      " 3   total_participants      4530 non-null   float64\n",
      " 4   eligible_participants   4530 non-null   float64\n",
      " 5   participation_rate_(%)  4530 non-null   float64\n",
      "dtypes: float64(3), object(3)\n",
      "memory usage: 247.7+ KB\n"
     ]
    }
   ],
   "source": [
    "# Combining the two datasets into one\n",
    "final_df = (results_male.merge(results_female, how = 'outer'))\n",
    "\n",
    "# Split the datafram based on measure\n",
    "dfs = [y for x, y in final_df.groupby('measure', as_index = False, sort = False)]\n",
    "\n",
    "# Initialise empty dataframe \n",
    "final_df = pd.DataFrame()\n",
    "\n",
    "# Apply some for looping to replace the 'count' column by measure and drop\n",
    "# the measure and total. Also combine each created dataframe into one\n",
    "\n",
    "for df in range(len(dfs)):\n",
    "    # Set the count columns to the measure value\n",
    "    measure = (dfs[df].measure.unique()[0]).lower().replace(\" \", \"_\")\n",
    "    dfs[df] = dfs[df].rename(columns = {'count': measure})\n",
    "    \n",
    "    # Drop the unnessary columns meare and total for gender\n",
    "    dfs[df] = dfs[df].drop(['measure', 'total_for_gender'], axis = 1)    \n",
    "    \n",
    "    # If the final df is empty, the df will be set to the first df splitted\n",
    "    if final_df.empty == True:\n",
    "        final_df = dfs[df]\n",
    "    # Else, merge the dataframe with the other dataframe based on gender, age and age_range\n",
    "    else:\n",
    "        final_df = final_df.merge(dfs[df], on = ['gender', 'area', 'age_range'], how = 'inner')\n",
    "    \n",
    "final_df.info()"
   ]
  },
  {
   "cell_type": "markdown",
   "id": "20932d63",
   "metadata": {},
   "source": [
    "#### Changing the column data types\n",
    "Last step is to change the columns data types to an approiate one. The following columns will be changed:\n",
    "- gender, age_range: catagory\n",
    "- total_participants, eligible_participants: int"
   ]
  },
  {
   "cell_type": "code",
   "execution_count": 9,
   "id": "b36f0c7b",
   "metadata": {},
   "outputs": [
    {
     "name": "stdout",
     "output_type": "stream",
     "text": [
      "<class 'pandas.core.frame.DataFrame'>\n",
      "Int64Index: 4530 entries, 0 to 4529\n",
      "Data columns (total 6 columns):\n",
      " #   Column                  Non-Null Count  Dtype   \n",
      "---  ------                  --------------  -----   \n",
      " 0   gender                  4530 non-null   category\n",
      " 1   area                    4530 non-null   object  \n",
      " 2   age_range               4530 non-null   category\n",
      " 3   total_participants      4530 non-null   int32   \n",
      " 4   eligible_participants   4530 non-null   int32   \n",
      " 5   participation_rate_(%)  4530 non-null   float64 \n",
      "dtypes: category(2), float64(1), int32(2), object(1)\n",
      "memory usage: 151.2+ KB\n"
     ]
    },
    {
     "data": {
      "text/plain": [
       "None"
      ]
     },
     "metadata": {},
     "output_type": "display_data"
    },
    {
     "data": {
      "text/html": [
       "<div>\n",
       "<style scoped>\n",
       "    .dataframe tbody tr th:only-of-type {\n",
       "        vertical-align: middle;\n",
       "    }\n",
       "\n",
       "    .dataframe tbody tr th {\n",
       "        vertical-align: top;\n",
       "    }\n",
       "\n",
       "    .dataframe thead th {\n",
       "        text-align: right;\n",
       "    }\n",
       "</style>\n",
       "<table border=\"1\" class=\"dataframe\">\n",
       "  <thead>\n",
       "    <tr style=\"text-align: right;\">\n",
       "      <th></th>\n",
       "      <th>gender</th>\n",
       "      <th>area</th>\n",
       "      <th>age_range</th>\n",
       "      <th>total_participants</th>\n",
       "      <th>eligible_participants</th>\n",
       "      <th>participation_rate_(%)</th>\n",
       "    </tr>\n",
       "  </thead>\n",
       "  <tbody>\n",
       "    <tr>\n",
       "      <th>0</th>\n",
       "      <td>Male</td>\n",
       "      <td>Banks</td>\n",
       "      <td>18-19</td>\n",
       "      <td>1102</td>\n",
       "      <td>1431</td>\n",
       "      <td>77.0</td>\n",
       "    </tr>\n",
       "    <tr>\n",
       "      <th>1</th>\n",
       "      <td>Male</td>\n",
       "      <td>Barton</td>\n",
       "      <td>18-19</td>\n",
       "      <td>977</td>\n",
       "      <td>1278</td>\n",
       "      <td>76.4</td>\n",
       "    </tr>\n",
       "    <tr>\n",
       "      <th>2</th>\n",
       "      <td>Male</td>\n",
       "      <td>Bennelong</td>\n",
       "      <td>18-19</td>\n",
       "      <td>1177</td>\n",
       "      <td>1488</td>\n",
       "      <td>79.1</td>\n",
       "    </tr>\n",
       "    <tr>\n",
       "      <th>3</th>\n",
       "      <td>Male</td>\n",
       "      <td>Berowra</td>\n",
       "      <td>18-19</td>\n",
       "      <td>1523</td>\n",
       "      <td>1916</td>\n",
       "      <td>79.5</td>\n",
       "    </tr>\n",
       "    <tr>\n",
       "      <th>4</th>\n",
       "      <td>Male</td>\n",
       "      <td>Blaxland</td>\n",
       "      <td>18-19</td>\n",
       "      <td>1152</td>\n",
       "      <td>1555</td>\n",
       "      <td>74.1</td>\n",
       "    </tr>\n",
       "  </tbody>\n",
       "</table>\n",
       "</div>"
      ],
      "text/plain": [
       "  gender       area age_range  total_participants  eligible_participants  \\\n",
       "0   Male      Banks     18-19                1102                   1431   \n",
       "1   Male     Barton     18-19                 977                   1278   \n",
       "2   Male  Bennelong     18-19                1177                   1488   \n",
       "3   Male    Berowra     18-19                1523                   1916   \n",
       "4   Male   Blaxland     18-19                1152                   1555   \n",
       "\n",
       "   participation_rate_(%)  \n",
       "0                    77.0  \n",
       "1                    76.4  \n",
       "2                    79.1  \n",
       "3                    79.5  \n",
       "4                    74.1  "
      ]
     },
     "metadata": {},
     "output_type": "display_data"
    }
   ],
   "source": [
    "cats = ['gender', 'age_range']\n",
    "ints = ['total_participants', 'eligible_participants']\n",
    "\n",
    "# Change to the category types\n",
    "final_df[cats] = final_df[cats].astype('category')\n",
    "\n",
    "# Change to the integer types\n",
    "final_df[ints] = final_df[ints].astype('int')\n",
    "\n",
    "# Check the results\n",
    "display(final_df.info())\n",
    "display(final_df.head())"
   ]
  },
  {
   "cell_type": "markdown",
   "id": "3ad14f35-dd20-461a-832d-d5d097600e12",
   "metadata": {},
   "source": [
    "## Data Analysis & Visualization "
   ]
  },
  {
   "cell_type": "markdown",
   "id": "9d106d7f-75c8-476c-87e0-da62857005fd",
   "metadata": {},
   "source": [
    "### Final Response results YES or NO \n"
   ]
  },
  {
   "cell_type": "code",
   "execution_count": 20,
   "id": "5396ae4e-23c1-4abc-8ad7-c33dd2e1c0f1",
   "metadata": {},
   "outputs": [
    {
     "data": {
      "image/png": "[encoded data removed]",
      "text/plain": [
       "<Figure size 720x504 with 1 Axes>"
      ]
     },
     "metadata": {},
     "output_type": "display_data"
    }
   ],
   "source": [
    "# summarizing all yes and no responses\n",
    "total_yes= df1_response['yes'].sum()\n",
    "total_no=df1_response['no'].sum()\n",
    "\n",
    "# Preparing the values and lables in list to pass to the pie chart \n",
    "vlaues_yes_no=[total_yes,total_no]\n",
    "labels=['YES','NO']\n",
    "\n",
    "#pie chart settings using matplotlib 'plt'\n",
    "fig = plt.figure(figsize =(10, 7))\n",
    "ax=plt.pie(vlaues_yes_no, labels = labels,startangle = 0 ,autopct='%1.0f%%', pctdistance=1.1, labeldistance=1.2)\n",
    "plt.title(\"Yes vs No response\")\n",
    "plt.show()\n"
   ]
  },
  {
   "cell_type": "markdown",
   "id": "f0b3a35b-1e31-40d7-a052-33efed82c6e5",
   "metadata": {},
   "source": [
    "This Figure shows that the Yes voting is the final with 62% "
   ]
  },
  {
   "cell_type": "markdown",
   "id": "f92cf9c1-3e8d-4781-a777-90e4176ca530",
   "metadata": {},
   "source": [
    "### Top Areas response YES or NO"
   ]
  },
  {
   "cell_type": "code",
   "execution_count": 32,
   "id": "4e830e0e-5100-4d2e-ad6f-112b0254c887",
   "metadata": {
    "tags": []
   },
   "outputs": [
    {
     "data": {
      "image/png": "[encoded data removed]",
      "text/plain": [
       "<Figure size 720x504 with 1 Axes>"
      ]
     },
     "metadata": {
      "needs_background": "light"
     },
     "output_type": "display_data"
    }
   ],
   "source": [
    "# sort based on response_total and get top 20 , to use in the bar chart as we have too many areas \n",
    "df12= df1_response.sort_values('response_total',ascending = False).head(20)\n",
    "\n",
    "# bar chart setting \n",
    "df12.plot(kind='bar',stacked=True,x=\"area\", y=[\"yes\",\"no\"], rot=70, title=\"Top Areas comparison with response YES & NO\",\n",
    "         figsize = (10, 7))\n",
    "plt.ylabel(\"Amount of responds\")\n",
    "plt.show()"
   ]
  },
  {
   "cell_type": "markdown",
   "id": "8b74a81d-1f6f-4ed0-85bf-c9eb3896d78d",
   "metadata": {},
   "source": [
    "This figure shows the highest area of participation and voting percentage for yes or no "
   ]
  },
  {
   "cell_type": "markdown",
   "id": "57f0002e-c620-4a2b-b3c0-8edc36c1e115",
   "metadata": {},
   "source": [
    "### Participation Comparison Females vs Males"
   ]
  },
  {
   "cell_type": "code",
   "execution_count": 33,
   "id": "3aa20a68-960b-4224-8a04-2e1840b0f319",
   "metadata": {},
   "outputs": [
    {
     "data": {
      "image/png": "[encoded data removed]",
      "text/plain": [
       "<Figure size 720x504 with 1 Axes>"
      ]
     },
     "metadata": {},
     "output_type": "display_data"
    }
   ],
   "source": [
    "# group the data based on the gender and sum all total participants\n",
    "groupby_gender=final_df.groupby(['gender'])['total_participants'].agg('sum')\n",
    "\n",
    "# blot setting on Pie chart\n",
    "fig = plt.figure(figsize =(10, 7))\n",
    "plt.pie(groupby_gender,labels=['Female','Male'],autopct='%1.0f%%', pctdistance=1.1, labeldistance=1.2)\n",
    "plt.title(\"Male vs Female participation\")\n",
    "plt.show()"
   ]
  },
  {
   "cell_type": "markdown",
   "id": "b9bc5b92-e1e6-4292-a801-ba15b0baa9cf",
   "metadata": {},
   "source": [
    "This fgure shows that females are participating more than males :) "
   ]
  },
  {
   "cell_type": "markdown",
   "id": "86ea0524-8dd2-422d-a709-92e838d8bd16",
   "metadata": {},
   "source": [
    "### Age Range Participation Comparison"
   ]
  },
  {
   "cell_type": "code",
   "execution_count": 26,
   "id": "ed907d9c-4802-442e-855a-52efe5cb19a5",
   "metadata": {},
   "outputs": [
    {
     "data": {
      "image/png": "[encoded data removed]",
      "text/plain": [
       "<Figure size 432x288 with 1 Axes>"
      ]
     },
     "metadata": {
      "needs_background": "light"
     },
     "output_type": "display_data"
    }
   ],
   "source": [
    "# Group by age range , and sum all aprticipants \n",
    "groupby_age_range=final_df.groupby(['age_range'])['total_participants'].agg('sum')\n",
    "# plot setting \"bar chart\"\n",
    "groupby_age_range.plot(kind='bar',stacked=True,x=\"total_participants\", y=\"age_range\", rot=70, title=\"Age Range Participation Comparison\")\n",
    "plt.ylabel(\"Total participants (x1000000)\")\n",
    "plt.show()"
   ]
  },
  {
   "cell_type": "markdown",
   "id": "e0ad4bbb-082e-4813-864c-15c9096dcfd9",
   "metadata": {},
   "source": [
    "This Figure shows that the age range (55-59) are the highest in participation and range 18-19 are the lowest range "
   ]
  },
  {
   "cell_type": "markdown",
   "id": "8ad15214",
   "metadata": {},
   "source": [
    "### Age range in participation rate"
   ]
  },
  {
   "cell_type": "code",
   "execution_count": 21,
   "id": "4a8ec8b8",
   "metadata": {
    "scrolled": true
   },
   "outputs": [
    {
     "data": {
      "image/png": "[encoded data removed]",
      "text/plain": [
       "<Figure size 432x288 with 1 Axes>"
      ]
     },
     "metadata": {
      "needs_background": "light"
     },
     "output_type": "display_data"
    }
   ],
   "source": [
    "# Group by age range , and apply mean statistic to all participation rate \n",
    "groupby_age_range=final_df.groupby(['age_range'])['participation_rate_(%)'].agg('mean')\n",
    "# plot setting \"bar chart\"\n",
    "groupby_age_range.plot(kind='bar',stacked=True,x=\"total_participants\", y=\"age_range\", rot=70, \n",
    "                       title=\"Age Range Participation rate Comparison\")\n",
    "plt.ylabel(\"Particpation rate (%)\")\n",
    "plt.show()"
   ]
  },
  {
   "cell_type": "markdown",
   "id": "007443cb",
   "metadata": {},
   "source": [
    "This figure shows that the average participation rate has less difference than the total number of people that voted"
   ]
  },
  {
   "cell_type": "code",
   "execution_count": 24,
   "id": "ef1b0a1f",
   "metadata": {},
   "outputs": [
    {
     "data": {
      "image/png": "[encoded data removed]",
      "text/plain": [
       "<Figure size 432x288 with 1 Axes>"
      ]
     },
     "metadata": {
      "needs_background": "light"
     },
     "output_type": "display_data"
    }
   ],
   "source": [
    "# Group by age range , and and sum all aprticipants\n",
    "groupby_age_range=final_df.groupby(['age_range'])['eligible_participants'].agg('sum')\n",
    "\n",
    "# plot setting \"bar chart\"\n",
    "groupby_age_range.plot(kind='bar',stacked=True,x=\"total_participants\", y=\"age_range\", rot=70, \n",
    "                       title=\"Age Range Eligable participants Comparison\")\n",
    "plt.ylabel(\"Eligable participants (x1000000)\")\n",
    "plt.show()"
   ]
  }
 ],
 "metadata": {
  "kernelspec": {
   "display_name": "Python 3 (ipykernel)",
   "language": "python",
   "name": "python3"
  },
  "language_info": {
   "codemirror_mode": {
    "name": "ipython",
    "version": 3
   },
   "file_extension": ".py",
   "mimetype": "text/x-python",
   "name": "python",
   "nbconvert_exporter": "python",
   "pygments_lexer": "ipython3",
   "version": "3.9.7"
  }
 },
 "nbformat": 4,
 "nbformat_minor": 5
}

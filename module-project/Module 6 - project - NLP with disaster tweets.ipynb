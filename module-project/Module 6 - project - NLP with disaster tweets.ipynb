{
 "cells": [
  {
   "cell_type": "markdown",
   "id": "c2e0b8e1",
   "metadata": {},
   "source": [
    "# Introduction\n",
    "In this exercise, we're going to do Natural Language Processing (NLP) regarding disaster tweets. The data used for this is retrieved at the following [link](https://www.kaggle.com/c/nlp-getting-started/overview). "
   ]
  },
  {
   "cell_type": "code",
   "execution_count": 2,
   "id": "c44b37b2",
   "metadata": {},
   "outputs": [],
   "source": [
    "# Importing the necessary modules\n",
    "import pandas as pd\n",
    "import numpy as np\n",
    "from nltk.tokenize.regexp import regexp_tokenize\n",
    "from langdetect import detect\n",
    "from sklearn.naive_bayes import MultinomialNB\n",
    "from sklearn.metrics import accuracy_score, confusion_matrix\n",
    "import re"
   ]
  },
  {
   "cell_type": "markdown",
   "id": "42bcdd84",
   "metadata": {},
   "source": [
    "# Data preparation\n",
    "In this chapter, the data will be imported and cleaned to make it ready for our data analysis\n",
    "\n",
    "## Data import"
   ]
  },
  {
   "cell_type": "code",
   "execution_count": 3,
   "id": "939fbbe2",
   "metadata": {},
   "outputs": [
    {
     "data": {
      "text/html": [
       "<div>\n",
       "<style scoped>\n",
       "    .dataframe tbody tr th:only-of-type {\n",
       "        vertical-align: middle;\n",
       "    }\n",
       "\n",
       "    .dataframe tbody tr th {\n",
       "        vertical-align: top;\n",
       "    }\n",
       "\n",
       "    .dataframe thead th {\n",
       "        text-align: right;\n",
       "    }\n",
       "</style>\n",
       "<table border=\"1\" class=\"dataframe\">\n",
       "  <thead>\n",
       "    <tr style=\"text-align: right;\">\n",
       "      <th></th>\n",
       "      <th>id</th>\n",
       "      <th>keyword</th>\n",
       "      <th>location</th>\n",
       "      <th>text</th>\n",
       "      <th>target</th>\n",
       "    </tr>\n",
       "  </thead>\n",
       "  <tbody>\n",
       "    <tr>\n",
       "      <th>0</th>\n",
       "      <td>1</td>\n",
       "      <td>NaN</td>\n",
       "      <td>NaN</td>\n",
       "      <td>Our Deeds are the Reason of this #earthquake M...</td>\n",
       "      <td>1</td>\n",
       "    </tr>\n",
       "    <tr>\n",
       "      <th>1</th>\n",
       "      <td>4</td>\n",
       "      <td>NaN</td>\n",
       "      <td>NaN</td>\n",
       "      <td>Forest fire near La Ronge Sask. Canada</td>\n",
       "      <td>1</td>\n",
       "    </tr>\n",
       "    <tr>\n",
       "      <th>2</th>\n",
       "      <td>5</td>\n",
       "      <td>NaN</td>\n",
       "      <td>NaN</td>\n",
       "      <td>All residents asked to 'shelter in place' are ...</td>\n",
       "      <td>1</td>\n",
       "    </tr>\n",
       "    <tr>\n",
       "      <th>3</th>\n",
       "      <td>6</td>\n",
       "      <td>NaN</td>\n",
       "      <td>NaN</td>\n",
       "      <td>13,000 people receive #wildfires evacuation or...</td>\n",
       "      <td>1</td>\n",
       "    </tr>\n",
       "    <tr>\n",
       "      <th>4</th>\n",
       "      <td>7</td>\n",
       "      <td>NaN</td>\n",
       "      <td>NaN</td>\n",
       "      <td>Just got sent this photo from Ruby #Alaska as ...</td>\n",
       "      <td>1</td>\n",
       "    </tr>\n",
       "  </tbody>\n",
       "</table>\n",
       "</div>"
      ],
      "text/plain": [
       "   id keyword location                                               text  \\\n",
       "0   1     NaN      NaN  Our Deeds are the Reason of this #earthquake M...   \n",
       "1   4     NaN      NaN             Forest fire near La Ronge Sask. Canada   \n",
       "2   5     NaN      NaN  All residents asked to 'shelter in place' are ...   \n",
       "3   6     NaN      NaN  13,000 people receive #wildfires evacuation or...   \n",
       "4   7     NaN      NaN  Just got sent this photo from Ruby #Alaska as ...   \n",
       "\n",
       "   target  \n",
       "0       1  \n",
       "1       1  \n",
       "2       1  \n",
       "3       1  \n",
       "4       1  "
      ]
     },
     "execution_count": 3,
     "metadata": {},
     "output_type": "execute_result"
    }
   ],
   "source": [
    "# Import the data using pandas\n",
    "trainset = pd.read_csv(\"train.csv\")\n",
    "testset = pd.read_csv(\"test.csv\")\n",
    "\n",
    "trainset.head()"
   ]
  },
  {
   "cell_type": "markdown",
   "id": "e1efb9b1",
   "metadata": {},
   "source": [
    "## Cleaning\n",
    "In this paragraph, we'll clean the two datasets. We'll do that by performing the next steps:\n",
    "- Dealing with null values\n",
    "- Cleaning text for keyword and location column\n",
    "- Cleaning text data (remove url, HTMLs, emojies, hastags)\n",
    "- Remove unnecessary features"
   ]
  },
  {
   "cell_type": "code",
   "execution_count": 4,
   "id": "8c2ba1e3",
   "metadata": {
    "scrolled": false
   },
   "outputs": [
    {
     "name": "stdout",
     "output_type": "stream",
     "text": [
      "<class 'pandas.core.frame.DataFrame'>\n",
      "RangeIndex: 7613 entries, 0 to 7612\n",
      "Data columns (total 5 columns):\n",
      " #   Column    Non-Null Count  Dtype \n",
      "---  ------    --------------  ----- \n",
      " 0   id        7613 non-null   int64 \n",
      " 1   keyword   7552 non-null   object\n",
      " 2   location  5080 non-null   object\n",
      " 3   text      7613 non-null   object\n",
      " 4   target    7613 non-null   int64 \n",
      "dtypes: int64(2), object(3)\n",
      "memory usage: 297.5+ KB\n"
     ]
    },
    {
     "data": {
      "text/plain": [
       "None"
      ]
     },
     "metadata": {},
     "output_type": "display_data"
    },
    {
     "name": "stdout",
     "output_type": "stream",
     "text": [
      "<class 'pandas.core.frame.DataFrame'>\n",
      "RangeIndex: 3263 entries, 0 to 3262\n",
      "Data columns (total 4 columns):\n",
      " #   Column    Non-Null Count  Dtype \n",
      "---  ------    --------------  ----- \n",
      " 0   id        3263 non-null   int64 \n",
      " 1   keyword   3237 non-null   object\n",
      " 2   location  2158 non-null   object\n",
      " 3   text      3263 non-null   object\n",
      "dtypes: int64(1), object(3)\n",
      "memory usage: 102.1+ KB\n"
     ]
    },
    {
     "data": {
      "text/plain": [
       "None"
      ]
     },
     "metadata": {},
     "output_type": "display_data"
    }
   ],
   "source": [
    "# Check the datasets using the info method\n",
    "display(trainset.info())\n",
    "display(testset.info())"
   ]
  },
  {
   "cell_type": "markdown",
   "id": "c0035a96",
   "metadata": {},
   "source": [
    "### Dealing with null values"
   ]
  },
  {
   "cell_type": "code",
   "execution_count": 5,
   "id": "69bd36de",
   "metadata": {},
   "outputs": [
    {
     "name": "stdout",
     "output_type": "stream",
     "text": [
      "Null values per column for the train set :\n",
      "id             0\n",
      "keyword       61\n",
      "location    2533\n",
      "text           0\n",
      "target         0\n",
      "dtype: int64\n",
      "Null values per column for the test set:\n",
      "id             0\n",
      "keyword       26\n",
      "location    1105\n",
      "text           0\n",
      "dtype: int64\n"
     ]
    }
   ],
   "source": [
    "print(f\"Null values per column for the train set :\\n{trainset.isnull().sum()}\")\n",
    "print(f\"Null values per column for the test set:\\n{testset.isnull().sum()}\")"
   ]
  },
  {
   "cell_type": "code",
   "execution_count": 6,
   "id": "1af4a690",
   "metadata": {},
   "outputs": [
    {
     "name": "stdout",
     "output_type": "stream",
     "text": [
      "Null values percentage per column for the train set :\n",
      "id          0.000000\n",
      "keyword     0.008013\n",
      "location    0.332720\n",
      "text        0.000000\n",
      "target      0.000000\n",
      "dtype: float64\n",
      "Null values percentage per column for the test set:\n",
      "id          0.000000\n",
      "keyword     0.007968\n",
      "location    0.338645\n",
      "text        0.000000\n",
      "dtype: float64\n"
     ]
    }
   ],
   "source": [
    "# Check percentage of null values per column for both datasets\n",
    "print(f\"Null values percentage per column for the train set :\\n{trainset.isnull().sum() / trainset.shape[0]}\")\n",
    "print(f\"Null values percentage per column for the test set:\\n{testset.isnull().sum() / testset.shape[0]}\")"
   ]
  },
  {
   "cell_type": "markdown",
   "id": "385c82da",
   "metadata": {},
   "source": [
    "What we see here is that for both train and test set, there are two columns with null values: `location` and `keyword`. For the location column, around 1/3th of the column has no values, whilst the keyword column only has about 0.8 percent of missing data. Since their're both text columns with lots of variety, the best way to deal with the null values, is to use the backward and forward fill method, which fills the null value with the next and previous non-null value."
   ]
  },
  {
   "cell_type": "code",
   "execution_count": 7,
   "id": "0bce2d60",
   "metadata": {},
   "outputs": [
    {
     "name": "stdout",
     "output_type": "stream",
     "text": [
      "Null values per column for the train set :\n",
      "id          0\n",
      "keyword     0\n",
      "location    0\n",
      "text        0\n",
      "target      0\n",
      "dtype: int64\n",
      "Null values per column for the test set:\n",
      "id          0\n",
      "keyword     0\n",
      "location    0\n",
      "text        0\n",
      "dtype: int64\n"
     ]
    }
   ],
   "source": [
    "# Fill the na values with the bfill method\n",
    "trainset = trainset.bfill(axis = 'rows')\n",
    "testset = testset.bfill(axis = 'rows')\n",
    "\n",
    "# Fill the na values with the ffill method\n",
    "trainset = trainset.ffill(axis = 'rows')\n",
    "testset = testset.ffill(axis = 'rows')\n",
    "\n",
    "# Print the null values per column to see if the fill method worked\n",
    "print(f\"Null values per column for the train set :\\n{trainset.isnull().sum()}\")\n",
    "print(f\"Null values per column for the test set:\\n{testset.isnull().sum()}\")"
   ]
  },
  {
   "cell_type": "markdown",
   "id": "8a3bc438",
   "metadata": {},
   "source": [
    "### Cleaning text for keyword and location column"
   ]
  },
  {
   "cell_type": "code",
   "execution_count": 8,
   "id": "91f12d2b",
   "metadata": {},
   "outputs": [],
   "source": [
    "# Create a function that clean the text columns: clean_text\n",
    "def clean_text(series):\n",
    "    # Lower to lowercase for each word\n",
    "    series = series.apply(lambda x: x.lower())\n",
    "    \n",
    "    # Remove numbers\n",
    "    pattern = r\"[0-9]\"\n",
    "    series = series.apply(lambda x: re.sub(pattern, ' ', x))\n",
    "    \n",
    "    # Remove special character\n",
    "    pattern = r\"[^a-zA-Z0-9]\"\n",
    "    series = series.apply(lambda x: re.sub(pattern, ' ', x))\n",
    "    \n",
    "    # Remove URLs\n",
    "    pattern = r'http\\S+'\n",
    "    series = series.apply(lambda x: re.sub(pattern, ' ', x))\n",
    "    \n",
    "    # Remove emojies\n",
    "    emoji_pattern = re.compile(\"[\"\n",
    "                               u\"\\U0001F600-\\U0001F64F\"  # emoticons\n",
    "                               u\"\\U0001F300-\\U0001F5FF\"  # symbols & pictographs\n",
    "                               u\"\\U0001F680-\\U0001F6FF\"  # transport & map symbols\n",
    "                               u\"\\U0001F1E0-\\U0001F1FF\"  # flags (iOS)\n",
    "                           \"]+\", flags=re.UNICODE)\n",
    "    \n",
    "    series = series.apply(lambda x: emoji_pattern.sub(r' emoji ', x))\n",
    "    \n",
    "    return series"
   ]
  },
  {
   "cell_type": "code",
   "execution_count": 9,
   "id": "387342b0",
   "metadata": {},
   "outputs": [
    {
     "data": {
      "text/html": [
       "<div>\n",
       "<style scoped>\n",
       "    .dataframe tbody tr th:only-of-type {\n",
       "        vertical-align: middle;\n",
       "    }\n",
       "\n",
       "    .dataframe tbody tr th {\n",
       "        vertical-align: top;\n",
       "    }\n",
       "\n",
       "    .dataframe thead th {\n",
       "        text-align: right;\n",
       "    }\n",
       "</style>\n",
       "<table border=\"1\" class=\"dataframe\">\n",
       "  <thead>\n",
       "    <tr style=\"text-align: right;\">\n",
       "      <th></th>\n",
       "      <th>id</th>\n",
       "      <th>keyword</th>\n",
       "      <th>location</th>\n",
       "      <th>text</th>\n",
       "      <th>target</th>\n",
       "    </tr>\n",
       "  </thead>\n",
       "  <tbody>\n",
       "    <tr>\n",
       "      <th>0</th>\n",
       "      <td>1</td>\n",
       "      <td>ablaze</td>\n",
       "      <td>birmingham</td>\n",
       "      <td>our deeds are the reason of this  earthquake m...</td>\n",
       "      <td>1</td>\n",
       "    </tr>\n",
       "    <tr>\n",
       "      <th>1</th>\n",
       "      <td>4</td>\n",
       "      <td>ablaze</td>\n",
       "      <td>birmingham</td>\n",
       "      <td>forest fire near la ronge sask  canada</td>\n",
       "      <td>1</td>\n",
       "    </tr>\n",
       "    <tr>\n",
       "      <th>2</th>\n",
       "      <td>5</td>\n",
       "      <td>ablaze</td>\n",
       "      <td>birmingham</td>\n",
       "      <td>all residents asked to  shelter in place  are ...</td>\n",
       "      <td>1</td>\n",
       "    </tr>\n",
       "    <tr>\n",
       "      <th>3</th>\n",
       "      <td>6</td>\n",
       "      <td>ablaze</td>\n",
       "      <td>birmingham</td>\n",
       "      <td>people receive  wildfires evacuation or...</td>\n",
       "      <td>1</td>\n",
       "    </tr>\n",
       "    <tr>\n",
       "      <th>4</th>\n",
       "      <td>7</td>\n",
       "      <td>ablaze</td>\n",
       "      <td>birmingham</td>\n",
       "      <td>just got sent this photo from ruby  alaska as ...</td>\n",
       "      <td>1</td>\n",
       "    </tr>\n",
       "  </tbody>\n",
       "</table>\n",
       "</div>"
      ],
      "text/plain": [
       "   id keyword    location                                               text  \\\n",
       "0   1  ablaze  birmingham  our deeds are the reason of this  earthquake m...   \n",
       "1   4  ablaze  birmingham             forest fire near la ronge sask  canada   \n",
       "2   5  ablaze  birmingham  all residents asked to  shelter in place  are ...   \n",
       "3   6  ablaze  birmingham         people receive  wildfires evacuation or...   \n",
       "4   7  ablaze  birmingham  just got sent this photo from ruby  alaska as ...   \n",
       "\n",
       "   target  \n",
       "0       1  \n",
       "1       1  \n",
       "2       1  \n",
       "3       1  \n",
       "4       1  "
      ]
     },
     "execution_count": 9,
     "metadata": {},
     "output_type": "execute_result"
    }
   ],
   "source": [
    "# Apply clean_data function to the keyword and location columns\n",
    "columns = ['keyword', 'location', 'text']\n",
    "trainset[columns] = trainset[columns].apply(lambda x: clean_text(x))\n",
    "testset[columns] = testset[columns].apply(lambda x: clean_text(x))\n",
    "\n",
    "trainset.head()"
   ]
  },
  {
   "cell_type": "markdown",
   "id": "653e1b70",
   "metadata": {},
   "source": [
    "### Remove unnecesarry features\n",
    "In this paragraph, we'll remove unnecesarry features from our dataset. This will be the `id` column"
   ]
  },
  {
   "cell_type": "code",
   "execution_count": 10,
   "id": "217678fd",
   "metadata": {},
   "outputs": [
    {
     "data": {
      "text/html": [
       "<div>\n",
       "<style scoped>\n",
       "    .dataframe tbody tr th:only-of-type {\n",
       "        vertical-align: middle;\n",
       "    }\n",
       "\n",
       "    .dataframe tbody tr th {\n",
       "        vertical-align: top;\n",
       "    }\n",
       "\n",
       "    .dataframe thead th {\n",
       "        text-align: right;\n",
       "    }\n",
       "</style>\n",
       "<table border=\"1\" class=\"dataframe\">\n",
       "  <thead>\n",
       "    <tr style=\"text-align: right;\">\n",
       "      <th></th>\n",
       "      <th>keyword</th>\n",
       "      <th>location</th>\n",
       "      <th>text</th>\n",
       "      <th>target</th>\n",
       "    </tr>\n",
       "  </thead>\n",
       "  <tbody>\n",
       "    <tr>\n",
       "      <th>0</th>\n",
       "      <td>ablaze</td>\n",
       "      <td>birmingham</td>\n",
       "      <td>our deeds are the reason of this  earthquake m...</td>\n",
       "      <td>1</td>\n",
       "    </tr>\n",
       "    <tr>\n",
       "      <th>1</th>\n",
       "      <td>ablaze</td>\n",
       "      <td>birmingham</td>\n",
       "      <td>forest fire near la ronge sask  canada</td>\n",
       "      <td>1</td>\n",
       "    </tr>\n",
       "    <tr>\n",
       "      <th>2</th>\n",
       "      <td>ablaze</td>\n",
       "      <td>birmingham</td>\n",
       "      <td>all residents asked to  shelter in place  are ...</td>\n",
       "      <td>1</td>\n",
       "    </tr>\n",
       "    <tr>\n",
       "      <th>3</th>\n",
       "      <td>ablaze</td>\n",
       "      <td>birmingham</td>\n",
       "      <td>people receive  wildfires evacuation or...</td>\n",
       "      <td>1</td>\n",
       "    </tr>\n",
       "    <tr>\n",
       "      <th>4</th>\n",
       "      <td>ablaze</td>\n",
       "      <td>birmingham</td>\n",
       "      <td>just got sent this photo from ruby  alaska as ...</td>\n",
       "      <td>1</td>\n",
       "    </tr>\n",
       "  </tbody>\n",
       "</table>\n",
       "</div>"
      ],
      "text/plain": [
       "  keyword    location                                               text  \\\n",
       "0  ablaze  birmingham  our deeds are the reason of this  earthquake m...   \n",
       "1  ablaze  birmingham             forest fire near la ronge sask  canada   \n",
       "2  ablaze  birmingham  all residents asked to  shelter in place  are ...   \n",
       "3  ablaze  birmingham         people receive  wildfires evacuation or...   \n",
       "4  ablaze  birmingham  just got sent this photo from ruby  alaska as ...   \n",
       "\n",
       "   target  \n",
       "0       1  \n",
       "1       1  \n",
       "2       1  \n",
       "3       1  \n",
       "4       1  "
      ]
     },
     "execution_count": 10,
     "metadata": {},
     "output_type": "execute_result"
    }
   ],
   "source": [
    "trainset_clean = trainset.drop('id', axis = 1)\n",
    "testset_clean = testset.drop('id', axis = 1)\n",
    "trainset_clean.head()"
   ]
  },
  {
   "cell_type": "markdown",
   "id": "b21a86a8",
   "metadata": {},
   "source": [
    "## Creating new features\n",
    "In this paragraph, we'll add new features to the dataset. This is done in order to increase the input for the model training and testing. We'll add the following features:\n",
    "- Number of tokens used in tweet: n_tokens\n",
    "- Language of the tweet: language\n",
    "- Length of keyword: len_keyword\n",
    "\n",
    "### Number of tokens used in tweet: n_tokens"
   ]
  },
  {
   "cell_type": "code",
   "execution_count": 12,
   "id": "07544f1d",
   "metadata": {},
   "outputs": [
    {
     "data": {
      "text/html": [
       "<div>\n",
       "<style scoped>\n",
       "    .dataframe tbody tr th:only-of-type {\n",
       "        vertical-align: middle;\n",
       "    }\n",
       "\n",
       "    .dataframe tbody tr th {\n",
       "        vertical-align: top;\n",
       "    }\n",
       "\n",
       "    .dataframe thead th {\n",
       "        text-align: right;\n",
       "    }\n",
       "</style>\n",
       "<table border=\"1\" class=\"dataframe\">\n",
       "  <thead>\n",
       "    <tr style=\"text-align: right;\">\n",
       "      <th></th>\n",
       "      <th>keyword</th>\n",
       "      <th>location</th>\n",
       "      <th>text</th>\n",
       "      <th>target</th>\n",
       "      <th>n_tokens</th>\n",
       "    </tr>\n",
       "  </thead>\n",
       "  <tbody>\n",
       "    <tr>\n",
       "      <th>0</th>\n",
       "      <td>ablaze</td>\n",
       "      <td>birmingham</td>\n",
       "      <td>our deeds are the reason of this  earthquake m...</td>\n",
       "      <td>1</td>\n",
       "      <td>13</td>\n",
       "    </tr>\n",
       "    <tr>\n",
       "      <th>1</th>\n",
       "      <td>ablaze</td>\n",
       "      <td>birmingham</td>\n",
       "      <td>forest fire near la ronge sask  canada</td>\n",
       "      <td>1</td>\n",
       "      <td>7</td>\n",
       "    </tr>\n",
       "    <tr>\n",
       "      <th>2</th>\n",
       "      <td>ablaze</td>\n",
       "      <td>birmingham</td>\n",
       "      <td>all residents asked to  shelter in place  are ...</td>\n",
       "      <td>1</td>\n",
       "      <td>22</td>\n",
       "    </tr>\n",
       "    <tr>\n",
       "      <th>3</th>\n",
       "      <td>ablaze</td>\n",
       "      <td>birmingham</td>\n",
       "      <td>people receive  wildfires evacuation or...</td>\n",
       "      <td>1</td>\n",
       "      <td>7</td>\n",
       "    </tr>\n",
       "    <tr>\n",
       "      <th>4</th>\n",
       "      <td>ablaze</td>\n",
       "      <td>birmingham</td>\n",
       "      <td>just got sent this photo from ruby  alaska as ...</td>\n",
       "      <td>1</td>\n",
       "      <td>16</td>\n",
       "    </tr>\n",
       "  </tbody>\n",
       "</table>\n",
       "</div>"
      ],
      "text/plain": [
       "  keyword    location                                               text  \\\n",
       "0  ablaze  birmingham  our deeds are the reason of this  earthquake m...   \n",
       "1  ablaze  birmingham             forest fire near la ronge sask  canada   \n",
       "2  ablaze  birmingham  all residents asked to  shelter in place  are ...   \n",
       "3  ablaze  birmingham         people receive  wildfires evacuation or...   \n",
       "4  ablaze  birmingham  just got sent this photo from ruby  alaska as ...   \n",
       "\n",
       "   target  n_tokens  \n",
       "0       1        13  \n",
       "1       1         7  \n",
       "2       1        22  \n",
       "3       1         7  \n",
       "4       1        16  "
      ]
     },
     "execution_count": 12,
     "metadata": {},
     "output_type": "execute_result"
    }
   ],
   "source": [
    "# Create n_tokens feature using regex\n",
    "trainset_clean['n_tokens'] = [len(regexp_tokenize(line, '\\w+')) for line in trainset_clean.text]\n",
    "testset_clean['n_tokens'] = [len(regexp_tokenize(line, '\\w+')) for line in testset_clean.text]\n",
    "\n",
    "trainset_clean.head()"
   ]
  },
  {
   "cell_type": "markdown",
   "id": "3126f7cb",
   "metadata": {},
   "source": [
    "### Language of the tweet: language"
   ]
  },
  {
   "cell_type": "code",
   "execution_count": 20,
   "id": "a4d5d663",
   "metadata": {},
   "outputs": [],
   "source": [
    "# Create function for creating language features\n",
    "def language(series):\n",
    "# Create empty list: languages\n",
    "    languages = []\n",
    "    \n",
    "# Detect the langauge of each review using detect\n",
    "    for i in series:\n",
    "        lang = detect(i)\n",
    "        languages.append(lang)\n",
    "    \n",
    "    return languages"
   ]
  },
  {
   "cell_type": "code",
   "execution_count": 22,
   "id": "523091b8",
   "metadata": {
    "scrolled": true
   },
   "outputs": [
    {
     "data": {
      "text/html": [
       "<div>\n",
       "<style scoped>\n",
       "    .dataframe tbody tr th:only-of-type {\n",
       "        vertical-align: middle;\n",
       "    }\n",
       "\n",
       "    .dataframe tbody tr th {\n",
       "        vertical-align: top;\n",
       "    }\n",
       "\n",
       "    .dataframe thead th {\n",
       "        text-align: right;\n",
       "    }\n",
       "</style>\n",
       "<table border=\"1\" class=\"dataframe\">\n",
       "  <thead>\n",
       "    <tr style=\"text-align: right;\">\n",
       "      <th></th>\n",
       "      <th>keyword</th>\n",
       "      <th>location</th>\n",
       "      <th>text</th>\n",
       "      <th>n_tokens</th>\n",
       "      <th>language</th>\n",
       "    </tr>\n",
       "  </thead>\n",
       "  <tbody>\n",
       "    <tr>\n",
       "      <th>0</th>\n",
       "      <td>ablaze</td>\n",
       "      <td>london</td>\n",
       "      <td>just happened a terrible car crash</td>\n",
       "      <td>6</td>\n",
       "      <td>en</td>\n",
       "    </tr>\n",
       "    <tr>\n",
       "      <th>1</th>\n",
       "      <td>ablaze</td>\n",
       "      <td>london</td>\n",
       "      <td>heard about  earthquake is different cities  s...</td>\n",
       "      <td>9</td>\n",
       "      <td>en</td>\n",
       "    </tr>\n",
       "    <tr>\n",
       "      <th>2</th>\n",
       "      <td>ablaze</td>\n",
       "      <td>london</td>\n",
       "      <td>there is a forest fire at spot pond  geese are...</td>\n",
       "      <td>19</td>\n",
       "      <td>en</td>\n",
       "    </tr>\n",
       "    <tr>\n",
       "      <th>3</th>\n",
       "      <td>ablaze</td>\n",
       "      <td>london</td>\n",
       "      <td>apocalypse lighting   spokane  wildfires</td>\n",
       "      <td>4</td>\n",
       "      <td>en</td>\n",
       "    </tr>\n",
       "    <tr>\n",
       "      <th>4</th>\n",
       "      <td>ablaze</td>\n",
       "      <td>london</td>\n",
       "      <td>typhoon soudelor kills    in china and taiwan</td>\n",
       "      <td>7</td>\n",
       "      <td>en</td>\n",
       "    </tr>\n",
       "  </tbody>\n",
       "</table>\n",
       "</div>"
      ],
      "text/plain": [
       "  keyword location                                               text  \\\n",
       "0  ablaze   london                 just happened a terrible car crash   \n",
       "1  ablaze   london  heard about  earthquake is different cities  s...   \n",
       "2  ablaze   london  there is a forest fire at spot pond  geese are...   \n",
       "3  ablaze   london           apocalypse lighting   spokane  wildfires   \n",
       "4  ablaze   london      typhoon soudelor kills    in china and taiwan   \n",
       "\n",
       "   n_tokens language  \n",
       "0         6       en  \n",
       "1         9       en  \n",
       "2        19       en  \n",
       "3         4       en  \n",
       "4         7       en  "
      ]
     },
     "execution_count": 22,
     "metadata": {},
     "output_type": "execute_result"
    }
   ],
   "source": [
    "trainset_clean['language'] = language(trainset_clean.text)\n",
    "testset_clean['language'] = language(testset_clean.text)\n",
    "testset_clean.head()"
   ]
  },
  {
   "cell_type": "markdown",
   "id": "9dfb7861",
   "metadata": {},
   "source": [
    "### Length of keyword: len_keyword"
   ]
  },
  {
   "cell_type": "code",
   "execution_count": 30,
   "id": "d4aae17e",
   "metadata": {
    "scrolled": true
   },
   "outputs": [
    {
     "data": {
      "text/plain": [
       "array([ 6,  8, 10, 19,  9, 11, 12,  4,  5,  7, 14, 17, 21, 20, 16, 18, 13,\n",
       "       15], dtype=int64)"
      ]
     },
     "execution_count": 30,
     "metadata": {},
     "output_type": "execute_result"
    }
   ],
   "source": [
    "# Create column that takes the length of each keyword: len_keyword\n",
    "trainset_clean[\"len_keyword\"] = trainset_clean.keyword.apply(lambda x: len(x))\n",
    "testset_clean[\"len_keyword\"] = testset_clean.keyword.apply(lambda x: len(x))"
   ]
  },
  {
   "cell_type": "markdown",
   "id": "68864848",
   "metadata": {},
   "source": [
    "## Vectorizer \n",
    "Use the alternative of CountVectorizer"
   ]
  },
  {
   "cell_type": "markdown",
   "id": "fa9bfaf9",
   "metadata": {},
   "source": [
    "# Data analysis"
   ]
  },
  {
   "cell_type": "code",
   "execution_count": null,
   "id": "fe2e649e",
   "metadata": {},
   "outputs": [],
   "source": []
  },
  {
   "cell_type": "markdown",
   "id": "540153e8",
   "metadata": {},
   "source": [
    "## Data visualization\n",
    "Things to explore:\n",
    "- distribution of targets\n",
    "- word cloud of keywords\n",
    "- "
   ]
  },
  {
   "cell_type": "code",
   "execution_count": null,
   "id": "c9712f79",
   "metadata": {},
   "outputs": [],
   "source": []
  },
  {
   "cell_type": "markdown",
   "id": "b2e6d437",
   "metadata": {},
   "source": [
    "## Relationships between the data\n",
    "Using hypothesis testing.\n",
    "Possible relationships:\n",
    "- N_tokens and target\n",
    "- language and n_token\n",
    "- language and target\n",
    "- n_tokens and location"
   ]
  },
  {
   "cell_type": "code",
   "execution_count": null,
   "id": "3a465083",
   "metadata": {},
   "outputs": [],
   "source": []
  },
  {
   "cell_type": "markdown",
   "id": "f26a4102",
   "metadata": {},
   "source": [
    "# Models\n",
    "Intro, model building and training\n",
    "## Model building\n",
    "Models to use:\n",
    "- MultinomialNB\n",
    "- Neural Network using keras\n",
    "- Support Vector Machine"
   ]
  },
  {
   "cell_type": "code",
   "execution_count": null,
   "id": "32c92886",
   "metadata": {},
   "outputs": [],
   "source": []
  },
  {
   "cell_type": "markdown",
   "id": "c1bf095f",
   "metadata": {},
   "source": [
    "# Model training\n",
    "Train on validation set"
   ]
  },
  {
   "cell_type": "code",
   "execution_count": null,
   "id": "3a465c4a",
   "metadata": {},
   "outputs": [],
   "source": []
  },
  {
   "cell_type": "markdown",
   "id": "dfd694f9",
   "metadata": {},
   "source": [
    "## Model evaluation"
   ]
  },
  {
   "cell_type": "code",
   "execution_count": null,
   "id": "ce82f7ff",
   "metadata": {},
   "outputs": [],
   "source": []
  },
  {
   "cell_type": "markdown",
   "id": "58348b59",
   "metadata": {},
   "source": [
    "## Findings"
   ]
  },
  {
   "cell_type": "code",
   "execution_count": null,
   "id": "c9c171b2",
   "metadata": {},
   "outputs": [],
   "source": []
  },
  {
   "cell_type": "markdown",
   "id": "62985262",
   "metadata": {},
   "source": [
    "# Model selection and final training"
   ]
  },
  {
   "cell_type": "code",
   "execution_count": null,
   "id": "63100b8f",
   "metadata": {},
   "outputs": [],
   "source": []
  },
  {
   "cell_type": "markdown",
   "id": "2fc9c108",
   "metadata": {},
   "source": [
    "# Conclusion\n",
    "Draw major findings:\n",
    "- Relationships: both visual and hypothesis testing\n",
    "- Other findings from visualizations\n",
    "- Evaluation from models"
   ]
  }
 ],
 "metadata": {
  "kernelspec": {
   "display_name": "Python 3 (ipykernel)",
   "language": "python",
   "name": "python3"
  },
  "language_info": {
   "codemirror_mode": {
    "name": "ipython",
    "version": 3
   },
   "file_extension": ".py",
   "mimetype": "text/x-python",
   "name": "python",
   "nbconvert_exporter": "python",
   "pygments_lexer": "ipython3",
   "version": "3.9.7"
  }
 },
 "nbformat": 4,
 "nbformat_minor": 5
}

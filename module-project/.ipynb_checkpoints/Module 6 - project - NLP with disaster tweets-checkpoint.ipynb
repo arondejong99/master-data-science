{
 "cells": [
  {
   "cell_type": "markdown",
   "id": "c2e0b8e1",
   "metadata": {},
   "source": [
    "# Introduction\n",
    "In this exercise, we're going to do Natural Language Processing (NLP) regarding disaster tweets. The data used for this is retrieved at the following [link](https://www.kaggle.com/c/nlp-getting-started/overview). "
   ]
  },
  {
   "cell_type": "code",
   "execution_count": 1,
   "id": "f7145472",
   "metadata": {
    "scrolled": false
   },
   "outputs": [],
   "source": [
    "# Install wordcloud, keras and tensorflow if you haven't already\n",
    "#!pip install wordcloud\n",
    "#!pip install keras\n",
    "#!pip install tensorflow"
   ]
  },
  {
   "cell_type": "code",
   "execution_count": 161,
   "id": "c44b37b2",
   "metadata": {},
   "outputs": [],
   "source": [
    "# Importing the necessary modules\n",
    "import pandas as pd\n",
    "import numpy as np\n",
    "import matplotlib.pyplot as plt\n",
    "import seaborn as sns\n",
    "from nltk.tokenize.regexp import regexp_tokenize\n",
    "from langdetect import detect\n",
    "from sklearn.naive_bayes import MultinomialNB\n",
    "from sklearn.metrics import accuracy_score, confusion_matrix, precision_score, recall_score, f1_score\n",
    "from sklearn.model_selection import train_test_split, GridSearchCV\n",
    "from sklearn.linear_model import LogisticRegression\n",
    "from sklearn.feature_extraction.text import TfidfVectorizer\n",
    "from sklearn.preprocessing import LabelEncoder, OneHotEncoder\n",
    "from sklearn.svm import SVC\n",
    "from sklearn.neighbors import KNeighborsClassifier\n",
    "from wordcloud import WordCloud\n",
    "import scipy.stats as stats\n",
    "import random\n",
    "import re\n",
    "import keras\n",
    "from keras.layers import Dense\n",
    "from keras.models import Sequential\n",
    "from keras.utils import to_categorical\n",
    "from keras.callbacks import EarlyStopping\n"
   ]
  },
  {
   "cell_type": "markdown",
   "id": "42bcdd84",
   "metadata": {},
   "source": [
    "# Data preparation\n",
    "In this chapter, the data will be imported and cleaned to make it ready for our data analysis\n",
    "\n",
    "## Data import"
   ]
  },
  {
   "cell_type": "code",
   "execution_count": 272,
   "id": "939fbbe2",
   "metadata": {},
   "outputs": [
    {
     "data": {
      "text/html": [
       "<div>\n",
       "<style scoped>\n",
       "    .dataframe tbody tr th:only-of-type {\n",
       "        vertical-align: middle;\n",
       "    }\n",
       "\n",
       "    .dataframe tbody tr th {\n",
       "        vertical-align: top;\n",
       "    }\n",
       "\n",
       "    .dataframe thead th {\n",
       "        text-align: right;\n",
       "    }\n",
       "</style>\n",
       "<table border=\"1\" class=\"dataframe\">\n",
       "  <thead>\n",
       "    <tr style=\"text-align: right;\">\n",
       "      <th></th>\n",
       "      <th>id</th>\n",
       "      <th>keyword</th>\n",
       "      <th>location</th>\n",
       "      <th>text</th>\n",
       "      <th>target</th>\n",
       "    </tr>\n",
       "  </thead>\n",
       "  <tbody>\n",
       "    <tr>\n",
       "      <th>0</th>\n",
       "      <td>1</td>\n",
       "      <td>NaN</td>\n",
       "      <td>NaN</td>\n",
       "      <td>Our Deeds are the Reason of this #earthquake M...</td>\n",
       "      <td>1</td>\n",
       "    </tr>\n",
       "    <tr>\n",
       "      <th>1</th>\n",
       "      <td>4</td>\n",
       "      <td>NaN</td>\n",
       "      <td>NaN</td>\n",
       "      <td>Forest fire near La Ronge Sask. Canada</td>\n",
       "      <td>1</td>\n",
       "    </tr>\n",
       "    <tr>\n",
       "      <th>2</th>\n",
       "      <td>5</td>\n",
       "      <td>NaN</td>\n",
       "      <td>NaN</td>\n",
       "      <td>All residents asked to 'shelter in place' are ...</td>\n",
       "      <td>1</td>\n",
       "    </tr>\n",
       "    <tr>\n",
       "      <th>3</th>\n",
       "      <td>6</td>\n",
       "      <td>NaN</td>\n",
       "      <td>NaN</td>\n",
       "      <td>13,000 people receive #wildfires evacuation or...</td>\n",
       "      <td>1</td>\n",
       "    </tr>\n",
       "    <tr>\n",
       "      <th>4</th>\n",
       "      <td>7</td>\n",
       "      <td>NaN</td>\n",
       "      <td>NaN</td>\n",
       "      <td>Just got sent this photo from Ruby #Alaska as ...</td>\n",
       "      <td>1</td>\n",
       "    </tr>\n",
       "  </tbody>\n",
       "</table>\n",
       "</div>"
      ],
      "text/plain": [
       "   id keyword location                                               text  \\\n",
       "0   1     NaN      NaN  Our Deeds are the Reason of this #earthquake M...   \n",
       "1   4     NaN      NaN             Forest fire near La Ronge Sask. Canada   \n",
       "2   5     NaN      NaN  All residents asked to 'shelter in place' are ...   \n",
       "3   6     NaN      NaN  13,000 people receive #wildfires evacuation or...   \n",
       "4   7     NaN      NaN  Just got sent this photo from Ruby #Alaska as ...   \n",
       "\n",
       "   target  \n",
       "0       1  \n",
       "1       1  \n",
       "2       1  \n",
       "3       1  \n",
       "4       1  "
      ]
     },
     "execution_count": 272,
     "metadata": {},
     "output_type": "execute_result"
    }
   ],
   "source": [
    "# Import the data using pandas\n",
    "trainset = pd.read_csv(\"train.csv\")\n",
    "testset = pd.read_csv(\"test.csv\")\n",
    "\n",
    "trainset.head()"
   ]
  },
  {
   "cell_type": "markdown",
   "id": "e1efb9b1",
   "metadata": {},
   "source": [
    "## Cleaning\n",
    "In this paragraph, we'll clean the two datasets. We'll do that by performing the next steps:\n",
    "- Dealing with null values\n",
    "- Cleaning text for keyword and location column\n",
    "- Cleaning text data (remove url, HTMLs, emojies, hastags)\n",
    "- Remove unnecessary features"
   ]
  },
  {
   "cell_type": "code",
   "execution_count": 273,
   "id": "8c2ba1e3",
   "metadata": {
    "scrolled": false
   },
   "outputs": [
    {
     "name": "stdout",
     "output_type": "stream",
     "text": [
      "<class 'pandas.core.frame.DataFrame'>\n",
      "RangeIndex: 7613 entries, 0 to 7612\n",
      "Data columns (total 5 columns):\n",
      " #   Column    Non-Null Count  Dtype \n",
      "---  ------    --------------  ----- \n",
      " 0   id        7613 non-null   int64 \n",
      " 1   keyword   7552 non-null   object\n",
      " 2   location  5080 non-null   object\n",
      " 3   text      7613 non-null   object\n",
      " 4   target    7613 non-null   int64 \n",
      "dtypes: int64(2), object(3)\n",
      "memory usage: 297.5+ KB\n"
     ]
    },
    {
     "data": {
      "text/plain": [
       "None"
      ]
     },
     "metadata": {},
     "output_type": "display_data"
    },
    {
     "name": "stdout",
     "output_type": "stream",
     "text": [
      "<class 'pandas.core.frame.DataFrame'>\n",
      "RangeIndex: 3263 entries, 0 to 3262\n",
      "Data columns (total 4 columns):\n",
      " #   Column    Non-Null Count  Dtype \n",
      "---  ------    --------------  ----- \n",
      " 0   id        3263 non-null   int64 \n",
      " 1   keyword   3237 non-null   object\n",
      " 2   location  2158 non-null   object\n",
      " 3   text      3263 non-null   object\n",
      "dtypes: int64(1), object(3)\n",
      "memory usage: 102.1+ KB\n"
     ]
    },
    {
     "data": {
      "text/plain": [
       "None"
      ]
     },
     "metadata": {},
     "output_type": "display_data"
    }
   ],
   "source": [
    "# Check the datasets using the info method\n",
    "display(trainset.info())\n",
    "display(testset.info())"
   ]
  },
  {
   "cell_type": "markdown",
   "id": "c0035a96",
   "metadata": {},
   "source": [
    "### Dealing with null values"
   ]
  },
  {
   "cell_type": "code",
   "execution_count": 5,
   "id": "69bd36de",
   "metadata": {},
   "outputs": [
    {
     "name": "stdout",
     "output_type": "stream",
     "text": [
      "Null values per column for the train set :\n",
      "id             0\n",
      "keyword       61\n",
      "location    2533\n",
      "text           0\n",
      "target         0\n",
      "dtype: int64\n",
      "Null values per column for the test set:\n",
      "id             0\n",
      "keyword       26\n",
      "location    1105\n",
      "text           0\n",
      "dtype: int64\n"
     ]
    }
   ],
   "source": [
    "print(f\"Null values per column for the train set :\\n{trainset.isnull().sum()}\")\n",
    "print(f\"Null values per column for the test set:\\n{testset.isnull().sum()}\")"
   ]
  },
  {
   "cell_type": "code",
   "execution_count": 6,
   "id": "1af4a690",
   "metadata": {},
   "outputs": [
    {
     "name": "stdout",
     "output_type": "stream",
     "text": [
      "Null values percentage per column for the train set :\n",
      "id          0.000000\n",
      "keyword     0.008013\n",
      "location    0.332720\n",
      "text        0.000000\n",
      "target      0.000000\n",
      "dtype: float64\n",
      "Null values percentage per column for the test set:\n",
      "id          0.000000\n",
      "keyword     0.007968\n",
      "location    0.338645\n",
      "text        0.000000\n",
      "dtype: float64\n"
     ]
    }
   ],
   "source": [
    "# Check percentage of null values per column for both datasets\n",
    "print(f\"Null values percentage per column for the train set :\\n{trainset.isnull().sum() / trainset.shape[0]}\")\n",
    "print(f\"Null values percentage per column for the test set:\\n{testset.isnull().sum() / testset.shape[0]}\")"
   ]
  },
  {
   "cell_type": "markdown",
   "id": "385c82da",
   "metadata": {},
   "source": [
    "What we see here is that for both train and test set, there are two columns with null values: `location` and `keyword`. For the location column, around 1/3th of the column has no values, whilst the keyword column only has about 0.8 percent of missing data. Since their're both text columns with lots of variety, our choice is to create two distinct columns: has_location and has_keyword. This data will be used for the training."
   ]
  },
  {
   "cell_type": "code",
   "execution_count": 282,
   "id": "0bce2d60",
   "metadata": {},
   "outputs": [
    {
     "name": "stdout",
     "output_type": "stream",
     "text": [
      "Null values per column for the train set :\n",
      "id              0\n",
      "keyword         0\n",
      "location        0\n",
      "text            0\n",
      "target          0\n",
      "has_location    0\n",
      "has_keyword     0\n",
      "dtype: int64\n",
      "Null values per column for the test set:\n",
      "id              0\n",
      "keyword         0\n",
      "location        0\n",
      "text            0\n",
      "has_location    0\n",
      "has_keyword     0\n",
      "dtype: int64\n"
     ]
    }
   ],
   "source": [
    "# Create two new columns for both train and test set\n",
    "\n",
    "trainset['has_location'] = np.where(trainset.location.isnull(), 0, 1)\n",
    "trainset['has_keyword'] = np.where(trainset.keyword.isnull(), 0, 1)\n",
    "                                   \n",
    "testset['has_location'] = np.where(testset.location.isnull(), 0, 1)\n",
    "testset['has_keyword'] = np.where(testset.keyword.isnull(), 0, 1)                              \n",
    "                                    \n",
    "# Fill the na values with the bfill method\n",
    "trainset = trainset.bfill(axis = 'rows')\n",
    "testset = testset.bfill(axis = 'rows')\n",
    "\n",
    "# Fill the na values with the ffill method\n",
    "trainset = trainset.ffill(axis = 'rows')\n",
    "testset = testset.ffill(axis = 'rows')\n",
    "\n",
    "# Print the null values per column to see if the fill method worked\n",
    "print(f\"Null values per column for the train set :\\n{trainset.isnull().sum()}\")\n",
    "print(f\"Null values per column for the test set:\\n{testset.isnull().sum()}\")"
   ]
  },
  {
   "cell_type": "markdown",
   "id": "8a3bc438",
   "metadata": {},
   "source": [
    "### Cleaning text for keyword and location column"
   ]
  },
  {
   "cell_type": "code",
   "execution_count": 8,
   "id": "91f12d2b",
   "metadata": {},
   "outputs": [],
   "source": [
    "# Create a function that clean the text columns: clean_text\n",
    "def clean_text(series):\n",
    "    # Lower to lowercase for each word\n",
    "    series = series.apply(lambda x: x.lower())\n",
    "    \n",
    "    # Remove numbers\n",
    "    pattern = r\"[0-9]\"\n",
    "    series = series.apply(lambda x: re.sub(pattern, ' ', x))\n",
    "    \n",
    "    # Remove special character\n",
    "    pattern = r\"[^a-zA-Z0-9]\"\n",
    "    series = series.apply(lambda x: re.sub(pattern, ' ', x))\n",
    "    \n",
    "    # Remove URLs\n",
    "    pattern = r'http\\S+'\n",
    "    series = series.apply(lambda x: re.sub(pattern, ' ', x))\n",
    "    \n",
    "    # Remove emojies\n",
    "    emoji_pattern = re.compile(\"[\"\n",
    "                               u\"\\U0001F600-\\U0001F64F\"  # emoticons\n",
    "                               u\"\\U0001F300-\\U0001F5FF\"  # symbols & pictographs\n",
    "                               u\"\\U0001F680-\\U0001F6FF\"  # transport & map symbols\n",
    "                               u\"\\U0001F1E0-\\U0001F1FF\"  # flags (iOS)\n",
    "                           \"]+\", flags=re.UNICODE)\n",
    "    \n",
    "    series = series.apply(lambda x: emoji_pattern.sub(r' emoji ', x))\n",
    "    \n",
    "    return series"
   ]
  },
  {
   "cell_type": "code",
   "execution_count": 284,
   "id": "387342b0",
   "metadata": {},
   "outputs": [
    {
     "name": "stdout",
     "output_type": "stream",
     "text": [
      "<class 'pandas.core.frame.DataFrame'>\n",
      "RangeIndex: 7613 entries, 0 to 7612\n",
      "Data columns (total 7 columns):\n",
      " #   Column        Non-Null Count  Dtype \n",
      "---  ------        --------------  ----- \n",
      " 0   id            7613 non-null   int64 \n",
      " 1   keyword       7613 non-null   object\n",
      " 2   location      7613 non-null   object\n",
      " 3   text          7613 non-null   object\n",
      " 4   target        7613 non-null   int64 \n",
      " 5   has_location  7613 non-null   int32 \n",
      " 6   has_keyword   7613 non-null   int32 \n",
      "dtypes: int32(2), int64(2), object(3)\n",
      "memory usage: 357.0+ KB\n"
     ]
    }
   ],
   "source": [
    "# Apply clean_data function to the keyword and location columns\n",
    "columns = ['keyword', 'location', 'text']\n",
    "trainset[columns] = trainset[columns].apply(lambda x: clean_text(x))\n",
    "testset[columns] = testset[columns].apply(lambda x: clean_text(x))\n",
    "\n",
    "trainset.info()"
   ]
  },
  {
   "cell_type": "markdown",
   "id": "653e1b70",
   "metadata": {},
   "source": [
    "### Remove unnecesarry features\n",
    "In this paragraph, we'll remove unnecesarry features from our dataset. This will be the `id` column"
   ]
  },
  {
   "cell_type": "code",
   "execution_count": 285,
   "id": "217678fd",
   "metadata": {},
   "outputs": [
    {
     "data": {
      "text/html": [
       "<div>\n",
       "<style scoped>\n",
       "    .dataframe tbody tr th:only-of-type {\n",
       "        vertical-align: middle;\n",
       "    }\n",
       "\n",
       "    .dataframe tbody tr th {\n",
       "        vertical-align: top;\n",
       "    }\n",
       "\n",
       "    .dataframe thead th {\n",
       "        text-align: right;\n",
       "    }\n",
       "</style>\n",
       "<table border=\"1\" class=\"dataframe\">\n",
       "  <thead>\n",
       "    <tr style=\"text-align: right;\">\n",
       "      <th></th>\n",
       "      <th>keyword</th>\n",
       "      <th>location</th>\n",
       "      <th>text</th>\n",
       "      <th>target</th>\n",
       "      <th>has_location</th>\n",
       "      <th>has_keyword</th>\n",
       "    </tr>\n",
       "  </thead>\n",
       "  <tbody>\n",
       "    <tr>\n",
       "      <th>0</th>\n",
       "      <td>ablaze</td>\n",
       "      <td>birmingham</td>\n",
       "      <td>our deeds are the reason of this  earthquake m...</td>\n",
       "      <td>1</td>\n",
       "      <td>0</td>\n",
       "      <td>0</td>\n",
       "    </tr>\n",
       "    <tr>\n",
       "      <th>1</th>\n",
       "      <td>ablaze</td>\n",
       "      <td>birmingham</td>\n",
       "      <td>forest fire near la ronge sask  canada</td>\n",
       "      <td>1</td>\n",
       "      <td>0</td>\n",
       "      <td>0</td>\n",
       "    </tr>\n",
       "    <tr>\n",
       "      <th>2</th>\n",
       "      <td>ablaze</td>\n",
       "      <td>birmingham</td>\n",
       "      <td>all residents asked to  shelter in place  are ...</td>\n",
       "      <td>1</td>\n",
       "      <td>0</td>\n",
       "      <td>0</td>\n",
       "    </tr>\n",
       "    <tr>\n",
       "      <th>3</th>\n",
       "      <td>ablaze</td>\n",
       "      <td>birmingham</td>\n",
       "      <td>people receive  wildfires evacuation or...</td>\n",
       "      <td>1</td>\n",
       "      <td>0</td>\n",
       "      <td>0</td>\n",
       "    </tr>\n",
       "    <tr>\n",
       "      <th>4</th>\n",
       "      <td>ablaze</td>\n",
       "      <td>birmingham</td>\n",
       "      <td>just got sent this photo from ruby  alaska as ...</td>\n",
       "      <td>1</td>\n",
       "      <td>0</td>\n",
       "      <td>0</td>\n",
       "    </tr>\n",
       "  </tbody>\n",
       "</table>\n",
       "</div>"
      ],
      "text/plain": [
       "  keyword    location                                               text  \\\n",
       "0  ablaze  birmingham  our deeds are the reason of this  earthquake m...   \n",
       "1  ablaze  birmingham             forest fire near la ronge sask  canada   \n",
       "2  ablaze  birmingham  all residents asked to  shelter in place  are ...   \n",
       "3  ablaze  birmingham         people receive  wildfires evacuation or...   \n",
       "4  ablaze  birmingham  just got sent this photo from ruby  alaska as ...   \n",
       "\n",
       "   target  has_location  has_keyword  \n",
       "0       1             0            0  \n",
       "1       1             0            0  \n",
       "2       1             0            0  \n",
       "3       1             0            0  \n",
       "4       1             0            0  "
      ]
     },
     "execution_count": 285,
     "metadata": {},
     "output_type": "execute_result"
    }
   ],
   "source": [
    "trainset_clean = trainset.drop('id', axis = 1)\n",
    "testset_clean = testset.drop('id', axis = 1)\n",
    "trainset_clean.head()"
   ]
  },
  {
   "cell_type": "markdown",
   "id": "b21a86a8",
   "metadata": {},
   "source": [
    "## Creating new features\n",
    "In this paragraph, we'll add new features to the dataset. This is done in order to increase the input for the model training and testing. We'll add the following features:\n",
    "- Number of tokens used in tweet: n_tokens\n",
    "- Language of the tweet: language\n",
    "\n",
    "### Number of tokens used in tweet: n_tokens"
   ]
  },
  {
   "cell_type": "code",
   "execution_count": 286,
   "id": "07544f1d",
   "metadata": {},
   "outputs": [
    {
     "data": {
      "text/html": [
       "<div>\n",
       "<style scoped>\n",
       "    .dataframe tbody tr th:only-of-type {\n",
       "        vertical-align: middle;\n",
       "    }\n",
       "\n",
       "    .dataframe tbody tr th {\n",
       "        vertical-align: top;\n",
       "    }\n",
       "\n",
       "    .dataframe thead th {\n",
       "        text-align: right;\n",
       "    }\n",
       "</style>\n",
       "<table border=\"1\" class=\"dataframe\">\n",
       "  <thead>\n",
       "    <tr style=\"text-align: right;\">\n",
       "      <th></th>\n",
       "      <th>keyword</th>\n",
       "      <th>location</th>\n",
       "      <th>text</th>\n",
       "      <th>target</th>\n",
       "      <th>has_location</th>\n",
       "      <th>has_keyword</th>\n",
       "      <th>n_tokens</th>\n",
       "    </tr>\n",
       "  </thead>\n",
       "  <tbody>\n",
       "    <tr>\n",
       "      <th>0</th>\n",
       "      <td>ablaze</td>\n",
       "      <td>birmingham</td>\n",
       "      <td>our deeds are the reason of this  earthquake m...</td>\n",
       "      <td>1</td>\n",
       "      <td>0</td>\n",
       "      <td>0</td>\n",
       "      <td>13</td>\n",
       "    </tr>\n",
       "    <tr>\n",
       "      <th>1</th>\n",
       "      <td>ablaze</td>\n",
       "      <td>birmingham</td>\n",
       "      <td>forest fire near la ronge sask  canada</td>\n",
       "      <td>1</td>\n",
       "      <td>0</td>\n",
       "      <td>0</td>\n",
       "      <td>7</td>\n",
       "    </tr>\n",
       "    <tr>\n",
       "      <th>2</th>\n",
       "      <td>ablaze</td>\n",
       "      <td>birmingham</td>\n",
       "      <td>all residents asked to  shelter in place  are ...</td>\n",
       "      <td>1</td>\n",
       "      <td>0</td>\n",
       "      <td>0</td>\n",
       "      <td>22</td>\n",
       "    </tr>\n",
       "    <tr>\n",
       "      <th>3</th>\n",
       "      <td>ablaze</td>\n",
       "      <td>birmingham</td>\n",
       "      <td>people receive  wildfires evacuation or...</td>\n",
       "      <td>1</td>\n",
       "      <td>0</td>\n",
       "      <td>0</td>\n",
       "      <td>7</td>\n",
       "    </tr>\n",
       "    <tr>\n",
       "      <th>4</th>\n",
       "      <td>ablaze</td>\n",
       "      <td>birmingham</td>\n",
       "      <td>just got sent this photo from ruby  alaska as ...</td>\n",
       "      <td>1</td>\n",
       "      <td>0</td>\n",
       "      <td>0</td>\n",
       "      <td>16</td>\n",
       "    </tr>\n",
       "  </tbody>\n",
       "</table>\n",
       "</div>"
      ],
      "text/plain": [
       "  keyword    location                                               text  \\\n",
       "0  ablaze  birmingham  our deeds are the reason of this  earthquake m...   \n",
       "1  ablaze  birmingham             forest fire near la ronge sask  canada   \n",
       "2  ablaze  birmingham  all residents asked to  shelter in place  are ...   \n",
       "3  ablaze  birmingham         people receive  wildfires evacuation or...   \n",
       "4  ablaze  birmingham  just got sent this photo from ruby  alaska as ...   \n",
       "\n",
       "   target  has_location  has_keyword  n_tokens  \n",
       "0       1             0            0        13  \n",
       "1       1             0            0         7  \n",
       "2       1             0            0        22  \n",
       "3       1             0            0         7  \n",
       "4       1             0            0        16  "
      ]
     },
     "execution_count": 286,
     "metadata": {},
     "output_type": "execute_result"
    }
   ],
   "source": [
    "# Create n_tokens feature using regex\n",
    "trainset_clean['n_tokens'] = [len(regexp_tokenize(line, '\\w+')) for line in trainset_clean.text]\n",
    "testset_clean['n_tokens'] = [len(regexp_tokenize(line, '\\w+')) for line in testset_clean.text]\n",
    "\n",
    "trainset_clean.head()"
   ]
  },
  {
   "cell_type": "markdown",
   "id": "3126f7cb",
   "metadata": {},
   "source": [
    "### Language of the tweet: language"
   ]
  },
  {
   "cell_type": "code",
   "execution_count": 12,
   "id": "a4d5d663",
   "metadata": {},
   "outputs": [],
   "source": [
    "# Create function for creating language features\n",
    "def language(series):\n",
    "# Create empty list: languages\n",
    "    languages = []\n",
    "    \n",
    "# Detect the langauge of each review using detect\n",
    "    for i in series:\n",
    "        lang = detect(i)\n",
    "        languages.append(lang)\n",
    "    \n",
    "    return languages"
   ]
  },
  {
   "cell_type": "code",
   "execution_count": 287,
   "id": "523091b8",
   "metadata": {
    "scrolled": true
   },
   "outputs": [
    {
     "data": {
      "text/html": [
       "<div>\n",
       "<style scoped>\n",
       "    .dataframe tbody tr th:only-of-type {\n",
       "        vertical-align: middle;\n",
       "    }\n",
       "\n",
       "    .dataframe tbody tr th {\n",
       "        vertical-align: top;\n",
       "    }\n",
       "\n",
       "    .dataframe thead th {\n",
       "        text-align: right;\n",
       "    }\n",
       "</style>\n",
       "<table border=\"1\" class=\"dataframe\">\n",
       "  <thead>\n",
       "    <tr style=\"text-align: right;\">\n",
       "      <th></th>\n",
       "      <th>keyword</th>\n",
       "      <th>location</th>\n",
       "      <th>text</th>\n",
       "      <th>has_location</th>\n",
       "      <th>has_keyword</th>\n",
       "      <th>n_tokens</th>\n",
       "      <th>language</th>\n",
       "    </tr>\n",
       "  </thead>\n",
       "  <tbody>\n",
       "    <tr>\n",
       "      <th>0</th>\n",
       "      <td>ablaze</td>\n",
       "      <td>london</td>\n",
       "      <td>just happened a terrible car crash</td>\n",
       "      <td>0</td>\n",
       "      <td>0</td>\n",
       "      <td>6</td>\n",
       "      <td>en</td>\n",
       "    </tr>\n",
       "    <tr>\n",
       "      <th>1</th>\n",
       "      <td>ablaze</td>\n",
       "      <td>london</td>\n",
       "      <td>heard about  earthquake is different cities  s...</td>\n",
       "      <td>0</td>\n",
       "      <td>0</td>\n",
       "      <td>9</td>\n",
       "      <td>en</td>\n",
       "    </tr>\n",
       "    <tr>\n",
       "      <th>2</th>\n",
       "      <td>ablaze</td>\n",
       "      <td>london</td>\n",
       "      <td>there is a forest fire at spot pond  geese are...</td>\n",
       "      <td>0</td>\n",
       "      <td>0</td>\n",
       "      <td>19</td>\n",
       "      <td>en</td>\n",
       "    </tr>\n",
       "    <tr>\n",
       "      <th>3</th>\n",
       "      <td>ablaze</td>\n",
       "      <td>london</td>\n",
       "      <td>apocalypse lighting   spokane  wildfires</td>\n",
       "      <td>0</td>\n",
       "      <td>0</td>\n",
       "      <td>4</td>\n",
       "      <td>en</td>\n",
       "    </tr>\n",
       "    <tr>\n",
       "      <th>4</th>\n",
       "      <td>ablaze</td>\n",
       "      <td>london</td>\n",
       "      <td>typhoon soudelor kills    in china and taiwan</td>\n",
       "      <td>0</td>\n",
       "      <td>0</td>\n",
       "      <td>7</td>\n",
       "      <td>en</td>\n",
       "    </tr>\n",
       "  </tbody>\n",
       "</table>\n",
       "</div>"
      ],
      "text/plain": [
       "  keyword location                                               text  \\\n",
       "0  ablaze   london                 just happened a terrible car crash   \n",
       "1  ablaze   london  heard about  earthquake is different cities  s...   \n",
       "2  ablaze   london  there is a forest fire at spot pond  geese are...   \n",
       "3  ablaze   london           apocalypse lighting   spokane  wildfires   \n",
       "4  ablaze   london      typhoon soudelor kills    in china and taiwan   \n",
       "\n",
       "   has_location  has_keyword  n_tokens language  \n",
       "0             0            0         6       en  \n",
       "1             0            0         9       en  \n",
       "2             0            0        19       en  \n",
       "3             0            0         4       en  \n",
       "4             0            0         7       en  "
      ]
     },
     "execution_count": 287,
     "metadata": {},
     "output_type": "execute_result"
    }
   ],
   "source": [
    "trainset_clean['language'] = language(trainset_clean.text)\n",
    "testset_clean['language'] = language(testset_clean.text)\n",
    "testset_clean.head()"
   ]
  },
  {
   "cell_type": "markdown",
   "id": "9dfb7861",
   "metadata": {},
   "source": [
    "### Length of keyword: len_keyword"
   ]
  },
  {
   "cell_type": "code",
   "execution_count": 298,
   "id": "d4aae17e",
   "metadata": {
    "scrolled": true
   },
   "outputs": [],
   "source": [
    "# Create column that takes the length of each keyword: len_keyword\n",
    "trainset_clean[\"len_keyword\"] = trainset_clean.keyword.apply(lambda x: len(x))\n",
    "testset_clean[\"len_keyword\"] = testset_clean.keyword.apply(lambda x: len(x))"
   ]
  },
  {
   "cell_type": "markdown",
   "id": "68864848",
   "metadata": {},
   "source": [
    "## Vectorizer \n",
    "In this paragraph, we'll vectorize the `text` column of the datasets. This will be done using a TfidfVectorizer."
   ]
  },
  {
   "cell_type": "code",
   "execution_count": 202,
   "id": "52e5cb13",
   "metadata": {},
   "outputs": [],
   "source": [
    "# Create function that creates a TfidfVectorizer and returns \n",
    "def vectorize(datasets, stop_words, max_features, min_df):\n",
    "    # Set train and test set based on datasets parameter\n",
    "    train = datasets[0]\n",
    "    test = datasets[1]\n",
    "    \n",
    "    # Initialize the vectorizer\n",
    "    vect = TfidfVectorizer(stop_words = stop_words, \n",
    "                           max_features = max_features,\n",
    "                          min_df = min_df)\n",
    "    \n",
    "    # Create the vector for the train and test set\n",
    "    tfidf_train = vect.fit_transform(train)\n",
    "    tfidf_test = vect.transform(test)\n",
    "    \n",
    "    # Create dataframes based on vectors \n",
    "    train_df = pd.DataFrame(tfidf_train.A, columns = vect.get_feature_names())\n",
    "    test_df = pd.DataFrame(tfidf_test.A, columns = vect.get_feature_names())\n",
    "    \n",
    "    return (train_df, test_df)"
   ]
  },
  {
   "cell_type": "code",
   "execution_count": 320,
   "id": "7480abe6",
   "metadata": {},
   "outputs": [
    {
     "data": {
      "text/html": [
       "<div>\n",
       "<style scoped>\n",
       "    .dataframe tbody tr th:only-of-type {\n",
       "        vertical-align: middle;\n",
       "    }\n",
       "\n",
       "    .dataframe tbody tr th {\n",
       "        vertical-align: top;\n",
       "    }\n",
       "\n",
       "    .dataframe thead th {\n",
       "        text-align: right;\n",
       "    }\n",
       "</style>\n",
       "<table border=\"1\" class=\"dataframe\">\n",
       "  <thead>\n",
       "    <tr style=\"text-align: right;\">\n",
       "      <th></th>\n",
       "      <th>abc</th>\n",
       "      <th>ablaze</th>\n",
       "      <th>about</th>\n",
       "      <th>accident</th>\n",
       "      <th>actually</th>\n",
       "      <th>affected</th>\n",
       "      <th>after</th>\n",
       "      <th>aftershock</th>\n",
       "      <th>again</th>\n",
       "      <th>against</th>\n",
       "      <th>...</th>\n",
       "      <th>yourself</th>\n",
       "      <th>youth</th>\n",
       "      <th>youtube</th>\n",
       "      <th>yr</th>\n",
       "      <th>zone</th>\n",
       "      <th>n_tokens</th>\n",
       "      <th>has_location</th>\n",
       "      <th>has_keyword</th>\n",
       "      <th>len_keyword</th>\n",
       "      <th>language</th>\n",
       "    </tr>\n",
       "  </thead>\n",
       "  <tbody>\n",
       "    <tr>\n",
       "      <th>0</th>\n",
       "      <td>0.0</td>\n",
       "      <td>0.0</td>\n",
       "      <td>0.0</td>\n",
       "      <td>0.0</td>\n",
       "      <td>0.0</td>\n",
       "      <td>0.0</td>\n",
       "      <td>0.0</td>\n",
       "      <td>0.0</td>\n",
       "      <td>0.0</td>\n",
       "      <td>0.0</td>\n",
       "      <td>...</td>\n",
       "      <td>0.0</td>\n",
       "      <td>0.0</td>\n",
       "      <td>0.0</td>\n",
       "      <td>0.0</td>\n",
       "      <td>0.0</td>\n",
       "      <td>13</td>\n",
       "      <td>0</td>\n",
       "      <td>0</td>\n",
       "      <td>6</td>\n",
       "      <td>en</td>\n",
       "    </tr>\n",
       "    <tr>\n",
       "      <th>1</th>\n",
       "      <td>0.0</td>\n",
       "      <td>0.0</td>\n",
       "      <td>0.0</td>\n",
       "      <td>0.0</td>\n",
       "      <td>0.0</td>\n",
       "      <td>0.0</td>\n",
       "      <td>0.0</td>\n",
       "      <td>0.0</td>\n",
       "      <td>0.0</td>\n",
       "      <td>0.0</td>\n",
       "      <td>...</td>\n",
       "      <td>0.0</td>\n",
       "      <td>0.0</td>\n",
       "      <td>0.0</td>\n",
       "      <td>0.0</td>\n",
       "      <td>0.0</td>\n",
       "      <td>7</td>\n",
       "      <td>0</td>\n",
       "      <td>0</td>\n",
       "      <td>6</td>\n",
       "      <td>no</td>\n",
       "    </tr>\n",
       "    <tr>\n",
       "      <th>2</th>\n",
       "      <td>0.0</td>\n",
       "      <td>0.0</td>\n",
       "      <td>0.0</td>\n",
       "      <td>0.0</td>\n",
       "      <td>0.0</td>\n",
       "      <td>0.0</td>\n",
       "      <td>0.0</td>\n",
       "      <td>0.0</td>\n",
       "      <td>0.0</td>\n",
       "      <td>0.0</td>\n",
       "      <td>...</td>\n",
       "      <td>0.0</td>\n",
       "      <td>0.0</td>\n",
       "      <td>0.0</td>\n",
       "      <td>0.0</td>\n",
       "      <td>0.0</td>\n",
       "      <td>22</td>\n",
       "      <td>0</td>\n",
       "      <td>0</td>\n",
       "      <td>6</td>\n",
       "      <td>en</td>\n",
       "    </tr>\n",
       "    <tr>\n",
       "      <th>3</th>\n",
       "      <td>0.0</td>\n",
       "      <td>0.0</td>\n",
       "      <td>0.0</td>\n",
       "      <td>0.0</td>\n",
       "      <td>0.0</td>\n",
       "      <td>0.0</td>\n",
       "      <td>0.0</td>\n",
       "      <td>0.0</td>\n",
       "      <td>0.0</td>\n",
       "      <td>0.0</td>\n",
       "      <td>...</td>\n",
       "      <td>0.0</td>\n",
       "      <td>0.0</td>\n",
       "      <td>0.0</td>\n",
       "      <td>0.0</td>\n",
       "      <td>0.0</td>\n",
       "      <td>7</td>\n",
       "      <td>0</td>\n",
       "      <td>0</td>\n",
       "      <td>6</td>\n",
       "      <td>en</td>\n",
       "    </tr>\n",
       "    <tr>\n",
       "      <th>4</th>\n",
       "      <td>0.0</td>\n",
       "      <td>0.0</td>\n",
       "      <td>0.0</td>\n",
       "      <td>0.0</td>\n",
       "      <td>0.0</td>\n",
       "      <td>0.0</td>\n",
       "      <td>0.0</td>\n",
       "      <td>0.0</td>\n",
       "      <td>0.0</td>\n",
       "      <td>0.0</td>\n",
       "      <td>...</td>\n",
       "      <td>0.0</td>\n",
       "      <td>0.0</td>\n",
       "      <td>0.0</td>\n",
       "      <td>0.0</td>\n",
       "      <td>0.0</td>\n",
       "      <td>16</td>\n",
       "      <td>0</td>\n",
       "      <td>0</td>\n",
       "      <td>6</td>\n",
       "      <td>en</td>\n",
       "    </tr>\n",
       "  </tbody>\n",
       "</table>\n",
       "<p>5 rows × 855 columns</p>\n",
       "</div>"
      ],
      "text/plain": [
       "   abc  ablaze  about  accident  actually  affected  after  aftershock  again  \\\n",
       "0  0.0     0.0    0.0       0.0       0.0       0.0    0.0         0.0    0.0   \n",
       "1  0.0     0.0    0.0       0.0       0.0       0.0    0.0         0.0    0.0   \n",
       "2  0.0     0.0    0.0       0.0       0.0       0.0    0.0         0.0    0.0   \n",
       "3  0.0     0.0    0.0       0.0       0.0       0.0    0.0         0.0    0.0   \n",
       "4  0.0     0.0    0.0       0.0       0.0       0.0    0.0         0.0    0.0   \n",
       "\n",
       "   against  ...  yourself  youth  youtube   yr  zone  n_tokens  has_location  \\\n",
       "0      0.0  ...       0.0    0.0      0.0  0.0   0.0        13             0   \n",
       "1      0.0  ...       0.0    0.0      0.0  0.0   0.0         7             0   \n",
       "2      0.0  ...       0.0    0.0      0.0  0.0   0.0        22             0   \n",
       "3      0.0  ...       0.0    0.0      0.0  0.0   0.0         7             0   \n",
       "4      0.0  ...       0.0    0.0      0.0  0.0   0.0        16             0   \n",
       "\n",
       "   has_keyword  len_keyword  language  \n",
       "0            0            6        en  \n",
       "1            0            6        no  \n",
       "2            0            6        en  \n",
       "3            0            6        en  \n",
       "4            0            6        en  \n",
       "\n",
       "[5 rows x 855 columns]"
      ]
     },
     "metadata": {},
     "output_type": "display_data"
    },
    {
     "data": {
      "text/html": [
       "<div>\n",
       "<style scoped>\n",
       "    .dataframe tbody tr th:only-of-type {\n",
       "        vertical-align: middle;\n",
       "    }\n",
       "\n",
       "    .dataframe tbody tr th {\n",
       "        vertical-align: top;\n",
       "    }\n",
       "\n",
       "    .dataframe thead th {\n",
       "        text-align: right;\n",
       "    }\n",
       "</style>\n",
       "<table border=\"1\" class=\"dataframe\">\n",
       "  <thead>\n",
       "    <tr style=\"text-align: right;\">\n",
       "      <th></th>\n",
       "      <th>abc</th>\n",
       "      <th>ablaze</th>\n",
       "      <th>about</th>\n",
       "      <th>accident</th>\n",
       "      <th>actually</th>\n",
       "      <th>affected</th>\n",
       "      <th>after</th>\n",
       "      <th>aftershock</th>\n",
       "      <th>again</th>\n",
       "      <th>against</th>\n",
       "      <th>...</th>\n",
       "      <th>yourself</th>\n",
       "      <th>youth</th>\n",
       "      <th>youtube</th>\n",
       "      <th>yr</th>\n",
       "      <th>zone</th>\n",
       "      <th>n_tokens</th>\n",
       "      <th>has_location</th>\n",
       "      <th>has_keyword</th>\n",
       "      <th>len_keyword</th>\n",
       "      <th>language</th>\n",
       "    </tr>\n",
       "  </thead>\n",
       "  <tbody>\n",
       "    <tr>\n",
       "      <th>0</th>\n",
       "      <td>0.0</td>\n",
       "      <td>0.0</td>\n",
       "      <td>0.000000</td>\n",
       "      <td>0.0</td>\n",
       "      <td>0.0</td>\n",
       "      <td>0.0</td>\n",
       "      <td>0.0</td>\n",
       "      <td>0.0</td>\n",
       "      <td>0.0</td>\n",
       "      <td>0.0</td>\n",
       "      <td>...</td>\n",
       "      <td>0.0</td>\n",
       "      <td>0.0</td>\n",
       "      <td>0.0</td>\n",
       "      <td>0.0</td>\n",
       "      <td>0.0</td>\n",
       "      <td>6</td>\n",
       "      <td>0</td>\n",
       "      <td>0</td>\n",
       "      <td>6</td>\n",
       "      <td>en</td>\n",
       "    </tr>\n",
       "    <tr>\n",
       "      <th>1</th>\n",
       "      <td>0.0</td>\n",
       "      <td>0.0</td>\n",
       "      <td>0.339124</td>\n",
       "      <td>0.0</td>\n",
       "      <td>0.0</td>\n",
       "      <td>0.0</td>\n",
       "      <td>0.0</td>\n",
       "      <td>0.0</td>\n",
       "      <td>0.0</td>\n",
       "      <td>0.0</td>\n",
       "      <td>...</td>\n",
       "      <td>0.0</td>\n",
       "      <td>0.0</td>\n",
       "      <td>0.0</td>\n",
       "      <td>0.0</td>\n",
       "      <td>0.0</td>\n",
       "      <td>9</td>\n",
       "      <td>0</td>\n",
       "      <td>0</td>\n",
       "      <td>6</td>\n",
       "      <td>en</td>\n",
       "    </tr>\n",
       "    <tr>\n",
       "      <th>2</th>\n",
       "      <td>0.0</td>\n",
       "      <td>0.0</td>\n",
       "      <td>0.000000</td>\n",
       "      <td>0.0</td>\n",
       "      <td>0.0</td>\n",
       "      <td>0.0</td>\n",
       "      <td>0.0</td>\n",
       "      <td>0.0</td>\n",
       "      <td>0.0</td>\n",
       "      <td>0.0</td>\n",
       "      <td>...</td>\n",
       "      <td>0.0</td>\n",
       "      <td>0.0</td>\n",
       "      <td>0.0</td>\n",
       "      <td>0.0</td>\n",
       "      <td>0.0</td>\n",
       "      <td>19</td>\n",
       "      <td>0</td>\n",
       "      <td>0</td>\n",
       "      <td>6</td>\n",
       "      <td>en</td>\n",
       "    </tr>\n",
       "    <tr>\n",
       "      <th>3</th>\n",
       "      <td>0.0</td>\n",
       "      <td>0.0</td>\n",
       "      <td>0.000000</td>\n",
       "      <td>0.0</td>\n",
       "      <td>0.0</td>\n",
       "      <td>0.0</td>\n",
       "      <td>0.0</td>\n",
       "      <td>0.0</td>\n",
       "      <td>0.0</td>\n",
       "      <td>0.0</td>\n",
       "      <td>...</td>\n",
       "      <td>0.0</td>\n",
       "      <td>0.0</td>\n",
       "      <td>0.0</td>\n",
       "      <td>0.0</td>\n",
       "      <td>0.0</td>\n",
       "      <td>4</td>\n",
       "      <td>0</td>\n",
       "      <td>0</td>\n",
       "      <td>6</td>\n",
       "      <td>en</td>\n",
       "    </tr>\n",
       "    <tr>\n",
       "      <th>4</th>\n",
       "      <td>0.0</td>\n",
       "      <td>0.0</td>\n",
       "      <td>0.000000</td>\n",
       "      <td>0.0</td>\n",
       "      <td>0.0</td>\n",
       "      <td>0.0</td>\n",
       "      <td>0.0</td>\n",
       "      <td>0.0</td>\n",
       "      <td>0.0</td>\n",
       "      <td>0.0</td>\n",
       "      <td>...</td>\n",
       "      <td>0.0</td>\n",
       "      <td>0.0</td>\n",
       "      <td>0.0</td>\n",
       "      <td>0.0</td>\n",
       "      <td>0.0</td>\n",
       "      <td>7</td>\n",
       "      <td>0</td>\n",
       "      <td>0</td>\n",
       "      <td>6</td>\n",
       "      <td>en</td>\n",
       "    </tr>\n",
       "  </tbody>\n",
       "</table>\n",
       "<p>5 rows × 855 columns</p>\n",
       "</div>"
      ],
      "text/plain": [
       "   abc  ablaze     about  accident  actually  affected  after  aftershock  \\\n",
       "0  0.0     0.0  0.000000       0.0       0.0       0.0    0.0         0.0   \n",
       "1  0.0     0.0  0.339124       0.0       0.0       0.0    0.0         0.0   \n",
       "2  0.0     0.0  0.000000       0.0       0.0       0.0    0.0         0.0   \n",
       "3  0.0     0.0  0.000000       0.0       0.0       0.0    0.0         0.0   \n",
       "4  0.0     0.0  0.000000       0.0       0.0       0.0    0.0         0.0   \n",
       "\n",
       "   again  against  ...  yourself  youth  youtube   yr  zone  n_tokens  \\\n",
       "0    0.0      0.0  ...       0.0    0.0      0.0  0.0   0.0         6   \n",
       "1    0.0      0.0  ...       0.0    0.0      0.0  0.0   0.0         9   \n",
       "2    0.0      0.0  ...       0.0    0.0      0.0  0.0   0.0        19   \n",
       "3    0.0      0.0  ...       0.0    0.0      0.0  0.0   0.0         4   \n",
       "4    0.0      0.0  ...       0.0    0.0      0.0  0.0   0.0         7   \n",
       "\n",
       "   has_location  has_keyword  len_keyword  language  \n",
       "0             0            0            6        en  \n",
       "1             0            0            6        en  \n",
       "2             0            0            6        en  \n",
       "3             0            0            6        en  \n",
       "4             0            0            6        en  \n",
       "\n",
       "[5 rows x 855 columns]"
      ]
     },
     "metadata": {},
     "output_type": "display_data"
    }
   ],
   "source": [
    "# Set up parameters\n",
    "stop_words = ['english']\n",
    "max_features = 850\n",
    "min_df = 10\n",
    "datasets = [trainset_clean.text, testset_clean.text]\n",
    "\n",
    "# Call vectorize function to vectorize train and test set\n",
    "train, test = vectorize(datasets, stop_words, max_features, min_df)\n",
    "\n",
    "\n",
    "# Add the remaining column to the train and test set\n",
    "#cols = ['keyword', 'location', 'n_tokens', 'language', 'len_keyword']\n",
    "cols = ['n_tokens', 'has_location', 'has_keyword', 'len_keyword', 'language']\n",
    "train[cols] = trainset_clean[cols]\n",
    "test[cols] = testset_clean[cols]\n",
    "\n",
    "display(train.head())\n",
    "display(test.head())"
   ]
  },
  {
   "cell_type": "markdown",
   "id": "fa9bfaf9",
   "metadata": {},
   "source": [
    "# Data analysis\n",
    "In this chapter, some data analysis will be performed. We'll do that by creating multiple visualizations that enhance our data story with information. We'll also perform multiple hypothesis tests to find possible relationships within the datasets.\n",
    "\n",
    "## Data visualization\n",
    "Things to explore:\n",
    "- distribution of targets\n",
    "- distribution of languages\n",
    "- 10 most common locations per target\n",
    "- word cloud of keywords per target \n",
    "- distribution of n_tokens"
   ]
  },
  {
   "cell_type": "code",
   "execution_count": 192,
   "id": "fe2e649e",
   "metadata": {},
   "outputs": [
    {
     "data": {
      "image/png": "[encoded data removed]",
      "text/plain": [
       "<Figure size 432x288 with 1 Axes>"
      ]
     },
     "metadata": {},
     "output_type": "display_data"
    }
   ],
   "source": [
    "# Find the distribution of the target types\n",
    "data_train = trainset_clean.target.value_counts(normalize = True)\n",
    "\n",
    "plt.pie(x = data_train, labels = [\"No disaster\", \"Disaster\"], colors = ['red', 'green'],\n",
    "       autopct = \"%0.2f%%\", startangle = 90)\n",
    "plt.title(\"Distribution of target values for train set\")\n",
    "plt.show()"
   ]
  },
  {
   "cell_type": "code",
   "execution_count": 18,
   "id": "79baee91",
   "metadata": {
    "scrolled": false
   },
   "outputs": [
    {
     "data": {
      "image/png": "[encoded data removed]",
      "text/plain": [
       "<Figure size 864x720 with 2 Axes>"
      ]
     },
     "metadata": {
      "needs_background": "light"
     },
     "output_type": "display_data"
    }
   ],
   "source": [
    "# Find the distribution of languages for train and testset\n",
    "# Set parameters\n",
    "datasets = [trainset_clean, testset_clean]\n",
    "titles = [\"Distribution of languages for train set\", \"Distribution of languages for test set\"]\n",
    "\n",
    "# Create subplots\n",
    "fig, ax = plt.subplots(figsize = (12, 10), nrows = 2)\n",
    "\n",
    "for title, data, axes in zip(titles, datasets, ax.flat):\n",
    "    sns.countplot(x = 'language', data = data, ax = axes)\n",
    "    axes.set_xlabel(\"Language\")\n",
    "    axes.set_ylabel(\"Count\")\n",
    "    axes.set_title(title)\n",
    "    \n",
    "plt.show()"
   ]
  },
  {
   "cell_type": "code",
   "execution_count": 193,
   "id": "bf82bf99",
   "metadata": {},
   "outputs": [
    {
     "data": {
      "image/png": "[encoded data removed]",
      "text/plain": [
       "<Figure size 864x720 with 2 Axes>"
      ]
     },
     "metadata": {
      "needs_background": "light"
     },
     "output_type": "display_data"
    }
   ],
   "source": [
    "# Find 10 most common locations per target value\n",
    "disaster = trainset_clean.loc[trainset_clean.target == 1, :]\n",
    "no_disaster = trainset_clean.loc[trainset_clean.target == 0, :]\n",
    "\n",
    "data_disaster = disaster.location.value_counts().sort_values(ascending = False)[:10]\n",
    "data_no_disaster = no_disaster.location.value_counts().sort_values(ascending = False)[:10]\n",
    "\n",
    "# Set up parameters for plotting\n",
    "datasets = [data_disaster, data_no_disaster]\n",
    "titles = [f\"{len(data_disaster)} most common location for real disaster tweets\", \n",
    "          f\"{len(data_no_disaster)} most common location for fake disaster tweets\"]\n",
    "\n",
    "fig, ax = plt.subplots(figsize = (12, 10), nrows = 2)\n",
    "\n",
    "for data, title, axes in zip(datasets, titles, ax.flat):\n",
    "    axes.barh(data.index.tolist(), data)\n",
    "    axes.set_title(title)\n",
    "    axes.set_ylabel(\"Location\")\n",
    "    axes.set_xlabel(\"Count\")\n",
    "plt.show()"
   ]
  },
  {
   "cell_type": "markdown",
   "id": "81a95a77",
   "metadata": {},
   "source": [
    "### Word cloud of keywords per target"
   ]
  },
  {
   "cell_type": "code",
   "execution_count": 20,
   "id": "fa04bb8b",
   "metadata": {},
   "outputs": [],
   "source": [
    "def wordcloud(data, title, ax):\n",
    "    wordcloud = WordCloud(max_font_size=50, max_words=20, background_color=\"white\",\n",
    "                           width = 400, height = 400, min_word_length = 3).generate(str(data))\n",
    "    \n",
    "    # Display the generated image:\n",
    "    ax.imshow(wordcloud, interpolation='bilinear')\n",
    "    ax.axis(\"off\")\n",
    "    ax.set_title(title, fontsize = 20)"
   ]
  },
  {
   "cell_type": "code",
   "execution_count": 21,
   "id": "e77bd3a0",
   "metadata": {},
   "outputs": [
    {
     "data": {
      "image/png": "[encoded data removed]",
      "text/plain": [
       "<Figure size 1008x720 with 2 Axes>"
      ]
     },
     "metadata": {
      "needs_background": "light"
     },
     "output_type": "display_data"
    }
   ],
   "source": [
    "fig, ax = plt.subplots(ncols = 2, figsize = (14, 10))\n",
    "\n",
    "wordcloud_true = wordcloud(disaster.text, \"What people associate \\n with real disasters\", ax[0])\n",
    "wordcloud_false = wordcloud(no_disaster.text, \"What people associate \\n with fake disasters\", ax[1])\n",
    "\n",
    "# Display the generated images\n",
    "plt.show()"
   ]
  },
  {
   "cell_type": "markdown",
   "id": "b2e6d437",
   "metadata": {},
   "source": [
    "## Relationships between the data\n",
    "Using hypothesis testing.\n",
    "Possible relationships:\n",
    "- N_tokens and target\n",
    "- language and n_token\n",
    "- language and target\n",
    "- n_tokens and location"
   ]
  },
  {
   "cell_type": "code",
   "execution_count": 22,
   "id": "3a465083",
   "metadata": {},
   "outputs": [],
   "source": [
    "# Create a function that performs a hypothesis test: hypothesis_test\n",
    "def hypothesis_test(data1, data2, test):\n",
    "    stat, p = test(data1, data2)\n",
    "    print(f\"The p-value is: {p}\")\n",
    "    print(f\"The test statistic comes out to be equal to: {stat}\")"
   ]
  },
  {
   "cell_type": "markdown",
   "id": "c1ba8be4",
   "metadata": {},
   "source": [
    "### N_tokens and target"
   ]
  },
  {
   "cell_type": "code",
   "execution_count": 23,
   "id": "d93a4747",
   "metadata": {},
   "outputs": [
    {
     "name": "stdout",
     "output_type": "stream",
     "text": [
      "The p-value is: 0.9904630136245253\n",
      "The test statistic comes out to be equal to: -0.011968228444066963\n"
     ]
    }
   ],
   "source": [
    "# Set up parameters\n",
    "data1 = disaster.n_tokens.sample(n = 100)\n",
    "data2 = no_disaster.n_tokens.sample(n = 100)\n",
    "\n",
    "# Call hypothesis_test to perform hypothesis testing\n",
    "hypothesis_test(data1, data2, stats.ttest_ind)"
   ]
  },
  {
   "cell_type": "markdown",
   "id": "0a8ce441",
   "metadata": {},
   "source": [
    "### Language and target"
   ]
  },
  {
   "cell_type": "code",
   "execution_count": 24,
   "id": "22147eb0",
   "metadata": {},
   "outputs": [
    {
     "name": "stdout",
     "output_type": "stream",
     "text": [
      "The p-value is: 0.1759442562652578\n",
      "The test statistic comes out to be equal to: 1.3582048803087157\n"
     ]
    }
   ],
   "source": [
    "# Set up parameters\n",
    "sample = 100\n",
    "\n",
    "data1 = np.where(disaster.language == 'en', 1, 0)\n",
    "data2 = np.where(no_disaster.language == 'en', 1, 0)\n",
    "\n",
    "sample1 = np.random.choice(data1, sample)\n",
    "sample2 = np.random.choice(data2, sample)\n",
    "\n",
    "# Call hypothesis_test to perform hypothesis testing\n",
    "hypothesis_test(sample1, sample2, stats.ttest_ind)"
   ]
  },
  {
   "cell_type": "markdown",
   "id": "89b162de",
   "metadata": {},
   "source": [
    "### Language and n_tokens"
   ]
  },
  {
   "cell_type": "code",
   "execution_count": 25,
   "id": "9c0a7eef",
   "metadata": {},
   "outputs": [
    {
     "name": "stdout",
     "output_type": "stream",
     "text": [
      "The p-value is: 9.487352896168546e-33\n",
      "The test statistic comes out to be equal to: 14.43682850685489\n"
     ]
    }
   ],
   "source": [
    "# Set up parameters\n",
    "sample = 100\n",
    "\n",
    "data1 = trainset_clean.loc[trainset_clean.language == 'en', :]\n",
    "data2 = trainset_clean.loc[trainset_clean.language != 'en', :]\n",
    "\n",
    "sample1 = data1.n_tokens.sample(n = sample)\n",
    "sample2 = data2.n_tokens.sample(n = sample)\n",
    "\n",
    "# Call hypothesis_test to perform hypothesis testing\n",
    "hypothesis_test(sample1, sample2, stats.ttest_ind)"
   ]
  },
  {
   "cell_type": "markdown",
   "id": "f26a4102",
   "metadata": {},
   "source": [
    "# Models\n",
    "In this chapter, we'll use multiple models to train and test on a validation set of the data. For this, we'll use the following models:\n",
    "- MultinomialNB\n",
    "- Neural Network using keras\n",
    "- K-nearest neighbour\n",
    "\n",
    "At first, we'll prepare the data so that it's ready for model training. Then, we'll instantiate and build the models. After that, each model gets trained and tested on the validation set.\n",
    "\n",
    "## Data preperation\n",
    "In this paragraph, we'll prepare the data for the model building."
   ]
  },
  {
   "cell_type": "code",
   "execution_count": 321,
   "id": "23473eb3",
   "metadata": {},
   "outputs": [
    {
     "data": {
      "text/html": [
       "<div>\n",
       "<style scoped>\n",
       "    .dataframe tbody tr th:only-of-type {\n",
       "        vertical-align: middle;\n",
       "    }\n",
       "\n",
       "    .dataframe tbody tr th {\n",
       "        vertical-align: top;\n",
       "    }\n",
       "\n",
       "    .dataframe thead th {\n",
       "        text-align: right;\n",
       "    }\n",
       "</style>\n",
       "<table border=\"1\" class=\"dataframe\">\n",
       "  <thead>\n",
       "    <tr style=\"text-align: right;\">\n",
       "      <th></th>\n",
       "      <th>abc</th>\n",
       "      <th>ablaze</th>\n",
       "      <th>about</th>\n",
       "      <th>accident</th>\n",
       "      <th>actually</th>\n",
       "      <th>affected</th>\n",
       "      <th>after</th>\n",
       "      <th>aftershock</th>\n",
       "      <th>again</th>\n",
       "      <th>against</th>\n",
       "      <th>...</th>\n",
       "      <th>yourself</th>\n",
       "      <th>youth</th>\n",
       "      <th>youtube</th>\n",
       "      <th>yr</th>\n",
       "      <th>zone</th>\n",
       "      <th>n_tokens</th>\n",
       "      <th>has_location</th>\n",
       "      <th>has_keyword</th>\n",
       "      <th>len_keyword</th>\n",
       "      <th>language</th>\n",
       "    </tr>\n",
       "  </thead>\n",
       "  <tbody>\n",
       "    <tr>\n",
       "      <th>0</th>\n",
       "      <td>0.0</td>\n",
       "      <td>0.0</td>\n",
       "      <td>0.0</td>\n",
       "      <td>0.0</td>\n",
       "      <td>0.0</td>\n",
       "      <td>0.0</td>\n",
       "      <td>0.0</td>\n",
       "      <td>0.0</td>\n",
       "      <td>0.0</td>\n",
       "      <td>0.0</td>\n",
       "      <td>...</td>\n",
       "      <td>0.0</td>\n",
       "      <td>0.0</td>\n",
       "      <td>0.0</td>\n",
       "      <td>0.0</td>\n",
       "      <td>0.0</td>\n",
       "      <td>13</td>\n",
       "      <td>0</td>\n",
       "      <td>0</td>\n",
       "      <td>6</td>\n",
       "      <td>1</td>\n",
       "    </tr>\n",
       "    <tr>\n",
       "      <th>1</th>\n",
       "      <td>0.0</td>\n",
       "      <td>0.0</td>\n",
       "      <td>0.0</td>\n",
       "      <td>0.0</td>\n",
       "      <td>0.0</td>\n",
       "      <td>0.0</td>\n",
       "      <td>0.0</td>\n",
       "      <td>0.0</td>\n",
       "      <td>0.0</td>\n",
       "      <td>0.0</td>\n",
       "      <td>...</td>\n",
       "      <td>0.0</td>\n",
       "      <td>0.0</td>\n",
       "      <td>0.0</td>\n",
       "      <td>0.0</td>\n",
       "      <td>0.0</td>\n",
       "      <td>7</td>\n",
       "      <td>0</td>\n",
       "      <td>0</td>\n",
       "      <td>6</td>\n",
       "      <td>0</td>\n",
       "    </tr>\n",
       "    <tr>\n",
       "      <th>2</th>\n",
       "      <td>0.0</td>\n",
       "      <td>0.0</td>\n",
       "      <td>0.0</td>\n",
       "      <td>0.0</td>\n",
       "      <td>0.0</td>\n",
       "      <td>0.0</td>\n",
       "      <td>0.0</td>\n",
       "      <td>0.0</td>\n",
       "      <td>0.0</td>\n",
       "      <td>0.0</td>\n",
       "      <td>...</td>\n",
       "      <td>0.0</td>\n",
       "      <td>0.0</td>\n",
       "      <td>0.0</td>\n",
       "      <td>0.0</td>\n",
       "      <td>0.0</td>\n",
       "      <td>22</td>\n",
       "      <td>0</td>\n",
       "      <td>0</td>\n",
       "      <td>6</td>\n",
       "      <td>1</td>\n",
       "    </tr>\n",
       "    <tr>\n",
       "      <th>3</th>\n",
       "      <td>0.0</td>\n",
       "      <td>0.0</td>\n",
       "      <td>0.0</td>\n",
       "      <td>0.0</td>\n",
       "      <td>0.0</td>\n",
       "      <td>0.0</td>\n",
       "      <td>0.0</td>\n",
       "      <td>0.0</td>\n",
       "      <td>0.0</td>\n",
       "      <td>0.0</td>\n",
       "      <td>...</td>\n",
       "      <td>0.0</td>\n",
       "      <td>0.0</td>\n",
       "      <td>0.0</td>\n",
       "      <td>0.0</td>\n",
       "      <td>0.0</td>\n",
       "      <td>7</td>\n",
       "      <td>0</td>\n",
       "      <td>0</td>\n",
       "      <td>6</td>\n",
       "      <td>1</td>\n",
       "    </tr>\n",
       "    <tr>\n",
       "      <th>4</th>\n",
       "      <td>0.0</td>\n",
       "      <td>0.0</td>\n",
       "      <td>0.0</td>\n",
       "      <td>0.0</td>\n",
       "      <td>0.0</td>\n",
       "      <td>0.0</td>\n",
       "      <td>0.0</td>\n",
       "      <td>0.0</td>\n",
       "      <td>0.0</td>\n",
       "      <td>0.0</td>\n",
       "      <td>...</td>\n",
       "      <td>0.0</td>\n",
       "      <td>0.0</td>\n",
       "      <td>0.0</td>\n",
       "      <td>0.0</td>\n",
       "      <td>0.0</td>\n",
       "      <td>16</td>\n",
       "      <td>0</td>\n",
       "      <td>0</td>\n",
       "      <td>6</td>\n",
       "      <td>1</td>\n",
       "    </tr>\n",
       "  </tbody>\n",
       "</table>\n",
       "<p>5 rows × 855 columns</p>\n",
       "</div>"
      ],
      "text/plain": [
       "   abc  ablaze  about  accident  actually  affected  after  aftershock  again  \\\n",
       "0  0.0     0.0    0.0       0.0       0.0       0.0    0.0         0.0    0.0   \n",
       "1  0.0     0.0    0.0       0.0       0.0       0.0    0.0         0.0    0.0   \n",
       "2  0.0     0.0    0.0       0.0       0.0       0.0    0.0         0.0    0.0   \n",
       "3  0.0     0.0    0.0       0.0       0.0       0.0    0.0         0.0    0.0   \n",
       "4  0.0     0.0    0.0       0.0       0.0       0.0    0.0         0.0    0.0   \n",
       "\n",
       "   against  ...  yourself  youth  youtube   yr  zone  n_tokens  has_location  \\\n",
       "0      0.0  ...       0.0    0.0      0.0  0.0   0.0        13             0   \n",
       "1      0.0  ...       0.0    0.0      0.0  0.0   0.0         7             0   \n",
       "2      0.0  ...       0.0    0.0      0.0  0.0   0.0        22             0   \n",
       "3      0.0  ...       0.0    0.0      0.0  0.0   0.0         7             0   \n",
       "4      0.0  ...       0.0    0.0      0.0  0.0   0.0        16             0   \n",
       "\n",
       "   has_keyword  len_keyword  language  \n",
       "0            0            6         1  \n",
       "1            0            6         0  \n",
       "2            0            6         1  \n",
       "3            0            6         1  \n",
       "4            0            6         1  \n",
       "\n",
       "[5 rows x 855 columns]"
      ]
     },
     "execution_count": 321,
     "metadata": {},
     "output_type": "execute_result"
    }
   ],
   "source": [
    "# Convert the string columns location and keyword to numbers using LabelEncoderd\n",
    "# Do this for both the train and test set\n",
    "le = LabelEncoder()\n",
    "#train['keyword'], train['location'] = le.fit_transform(train.keyword), le.fit_transform(train.location)\n",
    "#test['keyword'], test['location'] = le.fit_transform(test.keyword), le.fit_transform(test.location)\n",
    "\n",
    "#train = train[]\n",
    "\n",
    "\n",
    "# Convert the language column so that if it's English, it's 1, else 0\n",
    "train['language'] = np.where(trainset_clean.language == 'en', 1, 0)\n",
    "\n",
    "train.head()"
   ]
  },
  {
   "cell_type": "code",
   "execution_count": 322,
   "id": "32c92886",
   "metadata": {},
   "outputs": [],
   "source": [
    "# Split the train data into train and validation set\n",
    "y = trainset_clean.target.astype('category')\n",
    "X_train, X_val, y_train, y_val = train_test_split(train, y, test_size = 0.15, random_state = 42)"
   ]
  },
  {
   "cell_type": "markdown",
   "id": "09c83d91",
   "metadata": {},
   "source": [
    "## Model building\n",
    "In this paragraph, the models will be build."
   ]
  },
  {
   "cell_type": "code",
   "execution_count": 323,
   "id": "2bc298fe",
   "metadata": {},
   "outputs": [],
   "source": [
    "# Instantiate the models\n",
    "multinb = MultinomialNB()\n",
    "knn = KNeighborsClassifier()\n",
    "log_reg = LogisticRegression()\n",
    "\n",
    "# Set number of columns of X_train: n_cols\n",
    "n_cols = X_train.shape[1]\n",
    "\n",
    "# Create the keras model: nn\n",
    "nn = Sequential()\n",
    "\n",
    "# Add the first layer\n",
    "nn.add(Dense(50, activation = \"relu\", input_shape = (n_cols,)))\n",
    "\n",
    "# Add the second layer\n",
    "nn.add(Dense(25, activation = \"relu\"))\n",
    "\n",
    "# Add the output layer\n",
    "nn.add(Dense(2, activation = 'softmax'))"
   ]
  },
  {
   "cell_type": "markdown",
   "id": "c1bf095f",
   "metadata": {},
   "source": [
    "## Model training\n",
    "In this paragraph, we'll train on the train set for all models."
   ]
  },
  {
   "cell_type": "code",
   "execution_count": 324,
   "id": "ccb90e54",
   "metadata": {},
   "outputs": [],
   "source": [
    "# Define a function that trains and predicts on gridsearch cv using \n",
    "# a model and parameters as input: gridsearch\n",
    "def gridsearchcv(model, X_train, X_val, y_train, parameters, name):  \n",
    "    print(f\"Performing GridSearchCV on {name}\")\n",
    "    \n",
    "    # Define grid search\n",
    "    cv = GridSearchCV(model, parameters, cv=5, scoring = \"accuracy\", n_jobs = -1)\n",
    "    cv.fit(X_train, y_train)\n",
    "    \n",
    "    # Retrieve the best model\n",
    "    best_model = cv.best_estimator_\n",
    "    \n",
    "    # Predict on the validation set using the best model\n",
    "    y_pred = best_model.predict(X_val)\n",
    "    \n",
    "    return y_pred"
   ]
  },
  {
   "cell_type": "code",
   "execution_count": 325,
   "id": "3a465c4a",
   "metadata": {},
   "outputs": [
    {
     "name": "stdout",
     "output_type": "stream",
     "text": [
      "Performing GridSearchCV on Naive Bayes\n",
      "Performing GridSearchCV on K Nearest Neighbor\n",
      "Performing GridSearchCV on Logistic Regression\n",
      "GridSearchCV done\n"
     ]
    }
   ],
   "source": [
    "# Train and predict on the MultinomialNB model using the gridsearchcv model\n",
    "# Set parameters\n",
    "params_multinb = {\n",
    "    \"alpha\": [0.2, 0.5, 1, 2, 5, 10],\n",
    "    \"fit_prior\": [True, False]\n",
    "}\n",
    "y_pred_multinb = gridsearchcv(multinb, X_train, X_val, y_train, \n",
    "                              params_multinb,  \"Naive Bayes\")\n",
    "\n",
    "# Train and predict on the KNN model using the gridsearchcv model\n",
    "# Set parameters\n",
    "params_knn = {\n",
    "    \"n_neighbors\": [3, 5, 15, 25, 35],\n",
    "    \"weights\": ['uniform', 'distance'],\n",
    "    \"leaf_size\": [10, 20, 30, 40, 50]\n",
    "}\n",
    "y_pred_knn = gridsearchcv(knn, X_train, X_val, y_train, \n",
    "                          params_knn, \"K Nearest Neighbor\")\n",
    "\n",
    "# Train and predict on the Logestic Regression model using the gridsearchcv model\n",
    "# Set parameters\n",
    "params_log_reg = {\n",
    "    'C': [0.01, 0.1, 0.5, 1.0, 1.5, 2.0],\n",
    "    'solver': ['newton-cg', 'lbfgs', 'liblinear']\n",
    "}\n",
    "y_pred_logreg = gridsearchcv(log_reg, X_train, X_val, y_train, \n",
    "                             params_log_reg, \"Logistic Regression\")\n",
    "\n",
    "print(\"GridSearchCV done\")"
   ]
  },
  {
   "cell_type": "code",
   "execution_count": 317,
   "id": "5f6e08ca",
   "metadata": {
    "scrolled": false
   },
   "outputs": [
    {
     "name": "stdout",
     "output_type": "stream",
     "text": [
      "Epoch 1/50\n",
      "182/182 [==============================] - 1s 2ms/step - loss: 0.6577 - accuracy: 0.6277 - val_loss: 0.5742 - val_accuracy: 0.7531\n",
      "Epoch 2/50\n",
      "182/182 [==============================] - 0s 2ms/step - loss: 0.4931 - accuracy: 0.7829 - val_loss: 0.4563 - val_accuracy: 0.8009\n",
      "Epoch 3/50\n",
      "182/182 [==============================] - 0s 3ms/step - loss: 0.4132 - accuracy: 0.8140 - val_loss: 0.4420 - val_accuracy: 0.7948\n",
      "Epoch 4/50\n",
      "182/182 [==============================] - 0s 2ms/step - loss: 0.3865 - accuracy: 0.8281 - val_loss: 0.4411 - val_accuracy: 0.8040\n",
      "Epoch 5/50\n",
      "182/182 [==============================] - 0s 3ms/step - loss: 0.3762 - accuracy: 0.8339 - val_loss: 0.4374 - val_accuracy: 0.7994\n",
      "Epoch 6/50\n",
      "182/182 [==============================] - 0s 2ms/step - loss: 0.3707 - accuracy: 0.8362 - val_loss: 0.4480 - val_accuracy: 0.7994\n",
      "Epoch 7/50\n",
      "182/182 [==============================] - 0s 3ms/step - loss: 0.3674 - accuracy: 0.8348 - val_loss: 0.4598 - val_accuracy: 0.7855\n",
      "Epoch 8/50\n",
      "182/182 [==============================] - 0s 2ms/step - loss: 0.3553 - accuracy: 0.8417 - val_loss: 0.4525 - val_accuracy: 0.7963\n"
     ]
    },
    {
     "data": {
      "text/plain": [
       "<keras.callbacks.History at 0x1ff89a422b0>"
      ]
     },
     "execution_count": 317,
     "metadata": {},
     "output_type": "execute_result"
    }
   ],
   "source": [
    "# Train on the keras neural network\n",
    "# Set parameters\n",
    "predictors = X_train.values\n",
    "target = to_categorical(y_train)\n",
    "validate_pred = X_val.values\n",
    "target_val = to_categorical(y_val)\n",
    "\n",
    "nn.compile(optimizer='adam', \n",
    "              loss='binary_crossentropy', \n",
    "              metrics=['accuracy'])\n",
    "\n",
    "# Define early_stopping_monitor\n",
    "early_stopping_monitor = EarlyStopping(patience = 3)\n",
    "\n",
    "# Fit the model\n",
    "nn.fit(predictors, target, epochs=50, batch_size=32, validation_split = 0.1, callbacks = [early_stopping_monitor])"
   ]
  },
  {
   "cell_type": "markdown",
   "id": "dfd694f9",
   "metadata": {},
   "source": [
    "## Model testing"
   ]
  },
  {
   "cell_type": "code",
   "execution_count": 251,
   "id": "7af5520c",
   "metadata": {},
   "outputs": [],
   "source": [
    "# Define a function that takes the predicted and actual values\n",
    "# and print/plots the results\n",
    "def model_evaluation(true, pred, name):\n",
    "    # Get the followings scores and print it:\n",
    "    # Accuracy, precision, recall and f1 score\n",
    "    acc = accuracy_score(true, pred)\n",
    "    prec = precision_score(true, pred)\n",
    "    rec = recall_score(true, pred)\n",
    "    f1 = f1_score(true, pred)\n",
    "    \n",
    "    # Print the results\n",
    "    print(f\"Results model {name}\")\n",
    "    print(f\"Accuracy of {name} model: {acc * 100:.3f}%\")\n",
    "    print(f\"Precision score of {name} model: {prec * 100:.3f}%\")    \n",
    "    print(f\"Recall score of {name} model: {rec * 100:.3f}%\")\n",
    "    print(f\"F1 score of {name} model: {f1 * 100:.3f}%\")\n",
    "    \n",
    "    # Get the confusion matrix and plot it\n",
    "    conf_matrix = confusion_matrix(true, pred)\n",
    "    \n",
    "    fig, ax = plt.subplots()\n",
    "    sns.heatmap(conf_matrix, annot = True, cbar = False, \n",
    "                fmt = 'd', cmap = 'Blues', ax = ax, xticklabels = [\"No disaster\", \"Disaster\"],\n",
    "               yticklabels = [\"No disaster\", \"Disaster\"])\n",
    "    ax.set_xlabel(\"Predicted values\")\n",
    "    ax.set_ylabel(\"Actual values\")\n",
    "    ax.set_title(f\"Confusion matrix of {name} model\")\n",
    "    plt.show()"
   ]
  },
  {
   "cell_type": "code",
   "execution_count": 318,
   "id": "71443b72",
   "metadata": {},
   "outputs": [
    {
     "name": "stdout",
     "output_type": "stream",
     "text": [
      "36/36 [==============================] - 0s 1ms/step\n",
      "36/36 [==============================] - 0s 2ms/step - loss: 0.5223 - accuracy: 0.7776\n",
      "Accuracy of the model on Training Data is - 77.75831818580627 %\n"
     ]
    }
   ],
   "source": [
    "# Set parameters for predicting on the neural network\n",
    "pred_data = X_val.values\n",
    "\n",
    "pred_nn = nn.predict(pred_data)\n",
    "\n",
    "# Calculate predicted probability of survival: predicted_prob_true\n",
    "#predicted_prob_true = pred_nn[:, 1]\n",
    "\n",
    "validate_pred = X_val.values\n",
    "target_val = to_categorical(y_val)\n",
    "\n",
    "# print predicted_prob_true\n",
    "print(\"Accuracy of the model on Training Data is -\", nn.evaluate(validate_pred,target_val)[1]*100, \"%\")\n",
    "\n",
    "# Get predicted outputs\n",
    "preds = []\n",
    "\n",
    "for i in range(pred_nn.shape[0]):\n",
    "    data = pred_nn[i]\n",
    "    \n",
    "    if data[0] > data[1]:\n",
    "        preds.append(0)\n",
    "    else:\n",
    "        preds.append(1)"
   ]
  },
  {
   "cell_type": "code",
   "execution_count": 319,
   "id": "ce82f7ff",
   "metadata": {},
   "outputs": [
    {
     "name": "stdout",
     "output_type": "stream",
     "text": [
      "Results model Naive Bayes - MultinomialNB\n",
      "Accuracy of Naive Bayes - MultinomialNB model: 75.569%\n",
      "Precision score of Naive Bayes - MultinomialNB model: 75.728%\n",
      "Recall score of Naive Bayes - MultinomialNB model: 63.544%\n",
      "F1 score of Naive Bayes - MultinomialNB model: 69.103%\n"
     ]
    },
    {
     "data": {
      "image/png": "[encoded data removed]",
      "text/plain": [
       "<Figure size 432x288 with 1 Axes>"
      ]
     },
     "metadata": {
      "needs_background": "light"
     },
     "output_type": "display_data"
    },
    {
     "name": "stdout",
     "output_type": "stream",
     "text": [
      "Results model K Nearest Neighbors\n",
      "Accuracy of K Nearest Neighbors model: 68.476%\n",
      "Precision score of K Nearest Neighbors model: 64.086%\n",
      "Recall score of K Nearest Neighbors model: 60.692%\n",
      "F1 score of K Nearest Neighbors model: 62.343%\n"
     ]
    },
    {
     "data": {
      "image/png": "[encoded data removed]",
      "text/plain": [
       "<Figure size 432x288 with 1 Axes>"
      ]
     },
     "metadata": {
      "needs_background": "light"
     },
     "output_type": "display_data"
    },
    {
     "name": "stdout",
     "output_type": "stream",
     "text": [
      "Results model Neural network\n",
      "Accuracy of Neural network model: 77.758%\n",
      "Precision score of Neural network model: 80.463%\n",
      "Recall score of Neural network model: 63.747%\n",
      "F1 score of Neural network model: 71.136%\n"
     ]
    },
    {
     "data": {
      "image/png": "[encoded data removed]",
      "text/plain": [
       "<Figure size 432x288 with 1 Axes>"
      ]
     },
     "metadata": {
      "needs_background": "light"
     },
     "output_type": "display_data"
    },
    {
     "name": "stdout",
     "output_type": "stream",
     "text": [
      "Results model Logistic Regression\n",
      "Accuracy of Logistic Regression model: 79.335%\n",
      "Precision score of Logistic Regression model: 80.430%\n",
      "Recall score of Logistic Regression model: 68.635%\n",
      "F1 score of Logistic Regression model: 74.066%\n"
     ]
    },
    {
     "data": {
      "image/png": "[encoded data removed]",
      "text/plain": [
       "<Figure size 432x288 with 1 Axes>"
      ]
     },
     "metadata": {
      "needs_background": "light"
     },
     "output_type": "display_data"
    }
   ],
   "source": [
    "# Call the model_evaluation function on the models\n",
    "model_evaluation(y_val, y_pred_multinb, \"Naive Bayes - MultinomialNB\")\n",
    "model_evaluation(y_val, y_pred_knn, \"K Nearest Neighbors\")\n",
    "model_evaluation(y_val, preds, \"Neural network\")\n",
    "model_evaluation(y_val, y_pred_logreg, \"Logistic Regression\")"
   ]
  },
  {
   "cell_type": "markdown",
   "id": "58348b59",
   "metadata": {},
   "source": [
    "## Findings"
   ]
  },
  {
   "cell_type": "code",
   "execution_count": null,
   "id": "c9c171b2",
   "metadata": {},
   "outputs": [],
   "source": []
  },
  {
   "cell_type": "markdown",
   "id": "62985262",
   "metadata": {},
   "source": [
    "# Model selection and final training"
   ]
  },
  {
   "cell_type": "code",
   "execution_count": null,
   "id": "63100b8f",
   "metadata": {},
   "outputs": [],
   "source": []
  },
  {
   "cell_type": "markdown",
   "id": "2fc9c108",
   "metadata": {},
   "source": [
    "# Conclusion\n",
    "Draw major findings:\n",
    "- Relationships: both visual and hypothesis testing\n",
    "- Other findings from visualizations\n",
    "- Evaluation from models"
   ]
  },
  {
   "cell_type": "markdown",
   "id": "7457b46a",
   "metadata": {},
   "source": [
    "# Final submission"
   ]
  },
  {
   "cell_type": "code",
   "execution_count": 234,
   "id": "625679d4",
   "metadata": {},
   "outputs": [],
   "source": [
    "# Test on test set\n",
    "\n",
    "# Convert to csv "
   ]
  }
 ],
 "metadata": {
  "kernelspec": {
   "display_name": "Python 3 (ipykernel)",
   "language": "python",
   "name": "python3"
  },
  "language_info": {
   "codemirror_mode": {
    "name": "ipython",
    "version": 3
   },
   "file_extension": ".py",
   "mimetype": "text/x-python",
   "name": "python",
   "nbconvert_exporter": "python",
   "pygments_lexer": "ipython3",
   "version": "3.9.7"
  }
 },
 "nbformat": 4,
 "nbformat_minor": 5
}

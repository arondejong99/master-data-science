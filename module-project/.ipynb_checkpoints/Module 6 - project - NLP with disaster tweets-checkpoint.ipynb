{
 "cells": [
  {
   "cell_type": "markdown",
   "id": "c2e0b8e1",
   "metadata": {},
   "source": [
    "# Introduction\n",
    "In this exercise, we're going to do Natural Language Processing (NLP) regarding disaster tweets. The data used for this is retrieved at the following [link](https://www.kaggle.com/c/nlp-getting-started/overview). "
   ]
  },
  {
   "cell_type": "code",
   "execution_count": 54,
   "id": "f7145472",
   "metadata": {
    "scrolled": false
   },
   "outputs": [
    {
     "name": "stdout",
     "output_type": "stream",
     "text": [
      "Requirement already satisfied: wordcloud in c:\\users\\ardejong\\anaconda\\lib\\site-packages (1.8.2.2)\n",
      "Requirement already satisfied: pillow in c:\\users\\ardejong\\anaconda\\lib\\site-packages (from wordcloud) (8.4.0)\n",
      "Requirement already satisfied: matplotlib in c:\\users\\ardejong\\appdata\\roaming\\python\\python39\\site-packages (from wordcloud) (3.5.1)\n",
      "Requirement already satisfied: numpy>=1.6.1 in c:\\users\\ardejong\\anaconda\\lib\\site-packages (from wordcloud) (1.20.3)\n",
      "Requirement already satisfied: cycler>=0.10 in c:\\users\\ardejong\\anaconda\\lib\\site-packages (from matplotlib->wordcloud) (0.10.0)\n",
      "Requirement already satisfied: packaging>=20.0 in c:\\users\\ardejong\\anaconda\\lib\\site-packages (from matplotlib->wordcloud) (21.0)\n",
      "Requirement already satisfied: pyparsing>=2.2.1 in c:\\users\\ardejong\\anaconda\\lib\\site-packages (from matplotlib->wordcloud) (3.0.4)\n",
      "Requirement already satisfied: python-dateutil>=2.7 in c:\\users\\ardejong\\anaconda\\lib\\site-packages (from matplotlib->wordcloud) (2.8.2)\n",
      "Requirement already satisfied: kiwisolver>=1.0.1 in c:\\users\\ardejong\\anaconda\\lib\\site-packages (from matplotlib->wordcloud) (1.3.1)\n",
      "Requirement already satisfied: fonttools>=4.22.0 in c:\\users\\ardejong\\anaconda\\lib\\site-packages (from matplotlib->wordcloud) (4.25.0)\n",
      "Requirement already satisfied: six in c:\\users\\ardejong\\anaconda\\lib\\site-packages (from cycler>=0.10->matplotlib->wordcloud) (1.16.0)\n",
      "Requirement already satisfied: keras in c:\\users\\ardejong\\anaconda\\lib\\site-packages (2.9.0)\n",
      "Collecting tensorflow\n",
      "  Downloading tensorflow-2.9.1-cp39-cp39-win_amd64.whl (444.0 MB)\n",
      "Requirement already satisfied: six>=1.12.0 in c:\\users\\ardejong\\anaconda\\lib\\site-packages (from tensorflow) (1.16.0)\n",
      "Collecting tensorflow-estimator<2.10.0,>=2.9.0rc0\n",
      "  Downloading tensorflow_estimator-2.9.0-py2.py3-none-any.whl (438 kB)\n",
      "Collecting tensorboard<2.10,>=2.9\n",
      "  Downloading tensorboard-2.9.1-py3-none-any.whl (5.8 MB)\n",
      "Collecting absl-py>=1.0.0\n",
      "  Downloading absl_py-1.2.0-py3-none-any.whl (123 kB)\n",
      "Requirement already satisfied: keras<2.10.0,>=2.9.0rc0 in c:\\users\\ardejong\\anaconda\\lib\\site-packages (from tensorflow) (2.9.0)\n",
      "Collecting libclang>=13.0.0\n",
      "  Downloading libclang-14.0.6-py2.py3-none-win_amd64.whl (14.2 MB)\n",
      "Collecting opt-einsum>=2.3.2\n",
      "  Downloading opt_einsum-3.3.0-py3-none-any.whl (65 kB)\n",
      "Requirement already satisfied: setuptools in c:\\users\\ardejong\\anaconda\\lib\\site-packages (from tensorflow) (58.0.4)\n",
      "Collecting google-pasta>=0.1.1\n",
      "  Downloading google_pasta-0.2.0-py3-none-any.whl (57 kB)\n",
      "Collecting protobuf<3.20,>=3.9.2\n",
      "  Downloading protobuf-3.19.4-cp39-cp39-win_amd64.whl (895 kB)\n",
      "Requirement already satisfied: h5py>=2.9.0 in c:\\users\\ardejong\\anaconda\\lib\\site-packages (from tensorflow) (3.2.1)\n",
      "Collecting astunparse>=1.6.0\n",
      "  Downloading astunparse-1.6.3-py2.py3-none-any.whl (12 kB)\n",
      "Collecting termcolor>=1.1.0\n",
      "  Downloading termcolor-1.1.0.tar.gz (3.9 kB)\n",
      "Collecting grpcio<2.0,>=1.24.3\n",
      "  Downloading grpcio-1.47.0-cp39-cp39-win_amd64.whl (3.6 MB)\n",
      "Requirement already satisfied: wrapt>=1.11.0 in c:\\users\\ardejong\\anaconda\\lib\\site-packages (from tensorflow) (1.12.1)\n",
      "Collecting flatbuffers<2,>=1.12\n",
      "  Downloading flatbuffers-1.12-py2.py3-none-any.whl (15 kB)\n",
      "Collecting keras-preprocessing>=1.1.1\n",
      "  Downloading Keras_Preprocessing-1.1.2-py2.py3-none-any.whl (42 kB)\n",
      "Collecting gast<=0.4.0,>=0.2.1\n",
      "  Downloading gast-0.4.0-py3-none-any.whl (9.8 kB)\n",
      "Requirement already satisfied: numpy>=1.20 in c:\\users\\ardejong\\anaconda\\lib\\site-packages (from tensorflow) (1.20.3)\n",
      "Requirement already satisfied: packaging in c:\\users\\ardejong\\anaconda\\lib\\site-packages (from tensorflow) (21.0)\n",
      "Collecting tensorflow-io-gcs-filesystem>=0.23.1\n",
      "  Downloading tensorflow_io_gcs_filesystem-0.26.0-cp39-cp39-win_amd64.whl (1.5 MB)\n",
      "Requirement already satisfied: typing-extensions>=3.6.6 in c:\\users\\ardejong\\anaconda\\lib\\site-packages (from tensorflow) (3.10.0.2)\n",
      "Requirement already satisfied: wheel<1.0,>=0.23.0 in c:\\users\\ardejong\\anaconda\\lib\\site-packages (from astunparse>=1.6.0->tensorflow) (0.37.0)\n",
      "Requirement already satisfied: requests<3,>=2.21.0 in c:\\users\\ardejong\\appdata\\roaming\\python\\python39\\site-packages (from tensorboard<2.10,>=2.9->tensorflow) (2.25.1)\n",
      "Collecting tensorboard-plugin-wit>=1.6.0\n",
      "  Downloading tensorboard_plugin_wit-1.8.1-py3-none-any.whl (781 kB)\n",
      "Collecting google-auth-oauthlib<0.5,>=0.4.1\n",
      "  Downloading google_auth_oauthlib-0.4.6-py2.py3-none-any.whl (18 kB)\n",
      "Requirement already satisfied: werkzeug>=1.0.1 in c:\\users\\ardejong\\anaconda\\lib\\site-packages (from tensorboard<2.10,>=2.9->tensorflow) (2.0.2)\n",
      "Collecting markdown>=2.6.8\n",
      "  Downloading Markdown-3.4.1-py3-none-any.whl (93 kB)\n",
      "Collecting google-auth<3,>=1.6.3\n",
      "  Downloading google_auth-2.10.0-py2.py3-none-any.whl (167 kB)\n",
      "Collecting tensorboard-data-server<0.7.0,>=0.6.0\n",
      "  Downloading tensorboard_data_server-0.6.1-py3-none-any.whl (2.4 kB)\n",
      "Collecting pyasn1-modules>=0.2.1\n",
      "  Downloading pyasn1_modules-0.2.8-py2.py3-none-any.whl (155 kB)\n",
      "Collecting rsa<5,>=3.1.4\n",
      "  Downloading rsa-4.9-py3-none-any.whl (34 kB)\n",
      "Collecting cachetools<6.0,>=2.0.0\n",
      "  Downloading cachetools-5.2.0-py3-none-any.whl (9.3 kB)\n",
      "Collecting requests-oauthlib>=0.7.0\n",
      "  Downloading requests_oauthlib-1.3.1-py2.py3-none-any.whl (23 kB)\n",
      "Requirement already satisfied: importlib-metadata>=4.4 in c:\\users\\ardejong\\anaconda\\lib\\site-packages (from markdown>=2.6.8->tensorboard<2.10,>=2.9->tensorflow) (4.8.1)\n",
      "Requirement already satisfied: zipp>=0.5 in c:\\users\\ardejong\\anaconda\\lib\\site-packages (from importlib-metadata>=4.4->markdown>=2.6.8->tensorboard<2.10,>=2.9->tensorflow) (3.6.0)\n",
      "Collecting pyasn1<0.5.0,>=0.4.6\n",
      "  Downloading pyasn1-0.4.8-py2.py3-none-any.whl (77 kB)\n",
      "Requirement already satisfied: chardet<5,>=3.0.2 in c:\\users\\ardejong\\anaconda\\lib\\site-packages (from requests<3,>=2.21.0->tensorboard<2.10,>=2.9->tensorflow) (4.0.0)\n",
      "Requirement already satisfied: urllib3<1.27,>=1.21.1 in c:\\users\\ardejong\\anaconda\\lib\\site-packages (from requests<3,>=2.21.0->tensorboard<2.10,>=2.9->tensorflow) (1.26.7)\n",
      "Requirement already satisfied: certifi>=2017.4.17 in c:\\users\\ardejong\\anaconda\\lib\\site-packages (from requests<3,>=2.21.0->tensorboard<2.10,>=2.9->tensorflow) (2021.10.8)\n",
      "Requirement already satisfied: idna<3,>=2.5 in c:\\users\\ardejong\\appdata\\roaming\\python\\python39\\site-packages (from requests<3,>=2.21.0->tensorboard<2.10,>=2.9->tensorflow) (2.10)\n",
      "Collecting oauthlib>=3.0.0\n",
      "  Downloading oauthlib-3.2.0-py3-none-any.whl (151 kB)\n",
      "Requirement already satisfied: pyparsing>=2.0.2 in c:\\users\\ardejong\\anaconda\\lib\\site-packages (from packaging->tensorflow) (3.0.4)\n",
      "Building wheels for collected packages: termcolor\n",
      "  Building wheel for termcolor (setup.py): started\n",
      "  Building wheel for termcolor (setup.py): finished with status 'done'\n",
      "  Created wheel for termcolor: filename=termcolor-1.1.0-py3-none-any.whl size=4847 sha256=69b85c8958cff4bb9daa2b26b73b64903eea67dd217a243fee57b6ab670a49ea\n",
      "  Stored in directory: c:\\users\\ardejong\\appdata\\local\\pip\\cache\\wheels\\b6\\0d\\90\\0d1bbd99855f99cb2f6c2e5ff96f8023fad8ec367695f7d72d\n",
      "Successfully built termcolor\n",
      "Installing collected packages: pyasn1, rsa, pyasn1-modules, oauthlib, cachetools, requests-oauthlib, google-auth, tensorboard-plugin-wit, tensorboard-data-server, protobuf, markdown, grpcio, google-auth-oauthlib, absl-py, termcolor, tensorflow-io-gcs-filesystem, tensorflow-estimator, tensorboard, opt-einsum, libclang, keras-preprocessing, google-pasta, gast, flatbuffers, astunparse, tensorflow\n",
      "Successfully installed absl-py-1.2.0 astunparse-1.6.3 cachetools-5.2.0 flatbuffers-1.12 gast-0.4.0 google-auth-2.10.0 google-auth-oauthlib-0.4.6 google-pasta-0.2.0 grpcio-1.47.0 keras-preprocessing-1.1.2 libclang-14.0.6 markdown-3.4.1 oauthlib-3.2.0 opt-einsum-3.3.0 protobuf-3.19.4 pyasn1-0.4.8 pyasn1-modules-0.2.8 requests-oauthlib-1.3.1 rsa-4.9 tensorboard-2.9.1 tensorboard-data-server-0.6.1 tensorboard-plugin-wit-1.8.1 tensorflow-2.9.1 tensorflow-estimator-2.9.0 tensorflow-io-gcs-filesystem-0.26.0 termcolor-1.1.0\n"
     ]
    }
   ],
   "source": [
    "# Install wordcloud and keras if you haven't already\n",
    "!pip install wordcloud\n",
    "!pip install keras\n",
    "!pip install tensorflow"
   ]
  },
  {
   "cell_type": "code",
   "execution_count": 111,
   "id": "c44b37b2",
   "metadata": {},
   "outputs": [],
   "source": [
    "# Importing the necessary modules\n",
    "import pandas as pd\n",
    "import numpy as np\n",
    "import matplotlib.pyplot as plt\n",
    "import seaborn as sns\n",
    "from nltk.tokenize.regexp import regexp_tokenize\n",
    "from langdetect import detect\n",
    "from sklearn.naive_bayes import MultinomialNB\n",
    "from sklearn.metrics import accuracy_score, confusion_matrix, precision_score, recall_score, f1_score\n",
    "from sklearn.model_selection import train_test_split\n",
    "from sklearn.feature_extraction.text import TfidfVectorizer\n",
    "from sklearn.preprocessing import LabelEncoder, OneHotEncoder\n",
    "from sklearn.svm import SVC\n",
    "from wordcloud import WordCloud\n",
    "import scipy.stats as stats\n",
    "import random\n",
    "import re\n",
    "import keras\n",
    "from keras.layers import Dense\n",
    "from keras.models import Sequential\n",
    "from keras.utils import to_categorical"
   ]
  },
  {
   "cell_type": "markdown",
   "id": "42bcdd84",
   "metadata": {},
   "source": [
    "# Data preparation\n",
    "In this chapter, the data will be imported and cleaned to make it ready for our data analysis\n",
    "\n",
    "## Data import"
   ]
  },
  {
   "cell_type": "code",
   "execution_count": 3,
   "id": "939fbbe2",
   "metadata": {},
   "outputs": [
    {
     "data": {
      "text/html": [
       "<div>\n",
       "<style scoped>\n",
       "    .dataframe tbody tr th:only-of-type {\n",
       "        vertical-align: middle;\n",
       "    }\n",
       "\n",
       "    .dataframe tbody tr th {\n",
       "        vertical-align: top;\n",
       "    }\n",
       "\n",
       "    .dataframe thead th {\n",
       "        text-align: right;\n",
       "    }\n",
       "</style>\n",
       "<table border=\"1\" class=\"dataframe\">\n",
       "  <thead>\n",
       "    <tr style=\"text-align: right;\">\n",
       "      <th></th>\n",
       "      <th>id</th>\n",
       "      <th>keyword</th>\n",
       "      <th>location</th>\n",
       "      <th>text</th>\n",
       "      <th>target</th>\n",
       "    </tr>\n",
       "  </thead>\n",
       "  <tbody>\n",
       "    <tr>\n",
       "      <th>0</th>\n",
       "      <td>1</td>\n",
       "      <td>NaN</td>\n",
       "      <td>NaN</td>\n",
       "      <td>Our Deeds are the Reason of this #earthquake M...</td>\n",
       "      <td>1</td>\n",
       "    </tr>\n",
       "    <tr>\n",
       "      <th>1</th>\n",
       "      <td>4</td>\n",
       "      <td>NaN</td>\n",
       "      <td>NaN</td>\n",
       "      <td>Forest fire near La Ronge Sask. Canada</td>\n",
       "      <td>1</td>\n",
       "    </tr>\n",
       "    <tr>\n",
       "      <th>2</th>\n",
       "      <td>5</td>\n",
       "      <td>NaN</td>\n",
       "      <td>NaN</td>\n",
       "      <td>All residents asked to 'shelter in place' are ...</td>\n",
       "      <td>1</td>\n",
       "    </tr>\n",
       "    <tr>\n",
       "      <th>3</th>\n",
       "      <td>6</td>\n",
       "      <td>NaN</td>\n",
       "      <td>NaN</td>\n",
       "      <td>13,000 people receive #wildfires evacuation or...</td>\n",
       "      <td>1</td>\n",
       "    </tr>\n",
       "    <tr>\n",
       "      <th>4</th>\n",
       "      <td>7</td>\n",
       "      <td>NaN</td>\n",
       "      <td>NaN</td>\n",
       "      <td>Just got sent this photo from Ruby #Alaska as ...</td>\n",
       "      <td>1</td>\n",
       "    </tr>\n",
       "  </tbody>\n",
       "</table>\n",
       "</div>"
      ],
      "text/plain": [
       "   id keyword location                                               text  \\\n",
       "0   1     NaN      NaN  Our Deeds are the Reason of this #earthquake M...   \n",
       "1   4     NaN      NaN             Forest fire near La Ronge Sask. Canada   \n",
       "2   5     NaN      NaN  All residents asked to 'shelter in place' are ...   \n",
       "3   6     NaN      NaN  13,000 people receive #wildfires evacuation or...   \n",
       "4   7     NaN      NaN  Just got sent this photo from Ruby #Alaska as ...   \n",
       "\n",
       "   target  \n",
       "0       1  \n",
       "1       1  \n",
       "2       1  \n",
       "3       1  \n",
       "4       1  "
      ]
     },
     "execution_count": 3,
     "metadata": {},
     "output_type": "execute_result"
    }
   ],
   "source": [
    "# Import the data using pandas\n",
    "trainset = pd.read_csv(\"train.csv\")\n",
    "testset = pd.read_csv(\"test.csv\")\n",
    "\n",
    "trainset.head()"
   ]
  },
  {
   "cell_type": "markdown",
   "id": "e1efb9b1",
   "metadata": {},
   "source": [
    "## Cleaning\n",
    "In this paragraph, we'll clean the two datasets. We'll do that by performing the next steps:\n",
    "- Dealing with null values\n",
    "- Cleaning text for keyword and location column\n",
    "- Cleaning text data (remove url, HTMLs, emojies, hastags)\n",
    "- Remove unnecessary features"
   ]
  },
  {
   "cell_type": "code",
   "execution_count": 4,
   "id": "8c2ba1e3",
   "metadata": {
    "scrolled": false
   },
   "outputs": [
    {
     "name": "stdout",
     "output_type": "stream",
     "text": [
      "<class 'pandas.core.frame.DataFrame'>\n",
      "RangeIndex: 7613 entries, 0 to 7612\n",
      "Data columns (total 5 columns):\n",
      " #   Column    Non-Null Count  Dtype \n",
      "---  ------    --------------  ----- \n",
      " 0   id        7613 non-null   int64 \n",
      " 1   keyword   7552 non-null   object\n",
      " 2   location  5080 non-null   object\n",
      " 3   text      7613 non-null   object\n",
      " 4   target    7613 non-null   int64 \n",
      "dtypes: int64(2), object(3)\n",
      "memory usage: 297.5+ KB\n"
     ]
    },
    {
     "data": {
      "text/plain": [
       "None"
      ]
     },
     "metadata": {},
     "output_type": "display_data"
    },
    {
     "name": "stdout",
     "output_type": "stream",
     "text": [
      "<class 'pandas.core.frame.DataFrame'>\n",
      "RangeIndex: 3263 entries, 0 to 3262\n",
      "Data columns (total 4 columns):\n",
      " #   Column    Non-Null Count  Dtype \n",
      "---  ------    --------------  ----- \n",
      " 0   id        3263 non-null   int64 \n",
      " 1   keyword   3237 non-null   object\n",
      " 2   location  2158 non-null   object\n",
      " 3   text      3263 non-null   object\n",
      "dtypes: int64(1), object(3)\n",
      "memory usage: 102.1+ KB\n"
     ]
    },
    {
     "data": {
      "text/plain": [
       "None"
      ]
     },
     "metadata": {},
     "output_type": "display_data"
    }
   ],
   "source": [
    "# Check the datasets using the info method\n",
    "display(trainset.info())\n",
    "display(testset.info())"
   ]
  },
  {
   "cell_type": "markdown",
   "id": "c0035a96",
   "metadata": {},
   "source": [
    "### Dealing with null values"
   ]
  },
  {
   "cell_type": "code",
   "execution_count": 5,
   "id": "69bd36de",
   "metadata": {},
   "outputs": [
    {
     "name": "stdout",
     "output_type": "stream",
     "text": [
      "Null values per column for the train set :\n",
      "id             0\n",
      "keyword       61\n",
      "location    2533\n",
      "text           0\n",
      "target         0\n",
      "dtype: int64\n",
      "Null values per column for the test set:\n",
      "id             0\n",
      "keyword       26\n",
      "location    1105\n",
      "text           0\n",
      "dtype: int64\n"
     ]
    }
   ],
   "source": [
    "print(f\"Null values per column for the train set :\\n{trainset.isnull().sum()}\")\n",
    "print(f\"Null values per column for the test set:\\n{testset.isnull().sum()}\")"
   ]
  },
  {
   "cell_type": "code",
   "execution_count": 6,
   "id": "1af4a690",
   "metadata": {},
   "outputs": [
    {
     "name": "stdout",
     "output_type": "stream",
     "text": [
      "Null values percentage per column for the train set :\n",
      "id          0.000000\n",
      "keyword     0.008013\n",
      "location    0.332720\n",
      "text        0.000000\n",
      "target      0.000000\n",
      "dtype: float64\n",
      "Null values percentage per column for the test set:\n",
      "id          0.000000\n",
      "keyword     0.007968\n",
      "location    0.338645\n",
      "text        0.000000\n",
      "dtype: float64\n"
     ]
    }
   ],
   "source": [
    "# Check percentage of null values per column for both datasets\n",
    "print(f\"Null values percentage per column for the train set :\\n{trainset.isnull().sum() / trainset.shape[0]}\")\n",
    "print(f\"Null values percentage per column for the test set:\\n{testset.isnull().sum() / testset.shape[0]}\")"
   ]
  },
  {
   "cell_type": "markdown",
   "id": "385c82da",
   "metadata": {},
   "source": [
    "What we see here is that for both train and test set, there are two columns with null values: `location` and `keyword`. For the location column, around 1/3th of the column has no values, whilst the keyword column only has about 0.8 percent of missing data. Since their're both text columns with lots of variety, the best way to deal with the null values, is to use the backward and forward fill method, which fills the null value with the next and previous non-null value."
   ]
  },
  {
   "cell_type": "code",
   "execution_count": 7,
   "id": "0bce2d60",
   "metadata": {},
   "outputs": [
    {
     "name": "stdout",
     "output_type": "stream",
     "text": [
      "Null values per column for the train set :\n",
      "id          0\n",
      "keyword     0\n",
      "location    0\n",
      "text        0\n",
      "target      0\n",
      "dtype: int64\n",
      "Null values per column for the test set:\n",
      "id          0\n",
      "keyword     0\n",
      "location    0\n",
      "text        0\n",
      "dtype: int64\n"
     ]
    }
   ],
   "source": [
    "# Fill the na values with the bfill method\n",
    "trainset = trainset.bfill(axis = 'rows')\n",
    "testset = testset.bfill(axis = 'rows')\n",
    "\n",
    "# Fill the na values with the ffill method\n",
    "trainset = trainset.ffill(axis = 'rows')\n",
    "testset = testset.ffill(axis = 'rows')\n",
    "\n",
    "# Print the null values per column to see if the fill method worked\n",
    "print(f\"Null values per column for the train set :\\n{trainset.isnull().sum()}\")\n",
    "print(f\"Null values per column for the test set:\\n{testset.isnull().sum()}\")"
   ]
  },
  {
   "cell_type": "markdown",
   "id": "8a3bc438",
   "metadata": {},
   "source": [
    "### Cleaning text for keyword and location column"
   ]
  },
  {
   "cell_type": "code",
   "execution_count": 8,
   "id": "91f12d2b",
   "metadata": {},
   "outputs": [],
   "source": [
    "# Create a function that clean the text columns: clean_text\n",
    "def clean_text(series):\n",
    "    # Lower to lowercase for each word\n",
    "    series = series.apply(lambda x: x.lower())\n",
    "    \n",
    "    # Remove numbers\n",
    "    pattern = r\"[0-9]\"\n",
    "    series = series.apply(lambda x: re.sub(pattern, ' ', x))\n",
    "    \n",
    "    # Remove special character\n",
    "    pattern = r\"[^a-zA-Z0-9]\"\n",
    "    series = series.apply(lambda x: re.sub(pattern, ' ', x))\n",
    "    \n",
    "    # Remove URLs\n",
    "    pattern = r'http\\S+'\n",
    "    series = series.apply(lambda x: re.sub(pattern, ' ', x))\n",
    "    \n",
    "    # Remove emojies\n",
    "    emoji_pattern = re.compile(\"[\"\n",
    "                               u\"\\U0001F600-\\U0001F64F\"  # emoticons\n",
    "                               u\"\\U0001F300-\\U0001F5FF\"  # symbols & pictographs\n",
    "                               u\"\\U0001F680-\\U0001F6FF\"  # transport & map symbols\n",
    "                               u\"\\U0001F1E0-\\U0001F1FF\"  # flags (iOS)\n",
    "                           \"]+\", flags=re.UNICODE)\n",
    "    \n",
    "    series = series.apply(lambda x: emoji_pattern.sub(r' emoji ', x))\n",
    "    \n",
    "    return series"
   ]
  },
  {
   "cell_type": "code",
   "execution_count": 9,
   "id": "387342b0",
   "metadata": {},
   "outputs": [
    {
     "name": "stdout",
     "output_type": "stream",
     "text": [
      "<class 'pandas.core.frame.DataFrame'>\n",
      "RangeIndex: 7613 entries, 0 to 7612\n",
      "Data columns (total 5 columns):\n",
      " #   Column    Non-Null Count  Dtype \n",
      "---  ------    --------------  ----- \n",
      " 0   id        7613 non-null   int64 \n",
      " 1   keyword   7613 non-null   object\n",
      " 2   location  7613 non-null   object\n",
      " 3   text      7613 non-null   object\n",
      " 4   target    7613 non-null   int64 \n",
      "dtypes: int64(2), object(3)\n",
      "memory usage: 297.5+ KB\n"
     ]
    }
   ],
   "source": [
    "# Apply clean_data function to the keyword and location columns\n",
    "columns = ['keyword', 'location', 'text']\n",
    "trainset[columns] = trainset[columns].apply(lambda x: clean_text(x))\n",
    "testset[columns] = testset[columns].apply(lambda x: clean_text(x))\n",
    "\n",
    "trainset.info()"
   ]
  },
  {
   "cell_type": "markdown",
   "id": "653e1b70",
   "metadata": {},
   "source": [
    "### Remove unnecesarry features\n",
    "In this paragraph, we'll remove unnecesarry features from our dataset. This will be the `id` column"
   ]
  },
  {
   "cell_type": "code",
   "execution_count": 10,
   "id": "217678fd",
   "metadata": {},
   "outputs": [
    {
     "data": {
      "text/html": [
       "<div>\n",
       "<style scoped>\n",
       "    .dataframe tbody tr th:only-of-type {\n",
       "        vertical-align: middle;\n",
       "    }\n",
       "\n",
       "    .dataframe tbody tr th {\n",
       "        vertical-align: top;\n",
       "    }\n",
       "\n",
       "    .dataframe thead th {\n",
       "        text-align: right;\n",
       "    }\n",
       "</style>\n",
       "<table border=\"1\" class=\"dataframe\">\n",
       "  <thead>\n",
       "    <tr style=\"text-align: right;\">\n",
       "      <th></th>\n",
       "      <th>keyword</th>\n",
       "      <th>location</th>\n",
       "      <th>text</th>\n",
       "      <th>target</th>\n",
       "    </tr>\n",
       "  </thead>\n",
       "  <tbody>\n",
       "    <tr>\n",
       "      <th>0</th>\n",
       "      <td>ablaze</td>\n",
       "      <td>birmingham</td>\n",
       "      <td>our deeds are the reason of this  earthquake m...</td>\n",
       "      <td>1</td>\n",
       "    </tr>\n",
       "    <tr>\n",
       "      <th>1</th>\n",
       "      <td>ablaze</td>\n",
       "      <td>birmingham</td>\n",
       "      <td>forest fire near la ronge sask  canada</td>\n",
       "      <td>1</td>\n",
       "    </tr>\n",
       "    <tr>\n",
       "      <th>2</th>\n",
       "      <td>ablaze</td>\n",
       "      <td>birmingham</td>\n",
       "      <td>all residents asked to  shelter in place  are ...</td>\n",
       "      <td>1</td>\n",
       "    </tr>\n",
       "    <tr>\n",
       "      <th>3</th>\n",
       "      <td>ablaze</td>\n",
       "      <td>birmingham</td>\n",
       "      <td>people receive  wildfires evacuation or...</td>\n",
       "      <td>1</td>\n",
       "    </tr>\n",
       "    <tr>\n",
       "      <th>4</th>\n",
       "      <td>ablaze</td>\n",
       "      <td>birmingham</td>\n",
       "      <td>just got sent this photo from ruby  alaska as ...</td>\n",
       "      <td>1</td>\n",
       "    </tr>\n",
       "  </tbody>\n",
       "</table>\n",
       "</div>"
      ],
      "text/plain": [
       "  keyword    location                                               text  \\\n",
       "0  ablaze  birmingham  our deeds are the reason of this  earthquake m...   \n",
       "1  ablaze  birmingham             forest fire near la ronge sask  canada   \n",
       "2  ablaze  birmingham  all residents asked to  shelter in place  are ...   \n",
       "3  ablaze  birmingham         people receive  wildfires evacuation or...   \n",
       "4  ablaze  birmingham  just got sent this photo from ruby  alaska as ...   \n",
       "\n",
       "   target  \n",
       "0       1  \n",
       "1       1  \n",
       "2       1  \n",
       "3       1  \n",
       "4       1  "
      ]
     },
     "execution_count": 10,
     "metadata": {},
     "output_type": "execute_result"
    }
   ],
   "source": [
    "trainset_clean = trainset.drop('id', axis = 1)\n",
    "testset_clean = testset.drop('id', axis = 1)\n",
    "trainset_clean.head()"
   ]
  },
  {
   "cell_type": "markdown",
   "id": "b21a86a8",
   "metadata": {},
   "source": [
    "## Creating new features\n",
    "In this paragraph, we'll add new features to the dataset. This is done in order to increase the input for the model training and testing. We'll add the following features:\n",
    "- Number of tokens used in tweet: n_tokens\n",
    "- Language of the tweet: language\n",
    "\n",
    "### Number of tokens used in tweet: n_tokens"
   ]
  },
  {
   "cell_type": "code",
   "execution_count": 11,
   "id": "07544f1d",
   "metadata": {},
   "outputs": [
    {
     "data": {
      "text/html": [
       "<div>\n",
       "<style scoped>\n",
       "    .dataframe tbody tr th:only-of-type {\n",
       "        vertical-align: middle;\n",
       "    }\n",
       "\n",
       "    .dataframe tbody tr th {\n",
       "        vertical-align: top;\n",
       "    }\n",
       "\n",
       "    .dataframe thead th {\n",
       "        text-align: right;\n",
       "    }\n",
       "</style>\n",
       "<table border=\"1\" class=\"dataframe\">\n",
       "  <thead>\n",
       "    <tr style=\"text-align: right;\">\n",
       "      <th></th>\n",
       "      <th>keyword</th>\n",
       "      <th>location</th>\n",
       "      <th>text</th>\n",
       "      <th>target</th>\n",
       "      <th>n_tokens</th>\n",
       "    </tr>\n",
       "  </thead>\n",
       "  <tbody>\n",
       "    <tr>\n",
       "      <th>0</th>\n",
       "      <td>ablaze</td>\n",
       "      <td>birmingham</td>\n",
       "      <td>our deeds are the reason of this  earthquake m...</td>\n",
       "      <td>1</td>\n",
       "      <td>13</td>\n",
       "    </tr>\n",
       "    <tr>\n",
       "      <th>1</th>\n",
       "      <td>ablaze</td>\n",
       "      <td>birmingham</td>\n",
       "      <td>forest fire near la ronge sask  canada</td>\n",
       "      <td>1</td>\n",
       "      <td>7</td>\n",
       "    </tr>\n",
       "    <tr>\n",
       "      <th>2</th>\n",
       "      <td>ablaze</td>\n",
       "      <td>birmingham</td>\n",
       "      <td>all residents asked to  shelter in place  are ...</td>\n",
       "      <td>1</td>\n",
       "      <td>22</td>\n",
       "    </tr>\n",
       "    <tr>\n",
       "      <th>3</th>\n",
       "      <td>ablaze</td>\n",
       "      <td>birmingham</td>\n",
       "      <td>people receive  wildfires evacuation or...</td>\n",
       "      <td>1</td>\n",
       "      <td>7</td>\n",
       "    </tr>\n",
       "    <tr>\n",
       "      <th>4</th>\n",
       "      <td>ablaze</td>\n",
       "      <td>birmingham</td>\n",
       "      <td>just got sent this photo from ruby  alaska as ...</td>\n",
       "      <td>1</td>\n",
       "      <td>16</td>\n",
       "    </tr>\n",
       "  </tbody>\n",
       "</table>\n",
       "</div>"
      ],
      "text/plain": [
       "  keyword    location                                               text  \\\n",
       "0  ablaze  birmingham  our deeds are the reason of this  earthquake m...   \n",
       "1  ablaze  birmingham             forest fire near la ronge sask  canada   \n",
       "2  ablaze  birmingham  all residents asked to  shelter in place  are ...   \n",
       "3  ablaze  birmingham         people receive  wildfires evacuation or...   \n",
       "4  ablaze  birmingham  just got sent this photo from ruby  alaska as ...   \n",
       "\n",
       "   target  n_tokens  \n",
       "0       1        13  \n",
       "1       1         7  \n",
       "2       1        22  \n",
       "3       1         7  \n",
       "4       1        16  "
      ]
     },
     "execution_count": 11,
     "metadata": {},
     "output_type": "execute_result"
    }
   ],
   "source": [
    "# Create n_tokens feature using regex\n",
    "trainset_clean['n_tokens'] = [len(regexp_tokenize(line, '\\w+')) for line in trainset_clean.text]\n",
    "testset_clean['n_tokens'] = [len(regexp_tokenize(line, '\\w+')) for line in testset_clean.text]\n",
    "\n",
    "trainset_clean.head()"
   ]
  },
  {
   "cell_type": "markdown",
   "id": "3126f7cb",
   "metadata": {},
   "source": [
    "### Language of the tweet: language"
   ]
  },
  {
   "cell_type": "code",
   "execution_count": 12,
   "id": "a4d5d663",
   "metadata": {},
   "outputs": [],
   "source": [
    "# Create function for creating language features\n",
    "def language(series):\n",
    "# Create empty list: languages\n",
    "    languages = []\n",
    "    \n",
    "# Detect the langauge of each review using detect\n",
    "    for i in series:\n",
    "        lang = detect(i)\n",
    "        languages.append(lang)\n",
    "    \n",
    "    return languages"
   ]
  },
  {
   "cell_type": "code",
   "execution_count": 13,
   "id": "523091b8",
   "metadata": {
    "scrolled": true
   },
   "outputs": [
    {
     "data": {
      "text/html": [
       "<div>\n",
       "<style scoped>\n",
       "    .dataframe tbody tr th:only-of-type {\n",
       "        vertical-align: middle;\n",
       "    }\n",
       "\n",
       "    .dataframe tbody tr th {\n",
       "        vertical-align: top;\n",
       "    }\n",
       "\n",
       "    .dataframe thead th {\n",
       "        text-align: right;\n",
       "    }\n",
       "</style>\n",
       "<table border=\"1\" class=\"dataframe\">\n",
       "  <thead>\n",
       "    <tr style=\"text-align: right;\">\n",
       "      <th></th>\n",
       "      <th>keyword</th>\n",
       "      <th>location</th>\n",
       "      <th>text</th>\n",
       "      <th>n_tokens</th>\n",
       "      <th>language</th>\n",
       "    </tr>\n",
       "  </thead>\n",
       "  <tbody>\n",
       "    <tr>\n",
       "      <th>0</th>\n",
       "      <td>ablaze</td>\n",
       "      <td>london</td>\n",
       "      <td>just happened a terrible car crash</td>\n",
       "      <td>6</td>\n",
       "      <td>en</td>\n",
       "    </tr>\n",
       "    <tr>\n",
       "      <th>1</th>\n",
       "      <td>ablaze</td>\n",
       "      <td>london</td>\n",
       "      <td>heard about  earthquake is different cities  s...</td>\n",
       "      <td>9</td>\n",
       "      <td>en</td>\n",
       "    </tr>\n",
       "    <tr>\n",
       "      <th>2</th>\n",
       "      <td>ablaze</td>\n",
       "      <td>london</td>\n",
       "      <td>there is a forest fire at spot pond  geese are...</td>\n",
       "      <td>19</td>\n",
       "      <td>en</td>\n",
       "    </tr>\n",
       "    <tr>\n",
       "      <th>3</th>\n",
       "      <td>ablaze</td>\n",
       "      <td>london</td>\n",
       "      <td>apocalypse lighting   spokane  wildfires</td>\n",
       "      <td>4</td>\n",
       "      <td>en</td>\n",
       "    </tr>\n",
       "    <tr>\n",
       "      <th>4</th>\n",
       "      <td>ablaze</td>\n",
       "      <td>london</td>\n",
       "      <td>typhoon soudelor kills    in china and taiwan</td>\n",
       "      <td>7</td>\n",
       "      <td>en</td>\n",
       "    </tr>\n",
       "  </tbody>\n",
       "</table>\n",
       "</div>"
      ],
      "text/plain": [
       "  keyword location                                               text  \\\n",
       "0  ablaze   london                 just happened a terrible car crash   \n",
       "1  ablaze   london  heard about  earthquake is different cities  s...   \n",
       "2  ablaze   london  there is a forest fire at spot pond  geese are...   \n",
       "3  ablaze   london           apocalypse lighting   spokane  wildfires   \n",
       "4  ablaze   london      typhoon soudelor kills    in china and taiwan   \n",
       "\n",
       "   n_tokens language  \n",
       "0         6       en  \n",
       "1         9       en  \n",
       "2        19       en  \n",
       "3         4       en  \n",
       "4         7       en  "
      ]
     },
     "execution_count": 13,
     "metadata": {},
     "output_type": "execute_result"
    }
   ],
   "source": [
    "trainset_clean['language'] = language(trainset_clean.text)\n",
    "testset_clean['language'] = language(testset_clean.text)\n",
    "testset_clean.head()"
   ]
  },
  {
   "cell_type": "markdown",
   "id": "9dfb7861",
   "metadata": {},
   "source": [
    "### Length of keyword: len_keyword"
   ]
  },
  {
   "cell_type": "code",
   "execution_count": 14,
   "id": "d4aae17e",
   "metadata": {
    "scrolled": true
   },
   "outputs": [],
   "source": [
    "# Create column that takes the length of each keyword: len_keyword\n",
    "trainset_clean[\"len_keyword\"] = trainset_clean.keyword.apply(lambda x: len(x))\n",
    "testset_clean[\"len_keyword\"] = testset_clean.keyword.apply(lambda x: len(x))"
   ]
  },
  {
   "cell_type": "markdown",
   "id": "68864848",
   "metadata": {},
   "source": [
    "## Vectorizer \n",
    "In this paragraph, we'll vectorize the `text` column of the datasets. This will be done using a TfidfVectorizer."
   ]
  },
  {
   "cell_type": "code",
   "execution_count": 64,
   "id": "52e5cb13",
   "metadata": {},
   "outputs": [],
   "source": [
    "# Create function that creates a TfidfVectorizer and returns \n",
    "def vectorize(datasets, stop_words, max_features):\n",
    "    # Set train and test set based on datasets parameter\n",
    "    train = datasets[0]\n",
    "    test = datasets[1]\n",
    "    \n",
    "    # Initialize the vectorizer\n",
    "    vect = TfidfVectorizer(stop_words = stop_words, \n",
    "                           max_features = max_features)\n",
    "    \n",
    "    # Create the vector for the train and test set\n",
    "    tfidf_train = vect.fit_transform(train)\n",
    "    tfidf_test = vect.transform(test)\n",
    "    \n",
    "    # Create dataframes based on vectors \n",
    "    train_df = pd.DataFrame(tfidf_train.A, columns = vect.get_feature_names())\n",
    "    test_df = pd.DataFrame(tfidf_test.A, columns = vect.get_feature_names())\n",
    "    \n",
    "    return (train_df, test_df)"
   ]
  },
  {
   "cell_type": "code",
   "execution_count": 82,
   "id": "7480abe6",
   "metadata": {},
   "outputs": [
    {
     "data": {
      "text/html": [
       "<div>\n",
       "<style scoped>\n",
       "    .dataframe tbody tr th:only-of-type {\n",
       "        vertical-align: middle;\n",
       "    }\n",
       "\n",
       "    .dataframe tbody tr th {\n",
       "        vertical-align: top;\n",
       "    }\n",
       "\n",
       "    .dataframe thead th {\n",
       "        text-align: right;\n",
       "    }\n",
       "</style>\n",
       "<table border=\"1\" class=\"dataframe\">\n",
       "  <thead>\n",
       "    <tr style=\"text-align: right;\">\n",
       "      <th></th>\n",
       "      <th>abc</th>\n",
       "      <th>ablaze</th>\n",
       "      <th>about</th>\n",
       "      <th>accident</th>\n",
       "      <th>across</th>\n",
       "      <th>action</th>\n",
       "      <th>actually</th>\n",
       "      <th>added</th>\n",
       "      <th>affected</th>\n",
       "      <th>after</th>\n",
       "      <th>...</th>\n",
       "      <th>yourself</th>\n",
       "      <th>youth</th>\n",
       "      <th>youtube</th>\n",
       "      <th>yr</th>\n",
       "      <th>zone</th>\n",
       "      <th>keyword</th>\n",
       "      <th>location</th>\n",
       "      <th>n_tokens</th>\n",
       "      <th>language</th>\n",
       "      <th>len_keyword</th>\n",
       "    </tr>\n",
       "  </thead>\n",
       "  <tbody>\n",
       "    <tr>\n",
       "      <th>0</th>\n",
       "      <td>0.0</td>\n",
       "      <td>0.0</td>\n",
       "      <td>0.0</td>\n",
       "      <td>0.0</td>\n",
       "      <td>0.0</td>\n",
       "      <td>0.0</td>\n",
       "      <td>0.0</td>\n",
       "      <td>0.0</td>\n",
       "      <td>0.0</td>\n",
       "      <td>0.0</td>\n",
       "      <td>...</td>\n",
       "      <td>0.0</td>\n",
       "      <td>0.0</td>\n",
       "      <td>0.0</td>\n",
       "      <td>0.0</td>\n",
       "      <td>0.0</td>\n",
       "      <td>ablaze</td>\n",
       "      <td>birmingham</td>\n",
       "      <td>13</td>\n",
       "      <td>en</td>\n",
       "      <td>6</td>\n",
       "    </tr>\n",
       "    <tr>\n",
       "      <th>1</th>\n",
       "      <td>0.0</td>\n",
       "      <td>0.0</td>\n",
       "      <td>0.0</td>\n",
       "      <td>0.0</td>\n",
       "      <td>0.0</td>\n",
       "      <td>0.0</td>\n",
       "      <td>0.0</td>\n",
       "      <td>0.0</td>\n",
       "      <td>0.0</td>\n",
       "      <td>0.0</td>\n",
       "      <td>...</td>\n",
       "      <td>0.0</td>\n",
       "      <td>0.0</td>\n",
       "      <td>0.0</td>\n",
       "      <td>0.0</td>\n",
       "      <td>0.0</td>\n",
       "      <td>ablaze</td>\n",
       "      <td>birmingham</td>\n",
       "      <td>7</td>\n",
       "      <td>no</td>\n",
       "      <td>6</td>\n",
       "    </tr>\n",
       "    <tr>\n",
       "      <th>2</th>\n",
       "      <td>0.0</td>\n",
       "      <td>0.0</td>\n",
       "      <td>0.0</td>\n",
       "      <td>0.0</td>\n",
       "      <td>0.0</td>\n",
       "      <td>0.0</td>\n",
       "      <td>0.0</td>\n",
       "      <td>0.0</td>\n",
       "      <td>0.0</td>\n",
       "      <td>0.0</td>\n",
       "      <td>...</td>\n",
       "      <td>0.0</td>\n",
       "      <td>0.0</td>\n",
       "      <td>0.0</td>\n",
       "      <td>0.0</td>\n",
       "      <td>0.0</td>\n",
       "      <td>ablaze</td>\n",
       "      <td>birmingham</td>\n",
       "      <td>22</td>\n",
       "      <td>en</td>\n",
       "      <td>6</td>\n",
       "    </tr>\n",
       "    <tr>\n",
       "      <th>3</th>\n",
       "      <td>0.0</td>\n",
       "      <td>0.0</td>\n",
       "      <td>0.0</td>\n",
       "      <td>0.0</td>\n",
       "      <td>0.0</td>\n",
       "      <td>0.0</td>\n",
       "      <td>0.0</td>\n",
       "      <td>0.0</td>\n",
       "      <td>0.0</td>\n",
       "      <td>0.0</td>\n",
       "      <td>...</td>\n",
       "      <td>0.0</td>\n",
       "      <td>0.0</td>\n",
       "      <td>0.0</td>\n",
       "      <td>0.0</td>\n",
       "      <td>0.0</td>\n",
       "      <td>ablaze</td>\n",
       "      <td>birmingham</td>\n",
       "      <td>7</td>\n",
       "      <td>en</td>\n",
       "      <td>6</td>\n",
       "    </tr>\n",
       "    <tr>\n",
       "      <th>4</th>\n",
       "      <td>0.0</td>\n",
       "      <td>0.0</td>\n",
       "      <td>0.0</td>\n",
       "      <td>0.0</td>\n",
       "      <td>0.0</td>\n",
       "      <td>0.0</td>\n",
       "      <td>0.0</td>\n",
       "      <td>0.0</td>\n",
       "      <td>0.0</td>\n",
       "      <td>0.0</td>\n",
       "      <td>...</td>\n",
       "      <td>0.0</td>\n",
       "      <td>0.0</td>\n",
       "      <td>0.0</td>\n",
       "      <td>0.0</td>\n",
       "      <td>0.0</td>\n",
       "      <td>ablaze</td>\n",
       "      <td>birmingham</td>\n",
       "      <td>16</td>\n",
       "      <td>en</td>\n",
       "      <td>6</td>\n",
       "    </tr>\n",
       "  </tbody>\n",
       "</table>\n",
       "<p>5 rows × 1005 columns</p>\n",
       "</div>"
      ],
      "text/plain": [
       "   abc  ablaze  about  accident  across  action  actually  added  affected  \\\n",
       "0  0.0     0.0    0.0       0.0     0.0     0.0       0.0    0.0       0.0   \n",
       "1  0.0     0.0    0.0       0.0     0.0     0.0       0.0    0.0       0.0   \n",
       "2  0.0     0.0    0.0       0.0     0.0     0.0       0.0    0.0       0.0   \n",
       "3  0.0     0.0    0.0       0.0     0.0     0.0       0.0    0.0       0.0   \n",
       "4  0.0     0.0    0.0       0.0     0.0     0.0       0.0    0.0       0.0   \n",
       "\n",
       "   after  ...  yourself  youth  youtube   yr  zone  keyword    location  \\\n",
       "0    0.0  ...       0.0    0.0      0.0  0.0   0.0   ablaze  birmingham   \n",
       "1    0.0  ...       0.0    0.0      0.0  0.0   0.0   ablaze  birmingham   \n",
       "2    0.0  ...       0.0    0.0      0.0  0.0   0.0   ablaze  birmingham   \n",
       "3    0.0  ...       0.0    0.0      0.0  0.0   0.0   ablaze  birmingham   \n",
       "4    0.0  ...       0.0    0.0      0.0  0.0   0.0   ablaze  birmingham   \n",
       "\n",
       "   n_tokens  language  len_keyword  \n",
       "0        13        en            6  \n",
       "1         7        no            6  \n",
       "2        22        en            6  \n",
       "3         7        en            6  \n",
       "4        16        en            6  \n",
       "\n",
       "[5 rows x 1005 columns]"
      ]
     },
     "metadata": {},
     "output_type": "display_data"
    },
    {
     "data": {
      "text/html": [
       "<div>\n",
       "<style scoped>\n",
       "    .dataframe tbody tr th:only-of-type {\n",
       "        vertical-align: middle;\n",
       "    }\n",
       "\n",
       "    .dataframe tbody tr th {\n",
       "        vertical-align: top;\n",
       "    }\n",
       "\n",
       "    .dataframe thead th {\n",
       "        text-align: right;\n",
       "    }\n",
       "</style>\n",
       "<table border=\"1\" class=\"dataframe\">\n",
       "  <thead>\n",
       "    <tr style=\"text-align: right;\">\n",
       "      <th></th>\n",
       "      <th>abc</th>\n",
       "      <th>ablaze</th>\n",
       "      <th>about</th>\n",
       "      <th>accident</th>\n",
       "      <th>across</th>\n",
       "      <th>action</th>\n",
       "      <th>actually</th>\n",
       "      <th>added</th>\n",
       "      <th>affected</th>\n",
       "      <th>after</th>\n",
       "      <th>...</th>\n",
       "      <th>yourself</th>\n",
       "      <th>youth</th>\n",
       "      <th>youtube</th>\n",
       "      <th>yr</th>\n",
       "      <th>zone</th>\n",
       "      <th>keyword</th>\n",
       "      <th>location</th>\n",
       "      <th>n_tokens</th>\n",
       "      <th>language</th>\n",
       "      <th>len_keyword</th>\n",
       "    </tr>\n",
       "  </thead>\n",
       "  <tbody>\n",
       "    <tr>\n",
       "      <th>0</th>\n",
       "      <td>0.0</td>\n",
       "      <td>0.0</td>\n",
       "      <td>0.000000</td>\n",
       "      <td>0.0</td>\n",
       "      <td>0.000000</td>\n",
       "      <td>0.0</td>\n",
       "      <td>0.0</td>\n",
       "      <td>0.0</td>\n",
       "      <td>0.0</td>\n",
       "      <td>0.0</td>\n",
       "      <td>...</td>\n",
       "      <td>0.0</td>\n",
       "      <td>0.0</td>\n",
       "      <td>0.0</td>\n",
       "      <td>0.0</td>\n",
       "      <td>0.0</td>\n",
       "      <td>ablaze</td>\n",
       "      <td>london</td>\n",
       "      <td>6</td>\n",
       "      <td>en</td>\n",
       "      <td>6</td>\n",
       "    </tr>\n",
       "    <tr>\n",
       "      <th>1</th>\n",
       "      <td>0.0</td>\n",
       "      <td>0.0</td>\n",
       "      <td>0.339124</td>\n",
       "      <td>0.0</td>\n",
       "      <td>0.000000</td>\n",
       "      <td>0.0</td>\n",
       "      <td>0.0</td>\n",
       "      <td>0.0</td>\n",
       "      <td>0.0</td>\n",
       "      <td>0.0</td>\n",
       "      <td>...</td>\n",
       "      <td>0.0</td>\n",
       "      <td>0.0</td>\n",
       "      <td>0.0</td>\n",
       "      <td>0.0</td>\n",
       "      <td>0.0</td>\n",
       "      <td>ablaze</td>\n",
       "      <td>london</td>\n",
       "      <td>9</td>\n",
       "      <td>en</td>\n",
       "      <td>6</td>\n",
       "    </tr>\n",
       "    <tr>\n",
       "      <th>2</th>\n",
       "      <td>0.0</td>\n",
       "      <td>0.0</td>\n",
       "      <td>0.000000</td>\n",
       "      <td>0.0</td>\n",
       "      <td>0.370473</td>\n",
       "      <td>0.0</td>\n",
       "      <td>0.0</td>\n",
       "      <td>0.0</td>\n",
       "      <td>0.0</td>\n",
       "      <td>0.0</td>\n",
       "      <td>...</td>\n",
       "      <td>0.0</td>\n",
       "      <td>0.0</td>\n",
       "      <td>0.0</td>\n",
       "      <td>0.0</td>\n",
       "      <td>0.0</td>\n",
       "      <td>ablaze</td>\n",
       "      <td>london</td>\n",
       "      <td>19</td>\n",
       "      <td>en</td>\n",
       "      <td>6</td>\n",
       "    </tr>\n",
       "    <tr>\n",
       "      <th>3</th>\n",
       "      <td>0.0</td>\n",
       "      <td>0.0</td>\n",
       "      <td>0.000000</td>\n",
       "      <td>0.0</td>\n",
       "      <td>0.000000</td>\n",
       "      <td>0.0</td>\n",
       "      <td>0.0</td>\n",
       "      <td>0.0</td>\n",
       "      <td>0.0</td>\n",
       "      <td>0.0</td>\n",
       "      <td>...</td>\n",
       "      <td>0.0</td>\n",
       "      <td>0.0</td>\n",
       "      <td>0.0</td>\n",
       "      <td>0.0</td>\n",
       "      <td>0.0</td>\n",
       "      <td>ablaze</td>\n",
       "      <td>london</td>\n",
       "      <td>4</td>\n",
       "      <td>en</td>\n",
       "      <td>6</td>\n",
       "    </tr>\n",
       "    <tr>\n",
       "      <th>4</th>\n",
       "      <td>0.0</td>\n",
       "      <td>0.0</td>\n",
       "      <td>0.000000</td>\n",
       "      <td>0.0</td>\n",
       "      <td>0.000000</td>\n",
       "      <td>0.0</td>\n",
       "      <td>0.0</td>\n",
       "      <td>0.0</td>\n",
       "      <td>0.0</td>\n",
       "      <td>0.0</td>\n",
       "      <td>...</td>\n",
       "      <td>0.0</td>\n",
       "      <td>0.0</td>\n",
       "      <td>0.0</td>\n",
       "      <td>0.0</td>\n",
       "      <td>0.0</td>\n",
       "      <td>ablaze</td>\n",
       "      <td>london</td>\n",
       "      <td>7</td>\n",
       "      <td>en</td>\n",
       "      <td>6</td>\n",
       "    </tr>\n",
       "  </tbody>\n",
       "</table>\n",
       "<p>5 rows × 1005 columns</p>\n",
       "</div>"
      ],
      "text/plain": [
       "   abc  ablaze     about  accident    across  action  actually  added  \\\n",
       "0  0.0     0.0  0.000000       0.0  0.000000     0.0       0.0    0.0   \n",
       "1  0.0     0.0  0.339124       0.0  0.000000     0.0       0.0    0.0   \n",
       "2  0.0     0.0  0.000000       0.0  0.370473     0.0       0.0    0.0   \n",
       "3  0.0     0.0  0.000000       0.0  0.000000     0.0       0.0    0.0   \n",
       "4  0.0     0.0  0.000000       0.0  0.000000     0.0       0.0    0.0   \n",
       "\n",
       "   affected  after  ...  yourself  youth  youtube   yr  zone  keyword  \\\n",
       "0       0.0    0.0  ...       0.0    0.0      0.0  0.0   0.0   ablaze   \n",
       "1       0.0    0.0  ...       0.0    0.0      0.0  0.0   0.0   ablaze   \n",
       "2       0.0    0.0  ...       0.0    0.0      0.0  0.0   0.0   ablaze   \n",
       "3       0.0    0.0  ...       0.0    0.0      0.0  0.0   0.0   ablaze   \n",
       "4       0.0    0.0  ...       0.0    0.0      0.0  0.0   0.0   ablaze   \n",
       "\n",
       "   location  n_tokens  language  len_keyword  \n",
       "0    london         6        en            6  \n",
       "1    london         9        en            6  \n",
       "2    london        19        en            6  \n",
       "3    london         4        en            6  \n",
       "4    london         7        en            6  \n",
       "\n",
       "[5 rows x 1005 columns]"
      ]
     },
     "metadata": {},
     "output_type": "display_data"
    }
   ],
   "source": [
    "# Set up parameters\n",
    "stop_words = ['english', 'german', 'french', 'spanish', 'portuguese', 'polish', 'italian']\n",
    "max_features = 1000\n",
    "datasets = [trainset_clean.text, testset_clean.text]\n",
    "\n",
    "# Call vectorize function to vectorize train and test set\n",
    "train, test = vectorize(datasets, stop_words, max_features)\n",
    "\n",
    "\n",
    "# Add the remaining column to the train and test set\n",
    "cols = ['keyword', 'location', 'n_tokens', 'language', 'len_keyword']\n",
    "train[cols] = trainset_clean[cols]\n",
    "test[cols] = testset_clean[cols]\n",
    "\n",
    "display(train.head())\n",
    "display(test.head())"
   ]
  },
  {
   "cell_type": "markdown",
   "id": "fa9bfaf9",
   "metadata": {},
   "source": [
    "# Data analysis\n",
    "In this chapter, some data analysis will be performed. We'll do that by creating multiple visualizations that enhance our data story with information. We'll also perform multiple hypothesis tests to find possible relationships within the datasets.\n",
    "\n",
    "## Data visualization\n",
    "Things to explore:\n",
    "- distribution of targets\n",
    "- distribution of languages\n",
    "- 10 most common locations per target\n",
    "- word cloud of keywords per target \n",
    "- distribution of n_tokens"
   ]
  },
  {
   "cell_type": "code",
   "execution_count": 83,
   "id": "fe2e649e",
   "metadata": {},
   "outputs": [
    {
     "data": {
      "image/png": "[encoded data removed]",
      "text/plain": [
       "<Figure size 432x288 with 1 Axes>"
      ]
     },
     "metadata": {},
     "output_type": "display_data"
    }
   ],
   "source": [
    "# Find the distribution of the target types\n",
    "data_train = trainset_clean.target.value_counts(normalize = True)\n",
    "\n",
    "plt.pie(x = data_train, labels = [\"No disaster\", \"Disaster\"], colors = ['red', 'green'],\n",
    "       autopct = \"%0.2f%%\", startangle = 90)\n",
    "plt.title(\"Distribution of target values for train set\")\n",
    "plt.show()"
   ]
  },
  {
   "cell_type": "code",
   "execution_count": 84,
   "id": "79baee91",
   "metadata": {
    "scrolled": false
   },
   "outputs": [
    {
     "data": {
      "image/png": "[encoded data removed]",
      "text/plain": [
       "<Figure size 864x720 with 2 Axes>"
      ]
     },
     "metadata": {
      "needs_background": "light"
     },
     "output_type": "display_data"
    }
   ],
   "source": [
    "# Find the distribution of languages for train and testset\n",
    "# Set parameters\n",
    "datasets = [trainset_clean, testset_clean]\n",
    "titles = [\"Distribution of languages for train set\", \"Distribution of languages for test set\"]\n",
    "\n",
    "# Create subplots\n",
    "fig, ax = plt.subplots(figsize = (12, 10), nrows = 2)\n",
    "\n",
    "for title, data, axes in zip(titles, datasets, ax.flat):\n",
    "    sns.countplot(x = 'language', data = data, ax = axes)\n",
    "    axes.set_xlabel(\"Language\")\n",
    "    axes.set_ylabel(\"Count\")\n",
    "    axes.set_title(title)\n",
    "    \n",
    "plt.show()"
   ]
  },
  {
   "cell_type": "code",
   "execution_count": 85,
   "id": "bf82bf99",
   "metadata": {},
   "outputs": [
    {
     "data": {
      "image/png": "[encoded data removed]",
      "text/plain": [
       "<Figure size 864x720 with 2 Axes>"
      ]
     },
     "metadata": {
      "needs_background": "light"
     },
     "output_type": "display_data"
    }
   ],
   "source": [
    "# Find 10 most common locations per target value\n",
    "disaster = trainset_clean.loc[trainset_clean.target == 1, :]\n",
    "no_disaster = trainset_clean.loc[trainset_clean.target == 0, :]\n",
    "\n",
    "data_disaster = disaster.location.value_counts().sort_values(ascending = False)[:10]\n",
    "data_no_disaster = no_disaster.location.value_counts().sort_values(ascending = False)[:10]\n",
    "\n",
    "# Set up parameters for plotting\n",
    "datasets = [data_disaster, data_no_disaster]\n",
    "titles = [f\"{len(data_disaster)} most common location for real disaster tweets\", \n",
    "          f\"{len(data_no_disaster)} most common location for fake disaster tweets\"]\n",
    "\n",
    "fig, ax = plt.subplots(figsize = (12, 10), nrows = 2)\n",
    "\n",
    "for data, title, axes in zip(datasets, titles, ax.flat):\n",
    "    axes.barh(data.index.tolist(), data)\n",
    "    axes.set_title(title)\n",
    "    axes.set_ylabel(\"Location\")\n",
    "    axes.set_xlabel(\"Count\")\n",
    "plt.show()"
   ]
  },
  {
   "cell_type": "markdown",
   "id": "81a95a77",
   "metadata": {},
   "source": [
    "### Word cloud of keywords per target"
   ]
  },
  {
   "cell_type": "code",
   "execution_count": 70,
   "id": "fa04bb8b",
   "metadata": {},
   "outputs": [],
   "source": [
    "def wordcloud(data, title, ax):\n",
    "    wordcloud = WordCloud(max_font_size=50, max_words=20, background_color=\"white\",\n",
    "                           width = 400, height = 400, min_word_length = 3).generate(str(data))\n",
    "    \n",
    "    # Display the generated image:\n",
    "    ax.imshow(wordcloud, interpolation='bilinear')\n",
    "    ax.axis(\"off\")\n",
    "    ax.set_title(title, fontsize = 20)"
   ]
  },
  {
   "cell_type": "code",
   "execution_count": 71,
   "id": "e77bd3a0",
   "metadata": {},
   "outputs": [
    {
     "data": {
      "image/png": "[encoded data removed]",
      "text/plain": [
       "<Figure size 1008x720 with 2 Axes>"
      ]
     },
     "metadata": {
      "needs_background": "light"
     },
     "output_type": "display_data"
    }
   ],
   "source": [
    "fig, ax = plt.subplots(ncols = 2, figsize = (14, 10))\n",
    "\n",
    "wordcloud_true = wordcloud(disaster.text, \"What people associate \\n with real disasters\", ax[0])\n",
    "wordcloud_false = wordcloud(no_disaster.text, \"What people associate \\n with fake disasters\", ax[1])\n",
    "\n",
    "# Display the generated images\n",
    "plt.show()"
   ]
  },
  {
   "cell_type": "markdown",
   "id": "b2e6d437",
   "metadata": {},
   "source": [
    "## Relationships between the data\n",
    "Using hypothesis testing.\n",
    "Possible relationships:\n",
    "- N_tokens and target\n",
    "- language and n_token\n",
    "- language and target\n",
    "- n_tokens and location"
   ]
  },
  {
   "cell_type": "code",
   "execution_count": 86,
   "id": "3a465083",
   "metadata": {},
   "outputs": [],
   "source": [
    "# Create a function that performs a hypothesis test: hypothesis_test\n",
    "def hypothesis_test(data1, data2, test):\n",
    "    stat, p = test(data1, data2)\n",
    "    print(f\"The p-value is: {p}\")\n",
    "    print(f\"The test statistic comes out to be equal to: {stat}\")"
   ]
  },
  {
   "cell_type": "markdown",
   "id": "c1ba8be4",
   "metadata": {},
   "source": [
    "### N_tokens and target"
   ]
  },
  {
   "cell_type": "code",
   "execution_count": 88,
   "id": "d93a4747",
   "metadata": {},
   "outputs": [
    {
     "name": "stdout",
     "output_type": "stream",
     "text": [
      "The p-value is: 0.6793913556076558\n",
      "The test statistic comes out to be equal to: 0.41390543738074653\n"
     ]
    }
   ],
   "source": [
    "# Set up parameters\n",
    "data1 = disaster.n_tokens.sample(n = 100)\n",
    "data2 = no_disaster.n_tokens.sample(n = 100)\n",
    "\n",
    "# Call hypothesis_test to perform hypothesis testing\n",
    "hypothesis_test(data1, data2, stats.ttest_ind)"
   ]
  },
  {
   "cell_type": "markdown",
   "id": "0a8ce441",
   "metadata": {},
   "source": [
    "### Language and target"
   ]
  },
  {
   "cell_type": "code",
   "execution_count": 87,
   "id": "22147eb0",
   "metadata": {},
   "outputs": [
    {
     "name": "stdout",
     "output_type": "stream",
     "text": [
      "The p-value is: 0.12216453288455022\n",
      "The test statistic comes out to be equal to: 1.5523955167133086\n"
     ]
    }
   ],
   "source": [
    "# Set up parameters\n",
    "sample = 100\n",
    "\n",
    "data1 = np.where(disaster.language == 'en', 1, 0)\n",
    "data2 = np.where(no_disaster.language == 'en', 1, 0)\n",
    "\n",
    "sample1 = np.random.choice(data1, sample)\n",
    "sample2 = np.random.choice(data2, sample)\n",
    "\n",
    "# Call hypothesis_test to perform hypothesis testing\n",
    "hypothesis_test(sample1, sample2, stats.ttest_ind)"
   ]
  },
  {
   "cell_type": "markdown",
   "id": "89b162de",
   "metadata": {},
   "source": [
    "### Language and n_tokens"
   ]
  },
  {
   "cell_type": "code",
   "execution_count": 89,
   "id": "9c0a7eef",
   "metadata": {},
   "outputs": [
    {
     "name": "stdout",
     "output_type": "stream",
     "text": [
      "The p-value is: 5.75094238304367e-24\n",
      "The test statistic comes out to be equal to: 11.564037482751662\n"
     ]
    }
   ],
   "source": [
    "# Set up parameters\n",
    "sample = 100\n",
    "\n",
    "data1 = trainset_clean.loc[trainset_clean.language == 'en', :]\n",
    "data2 = trainset_clean.loc[trainset_clean.language != 'en', :]\n",
    "\n",
    "sample1 = data1.n_tokens.sample(n = sample)\n",
    "sample2 = data2.n_tokens.sample(n = sample)\n",
    "\n",
    "# Call hypothesis_test to perform hypothesis testing\n",
    "hypothesis_test(sample1, sample2, stats.ttest_ind)"
   ]
  },
  {
   "cell_type": "markdown",
   "id": "f26a4102",
   "metadata": {},
   "source": [
    "# Models\n",
    "In this chapter, we'll use multiple models to train and test on a validation set of the data. For this, we'll use the following models:\n",
    "- MultinomialNB\n",
    "- Neural Network using keras\n",
    "- Support Vector Machine\n",
    "\n",
    "At first, we'll prepare the data so that it's ready for model training. Then, we'll instantiate and build the models. After that, each model gets trained and tested on the validation set.\n",
    "\n",
    "## Data preperation\n",
    "In this paragraph, we'll prepare the data for the model building."
   ]
  },
  {
   "cell_type": "code",
   "execution_count": 91,
   "id": "fa7cf4a3",
   "metadata": {},
   "outputs": [
    {
     "data": {
      "text/html": [
       "<div>\n",
       "<style scoped>\n",
       "    .dataframe tbody tr th:only-of-type {\n",
       "        vertical-align: middle;\n",
       "    }\n",
       "\n",
       "    .dataframe tbody tr th {\n",
       "        vertical-align: top;\n",
       "    }\n",
       "\n",
       "    .dataframe thead th {\n",
       "        text-align: right;\n",
       "    }\n",
       "</style>\n",
       "<table border=\"1\" class=\"dataframe\">\n",
       "  <thead>\n",
       "    <tr style=\"text-align: right;\">\n",
       "      <th></th>\n",
       "      <th>abc</th>\n",
       "      <th>ablaze</th>\n",
       "      <th>about</th>\n",
       "      <th>accident</th>\n",
       "      <th>across</th>\n",
       "      <th>action</th>\n",
       "      <th>actually</th>\n",
       "      <th>added</th>\n",
       "      <th>affected</th>\n",
       "      <th>after</th>\n",
       "      <th>...</th>\n",
       "      <th>yourself</th>\n",
       "      <th>youth</th>\n",
       "      <th>youtube</th>\n",
       "      <th>yr</th>\n",
       "      <th>zone</th>\n",
       "      <th>keyword</th>\n",
       "      <th>location</th>\n",
       "      <th>n_tokens</th>\n",
       "      <th>language</th>\n",
       "      <th>len_keyword</th>\n",
       "    </tr>\n",
       "  </thead>\n",
       "  <tbody>\n",
       "    <tr>\n",
       "      <th>0</th>\n",
       "      <td>0.0</td>\n",
       "      <td>0.0</td>\n",
       "      <td>0.0</td>\n",
       "      <td>0.0</td>\n",
       "      <td>0.0</td>\n",
       "      <td>0.0</td>\n",
       "      <td>0.0</td>\n",
       "      <td>0.0</td>\n",
       "      <td>0.0</td>\n",
       "      <td>0.0</td>\n",
       "      <td>...</td>\n",
       "      <td>0.0</td>\n",
       "      <td>0.0</td>\n",
       "      <td>0.0</td>\n",
       "      <td>0.0</td>\n",
       "      <td>0.0</td>\n",
       "      <td>0</td>\n",
       "      <td>451</td>\n",
       "      <td>13</td>\n",
       "      <td>1</td>\n",
       "      <td>6</td>\n",
       "    </tr>\n",
       "    <tr>\n",
       "      <th>1</th>\n",
       "      <td>0.0</td>\n",
       "      <td>0.0</td>\n",
       "      <td>0.0</td>\n",
       "      <td>0.0</td>\n",
       "      <td>0.0</td>\n",
       "      <td>0.0</td>\n",
       "      <td>0.0</td>\n",
       "      <td>0.0</td>\n",
       "      <td>0.0</td>\n",
       "      <td>0.0</td>\n",
       "      <td>...</td>\n",
       "      <td>0.0</td>\n",
       "      <td>0.0</td>\n",
       "      <td>0.0</td>\n",
       "      <td>0.0</td>\n",
       "      <td>0.0</td>\n",
       "      <td>0</td>\n",
       "      <td>451</td>\n",
       "      <td>7</td>\n",
       "      <td>0</td>\n",
       "      <td>6</td>\n",
       "    </tr>\n",
       "    <tr>\n",
       "      <th>2</th>\n",
       "      <td>0.0</td>\n",
       "      <td>0.0</td>\n",
       "      <td>0.0</td>\n",
       "      <td>0.0</td>\n",
       "      <td>0.0</td>\n",
       "      <td>0.0</td>\n",
       "      <td>0.0</td>\n",
       "      <td>0.0</td>\n",
       "      <td>0.0</td>\n",
       "      <td>0.0</td>\n",
       "      <td>...</td>\n",
       "      <td>0.0</td>\n",
       "      <td>0.0</td>\n",
       "      <td>0.0</td>\n",
       "      <td>0.0</td>\n",
       "      <td>0.0</td>\n",
       "      <td>0</td>\n",
       "      <td>451</td>\n",
       "      <td>22</td>\n",
       "      <td>1</td>\n",
       "      <td>6</td>\n",
       "    </tr>\n",
       "    <tr>\n",
       "      <th>3</th>\n",
       "      <td>0.0</td>\n",
       "      <td>0.0</td>\n",
       "      <td>0.0</td>\n",
       "      <td>0.0</td>\n",
       "      <td>0.0</td>\n",
       "      <td>0.0</td>\n",
       "      <td>0.0</td>\n",
       "      <td>0.0</td>\n",
       "      <td>0.0</td>\n",
       "      <td>0.0</td>\n",
       "      <td>...</td>\n",
       "      <td>0.0</td>\n",
       "      <td>0.0</td>\n",
       "      <td>0.0</td>\n",
       "      <td>0.0</td>\n",
       "      <td>0.0</td>\n",
       "      <td>0</td>\n",
       "      <td>451</td>\n",
       "      <td>7</td>\n",
       "      <td>1</td>\n",
       "      <td>6</td>\n",
       "    </tr>\n",
       "    <tr>\n",
       "      <th>4</th>\n",
       "      <td>0.0</td>\n",
       "      <td>0.0</td>\n",
       "      <td>0.0</td>\n",
       "      <td>0.0</td>\n",
       "      <td>0.0</td>\n",
       "      <td>0.0</td>\n",
       "      <td>0.0</td>\n",
       "      <td>0.0</td>\n",
       "      <td>0.0</td>\n",
       "      <td>0.0</td>\n",
       "      <td>...</td>\n",
       "      <td>0.0</td>\n",
       "      <td>0.0</td>\n",
       "      <td>0.0</td>\n",
       "      <td>0.0</td>\n",
       "      <td>0.0</td>\n",
       "      <td>0</td>\n",
       "      <td>451</td>\n",
       "      <td>16</td>\n",
       "      <td>1</td>\n",
       "      <td>6</td>\n",
       "    </tr>\n",
       "  </tbody>\n",
       "</table>\n",
       "<p>5 rows × 1005 columns</p>\n",
       "</div>"
      ],
      "text/plain": [
       "   abc  ablaze  about  accident  across  action  actually  added  affected  \\\n",
       "0  0.0     0.0    0.0       0.0     0.0     0.0       0.0    0.0       0.0   \n",
       "1  0.0     0.0    0.0       0.0     0.0     0.0       0.0    0.0       0.0   \n",
       "2  0.0     0.0    0.0       0.0     0.0     0.0       0.0    0.0       0.0   \n",
       "3  0.0     0.0    0.0       0.0     0.0     0.0       0.0    0.0       0.0   \n",
       "4  0.0     0.0    0.0       0.0     0.0     0.0       0.0    0.0       0.0   \n",
       "\n",
       "   after  ...  yourself  youth  youtube   yr  zone  keyword  location  \\\n",
       "0    0.0  ...       0.0    0.0      0.0  0.0   0.0        0       451   \n",
       "1    0.0  ...       0.0    0.0      0.0  0.0   0.0        0       451   \n",
       "2    0.0  ...       0.0    0.0      0.0  0.0   0.0        0       451   \n",
       "3    0.0  ...       0.0    0.0      0.0  0.0   0.0        0       451   \n",
       "4    0.0  ...       0.0    0.0      0.0  0.0   0.0        0       451   \n",
       "\n",
       "   n_tokens  language  len_keyword  \n",
       "0        13         1            6  \n",
       "1         7         0            6  \n",
       "2        22         1            6  \n",
       "3         7         1            6  \n",
       "4        16         1            6  \n",
       "\n",
       "[5 rows x 1005 columns]"
      ]
     },
     "execution_count": 91,
     "metadata": {},
     "output_type": "execute_result"
    }
   ],
   "source": [
    "# Convert the string columns location and keyword to numbers using LabelEncoderd\n",
    "# Do this for both the train and test set\n",
    "le = LabelEncoder()\n",
    "train['keyword'], train['location'] = le.fit_transform(train.keyword), le.fit_transform(train.location)\n",
    "test['keyword'], test['location'] = le.fit_transform(test.keyword), le.fit_transform(test.location)\n",
    "\n",
    "\n",
    "# Convert the language column so that if it's English, it's 1, else 0\n",
    "train['language'] = np.where(trainset_clean.language == 'en', 1, 0)\n",
    "\n",
    "train.head()"
   ]
  },
  {
   "cell_type": "code",
   "execution_count": 130,
   "id": "32c92886",
   "metadata": {},
   "outputs": [],
   "source": [
    "# Split the train data into train and validation set\n",
    "y = trainset_clean.target.astype('category')\n",
    "X_train, X_val, y_train, y_val = train_test_split(train, y, test_size = 0.15, random_state = 42)"
   ]
  },
  {
   "cell_type": "markdown",
   "id": "cdce7ad1",
   "metadata": {},
   "source": [
    "## Model building\n",
    "In this paragraph, the models will be build."
   ]
  },
  {
   "cell_type": "code",
   "execution_count": 149,
   "id": "c774a419",
   "metadata": {},
   "outputs": [],
   "source": [
    "# Instantiate the models\n",
    "multinb = MultinomialNB()\n",
    "svm = SVC()\n",
    "\n",
    "# Set number of columns of X_train: n_cols\n",
    "n_cols = X_train.shape[1]\n",
    "\n",
    "# Create the keras model: nn\n",
    "nn = Sequential()\n",
    "\n",
    "# Add the first layer\n",
    "nn.add(Dense(50, activation = \"relu\", input_shape = (n_cols,)))\n",
    "\n",
    "# Add the second layer\n",
    "nn.add(Dense(25, activation = \"relu\"))\n",
    "\n",
    "# Add the output layer\n",
    "nn.add(Dense(2, activation = 'softmax'))"
   ]
  },
  {
   "cell_type": "markdown",
   "id": "c1bf095f",
   "metadata": {},
   "source": [
    "## Model training\n",
    "In this paragraph, we'll train on the train set for all models."
   ]
  },
  {
   "cell_type": "code",
   "execution_count": 101,
   "id": "c8c93659",
   "metadata": {},
   "outputs": [
    {
     "data": {
      "text/plain": [
       "numpy.ndarray"
      ]
     },
     "execution_count": 101,
     "metadata": {},
     "output_type": "execute_result"
    }
   ],
   "source": [
    "type(np.array(y_train))"
   ]
  },
  {
   "cell_type": "code",
   "execution_count": 150,
   "id": "3a465c4a",
   "metadata": {},
   "outputs": [
    {
     "name": "stdout",
     "output_type": "stream",
     "text": [
      "Epoch 1/15\n",
      "203/203 [==============================] - 1s 3ms/step - loss: 1.1740 - accuracy: 0.5514 - val_loss: 1.0570 - val_accuracy: 0.5709\n",
      "Epoch 2/15\n",
      "203/203 [==============================] - 0s 2ms/step - loss: 0.7350 - accuracy: 0.6032 - val_loss: 0.7033 - val_accuracy: 0.5105\n",
      "Epoch 3/15\n",
      "203/203 [==============================] - 0s 2ms/step - loss: 0.6910 - accuracy: 0.6294 - val_loss: 0.5806 - val_accuracy: 0.7644\n",
      "Epoch 4/15\n",
      "203/203 [==============================] - 0s 2ms/step - loss: 0.6714 - accuracy: 0.6523 - val_loss: 0.6589 - val_accuracy: 0.6515\n",
      "Epoch 5/15\n",
      "203/203 [==============================] - 0s 2ms/step - loss: 0.6344 - accuracy: 0.6775 - val_loss: 0.6507 - val_accuracy: 0.6673\n",
      "Epoch 6/15\n",
      "203/203 [==============================] - 0s 2ms/step - loss: 0.5953 - accuracy: 0.7045 - val_loss: 0.5432 - val_accuracy: 0.7539\n",
      "Epoch 7/15\n",
      "203/203 [==============================] - 0s 2ms/step - loss: 0.5729 - accuracy: 0.7242 - val_loss: 0.5356 - val_accuracy: 0.7496\n",
      "Epoch 8/15\n",
      "203/203 [==============================] - 0s 2ms/step - loss: 0.5645 - accuracy: 0.7359 - val_loss: 0.5310 - val_accuracy: 0.7574\n",
      "Epoch 9/15\n",
      "203/203 [==============================] - 0s 2ms/step - loss: 0.5318 - accuracy: 0.7501 - val_loss: 0.5078 - val_accuracy: 0.7758\n",
      "Epoch 10/15\n",
      "203/203 [==============================] - 0s 2ms/step - loss: 0.5409 - accuracy: 0.7461 - val_loss: 0.5120 - val_accuracy: 0.7767\n",
      "Epoch 11/15\n",
      "203/203 [==============================] - 0s 2ms/step - loss: 0.4896 - accuracy: 0.7741 - val_loss: 0.6150 - val_accuracy: 0.6646\n",
      "Epoch 12/15\n",
      "203/203 [==============================] - 0s 2ms/step - loss: 0.4728 - accuracy: 0.7786 - val_loss: 0.6264 - val_accuracy: 0.6541\n",
      "Epoch 13/15\n",
      "203/203 [==============================] - 0s 2ms/step - loss: 0.5295 - accuracy: 0.7512 - val_loss: 0.6800 - val_accuracy: 0.6173\n",
      "Epoch 14/15\n",
      "203/203 [==============================] - 0s 2ms/step - loss: 0.5374 - accuracy: 0.7551 - val_loss: 0.6846 - val_accuracy: 0.6226\n",
      "Epoch 15/15\n",
      "203/203 [==============================] - 0s 2ms/step - loss: 0.5015 - accuracy: 0.7713 - val_loss: 0.7697 - val_accuracy: 0.6769\n"
     ]
    },
    {
     "data": {
      "text/plain": [
       "<keras.callbacks.History at 0x2bf671f0b20>"
      ]
     },
     "execution_count": 150,
     "metadata": {},
     "output_type": "execute_result"
    }
   ],
   "source": [
    "# Train on the MultinomialNB model\n",
    "multinb.fit(X_train, y_train)\n",
    "\n",
    "# Train on the SVC model\n",
    "svm.fit(X_train, y_train)\n",
    "\n",
    "# Train on the keras neural network\n",
    "# Set parameters\n",
    "predictors = X_train.values\n",
    "target = to_categorical(y_train)\n",
    "validate_pred = X_val.values\n",
    "target_val = to_categorical(y_val)\n",
    "\n",
    "nn.compile(optimizer='adam', \n",
    "              loss='binary_crossentropy', \n",
    "              metrics=['accuracy'])\n",
    "nn.fit(predictors, target, epochs=15, batch_size=32, validation_data = (validate_pred, target_val))"
   ]
  },
  {
   "cell_type": "markdown",
   "id": "dfd694f9",
   "metadata": {},
   "source": [
    "## Model testing"
   ]
  },
  {
   "cell_type": "code",
   "execution_count": 116,
   "id": "f6be6768",
   "metadata": {},
   "outputs": [],
   "source": [
    "# Define a function that takes the predicted and actual values\n",
    "# and print/plots the results\n",
    "def model_evaluation(true, pred, name):\n",
    "    # Get the followings scores and print it:\n",
    "    # Accuracy, precision, recall and f1 score\n",
    "    acc = accuracy_score(true, pred)\n",
    "    prec = precision_score(true, pred)\n",
    "    rec = recall_score(true, pred)\n",
    "    f1 = f1_score(true, pred)\n",
    "    \n",
    "    print(f\"Accuracy of {name} model: {acc:.3f}\")\n",
    "    print(f\"Precision score of {name} model: {prec:.3f}\")    \n",
    "    print(f\"Recall score of {name} model: {rec:.3f}\")\n",
    "    print(f\"F1 score of {name} model: {f1:.3f}\")\n",
    "    \n",
    "    # Get the confusion matrix and plot it\n",
    "    conf_matrix = confusion_matrix(true, pred)\n",
    "    \n",
    "    fig, ax = plt.subplots()\n",
    "    sns.heatmap(conf_matrix, annot = True, cbar = False, \n",
    "                fmt = 'd', cmap = 'Blues', ax = ax, xticklabels = [\"No disaster\", \"Disaster\"],\n",
    "               yticklabels = [\"No disaster\", \"Disaster\"])\n",
    "    ax.set_xlabel(\"Predicted values\")\n",
    "    ax.set_ylabel(\"Actual values\")\n",
    "    ax.set_title(f\"Confusion matrix of {name} model\")\n",
    "    plt.show()"
   ]
  },
  {
   "cell_type": "code",
   "execution_count": 117,
   "id": "ce82f7ff",
   "metadata": {},
   "outputs": [
    {
     "name": "stdout",
     "output_type": "stream",
     "text": [
      "Accuracy of MultinomialNB model: 0.608\n",
      "Precision score of MultinomialNB model: 0.555\n",
      "Recall score of MultinomialNB model: 0.560\n",
      "F1 score of MultinomialNB model: 0.557\n"
     ]
    },
    {
     "data": {
      "image/png": "[encoded data removed]",
      "text/plain": [
       "<Figure size 432x288 with 1 Axes>"
      ]
     },
     "metadata": {
      "needs_background": "light"
     },
     "output_type": "display_data"
    }
   ],
   "source": [
    "# Predict on the MultinomialNB model\n",
    "pred_mul = multinb.predict(X_val)\n",
    "\n",
    "# Call the model_evaluation function on the MultinomialNB model\n",
    "name = \"MultinomialNB\"\n",
    "\n",
    "model_evaluation(y_val, pred_mul, name)"
   ]
  },
  {
   "cell_type": "code",
   "execution_count": 118,
   "id": "a7ac3759",
   "metadata": {},
   "outputs": [
    {
     "name": "stdout",
     "output_type": "stream",
     "text": [
      "Accuracy of Support Vector Machine model: 0.559\n",
      "Precision score of Support Vector Machine model: 0.000\n",
      "Recall score of Support Vector Machine model: 0.000\n",
      "F1 score of Support Vector Machine model: 0.000\n"
     ]
    },
    {
     "name": "stderr",
     "output_type": "stream",
     "text": [
      "C:\\Users\\ardejong\\Anaconda\\lib\\site-packages\\sklearn\\metrics\\_classification.py:1248: UndefinedMetricWarning: Precision is ill-defined and being set to 0.0 due to no predicted samples. Use `zero_division` parameter to control this behavior.\n",
      "  _warn_prf(average, modifier, msg_start, len(result))\n"
     ]
    },
    {
     "data": {
      "image/png": "[encoded data removed]",
      "text/plain": [
       "<Figure size 432x288 with 1 Axes>"
      ]
     },
     "metadata": {
      "needs_background": "light"
     },
     "output_type": "display_data"
    }
   ],
   "source": [
    "# Predict on the SVC model\n",
    "pred_svm = svm.predict(X_val)\n",
    "\n",
    "# Call the model_evaluation function on the MultinomialNB model\n",
    "name = \"Support Vector Machine\"\n",
    "\n",
    "model_evaluation(y_val, pred_svm, name)"
   ]
  },
  {
   "cell_type": "code",
   "execution_count": 153,
   "id": "b60eea25",
   "metadata": {},
   "outputs": [
    {
     "name": "stdout",
     "output_type": "stream",
     "text": [
      "36/36 [==============================] - 0s 1ms/step\n",
      "36/36 [==============================] - 0s 2ms/step - loss: 0.7697 - accuracy: 0.6769\n",
      "Accuracy of the model on Training Data is -  67.68826842308044 %\n"
     ]
    }
   ],
   "source": [
    "# Set parameters for predicting on the neural network\n",
    "pred_data = X_val.values\n",
    "\n",
    "pred_nn = nn.predict(pred_data)\n",
    "\n",
    "# Calculate predicted probability of survival: predicted_prob_true\n",
    "predicted_prob_true = pred_nn[:, 1]\n",
    "\n",
    "validate_pred = X_val.values\n",
    "target_val = to_categorical(y_val)\n",
    "\n",
    "# print predicted_prob_true\n",
    "print(\"Accuracy of the model on Training Data is - \" , nn.evaluate(validate_pred,target_val)[1]*100 , \"%\")"
   ]
  },
  {
   "cell_type": "code",
   "execution_count": 148,
   "id": "0996c7d3",
   "metadata": {},
   "outputs": [
    {
     "data": {
      "text/plain": [
       "0"
      ]
     },
     "execution_count": 148,
     "metadata": {},
     "output_type": "execute_result"
    }
   ],
   "source": [
    "X_train.isnull().sum().sum()"
   ]
  },
  {
   "cell_type": "code",
   "execution_count": 152,
   "id": "7688dc6e",
   "metadata": {},
   "outputs": [
    {
     "name": "stdout",
     "output_type": "stream",
     "text": [
      "36/36 [==============================] - 0s 1ms/step\n"
     ]
    },
    {
     "data": {
      "text/plain": [
       "array([[1., 0.],\n",
       "       [1., 0.],\n",
       "       [1., 0.],\n",
       "       ...,\n",
       "       [1., 0.],\n",
       "       [1., 0.],\n",
       "       [1., 0.]], dtype=float32)"
      ]
     },
     "execution_count": 152,
     "metadata": {},
     "output_type": "execute_result"
    }
   ],
   "source": [
    "y_pred = nn.predict(validate_pred).round()\n",
    "\n",
    "def measure(y_true, y_pred):\n",
    "    accuracy = round(accuracy_score(y_true, y_pred),4)\n",
    "    recall = round(recall_score(y_true, y_pred),4)\n",
    "    precision = round(precision_score(y_true, y_pred),4)\n",
    "    f1 = round(f1_score(y_true, y_pred),4)\n",
    "    return pd.Series({'accuracy_score':accuracy,\n",
    "                     'recall_score':recall,\n",
    "                     'precision_score':precision,\n",
    "                     'f1_score':f1})\n",
    "\n",
    "y_pred"
   ]
  },
  {
   "cell_type": "code",
   "execution_count": 142,
   "id": "fa3672d9",
   "metadata": {},
   "outputs": [
    {
     "ename": "ValueError",
     "evalue": "Input contains NaN, infinity or a value too large for dtype('float32').",
     "output_type": "error",
     "traceback": [
      "\u001b[1;31m---------------------------------------------------------------------------\u001b[0m",
      "\u001b[1;31mValueError\u001b[0m                                Traceback (most recent call last)",
      "\u001b[1;32m~\\AppData\\Local\\Temp/ipykernel_17728/2550036021.py\u001b[0m in \u001b[0;36m<module>\u001b[1;34m\u001b[0m\n\u001b[1;32m----> 1\u001b[1;33m \u001b[0mmeasure\u001b[0m\u001b[1;33m(\u001b[0m\u001b[0mtarget_val\u001b[0m\u001b[1;33m,\u001b[0m \u001b[0my_pred\u001b[0m\u001b[1;33m)\u001b[0m\u001b[1;33m\u001b[0m\u001b[1;33m\u001b[0m\u001b[0m\n\u001b[0m",
      "\u001b[1;32m~\\AppData\\Local\\Temp/ipykernel_17728/1584567666.py\u001b[0m in \u001b[0;36mmeasure\u001b[1;34m(y_true, y_pred)\u001b[0m\n\u001b[0;32m      2\u001b[0m \u001b[1;33m\u001b[0m\u001b[0m\n\u001b[0;32m      3\u001b[0m \u001b[1;32mdef\u001b[0m \u001b[0mmeasure\u001b[0m\u001b[1;33m(\u001b[0m\u001b[0my_true\u001b[0m\u001b[1;33m,\u001b[0m \u001b[0my_pred\u001b[0m\u001b[1;33m)\u001b[0m\u001b[1;33m:\u001b[0m\u001b[1;33m\u001b[0m\u001b[1;33m\u001b[0m\u001b[0m\n\u001b[1;32m----> 4\u001b[1;33m     \u001b[0maccuracy\u001b[0m \u001b[1;33m=\u001b[0m \u001b[0mround\u001b[0m\u001b[1;33m(\u001b[0m\u001b[0maccuracy_score\u001b[0m\u001b[1;33m(\u001b[0m\u001b[0my_true\u001b[0m\u001b[1;33m,\u001b[0m \u001b[0my_pred\u001b[0m\u001b[1;33m)\u001b[0m\u001b[1;33m,\u001b[0m\u001b[1;36m4\u001b[0m\u001b[1;33m)\u001b[0m\u001b[1;33m\u001b[0m\u001b[1;33m\u001b[0m\u001b[0m\n\u001b[0m\u001b[0;32m      5\u001b[0m     \u001b[0mrecall\u001b[0m \u001b[1;33m=\u001b[0m \u001b[0mround\u001b[0m\u001b[1;33m(\u001b[0m\u001b[0mrecall_score\u001b[0m\u001b[1;33m(\u001b[0m\u001b[0my_true\u001b[0m\u001b[1;33m,\u001b[0m \u001b[0my_pred\u001b[0m\u001b[1;33m)\u001b[0m\u001b[1;33m,\u001b[0m\u001b[1;36m4\u001b[0m\u001b[1;33m)\u001b[0m\u001b[1;33m\u001b[0m\u001b[1;33m\u001b[0m\u001b[0m\n\u001b[0;32m      6\u001b[0m     \u001b[0mprecision\u001b[0m \u001b[1;33m=\u001b[0m \u001b[0mround\u001b[0m\u001b[1;33m(\u001b[0m\u001b[0mprecision_score\u001b[0m\u001b[1;33m(\u001b[0m\u001b[0my_true\u001b[0m\u001b[1;33m,\u001b[0m \u001b[0my_pred\u001b[0m\u001b[1;33m)\u001b[0m\u001b[1;33m,\u001b[0m\u001b[1;36m4\u001b[0m\u001b[1;33m)\u001b[0m\u001b[1;33m\u001b[0m\u001b[1;33m\u001b[0m\u001b[0m\n",
      "\u001b[1;32m~\\Anaconda\\lib\\site-packages\\sklearn\\utils\\validation.py\u001b[0m in \u001b[0;36minner_f\u001b[1;34m(*args, **kwargs)\u001b[0m\n\u001b[0;32m     61\u001b[0m             \u001b[0mextra_args\u001b[0m \u001b[1;33m=\u001b[0m \u001b[0mlen\u001b[0m\u001b[1;33m(\u001b[0m\u001b[0margs\u001b[0m\u001b[1;33m)\u001b[0m \u001b[1;33m-\u001b[0m \u001b[0mlen\u001b[0m\u001b[1;33m(\u001b[0m\u001b[0mall_args\u001b[0m\u001b[1;33m)\u001b[0m\u001b[1;33m\u001b[0m\u001b[1;33m\u001b[0m\u001b[0m\n\u001b[0;32m     62\u001b[0m             \u001b[1;32mif\u001b[0m \u001b[0mextra_args\u001b[0m \u001b[1;33m<=\u001b[0m \u001b[1;36m0\u001b[0m\u001b[1;33m:\u001b[0m\u001b[1;33m\u001b[0m\u001b[1;33m\u001b[0m\u001b[0m\n\u001b[1;32m---> 63\u001b[1;33m                 \u001b[1;32mreturn\u001b[0m \u001b[0mf\u001b[0m\u001b[1;33m(\u001b[0m\u001b[1;33m*\u001b[0m\u001b[0margs\u001b[0m\u001b[1;33m,\u001b[0m \u001b[1;33m**\u001b[0m\u001b[0mkwargs\u001b[0m\u001b[1;33m)\u001b[0m\u001b[1;33m\u001b[0m\u001b[1;33m\u001b[0m\u001b[0m\n\u001b[0m\u001b[0;32m     64\u001b[0m \u001b[1;33m\u001b[0m\u001b[0m\n\u001b[0;32m     65\u001b[0m             \u001b[1;31m# extra_args > 0\u001b[0m\u001b[1;33m\u001b[0m\u001b[1;33m\u001b[0m\u001b[0m\n",
      "\u001b[1;32m~\\Anaconda\\lib\\site-packages\\sklearn\\metrics\\_classification.py\u001b[0m in \u001b[0;36maccuracy_score\u001b[1;34m(y_true, y_pred, normalize, sample_weight)\u001b[0m\n\u001b[0;32m    200\u001b[0m \u001b[1;33m\u001b[0m\u001b[0m\n\u001b[0;32m    201\u001b[0m     \u001b[1;31m# Compute accuracy for each possible representation\u001b[0m\u001b[1;33m\u001b[0m\u001b[1;33m\u001b[0m\u001b[0m\n\u001b[1;32m--> 202\u001b[1;33m     \u001b[0my_type\u001b[0m\u001b[1;33m,\u001b[0m \u001b[0my_true\u001b[0m\u001b[1;33m,\u001b[0m \u001b[0my_pred\u001b[0m \u001b[1;33m=\u001b[0m \u001b[0m_check_targets\u001b[0m\u001b[1;33m(\u001b[0m\u001b[0my_true\u001b[0m\u001b[1;33m,\u001b[0m \u001b[0my_pred\u001b[0m\u001b[1;33m)\u001b[0m\u001b[1;33m\u001b[0m\u001b[1;33m\u001b[0m\u001b[0m\n\u001b[0m\u001b[0;32m    203\u001b[0m     \u001b[0mcheck_consistent_length\u001b[0m\u001b[1;33m(\u001b[0m\u001b[0my_true\u001b[0m\u001b[1;33m,\u001b[0m \u001b[0my_pred\u001b[0m\u001b[1;33m,\u001b[0m \u001b[0msample_weight\u001b[0m\u001b[1;33m)\u001b[0m\u001b[1;33m\u001b[0m\u001b[1;33m\u001b[0m\u001b[0m\n\u001b[0;32m    204\u001b[0m     \u001b[1;32mif\u001b[0m \u001b[0my_type\u001b[0m\u001b[1;33m.\u001b[0m\u001b[0mstartswith\u001b[0m\u001b[1;33m(\u001b[0m\u001b[1;34m'multilabel'\u001b[0m\u001b[1;33m)\u001b[0m\u001b[1;33m:\u001b[0m\u001b[1;33m\u001b[0m\u001b[1;33m\u001b[0m\u001b[0m\n",
      "\u001b[1;32m~\\Anaconda\\lib\\site-packages\\sklearn\\metrics\\_classification.py\u001b[0m in \u001b[0;36m_check_targets\u001b[1;34m(y_true, y_pred)\u001b[0m\n\u001b[0;32m     83\u001b[0m     \u001b[0mcheck_consistent_length\u001b[0m\u001b[1;33m(\u001b[0m\u001b[0my_true\u001b[0m\u001b[1;33m,\u001b[0m \u001b[0my_pred\u001b[0m\u001b[1;33m)\u001b[0m\u001b[1;33m\u001b[0m\u001b[1;33m\u001b[0m\u001b[0m\n\u001b[0;32m     84\u001b[0m     \u001b[0mtype_true\u001b[0m \u001b[1;33m=\u001b[0m \u001b[0mtype_of_target\u001b[0m\u001b[1;33m(\u001b[0m\u001b[0my_true\u001b[0m\u001b[1;33m)\u001b[0m\u001b[1;33m\u001b[0m\u001b[1;33m\u001b[0m\u001b[0m\n\u001b[1;32m---> 85\u001b[1;33m     \u001b[0mtype_pred\u001b[0m \u001b[1;33m=\u001b[0m \u001b[0mtype_of_target\u001b[0m\u001b[1;33m(\u001b[0m\u001b[0my_pred\u001b[0m\u001b[1;33m)\u001b[0m\u001b[1;33m\u001b[0m\u001b[1;33m\u001b[0m\u001b[0m\n\u001b[0m\u001b[0;32m     86\u001b[0m \u001b[1;33m\u001b[0m\u001b[0m\n\u001b[0;32m     87\u001b[0m     \u001b[0my_type\u001b[0m \u001b[1;33m=\u001b[0m \u001b[1;33m{\u001b[0m\u001b[0mtype_true\u001b[0m\u001b[1;33m,\u001b[0m \u001b[0mtype_pred\u001b[0m\u001b[1;33m}\u001b[0m\u001b[1;33m\u001b[0m\u001b[1;33m\u001b[0m\u001b[0m\n",
      "\u001b[1;32m~\\Anaconda\\lib\\site-packages\\sklearn\\utils\\multiclass.py\u001b[0m in \u001b[0;36mtype_of_target\u001b[1;34m(y)\u001b[0m\n\u001b[0;32m    301\u001b[0m     \u001b[1;32mif\u001b[0m \u001b[0my\u001b[0m\u001b[1;33m.\u001b[0m\u001b[0mdtype\u001b[0m\u001b[1;33m.\u001b[0m\u001b[0mkind\u001b[0m \u001b[1;33m==\u001b[0m \u001b[1;34m'f'\u001b[0m \u001b[1;32mand\u001b[0m \u001b[0mnp\u001b[0m\u001b[1;33m.\u001b[0m\u001b[0many\u001b[0m\u001b[1;33m(\u001b[0m\u001b[0my\u001b[0m \u001b[1;33m!=\u001b[0m \u001b[0my\u001b[0m\u001b[1;33m.\u001b[0m\u001b[0mastype\u001b[0m\u001b[1;33m(\u001b[0m\u001b[0mint\u001b[0m\u001b[1;33m)\u001b[0m\u001b[1;33m)\u001b[0m\u001b[1;33m:\u001b[0m\u001b[1;33m\u001b[0m\u001b[1;33m\u001b[0m\u001b[0m\n\u001b[0;32m    302\u001b[0m         \u001b[1;31m# [.1, .2, 3] or [[.1, .2, 3]] or [[1., .2]] and not [1., 2., 3.]\u001b[0m\u001b[1;33m\u001b[0m\u001b[1;33m\u001b[0m\u001b[0m\n\u001b[1;32m--> 303\u001b[1;33m         \u001b[0m_assert_all_finite\u001b[0m\u001b[1;33m(\u001b[0m\u001b[0my\u001b[0m\u001b[1;33m)\u001b[0m\u001b[1;33m\u001b[0m\u001b[1;33m\u001b[0m\u001b[0m\n\u001b[0m\u001b[0;32m    304\u001b[0m         \u001b[1;32mreturn\u001b[0m \u001b[1;34m'continuous'\u001b[0m \u001b[1;33m+\u001b[0m \u001b[0msuffix\u001b[0m\u001b[1;33m\u001b[0m\u001b[1;33m\u001b[0m\u001b[0m\n\u001b[0;32m    305\u001b[0m \u001b[1;33m\u001b[0m\u001b[0m\n",
      "\u001b[1;32m~\\Anaconda\\lib\\site-packages\\sklearn\\utils\\validation.py\u001b[0m in \u001b[0;36m_assert_all_finite\u001b[1;34m(X, allow_nan, msg_dtype)\u001b[0m\n\u001b[0;32m    101\u001b[0m                 not allow_nan and not np.isfinite(X).all()):\n\u001b[0;32m    102\u001b[0m             \u001b[0mtype_err\u001b[0m \u001b[1;33m=\u001b[0m \u001b[1;34m'infinity'\u001b[0m \u001b[1;32mif\u001b[0m \u001b[0mallow_nan\u001b[0m \u001b[1;32melse\u001b[0m \u001b[1;34m'NaN, infinity'\u001b[0m\u001b[1;33m\u001b[0m\u001b[1;33m\u001b[0m\u001b[0m\n\u001b[1;32m--> 103\u001b[1;33m             raise ValueError(\n\u001b[0m\u001b[0;32m    104\u001b[0m                     \u001b[0mmsg_err\u001b[0m\u001b[1;33m.\u001b[0m\u001b[0mformat\u001b[0m\u001b[1;33m\u001b[0m\u001b[1;33m\u001b[0m\u001b[0m\n\u001b[0;32m    105\u001b[0m                     (type_err,\n",
      "\u001b[1;31mValueError\u001b[0m: Input contains NaN, infinity or a value too large for dtype('float32')."
     ]
    }
   ],
   "source": [
    "measure(target_val, y_pred)"
   ]
  },
  {
   "cell_type": "markdown",
   "id": "58348b59",
   "metadata": {},
   "source": [
    "## Findings"
   ]
  },
  {
   "cell_type": "code",
   "execution_count": null,
   "id": "c9c171b2",
   "metadata": {},
   "outputs": [],
   "source": []
  },
  {
   "cell_type": "markdown",
   "id": "62985262",
   "metadata": {},
   "source": [
    "# Model selection and final training"
   ]
  },
  {
   "cell_type": "code",
   "execution_count": null,
   "id": "63100b8f",
   "metadata": {},
   "outputs": [],
   "source": []
  },
  {
   "cell_type": "markdown",
   "id": "2fc9c108",
   "metadata": {},
   "source": [
    "# Conclusion\n",
    "Draw major findings:\n",
    "- Relationships: both visual and hypothesis testing\n",
    "- Other findings from visualizations\n",
    "- Evaluation from models"
   ]
  },
  {
   "cell_type": "markdown",
   "id": "7d9c9d63",
   "metadata": {},
   "source": [
    "# Final submission"
   ]
  },
  {
   "cell_type": "code",
   "execution_count": 26,
   "id": "2bb545db",
   "metadata": {},
   "outputs": [],
   "source": [
    "# Test on test set\n",
    "\n",
    "# Convert to csv "
   ]
  }
 ],
 "metadata": {
  "kernelspec": {
   "display_name": "Python 3 (ipykernel)",
   "language": "python",
   "name": "python3"
  },
  "language_info": {
   "codemirror_mode": {
    "name": "ipython",
    "version": 3
   },
   "file_extension": ".py",
   "mimetype": "text/x-python",
   "name": "python",
   "nbconvert_exporter": "python",
   "pygments_lexer": "ipython3",
   "version": "3.9.7"
  }
 },
 "nbformat": 4,
 "nbformat_minor": 5
}

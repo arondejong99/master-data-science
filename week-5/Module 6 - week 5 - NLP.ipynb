{
 "cells": [
  {
   "cell_type": "markdown",
   "id": "e2e66a61",
   "metadata": {},
   "source": [
    "# Introduction\n",
    "In this exercise, a Natual Language Processing algorithm will be created using the Amazon Reviews dataset: https://www.kaggle.com/datasets/bittlingmayer/amazonreviews?select=train.ft.txt.bz2\n",
    "\n",
    "For this exercise, a sentiment analysis will be done. It will predict if the review is a positive or a negative one."
   ]
  },
  {
   "cell_type": "code",
   "execution_count": 1,
   "id": "e1732fb4",
   "metadata": {
    "scrolled": true
   },
   "outputs": [],
   "source": [
    "# Install langdetect if you haven't already\n",
    "#%pip install langdetect"
   ]
  },
  {
   "cell_type": "code",
   "execution_count": 2,
   "id": "3b3409a8",
   "metadata": {},
   "outputs": [],
   "source": [
    "# Import the necessary modules\n",
    "import pandas as pd\n",
    "import numpy as np\n",
    "import matplotlib.pyplot as plt\n",
    "import seaborn as sns\n",
    "import bz2\n",
    "import re\n",
    "from nltk.tokenize.regexp import regexp_tokenize\n",
    "from langdetect import detect\n",
    "from sklearn.feature_extraction.text import CountVectorizer\n",
    "from sklearn.naive_bayes import MultinomialNB\n",
    "from sklearn.metrics import accuracy_score, confusion_matrix, roc_auc_score\n",
    "from sklearn.preprocessing import StandardScaler"
   ]
  },
  {
   "cell_type": "markdown",
   "id": "d575a139",
   "metadata": {},
   "source": [
    "# Importing the data"
   ]
  },
  {
   "cell_type": "code",
   "execution_count": 3,
   "id": "472f323a",
   "metadata": {
    "scrolled": true
   },
   "outputs": [
    {
     "data": {
      "text/html": [
       "<div>\n",
       "<style scoped>\n",
       "    .dataframe tbody tr th:only-of-type {\n",
       "        vertical-align: middle;\n",
       "    }\n",
       "\n",
       "    .dataframe tbody tr th {\n",
       "        vertical-align: top;\n",
       "    }\n",
       "\n",
       "    .dataframe thead th {\n",
       "        text-align: right;\n",
       "    }\n",
       "</style>\n",
       "<table border=\"1\" class=\"dataframe\">\n",
       "  <thead>\n",
       "    <tr style=\"text-align: right;\">\n",
       "      <th></th>\n",
       "      <th>score</th>\n",
       "      <th>review</th>\n",
       "    </tr>\n",
       "  </thead>\n",
       "  <tbody>\n",
       "    <tr>\n",
       "      <th>0</th>\n",
       "      <td>2</td>\n",
       "      <td>Thigh hi compression stockinstockings: Excelle...</td>\n",
       "    </tr>\n",
       "    <tr>\n",
       "      <th>1</th>\n",
       "      <td>2</td>\n",
       "      <td>Worth the Journey: Few artists can capture a m...</td>\n",
       "    </tr>\n",
       "    <tr>\n",
       "      <th>2</th>\n",
       "      <td>2</td>\n",
       "      <td>In The Kitchen with Rosie has the best ever ch...</td>\n",
       "    </tr>\n",
       "    <tr>\n",
       "      <th>3</th>\n",
       "      <td>2</td>\n",
       "      <td>Incredible suspense, strong values and a book ...</td>\n",
       "    </tr>\n",
       "    <tr>\n",
       "      <th>4</th>\n",
       "      <td>2</td>\n",
       "      <td>A source of jubilation: At last, In France, a ...</td>\n",
       "    </tr>\n",
       "  </tbody>\n",
       "</table>\n",
       "</div>"
      ],
      "text/plain": [
       "  score                                             review\n",
       "0     2  Thigh hi compression stockinstockings: Excelle...\n",
       "1     2  Worth the Journey: Few artists can capture a m...\n",
       "2     2  In The Kitchen with Rosie has the best ever ch...\n",
       "3     2  Incredible suspense, strong values and a book ...\n",
       "4     2  A source of jubilation: At last, In France, a ..."
      ]
     },
     "execution_count": 3,
     "metadata": {},
     "output_type": "execute_result"
    }
   ],
   "source": [
    "# Import the files\n",
    "train_file = bz2.BZ2File(\"train.ft.txt.bz2\")\n",
    "test_file = bz2.BZ2File(\"test.ft.txt.bz2\")\n",
    "\n",
    "# Load and decode\n",
    "lines_train = [x.decode('utf-8') for x in train_file.readlines()]\n",
    "lines_test = [x.decode('utf-8') for x in test_file.readlines()]\n",
    "\n",
    "# Split in two: sentiment and review\n",
    "score_review_list_train = [re.split(\"\\s+\", l.strip('__label__'), 1) for l in lines_train]\n",
    "score_review_list_test = [re.split(\"\\s+\", l.strip('__label__'), 1) for l in lines_test]\n",
    "\n",
    "# Create dataframe and take random sample to speed up execution time\n",
    "train = pd.DataFrame(score_review_list_train, columns = ['score', 'review'])\\\n",
    ".sample(n = 40000, random_state = 21).reset_index(drop = True)\n",
    "test = pd.DataFrame(score_review_list_test, columns = ['score', 'review'] )\\\n",
    ".sample(n = 16000, random_state = 21).reset_index(drop = True)\n",
    "\n",
    "train.head()"
   ]
  },
  {
   "cell_type": "markdown",
   "id": "dfd243e4",
   "metadata": {},
   "source": [
    "# Creating the new features\n",
    "In this chapter, two new features will be created: `n_tokens` and `language`. \n",
    "\n",
    "`n_tokens` is the amount of words a review has, whilst `language` is the langauge detected from the review.\n",
    "\n",
    "## n_tokens\n",
    "In this paragraph, the number of token for each review will be created as a feature. This will be done using regex."
   ]
  },
  {
   "cell_type": "code",
   "execution_count": 4,
   "id": "c8f90665",
   "metadata": {
    "scrolled": true
   },
   "outputs": [
    {
     "data": {
      "text/html": [
       "<div>\n",
       "<style scoped>\n",
       "    .dataframe tbody tr th:only-of-type {\n",
       "        vertical-align: middle;\n",
       "    }\n",
       "\n",
       "    .dataframe tbody tr th {\n",
       "        vertical-align: top;\n",
       "    }\n",
       "\n",
       "    .dataframe thead th {\n",
       "        text-align: right;\n",
       "    }\n",
       "</style>\n",
       "<table border=\"1\" class=\"dataframe\">\n",
       "  <thead>\n",
       "    <tr style=\"text-align: right;\">\n",
       "      <th></th>\n",
       "      <th>score</th>\n",
       "      <th>review</th>\n",
       "      <th>n_tokens</th>\n",
       "    </tr>\n",
       "  </thead>\n",
       "  <tbody>\n",
       "    <tr>\n",
       "      <th>0</th>\n",
       "      <td>2</td>\n",
       "      <td>Thigh hi compression stockinstockings: Excelle...</td>\n",
       "      <td>24</td>\n",
       "    </tr>\n",
       "    <tr>\n",
       "      <th>1</th>\n",
       "      <td>2</td>\n",
       "      <td>Worth the Journey: Few artists can capture a m...</td>\n",
       "      <td>156</td>\n",
       "    </tr>\n",
       "    <tr>\n",
       "      <th>2</th>\n",
       "      <td>2</td>\n",
       "      <td>In The Kitchen with Rosie has the best ever ch...</td>\n",
       "      <td>70</td>\n",
       "    </tr>\n",
       "    <tr>\n",
       "      <th>3</th>\n",
       "      <td>2</td>\n",
       "      <td>Incredible suspense, strong values and a book ...</td>\n",
       "      <td>31</td>\n",
       "    </tr>\n",
       "    <tr>\n",
       "      <th>4</th>\n",
       "      <td>2</td>\n",
       "      <td>A source of jubilation: At last, In France, a ...</td>\n",
       "      <td>153</td>\n",
       "    </tr>\n",
       "  </tbody>\n",
       "</table>\n",
       "</div>"
      ],
      "text/plain": [
       "  score                                             review  n_tokens\n",
       "0     2  Thigh hi compression stockinstockings: Excelle...        24\n",
       "1     2  Worth the Journey: Few artists can capture a m...       156\n",
       "2     2  In The Kitchen with Rosie has the best ever ch...        70\n",
       "3     2  Incredible suspense, strong values and a book ...        31\n",
       "4     2  A source of jubilation: At last, In France, a ...       153"
      ]
     },
     "execution_count": 4,
     "metadata": {},
     "output_type": "execute_result"
    }
   ],
   "source": [
    "# Create n_tokens feature using regex\n",
    "train['n_tokens'] = [len(regexp_tokenize(line, '\\w+')) for line in train.review]\n",
    "test['n_tokens'] = [len(regexp_tokenize(line, '\\w+')) for line in test.review]\n",
    "\n",
    "train.head()"
   ]
  },
  {
   "cell_type": "markdown",
   "id": "b9cc60ad",
   "metadata": {},
   "source": [
    "## Language\n",
    "In this paragraph, the language feature will be created."
   ]
  },
  {
   "cell_type": "code",
   "execution_count": 7,
   "id": "02d53cd8",
   "metadata": {},
   "outputs": [],
   "source": [
    "# Create function for creating language features\n",
    "def language(data):\n",
    "# Create empty list: languages\n",
    "    languages = []\n",
    "    \n",
    "# Try to detect the langauge of each review using detect\n",
    "# NOTE: sometimes if the langauge is not detectable, it will trow an error. \n",
    "# This is probably because the review is too small \n",
    "# that's why the row will be deleted if the language can't be detected\n",
    "    for i in data.review:\n",
    "        try:\n",
    "            lang = detect(i)\n",
    "            languages.append(lang)\n",
    "        except:\n",
    "            data = data.drop(i)\n",
    "    # Add language feature based on langauges list\n",
    "    data['language'] = languages\n",
    "    \n",
    "    return data"
   ]
  },
  {
   "cell_type": "code",
   "execution_count": 8,
   "id": "31e39236",
   "metadata": {},
   "outputs": [
    {
     "data": {
      "text/html": [
       "<div>\n",
       "<style scoped>\n",
       "    .dataframe tbody tr th:only-of-type {\n",
       "        vertical-align: middle;\n",
       "    }\n",
       "\n",
       "    .dataframe tbody tr th {\n",
       "        vertical-align: top;\n",
       "    }\n",
       "\n",
       "    .dataframe thead th {\n",
       "        text-align: right;\n",
       "    }\n",
       "</style>\n",
       "<table border=\"1\" class=\"dataframe\">\n",
       "  <thead>\n",
       "    <tr style=\"text-align: right;\">\n",
       "      <th></th>\n",
       "      <th>score</th>\n",
       "      <th>review</th>\n",
       "      <th>n_tokens</th>\n",
       "      <th>language</th>\n",
       "    </tr>\n",
       "  </thead>\n",
       "  <tbody>\n",
       "    <tr>\n",
       "      <th>0</th>\n",
       "      <td>2</td>\n",
       "      <td>Thigh hi compression stockinstockings: Excelle...</td>\n",
       "      <td>24</td>\n",
       "      <td>en</td>\n",
       "    </tr>\n",
       "    <tr>\n",
       "      <th>1</th>\n",
       "      <td>2</td>\n",
       "      <td>Worth the Journey: Few artists can capture a m...</td>\n",
       "      <td>156</td>\n",
       "      <td>en</td>\n",
       "    </tr>\n",
       "    <tr>\n",
       "      <th>2</th>\n",
       "      <td>2</td>\n",
       "      <td>In The Kitchen with Rosie has the best ever ch...</td>\n",
       "      <td>70</td>\n",
       "      <td>en</td>\n",
       "    </tr>\n",
       "    <tr>\n",
       "      <th>3</th>\n",
       "      <td>2</td>\n",
       "      <td>Incredible suspense, strong values and a book ...</td>\n",
       "      <td>31</td>\n",
       "      <td>en</td>\n",
       "    </tr>\n",
       "    <tr>\n",
       "      <th>4</th>\n",
       "      <td>2</td>\n",
       "      <td>A source of jubilation: At last, In France, a ...</td>\n",
       "      <td>153</td>\n",
       "      <td>en</td>\n",
       "    </tr>\n",
       "  </tbody>\n",
       "</table>\n",
       "</div>"
      ],
      "text/plain": [
       "  score                                             review  n_tokens language\n",
       "0     2  Thigh hi compression stockinstockings: Excelle...        24       en\n",
       "1     2  Worth the Journey: Few artists can capture a m...       156       en\n",
       "2     2  In The Kitchen with Rosie has the best ever ch...        70       en\n",
       "3     2  Incredible suspense, strong values and a book ...        31       en\n",
       "4     2  A source of jubilation: At last, In France, a ...       153       en"
      ]
     },
     "execution_count": 8,
     "metadata": {},
     "output_type": "execute_result"
    }
   ],
   "source": [
    "# Call the function langauge for both train and test set\n",
    "train = language(train)\n",
    "test = language(test)\n",
    "\n",
    "train.head()"
   ]
  },
  {
   "cell_type": "markdown",
   "id": "5731e183",
   "metadata": {},
   "source": [
    "# Tokenize using bag-of-words\n",
    "In this chapter, the reviews will be tokenized. This will be done by using a CountVectorizer, which displays the total amount a word occurs in a review."
   ]
  },
  {
   "cell_type": "code",
   "execution_count": 12,
   "id": "94e5580f",
   "metadata": {},
   "outputs": [
    {
     "name": "stdout",
     "output_type": "stream",
     "text": [
      "['en' 'pt' 'es' 'fr' 'so' 'sq' 'af' 'pl' 'de' 'it' 'id' 'hu' 'da']\n",
      "['en' 'es' 'fr' 'de' 'pt' 'id' 'cy' 'so']\n"
     ]
    }
   ],
   "source": [
    "# Print the unique langauges detected. This will be used as an input for the stop words\n",
    "print(train.language.unique())\n",
    "print(test.language.unique())"
   ]
  },
  {
   "cell_type": "code",
   "execution_count": 18,
   "id": "045354d3",
   "metadata": {},
   "outputs": [
    {
     "data": {
      "text/plain": [
       "(40000, 1001)"
      ]
     },
     "execution_count": 18,
     "metadata": {},
     "output_type": "execute_result"
    }
   ],
   "source": [
    "# Create list of stopwords based on languages\n",
    "stop_words = ['english', 'german', 'french', 'spanish', 'portuguese', 'polish', 'italian']\n",
    "\n",
    "count_vect = CountVectorizer(stop_words = stop_words, max_features = 1000, min_df = 50)\n",
    "\n",
    "# Create the bag-of-words vector for the train and test set\n",
    "count_train = count_vect.fit_transform(train.review)\n",
    "count_test = count_vect.transform(test.review)\n",
    "\n",
    "# Create X_train and X_test dataframes based on vectors \n",
    "X_train = pd.DataFrame(count_train.A, columns = count_vect.get_feature_names())\n",
    "X_test = pd.DataFrame(count_test.A, columns = count_vect.get_feature_names())\n",
    "\n",
    "# Add the n_tokens and language columns\n",
    "# NOTE: language will be converted to boolean: 1 for English, 0 for non-English\n",
    "X_train['n_tokens'], X_train['language'] = train.n_tokens, np.where(train['language'] == 'en', 1, 0)\n",
    "X_test['n_tokens'], X_test['language'] = test.n_tokens, np.where(test['language'] == 'en', 1, 0)\n",
    "\n",
    "# Set y_train and y_test based on the score column\n",
    "y_train = train.score\n",
    "y_test = test.score\n",
    "\n",
    "X_train.head()"
   ]
  },
  {
   "cell_type": "markdown",
   "id": "99d862d5",
   "metadata": {},
   "source": [
    "# Building a classification model\n",
    "In this chapter, a classification model wil be provided. The model predicts the sentiment for the review: 1 for negative, 2 for positive. As the metric for evaluation. We'll use the accuracy score and the confusion matrix. The accuracy tells us how the model overall performs on the test data. While the confusion matrix gives us insight how the model performs on the two outcomes individually."
   ]
  },
  {
   "cell_type": "code",
   "execution_count": 32,
   "id": "661227bb",
   "metadata": {
    "scrolled": true
   },
   "outputs": [
    {
     "name": "stdout",
     "output_type": "stream",
     "text": [
      "Accuracy score: 0.837\n"
     ]
    },
    {
     "data": {
      "image/png": "[encoded data removed]",
      "text/plain": [
       "<Figure size 432x288 with 1 Axes>"
      ]
     },
     "metadata": {
      "needs_background": "light"
     },
     "output_type": "display_data"
    }
   ],
   "source": [
    "# Create an instance for MultinomialNB classifier\n",
    "multi_nb = MultinomialNB()\n",
    "\n",
    "# Train the data based on the train set\n",
    "multi_nb.fit(X_train, y_train)\n",
    "\n",
    "# Create the predictions\n",
    "pred = multi_nb.predict(X_test)\n",
    "\n",
    "# Get the accuracy and print it\n",
    "acc = accuracy_score(y_test, pred)\n",
    "\n",
    "print(\"Accuracy score: {0:.3f}\".format(acc))\n",
    "\n",
    "# Get the confusion matrix and print it\n",
    "conf_matrix = confusion_matrix(y_test, pred)\n",
    "\n",
    "fig, ax = plt.subplots()\n",
    "sns.heatmap(conf_matrix, annot = True, cbar = False, \n",
    "            fmt = 'd', cmap = 'Blues', ax = ax, xticklabels = [1,2],\n",
    "           yticklabels = [1, 2])\n",
    "ax.set_xlabel(\"Predicted values\")\n",
    "ax.set_ylabel(\"Actual values\")\n",
    "ax.set_title(\"Confusion matrix\")\n",
    "plt.show()"
   ]
  },
  {
   "cell_type": "markdown",
   "id": "623b0bc6",
   "metadata": {},
   "source": [
    "## Conclusion model\n",
    "The accuracy score is 83.7% based on the default parameters for the algorithm. While the confusion matrix shows that 6604 were correctly predicted as negative and 6783 were  correctly predicted as positive. There were 1297 incorrectly predicted negative values and 1316 positive reviews.\n",
    "\n",
    "Both metrics indicate that the models performs pretty good on the first try."
   ]
  }
 ],
 "metadata": {
  "kernelspec": {
   "display_name": "Python 3 (ipykernel)",
   "language": "python",
   "name": "python3"
  },
  "language_info": {
   "codemirror_mode": {
    "name": "ipython",
    "version": 3
   },
   "file_extension": ".py",
   "mimetype": "text/x-python",
   "name": "python",
   "nbconvert_exporter": "python",
   "pygments_lexer": "ipython3",
   "version": "3.9.7"
  }
 },
 "nbformat": 4,
 "nbformat_minor": 5
}

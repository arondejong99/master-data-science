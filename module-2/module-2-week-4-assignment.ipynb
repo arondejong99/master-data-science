{
 "cells": [
  {
   "cell_type": "markdown",
   "id": "adebccca",
   "metadata": {},
   "source": [
    "# Writing classes\n",
    "In this assignment, three different classes will be created. They will have the following attributes:\n",
    "- `Person`: parent class of `Lecturer` and `Student`. Also have the following instance attributes: `num_of_legs`(int initialised to `2`), `is_alive` boolean which is set to `True`\n",
    "- `Student`: attributes from Parent class `Person` and `Name`(string), `Grade`(float) and `Number`(integer).\n",
    "- `Lecturer`: attributes from Parent class `Person` and `Name`(string), `Number`(integer)."
   ]
  },
  {
   "cell_type": "markdown",
   "id": "f0d955b9",
   "metadata": {},
   "source": [
    "## Person class"
   ]
  },
  {
   "cell_type": "code",
   "execution_count": 1,
   "id": "ab0354ec",
   "metadata": {},
   "outputs": [],
   "source": [
    "# Creating the class\n",
    "class Person:\n",
    "    \"\"\"Creating the function __init__ within the class. This will \n",
    "    store the attributes num_of_legs and is_alive\"\"\"\n",
    "    def __init__(self):\n",
    "        self.num_of_legs = 2\n",
    "        self.is_alive = True"
   ]
  },
  {
   "cell_type": "markdown",
   "id": "c0dcad4d",
   "metadata": {},
   "source": [
    "## Student class"
   ]
  },
  {
   "cell_type": "code",
   "execution_count": 2,
   "id": "f7bb8724",
   "metadata": {},
   "outputs": [
    {
     "name": "stdout",
     "output_type": "stream",
     "text": [
      "{'Name': 'Aron', 'Grade': 7.8, 'Number': 123456, 'num_of_legs': 2, 'is_alive': True}\n"
     ]
    }
   ],
   "source": [
    "class Student(Person):\n",
    "    \"\"\"This __init__ function takes Names, Grade and Number. Each instance attributes described earlier will be assigned \n",
    "    to the arguments. It will also inherit the attributes from the Person class\"\"\"\n",
    "    def __init__(self, Name, Grade, Number):\n",
    "        # Creating the other attributes\n",
    "        self.Name = Name\n",
    "        self.Grade = Grade\n",
    "        self.Number = Number\n",
    "        # Inherting the attributes from the Parent class\n",
    "        Person.__init__(self)\n",
    "    \n",
    "# Creating an instance and printin the different attributes with the vars function    \n",
    "ins = Student(\"Aron\", 7.8, 123456)\n",
    "print(vars(ins))"
   ]
  },
  {
   "cell_type": "markdown",
   "id": "d612a086",
   "metadata": {},
   "source": [
    "## Lecturer class"
   ]
  },
  {
   "cell_type": "code",
   "execution_count": 3,
   "id": "b84afbc4",
   "metadata": {},
   "outputs": [
    {
     "name": "stdout",
     "output_type": "stream",
     "text": [
      "{'Name': 'Test', 'Number': 1234145, 'num_of_legs': 2, 'is_alive': True}\n"
     ]
    }
   ],
   "source": [
    "class Lecturer(Person):\n",
    "    \"\"\"This __init__ function takes Names and Number. Each instance attributes described earlier will be assigned \n",
    "    to the arguments. It will also inherit the attributes from the Person class\"\"\"\n",
    "    def __init__(self, Name, Number):\n",
    "        # Creating the other attributes\n",
    "        self.Name = Name\n",
    "        self.Number = Number\n",
    "        # Inherting the attributes from the Parent class\n",
    "        Person.__init__(self)\n",
    "# Creating an instance and printin the different attributes with the vars function            \n",
    "lec = Lecturer(\"Test\", 1234145)\n",
    "print(vars(lec))"
   ]
  }
 ],
 "metadata": {
  "kernelspec": {
   "display_name": "Python 3 (ipykernel)",
   "language": "python",
   "name": "python3"
  },
  "language_info": {
   "codemirror_mode": {
    "name": "ipython",
    "version": 3
   },
   "file_extension": ".py",
   "mimetype": "text/x-python",
   "name": "python",
   "nbconvert_exporter": "python",
   "pygments_lexer": "ipython3",
   "version": "3.9.7"
  }
 },
 "nbformat": 4,
 "nbformat_minor": 5
}

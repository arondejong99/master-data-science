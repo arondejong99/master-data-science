{
 "cells": [
  {
   "cell_type": "markdown",
   "id": "e7453152",
   "metadata": {},
   "source": [
    "# Transforming data structures\n",
    "In this exercise, a few data structures will be transformed from one to the other. The transformations of data structures are:\n",
    "- From dictionary to list\n",
    "- From dictionary to 2-dimensional tuple\n",
    "- From 2-dimensional tuple to list\n",
    "- From 2-dimensional tuple to dictionary\n",
    "\n",
    "Each transforming will be done by creating a function"
   ]
  },
  {
   "cell_type": "markdown",
   "id": "1a67204d",
   "metadata": {},
   "source": [
    "## From dictionary to list\n",
    "In this chapter, a dictionary will be transformed to a list."
   ]
  },
  {
   "cell_type": "code",
   "execution_count": 1,
   "id": "858b616e",
   "metadata": {},
   "outputs": [
    {
     "data": {
      "text/plain": [
       "[['name', 'John'],\n",
       " ['lastname', 'Wick'],\n",
       " ['city', 'New York'],\n",
       " ['pets', 'dog'],\n",
       " ['status', 'widowed']]"
      ]
     },
     "execution_count": 1,
     "metadata": {},
     "output_type": "execute_result"
    }
   ],
   "source": [
    "# Defining the dictionary to be transformed\n",
    "dictionary = {\"name\": \"John\", \"lastname\": \"Wick\", \"city\": \"New York\", \"pets\": \"dog\", \"status\": \"widowed\"}\n",
    "\n",
    "# Creating the function using listcomprehensions\n",
    "def dict_to_list(dictionary):\n",
    "    output = [[k, v] for k, v in dictionary.items()]\n",
    "    return output\n",
    "\n",
    "dict_to_list(dictionary)"
   ]
  },
  {
   "cell_type": "markdown",
   "id": "a2b8fb23",
   "metadata": {},
   "source": [
    "## From dictionary to 2-dimensional tuple\n",
    "In this chapter, a dictinonary will be transformed to a 2-D tuple. For this chapter, we'll use the dictionary from before."
   ]
  },
  {
   "cell_type": "code",
   "execution_count": 2,
   "id": "b414f3f1",
   "metadata": {
    "scrolled": true
   },
   "outputs": [
    {
     "data": {
      "text/plain": [
       "(('name', 'John'),\n",
       " ('lastname', 'Wick'),\n",
       " ('city', 'New York'),\n",
       " ('pets', 'dog'),\n",
       " ('status', 'widowed'))"
      ]
     },
     "execution_count": 2,
     "metadata": {},
     "output_type": "execute_result"
    }
   ],
   "source": [
    "# Defining the function to convert the dict to a 2-d tuple\n",
    "def dict_to_2d_tuple(dictionary):\n",
    "    output = ()\n",
    "    for k, v in dictionary.items():\n",
    "        output += ((k, v),)\n",
    "    return output\n",
    "\n",
    "dict_to_2d_tuple(dictionary)"
   ]
  },
  {
   "cell_type": "markdown",
   "id": "4a76dadc",
   "metadata": {},
   "source": [
    "## From 2-D tuple to list\n",
    "In this chapter, a 2 dimensional tuple will be transformed to a list"
   ]
  },
  {
   "cell_type": "code",
   "execution_count": 3,
   "id": "bc847a57",
   "metadata": {},
   "outputs": [
    {
     "data": {
      "text/plain": [
       "[['name', 'John'], ['age', 35], ['pets', 'dog'], ['status', 'widowed']]"
      ]
     },
     "execution_count": 3,
     "metadata": {},
     "output_type": "execute_result"
    }
   ],
   "source": [
    "# Defining the 2-d tuple to use later\n",
    "tup = ((\"name\", \"John\"), (\"age\", 35), (\"pets\", \"dog\"), (\"status\", \"widowed\"))\n",
    "\n",
    "# Defining the function to convert a 2-D tuple to a list\n",
    "def tuple_to_list(tup):\n",
    "    output = [[x[0], x[1]] for x in tup]\n",
    "    return output\n",
    "\n",
    "tuple_to_list(tup)"
   ]
  },
  {
   "cell_type": "markdown",
   "id": "61a5e2f9",
   "metadata": {},
   "source": [
    "## From 2-D tuple to dictionary\n",
    "In this chapter, a 2 dimensional tuple will be convert to a dictionary"
   ]
  },
  {
   "cell_type": "code",
   "execution_count": 5,
   "id": "1f160254",
   "metadata": {},
   "outputs": [
    {
     "data": {
      "text/plain": [
       "{'name': 'John', 'age': 35, 'pets': 'dog', 'status': 'widowed'}"
      ]
     },
     "execution_count": 5,
     "metadata": {},
     "output_type": "execute_result"
    }
   ],
   "source": [
    "# Defining the function to convert the tuple to a dictionary\n",
    "def tuple_to_dict(tup):\n",
    "    output = {x[0]: x[1] for x in tup}\n",
    "    return output\n",
    "\n",
    "tuple_to_dict(tup)"
   ]
  }
 ],
 "metadata": {
  "kernelspec": {
   "display_name": "Python 3 (ipykernel)",
   "language": "python",
   "name": "python3"
  },
  "language_info": {
   "codemirror_mode": {
    "name": "ipython",
    "version": 3
   },
   "file_extension": ".py",
   "mimetype": "text/x-python",
   "name": "python",
   "nbconvert_exporter": "python",
   "pygments_lexer": "ipython3",
   "version": "3.9.7"
  }
 },
 "nbformat": 4,
 "nbformat_minor": 5
}

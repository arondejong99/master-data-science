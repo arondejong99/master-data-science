{
 "cells": [
  {
   "cell_type": "markdown",
   "id": "92a0f9df-eaaa-4577-a174-8a73b2c0e6b6",
   "metadata": {},
   "source": [
    "# Date Science bootcamp: module 2 week 1"
   ]
  },
  {
   "cell_type": "markdown",
   "id": "a1b4687c",
   "metadata": {},
   "source": [
    "## Introduction"
   ]
  },
  {
   "cell_type": "markdown",
   "id": "01ac3f54",
   "metadata": {},
   "source": [
    "In this notebook, a JSON file will be imported and stored in a variable."
   ]
  },
  {
   "cell_type": "markdown",
   "id": "beb7b7cd-47a1-4fc6-ac60-b2c1143d9aa0",
   "metadata": {},
   "source": [
    "## Import the necessary libraries"
   ]
  },
  {
   "cell_type": "code",
   "execution_count": null,
   "id": "e4e52d94-7494-4fad-b24b-73ad574b714a",
   "metadata": {},
   "outputs": [],
   "source": [
    "import json"
   ]
  },
  {
   "cell_type": "markdown",
   "id": "d1fa9ad4-2ee6-485a-8800-6fc22319603e",
   "metadata": {},
   "source": [
    "## Import the file"
   ]
  },
  {
   "cell_type": "markdown",
   "id": "c5f1e385",
   "metadata": {},
   "source": [
    "Note: for importing this file, I've used a local repository. If you've downloaded the JSON file, please change the directory."
   ]
  },
  {
   "cell_type": "code",
   "execution_count": null,
   "id": "d4b0a2d1-cfb9-46b0-9a0f-7cf8492ec121",
   "metadata": {},
   "outputs": [],
   "source": [
    "directory = \"C:/Users/arjo/OneDrive - GLOMIDCO Hosting B.V/Documenten/Aron/MDS/students-data-structure.json\"\n",
    "def importJsonFile(direct):   \n",
    "    print(\"The JSON file structure looks like this: \\n\")\n",
    "    with open(direct) as students:\n",
    "        for i in students:\n",
    "            print (i)\n",
    "\n",
    "importJsonFile(directory)        "
   ]
  }
 ],
 "metadata": {
  "kernelspec": {
   "display_name": "Python 3 (ipykernel)",
   "language": "python",
   "name": "python3"
  },
  "language_info": {
   "codemirror_mode": {
    "name": "ipython",
    "version": 3
   },
   "file_extension": ".py",
   "mimetype": "text/x-python",
   "name": "python",
   "nbconvert_exporter": "python",
   "pygments_lexer": "ipython3",
   "version": "3.9.7"
  }
 },
 "nbformat": 4,
 "nbformat_minor": 5
}

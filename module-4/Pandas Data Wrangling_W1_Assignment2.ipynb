{
 "cells": [
  {
   "cell_type": "markdown",
   "metadata": {},
   "source": [
    "# Occupation"
   ]
  },
  {
   "cell_type": "markdown",
   "metadata": {},
   "source": [
    "### Introduction:\n",
    "\n",
    "Special thanks to: https://github.com/justmarkham for sharing the dataset and materials."
   ]
  },
  {
   "cell_type": "markdown",
   "metadata": {},
   "source": [
    "### 1. Import the dataset from this [address](https://raw.githubusercontent.com/justmarkham/DAT8/master/data/u.user) directly and assign it to a variable called `users`"
   ]
  },
  {
   "cell_type": "code",
   "execution_count": 1,
   "metadata": {},
   "outputs": [
    {
     "data": {
      "text/html": [
       "<div>\n",
       "<style scoped>\n",
       "    .dataframe tbody tr th:only-of-type {\n",
       "        vertical-align: middle;\n",
       "    }\n",
       "\n",
       "    .dataframe tbody tr th {\n",
       "        vertical-align: top;\n",
       "    }\n",
       "\n",
       "    .dataframe thead th {\n",
       "        text-align: right;\n",
       "    }\n",
       "</style>\n",
       "<table border=\"1\" class=\"dataframe\">\n",
       "  <thead>\n",
       "    <tr style=\"text-align: right;\">\n",
       "      <th></th>\n",
       "      <th>user_id</th>\n",
       "      <th>age</th>\n",
       "      <th>gender</th>\n",
       "      <th>occupation</th>\n",
       "      <th>zip_code</th>\n",
       "    </tr>\n",
       "  </thead>\n",
       "  <tbody>\n",
       "    <tr>\n",
       "      <th>0</th>\n",
       "      <td>1</td>\n",
       "      <td>24</td>\n",
       "      <td>M</td>\n",
       "      <td>technician</td>\n",
       "      <td>85711</td>\n",
       "    </tr>\n",
       "    <tr>\n",
       "      <th>1</th>\n",
       "      <td>2</td>\n",
       "      <td>53</td>\n",
       "      <td>F</td>\n",
       "      <td>other</td>\n",
       "      <td>94043</td>\n",
       "    </tr>\n",
       "    <tr>\n",
       "      <th>2</th>\n",
       "      <td>3</td>\n",
       "      <td>23</td>\n",
       "      <td>M</td>\n",
       "      <td>writer</td>\n",
       "      <td>32067</td>\n",
       "    </tr>\n",
       "    <tr>\n",
       "      <th>3</th>\n",
       "      <td>4</td>\n",
       "      <td>24</td>\n",
       "      <td>M</td>\n",
       "      <td>technician</td>\n",
       "      <td>43537</td>\n",
       "    </tr>\n",
       "    <tr>\n",
       "      <th>4</th>\n",
       "      <td>5</td>\n",
       "      <td>33</td>\n",
       "      <td>F</td>\n",
       "      <td>other</td>\n",
       "      <td>15213</td>\n",
       "    </tr>\n",
       "  </tbody>\n",
       "</table>\n",
       "</div>"
      ],
      "text/plain": [
       "   user_id  age gender  occupation zip_code\n",
       "0        1   24      M  technician    85711\n",
       "1        2   53      F       other    94043\n",
       "2        3   23      M      writer    32067\n",
       "3        4   24      M  technician    43537\n",
       "4        5   33      F       other    15213"
      ]
     },
     "execution_count": 1,
     "metadata": {},
     "output_type": "execute_result"
    }
   ],
   "source": [
    "import pandas as pd\n",
    "file = 'https://raw.githubusercontent.com/justmarkham/DAT8/master/data/u.user'\n",
    "users = pd.read_table(file, sep = \"|\")\n",
    "users.head()"
   ]
  },
  {
   "cell_type": "markdown",
   "metadata": {},
   "source": [
    "### 2. Convert occupation to TitleCase"
   ]
  },
  {
   "cell_type": "code",
   "execution_count": 2,
   "metadata": {},
   "outputs": [
    {
     "name": "stdout",
     "output_type": "stream",
     "text": [
      "<class 'pandas.core.frame.DataFrame'>\n",
      "RangeIndex: 943 entries, 0 to 942\n",
      "Data columns (total 5 columns):\n",
      " #   Column      Non-Null Count  Dtype \n",
      "---  ------      --------------  ----- \n",
      " 0   user_id     943 non-null    int64 \n",
      " 1   age         943 non-null    int64 \n",
      " 2   gender      943 non-null    object\n",
      " 3   occupation  943 non-null    object\n",
      " 4   zip_code    943 non-null    object\n",
      "dtypes: int64(2), object(3)\n",
      "memory usage: 37.0+ KB\n"
     ]
    }
   ],
   "source": [
    "users['occupation'] = users.occupation.str.title()\n",
    "users.info()"
   ]
  },
  {
   "cell_type": "markdown",
   "metadata": {},
   "source": [
    "### 3. For each combination of occupation and gender, calculate the mean age (in tall table format)"
   ]
  },
  {
   "cell_type": "code",
   "execution_count": 3,
   "metadata": {},
   "outputs": [
    {
     "data": {
      "text/plain": [
       "occupation     gender\n",
       "Administrator  F         40.638889\n",
       "               M         37.162791\n",
       "Artist         F         30.307692\n",
       "               M         32.333333\n",
       "Doctor         M         43.571429\n",
       "Educator       F         39.115385\n",
       "               M         43.101449\n",
       "Engineer       F         29.500000\n",
       "               M         36.600000\n",
       "Entertainment  F         31.000000\n",
       "               M         29.000000\n",
       "Executive      F         44.000000\n",
       "               M         38.172414\n",
       "Healthcare     F         39.818182\n",
       "               M         45.400000\n",
       "Homemaker      F         34.166667\n",
       "               M         23.000000\n",
       "Lawyer         F         39.500000\n",
       "               M         36.200000\n",
       "Librarian      F         40.000000\n",
       "               M         40.000000\n",
       "Marketing      F         37.200000\n",
       "               M         37.875000\n",
       "None           F         36.500000\n",
       "               M         18.600000\n",
       "Other          F         35.472222\n",
       "               M         34.028986\n",
       "Programmer     F         32.166667\n",
       "               M         33.216667\n",
       "Retired        F         70.000000\n",
       "               M         62.538462\n",
       "Salesman       F         27.000000\n",
       "               M         38.555556\n",
       "Scientist      F         28.333333\n",
       "               M         36.321429\n",
       "Student        F         20.750000\n",
       "               M         22.669118\n",
       "Technician     F         38.000000\n",
       "               M         32.961538\n",
       "Writer         F         37.631579\n",
       "               M         35.346154\n",
       "Name: age, dtype: float64"
      ]
     },
     "metadata": {},
     "output_type": "display_data"
    }
   ],
   "source": [
    "combi = users.groupby(['occupation', 'gender']).age.mean()\n",
    "display(combi)"
   ]
  },
  {
   "cell_type": "markdown",
   "metadata": {},
   "source": [
    "### 4. Construct a pivot table showing average `age` per `occupation` and `gender` group"
   ]
  },
  {
   "cell_type": "code",
   "execution_count": 4,
   "metadata": {},
   "outputs": [
    {
     "data": {
      "text/html": [
       "<div>\n",
       "<style scoped>\n",
       "    .dataframe tbody tr th:only-of-type {\n",
       "        vertical-align: middle;\n",
       "    }\n",
       "\n",
       "    .dataframe tbody tr th {\n",
       "        vertical-align: top;\n",
       "    }\n",
       "\n",
       "    .dataframe thead th {\n",
       "        text-align: right;\n",
       "    }\n",
       "</style>\n",
       "<table border=\"1\" class=\"dataframe\">\n",
       "  <thead>\n",
       "    <tr style=\"text-align: right;\">\n",
       "      <th>gender</th>\n",
       "      <th>F</th>\n",
       "      <th>M</th>\n",
       "    </tr>\n",
       "    <tr>\n",
       "      <th>occupation</th>\n",
       "      <th></th>\n",
       "      <th></th>\n",
       "    </tr>\n",
       "  </thead>\n",
       "  <tbody>\n",
       "    <tr>\n",
       "      <th>Administrator</th>\n",
       "      <td>40.638889</td>\n",
       "      <td>37.162791</td>\n",
       "    </tr>\n",
       "    <tr>\n",
       "      <th>Artist</th>\n",
       "      <td>30.307692</td>\n",
       "      <td>32.333333</td>\n",
       "    </tr>\n",
       "    <tr>\n",
       "      <th>Doctor</th>\n",
       "      <td>NaN</td>\n",
       "      <td>43.571429</td>\n",
       "    </tr>\n",
       "    <tr>\n",
       "      <th>Educator</th>\n",
       "      <td>39.115385</td>\n",
       "      <td>43.101449</td>\n",
       "    </tr>\n",
       "    <tr>\n",
       "      <th>Engineer</th>\n",
       "      <td>29.500000</td>\n",
       "      <td>36.600000</td>\n",
       "    </tr>\n",
       "  </tbody>\n",
       "</table>\n",
       "</div>"
      ],
      "text/plain": [
       "gender                 F          M\n",
       "occupation                         \n",
       "Administrator  40.638889  37.162791\n",
       "Artist         30.307692  32.333333\n",
       "Doctor               NaN  43.571429\n",
       "Educator       39.115385  43.101449\n",
       "Engineer       29.500000  36.600000"
      ]
     },
     "execution_count": 4,
     "metadata": {},
     "output_type": "execute_result"
    }
   ],
   "source": [
    "pivot = users.pivot_table(values = 'age', index = 'occupation', columns = 'gender')\n",
    "pivot.head()"
   ]
  },
  {
   "cell_type": "markdown",
   "metadata": {},
   "source": [
    "### 5. Determine the mean age per occupation"
   ]
  },
  {
   "cell_type": "code",
   "execution_count": 5,
   "metadata": {},
   "outputs": [
    {
     "data": {
      "text/plain": [
       "occupation\n",
       "Administrator    38.746835\n",
       "Artist           31.392857\n",
       "Doctor           43.571429\n",
       "Educator         42.010526\n",
       "Engineer         36.388060\n",
       "Entertainment    29.222222\n",
       "Executive        38.718750\n",
       "Healthcare       41.562500\n",
       "Homemaker        32.571429\n",
       "Lawyer           36.750000\n",
       "Librarian        40.000000\n",
       "Marketing        37.615385\n",
       "None             26.555556\n",
       "Other            34.523810\n",
       "Programmer       33.121212\n",
       "Retired          63.071429\n",
       "Salesman         35.666667\n",
       "Scientist        35.548387\n",
       "Student          22.081633\n",
       "Technician       33.148148\n",
       "Writer           36.311111\n",
       "Name: age, dtype: float64"
      ]
     },
     "execution_count": 5,
     "metadata": {},
     "output_type": "execute_result"
    }
   ],
   "source": [
    "age_per_occ = users.groupby('occupation').age.mean()\n",
    "age_per_occ"
   ]
  },
  {
   "cell_type": "markdown",
   "metadata": {},
   "source": [
    "### 6. Determine the Male ratio per occupation and sort it from the most to the least"
   ]
  },
  {
   "cell_type": "code",
   "execution_count": 6,
   "metadata": {},
   "outputs": [
    {
     "name": "stdout",
     "output_type": "stream",
     "text": [
      "Student          0.202985\n",
      "Other            0.102985\n",
      "Educator         0.102985\n",
      "Engineer         0.097015\n",
      "Programmer       0.089552\n",
      "Administrator    0.064179\n",
      "Executive        0.043284\n",
      "Scientist        0.041791\n",
      "Technician       0.038806\n",
      "Writer           0.038806\n",
      "Librarian        0.032836\n",
      "Entertainment    0.023881\n",
      "Marketing        0.023881\n",
      "Artist           0.022388\n",
      "Retired          0.019403\n",
      "Lawyer           0.014925\n",
      "Salesman         0.013433\n",
      "Doctor           0.010448\n",
      "None             0.007463\n",
      "Healthcare       0.007463\n",
      "Homemaker        0.001493\n",
      "Name: occupation, dtype: float64\n"
     ]
    }
   ],
   "source": [
    "male = users[users['gender'] == 'M']\n",
    "male_rat = male['occupation'].value_counts(normalize = True)\n",
    "print(male_rat)"
   ]
  },
  {
   "cell_type": "markdown",
   "metadata": {},
   "source": [
    "### 7. Construct a table showing the minimum and maximum ages (columns) per occupation (rows)"
   ]
  },
  {
   "cell_type": "code",
   "execution_count": 7,
   "metadata": {},
   "outputs": [
    {
     "data": {
      "text/html": [
       "<div>\n",
       "<style scoped>\n",
       "    .dataframe tbody tr th:only-of-type {\n",
       "        vertical-align: middle;\n",
       "    }\n",
       "\n",
       "    .dataframe tbody tr th {\n",
       "        vertical-align: top;\n",
       "    }\n",
       "\n",
       "    .dataframe thead th {\n",
       "        text-align: right;\n",
       "    }\n",
       "</style>\n",
       "<table border=\"1\" class=\"dataframe\">\n",
       "  <thead>\n",
       "    <tr style=\"text-align: right;\">\n",
       "      <th></th>\n",
       "      <th>amin</th>\n",
       "      <th>amax</th>\n",
       "    </tr>\n",
       "    <tr>\n",
       "      <th>occupation</th>\n",
       "      <th></th>\n",
       "      <th></th>\n",
       "    </tr>\n",
       "  </thead>\n",
       "  <tbody>\n",
       "    <tr>\n",
       "      <th>Administrator</th>\n",
       "      <td>21</td>\n",
       "      <td>70</td>\n",
       "    </tr>\n",
       "    <tr>\n",
       "      <th>Artist</th>\n",
       "      <td>19</td>\n",
       "      <td>48</td>\n",
       "    </tr>\n",
       "    <tr>\n",
       "      <th>Doctor</th>\n",
       "      <td>28</td>\n",
       "      <td>64</td>\n",
       "    </tr>\n",
       "    <tr>\n",
       "      <th>Educator</th>\n",
       "      <td>23</td>\n",
       "      <td>63</td>\n",
       "    </tr>\n",
       "    <tr>\n",
       "      <th>Engineer</th>\n",
       "      <td>22</td>\n",
       "      <td>70</td>\n",
       "    </tr>\n",
       "    <tr>\n",
       "      <th>Entertainment</th>\n",
       "      <td>15</td>\n",
       "      <td>50</td>\n",
       "    </tr>\n",
       "    <tr>\n",
       "      <th>Executive</th>\n",
       "      <td>22</td>\n",
       "      <td>69</td>\n",
       "    </tr>\n",
       "    <tr>\n",
       "      <th>Healthcare</th>\n",
       "      <td>22</td>\n",
       "      <td>62</td>\n",
       "    </tr>\n",
       "    <tr>\n",
       "      <th>Homemaker</th>\n",
       "      <td>20</td>\n",
       "      <td>50</td>\n",
       "    </tr>\n",
       "    <tr>\n",
       "      <th>Lawyer</th>\n",
       "      <td>21</td>\n",
       "      <td>53</td>\n",
       "    </tr>\n",
       "    <tr>\n",
       "      <th>Librarian</th>\n",
       "      <td>23</td>\n",
       "      <td>69</td>\n",
       "    </tr>\n",
       "    <tr>\n",
       "      <th>Marketing</th>\n",
       "      <td>24</td>\n",
       "      <td>55</td>\n",
       "    </tr>\n",
       "    <tr>\n",
       "      <th>None</th>\n",
       "      <td>11</td>\n",
       "      <td>55</td>\n",
       "    </tr>\n",
       "    <tr>\n",
       "      <th>Other</th>\n",
       "      <td>13</td>\n",
       "      <td>64</td>\n",
       "    </tr>\n",
       "    <tr>\n",
       "      <th>Programmer</th>\n",
       "      <td>20</td>\n",
       "      <td>63</td>\n",
       "    </tr>\n",
       "    <tr>\n",
       "      <th>Retired</th>\n",
       "      <td>51</td>\n",
       "      <td>73</td>\n",
       "    </tr>\n",
       "    <tr>\n",
       "      <th>Salesman</th>\n",
       "      <td>18</td>\n",
       "      <td>66</td>\n",
       "    </tr>\n",
       "    <tr>\n",
       "      <th>Scientist</th>\n",
       "      <td>23</td>\n",
       "      <td>55</td>\n",
       "    </tr>\n",
       "    <tr>\n",
       "      <th>Student</th>\n",
       "      <td>7</td>\n",
       "      <td>42</td>\n",
       "    </tr>\n",
       "    <tr>\n",
       "      <th>Technician</th>\n",
       "      <td>21</td>\n",
       "      <td>55</td>\n",
       "    </tr>\n",
       "    <tr>\n",
       "      <th>Writer</th>\n",
       "      <td>18</td>\n",
       "      <td>60</td>\n",
       "    </tr>\n",
       "  </tbody>\n",
       "</table>\n",
       "</div>"
      ],
      "text/plain": [
       "               amin  amax\n",
       "occupation               \n",
       "Administrator    21    70\n",
       "Artist           19    48\n",
       "Doctor           28    64\n",
       "Educator         23    63\n",
       "Engineer         22    70\n",
       "Entertainment    15    50\n",
       "Executive        22    69\n",
       "Healthcare       22    62\n",
       "Homemaker        20    50\n",
       "Lawyer           21    53\n",
       "Librarian        23    69\n",
       "Marketing        24    55\n",
       "None             11    55\n",
       "Other            13    64\n",
       "Programmer       20    63\n",
       "Retired          51    73\n",
       "Salesman         18    66\n",
       "Scientist        23    55\n",
       "Student           7    42\n",
       "Technician       21    55\n",
       "Writer           18    60"
      ]
     },
     "execution_count": 7,
     "metadata": {},
     "output_type": "execute_result"
    }
   ],
   "source": [
    "import numpy as np\n",
    "stats = users.groupby('occupation').agg([np.min, np.max])['age']\n",
    "stats"
   ]
  },
  {
   "cell_type": "markdown",
   "metadata": {},
   "source": [
    "### 8.  For each occupation present the percentage of women and men"
   ]
  },
  {
   "cell_type": "code",
   "execution_count": 8,
   "metadata": {},
   "outputs": [
    {
     "data": {
      "text/plain": [
       "occupation     gender\n",
       "Administrator  M          54.430380\n",
       "               F          45.569620\n",
       "Artist         M          53.571429\n",
       "               F          46.428571\n",
       "Doctor         M         100.000000\n",
       "Educator       M          72.631579\n",
       "               F          27.368421\n",
       "Engineer       M          97.014925\n",
       "               F           2.985075\n",
       "Entertainment  M          88.888889\n",
       "               F          11.111111\n",
       "Executive      M          90.625000\n",
       "               F           9.375000\n",
       "Healthcare     F          68.750000\n",
       "               M          31.250000\n",
       "Homemaker      F          85.714286\n",
       "               M          14.285714\n",
       "Lawyer         M          83.333333\n",
       "               F          16.666667\n",
       "Librarian      F          56.862745\n",
       "               M          43.137255\n",
       "Marketing      M          61.538462\n",
       "               F          38.461538\n",
       "None           M          55.555556\n",
       "               F          44.444444\n",
       "Other          M          65.714286\n",
       "               F          34.285714\n",
       "Programmer     M          90.909091\n",
       "               F           9.090909\n",
       "Retired        M          92.857143\n",
       "               F           7.142857\n",
       "Salesman       M          75.000000\n",
       "               F          25.000000\n",
       "Scientist      M          90.322581\n",
       "               F           9.677419\n",
       "Student        M          69.387755\n",
       "               F          30.612245\n",
       "Technician     M          96.296296\n",
       "               F           3.703704\n",
       "Writer         M          57.777778\n",
       "               F          42.222222\n",
       "Name: gender, dtype: float64"
      ]
     },
     "metadata": {},
     "output_type": "display_data"
    }
   ],
   "source": [
    "gender_ratio = users.groupby(['occupation'])['gender'].value_counts(normalize = True) * 100\n",
    "display(gender_ratio)"
   ]
  },
  {
   "cell_type": "markdown",
   "metadata": {},
   "source": [
    "### 9. Zero-pad (zero-fill) the zip codes to get a numeric string of 6-characters"
   ]
  },
  {
   "cell_type": "code",
   "execution_count": 9,
   "metadata": {},
   "outputs": [
    {
     "data": {
      "text/plain": [
       "0      085711\n",
       "1      094043\n",
       "2      032067\n",
       "3      043537\n",
       "4      015213\n",
       "        ...  \n",
       "938    033319\n",
       "939    002215\n",
       "940    097229\n",
       "941    078209\n",
       "942    077841\n",
       "Name: zip_code, Length: 943, dtype: object"
      ]
     },
     "execution_count": 9,
     "metadata": {},
     "output_type": "execute_result"
    }
   ],
   "source": [
    "users['zip_code'] = users.zip_code.astype(str).str.zfill(6)\n",
    "users.zip_code"
   ]
  },
  {
   "cell_type": "markdown",
   "metadata": {},
   "source": [
    "### 10. Get the oldest user for each occupation and show his/her zip code"
   ]
  },
  {
   "cell_type": "code",
   "execution_count": 10,
   "metadata": {},
   "outputs": [
    {
     "data": {
      "text/plain": [
       "802    078212\n",
       "122    020008\n",
       "844    097405\n",
       "857    009645\n",
       "766    000000\n",
       "914    060614\n",
       "558    010022\n",
       "519    012603\n",
       "721    017331\n",
       "9      090703\n",
       "584    098501\n",
       "90     001913\n",
       "417    021206\n",
       "422    091606\n",
       "776    001810\n",
       "480    037771\n",
       "210    032605\n",
       "615    050613\n",
       "187    029440\n",
       "196    075094\n",
       "463    094583\n",
       "Name: zip_code, dtype: object"
      ]
     },
     "execution_count": 10,
     "metadata": {},
     "output_type": "execute_result"
    }
   ],
   "source": [
    "index_max = np.array(users.groupby('occupation')['age'].idxmax())\n",
    "zipcode = users['zip_code'].iloc[index_max]\n",
    "zipcode"
   ]
  },
  {
   "cell_type": "markdown",
   "metadata": {},
   "source": [
    "### 11. Construct a feature showing the number of users per occupation (do not aggregate!)"
   ]
  },
  {
   "cell_type": "code",
   "execution_count": 11,
   "metadata": {},
   "outputs": [
    {
     "data": {
      "text/plain": [
       "Student          196\n",
       "Other            105\n",
       "Educator          95\n",
       "Administrator     79\n",
       "Engineer          67\n",
       "Programmer        66\n",
       "Librarian         51\n",
       "Writer            45\n",
       "Executive         32\n",
       "Scientist         31\n",
       "Artist            28\n",
       "Technician        27\n",
       "Marketing         26\n",
       "Entertainment     18\n",
       "Healthcare        16\n",
       "Retired           14\n",
       "Lawyer            12\n",
       "Salesman          12\n",
       "None               9\n",
       "Homemaker          7\n",
       "Doctor             7\n",
       "Name: occupation, dtype: int64"
      ]
     },
     "execution_count": 11,
     "metadata": {},
     "output_type": "execute_result"
    }
   ],
   "source": [
    "feature = users['occupation'].value_counts()\n",
    "feature"
   ]
  }
 ],
 "metadata": {
  "kernelspec": {
   "display_name": "Python 3 (ipykernel)",
   "language": "python",
   "name": "python3"
  },
  "language_info": {
   "codemirror_mode": {
    "name": "ipython",
    "version": 3
   },
   "file_extension": ".py",
   "mimetype": "text/x-python",
   "name": "python",
   "nbconvert_exporter": "python",
   "pygments_lexer": "ipython3",
   "version": "3.9.7"
  }
 },
 "nbformat": 4,
 "nbformat_minor": 1
}

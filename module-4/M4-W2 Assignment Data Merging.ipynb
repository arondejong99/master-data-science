{
 "cells": [
  {
   "cell_type": "code",
   "execution_count": 1,
   "id": "f5488486",
   "metadata": {},
   "outputs": [],
   "source": [
    "# import the modules\n",
    "import pandas as pd\n",
    "import numpy as np"
   ]
  },
  {
   "cell_type": "markdown",
   "id": "182dd960",
   "metadata": {},
   "source": [
    "## Read the data"
   ]
  },
  {
   "cell_type": "code",
   "execution_count": 2,
   "id": "4f897948",
   "metadata": {},
   "outputs": [],
   "source": [
    "# Reading all the datasets\n",
    "application_test = pd.read_csv('application_test.csv')\n",
    "application_train = pd.read_csv('application_train.csv') \n",
    "bureau = pd.read_csv('bureau.csv')\n",
    "bureau_balance = pd.read_csv('bureau_balance.csv')\n",
    "credit_card_balance = pd.read_csv('credit_card_balance.csv')\n",
    "HomeCredit_columns_description = pd.read_csv('HomeCredit_columns_description.csv',encoding = 'ISO-8859-1', index_col = 0)\n",
    "installments_payments = pd.read_csv('installments_payments.csv',encoding = 'ISO-8859-1')\n",
    "POS_CASH_balance = pd.read_csv('POS_CASH_balance.csv',encoding = 'ISO-8859-1')\n",
    "previous_application = pd.read_csv('previous_application.csv',encoding = 'ISO-8859-1')\n",
    "sample_submission = pd.read_csv('sample_submission.csv',encoding = 'ISO-8859-1')"
   ]
  },
  {
   "cell_type": "markdown",
   "id": "324764be",
   "metadata": {},
   "source": [
    "## 1. average requested loan size (current and previous) for all applicants\n",
    "\n",
    "Merge: application_train, bureaus, previous "
   ]
  },
  {
   "cell_type": "code",
   "execution_count": 4,
   "id": "e4f61c09",
   "metadata": {
    "scrolled": false
   },
   "outputs": [],
   "source": [
    "# Perform the merging\n",
    "results1 = application_train[['SK_ID_CURR', 'AMT_CREDIT']].merge(bureau, on = 'SK_ID_CURR', suffixes = ('_train', '_bureau'))\\\n",
    "        .merge(previous_application, on = 'SK_ID_CURR', suffixes = ('', '_previous'), how = 'outer')\n"
   ]
  },
  {
   "cell_type": "code",
   "execution_count": 5,
   "id": "b56eaa5c",
   "metadata": {
    "scrolled": false
   },
   "outputs": [
    {
     "data": {
      "text/plain": [
       "AMT_CREDIT_previous    181907.064386\n",
       "AMT_CREDIT             623597.933385\n",
       "dtype: float64"
      ]
     },
     "execution_count": 5,
     "metadata": {},
     "output_type": "execute_result"
    }
   ],
   "source": [
    "# Displaying the results of the exercise\n",
    "results1.groupby('SK_ID_BUREAU').agg({'AMT_CREDIT_previous': 'mean', 'AMT_CREDIT': 'mean'}).mean()"
   ]
  },
  {
   "cell_type": "markdown",
   "id": "74fc3af8",
   "metadata": {},
   "source": [
    "Conclusion: Previous average loan size: 181907. Current average loan size: 623597"
   ]
  },
  {
   "cell_type": "markdown",
   "id": "2a47e9ad",
   "metadata": {},
   "source": [
    "## 2. how many applicants from the application_train table were previously rejected\n",
    "Merge: application_train, bureaus, previous  "
   ]
  },
  {
   "cell_type": "code",
   "execution_count": 25,
   "id": "82dca142",
   "metadata": {},
   "outputs": [
    {
     "name": "stdout",
     "output_type": "stream",
     "text": [
      "Number of previously reject applicants: 579424\n"
     ]
    }
   ],
   "source": [
    "# This will merge the application train with the bureau and previous application\n",
    "# Then it queries based on NAME_CONTRACT_STATUS to get Refused applications\n",
    "# It will groupby SK_ID_BUREAU and ngroups attribute to get the amount of applicants rejected\n",
    "result = application_train[['SK_ID_CURR', 'AMT_CREDIT']].merge(bureau, on = 'SK_ID_CURR', suffixes = ('_train', '_bureau'))\\\n",
    ".merge(previous_application, on = 'SK_ID_CURR', suffixes = ('', '_previous')) \\\n",
    ".query('NAME_CONTRACT_STATUS == \"Refused\"')\\\n",
    ".groupby('SK_ID_BUREAU').ngroups\n",
    "\n",
    "print(f\"Number of previously reject applicants: {result}\")"
   ]
  },
  {
   "cell_type": "markdown",
   "id": "f843e8cf",
   "metadata": {},
   "source": [
    "##  3. average CURRENT credit card balance for the applicants\n",
    "Merge: application_train, bureaus, bureas_balance"
   ]
  },
  {
   "cell_type": "code",
   "execution_count": 15,
   "id": "09a673a6",
   "metadata": {},
   "outputs": [
    {
     "data": {
      "text/html": [
       "<div>\n",
       "<style scoped>\n",
       "    .dataframe tbody tr th:only-of-type {\n",
       "        vertical-align: middle;\n",
       "    }\n",
       "\n",
       "    .dataframe tbody tr th {\n",
       "        vertical-align: top;\n",
       "    }\n",
       "\n",
       "    .dataframe thead th {\n",
       "        text-align: right;\n",
       "    }\n",
       "</style>\n",
       "<table border=\"1\" class=\"dataframe\">\n",
       "  <thead>\n",
       "    <tr style=\"text-align: right;\">\n",
       "      <th></th>\n",
       "      <th>AMT_BALANCE</th>\n",
       "    </tr>\n",
       "    <tr>\n",
       "      <th>SK_ID_BUREAU</th>\n",
       "      <th></th>\n",
       "    </tr>\n",
       "  </thead>\n",
       "  <tbody>\n",
       "    <tr>\n",
       "      <th>5358176</th>\n",
       "      <td>1210510.755</td>\n",
       "    </tr>\n",
       "    <tr>\n",
       "      <th>5358178</th>\n",
       "      <td>1210510.755</td>\n",
       "    </tr>\n",
       "    <tr>\n",
       "      <th>5358173</th>\n",
       "      <td>1210510.755</td>\n",
       "    </tr>\n",
       "    <tr>\n",
       "      <th>5358174</th>\n",
       "      <td>1210510.755</td>\n",
       "    </tr>\n",
       "    <tr>\n",
       "      <th>5358175</th>\n",
       "      <td>1210510.755</td>\n",
       "    </tr>\n",
       "    <tr>\n",
       "      <th>...</th>\n",
       "      <td>...</td>\n",
       "    </tr>\n",
       "    <tr>\n",
       "      <th>5687385</th>\n",
       "      <td>0.000</td>\n",
       "    </tr>\n",
       "    <tr>\n",
       "      <th>5687405</th>\n",
       "      <td>0.000</td>\n",
       "    </tr>\n",
       "    <tr>\n",
       "      <th>5687406</th>\n",
       "      <td>0.000</td>\n",
       "    </tr>\n",
       "    <tr>\n",
       "      <th>5687407</th>\n",
       "      <td>0.000</td>\n",
       "    </tr>\n",
       "    <tr>\n",
       "      <th>6843457</th>\n",
       "      <td>0.000</td>\n",
       "    </tr>\n",
       "  </tbody>\n",
       "</table>\n",
       "<p>266685 rows × 1 columns</p>\n",
       "</div>"
      ],
      "text/plain": [
       "              AMT_BALANCE\n",
       "SK_ID_BUREAU             \n",
       "5358176       1210510.755\n",
       "5358178       1210510.755\n",
       "5358173       1210510.755\n",
       "5358174       1210510.755\n",
       "5358175       1210510.755\n",
       "...                   ...\n",
       "5687385             0.000\n",
       "5687405             0.000\n",
       "5687406             0.000\n",
       "5687407             0.000\n",
       "6843457             0.000\n",
       "\n",
       "[266685 rows x 1 columns]"
      ]
     },
     "execution_count": 15,
     "metadata": {},
     "output_type": "execute_result"
    }
   ],
   "source": [
    "# Merging the bureau with application train and credit card balance\n",
    "# Set the query to MONTHS_BALANCE == -1 to get the most current data\n",
    "# Group by SK_ID_BUREAU and get the mean AMT balance to get the average CC balance\n",
    "# Sorting by AMT_BALANCE from most to least\n",
    "bureau[['SK_ID_CURR', 'SK_ID_BUREAU']].merge(application_train[['SK_ID_CURR', 'AMT_CREDIT']]\n",
    "                                             , on = 'SK_ID_CURR', suffixes = ('_bureau', '_train'))\\\n",
    ".merge(credit_card_balance[['SK_ID_CURR', 'MONTHS_BALANCE', 'AMT_BALANCE']], on = 'SK_ID_CURR')\\\n",
    ".query('MONTHS_BALANCE == -1')\\\n",
    ".groupby('SK_ID_BUREAU').agg({'AMT_BALANCE': 'mean'})\\\n",
    ".sort_values('AMT_BALANCE', ascending = False)"
   ]
  },
  {
   "cell_type": "markdown",
   "id": "2ae55e95",
   "metadata": {},
   "source": [
    "## 4. ratio of approved/refused loans per gender? \n",
    "Merge: application_train, previous\n"
   ]
  },
  {
   "cell_type": "code",
   "execution_count": 16,
   "id": "fa75aafb",
   "metadata": {
    "scrolled": false
   },
   "outputs": [
    {
     "data": {
      "text/plain": [
       "CODE_GENDER  NAME_CONTRACT_STATUS\n",
       "F            Approved                0.626742\n",
       "             Canceled                0.187446\n",
       "             Refused                 0.170972\n",
       "             Unused offer            0.014840\n",
       "M            Approved                0.626926\n",
       "             Refused                 0.178979\n",
       "             Canceled                0.175345\n",
       "             Unused offer            0.018750\n",
       "XNA          Refused                 0.454545\n",
       "             Approved                0.418182\n",
       "             Canceled                0.127273\n",
       "Name: NAME_CONTRACT_STATUS, dtype: float64"
      ]
     },
     "execution_count": 16,
     "metadata": {},
     "output_type": "execute_result"
    }
   ],
   "source": [
    "# Merging the tables train and previous_application\n",
    "# Group by CODE_GENDER and get the percentage of NAME_CONTRACT_STATUS\n",
    "application_train[['SK_ID_CURR', 'CODE_GENDER']].merge(previous_application, on = 'SK_ID_CURR')\\\n",
    ".groupby('CODE_GENDER')['NAME_CONTRACT_STATUS'].value_counts(normalize = True)"
   ]
  },
  {
   "cell_type": "markdown",
   "id": "6ccd9567",
   "metadata": {},
   "source": [
    "### Conclusion\n",
    "Loans approved/refused ratio per gender:\n",
    "- Females: 62,7% approved vs 17,1% refused\n",
    "- Males: 62,7% approved vs 17,9% refused"
   ]
  },
  {
   "cell_type": "markdown",
   "id": "fb485d5c",
   "metadata": {},
   "source": [
    "## 5. Do people with children have a higher or lower loan approval ratio than those without\n",
    "Merge: application_train, previous"
   ]
  },
  {
   "cell_type": "code",
   "execution_count": 10,
   "id": "e6d0579e",
   "metadata": {
    "scrolled": true
   },
   "outputs": [
    {
     "data": {
      "text/plain": [
       "HAS_CHILDREN  NAME_CONTRACT_STATUS\n",
       "No            Approved                0.618859\n",
       "Yes           Approved                0.646297\n",
       "Name: NAME_CONTRACT_STATUS, dtype: float64"
      ]
     },
     "execution_count": 10,
     "metadata": {},
     "output_type": "execute_result"
    }
   ],
   "source": [
    "# Assign a new feature: HAS_CHILDREN. Yes if the applicant has children, no if not\n",
    "# Merge with the previous application data\n",
    "# Groupby HAS_CHILDREN and access the name of the contract status\n",
    "# Get the percentage for each group and filter to only get the approved \n",
    "application_train.assign(HAS_CHILDREN = np.where(application_train['CNT_CHILDREN'] > 0, \"Yes\", \"No\")) \\\n",
    ".merge(previous_application, on = 'SK_ID_CURR')\\\n",
    ".groupby('HAS_CHILDREN')['NAME_CONTRACT_STATUS'] \\\n",
    ".value_counts(normalize = True).filter(like ='Approved', axis = 0)"
   ]
  },
  {
   "cell_type": "markdown",
   "id": "17e35b38",
   "metadata": {},
   "source": [
    "Conclusion: people with children have a higher loan approval ratio of about 3 percent"
   ]
  },
  {
   "cell_type": "markdown",
   "id": "274d25a1",
   "metadata": {},
   "source": [
    "## 6. Bin client ages in young, middle age and senior citizens -- and create a pivot table showing percentages of loans Approved, Cancelled and Refused per age group.\n",
    "young: 20-35 years (7300-12775 day)\n",
    "middle: 35-60 years (12775-21000 days)\n",
    "senior: 60+ years old (21000+ days)"
   ]
  },
  {
   "cell_type": "code",
   "execution_count": 13,
   "id": "c50535d5",
   "metadata": {},
   "outputs": [
    {
     "data": {
      "text/html": [
       "<div>\n",
       "<style scoped>\n",
       "    .dataframe tbody tr th:only-of-type {\n",
       "        vertical-align: middle;\n",
       "    }\n",
       "\n",
       "    .dataframe tbody tr th {\n",
       "        vertical-align: top;\n",
       "    }\n",
       "\n",
       "    .dataframe thead th {\n",
       "        text-align: right;\n",
       "    }\n",
       "</style>\n",
       "<table border=\"1\" class=\"dataframe\">\n",
       "  <thead>\n",
       "    <tr style=\"text-align: right;\">\n",
       "      <th>AGE_GROUP</th>\n",
       "      <th>middle</th>\n",
       "      <th>senior</th>\n",
       "      <th>young</th>\n",
       "    </tr>\n",
       "    <tr>\n",
       "      <th>NAME_CONTRACT_STATUS</th>\n",
       "      <th></th>\n",
       "      <th></th>\n",
       "      <th></th>\n",
       "    </tr>\n",
       "  </thead>\n",
       "  <tbody>\n",
       "    <tr>\n",
       "      <th>Approved</th>\n",
       "      <td>62.887861</td>\n",
       "      <td>62.081850</td>\n",
       "      <td>62.655008</td>\n",
       "    </tr>\n",
       "    <tr>\n",
       "      <th>Canceled</th>\n",
       "      <td>18.512946</td>\n",
       "      <td>20.991792</td>\n",
       "      <td>16.051586</td>\n",
       "    </tr>\n",
       "    <tr>\n",
       "      <th>Refused</th>\n",
       "      <td>17.053415</td>\n",
       "      <td>16.218316</td>\n",
       "      <td>18.874083</td>\n",
       "    </tr>\n",
       "    <tr>\n",
       "      <th>Unused offer</th>\n",
       "      <td>1.545778</td>\n",
       "      <td>0.708042</td>\n",
       "      <td>2.419323</td>\n",
       "    </tr>\n",
       "    <tr>\n",
       "      <th>All</th>\n",
       "      <td>100.000000</td>\n",
       "      <td>100.000000</td>\n",
       "      <td>100.000000</td>\n",
       "    </tr>\n",
       "  </tbody>\n",
       "</table>\n",
       "</div>"
      ],
      "text/plain": [
       "AGE_GROUP                 middle      senior       young\n",
       "NAME_CONTRACT_STATUS                                    \n",
       "Approved               62.887861   62.081850   62.655008\n",
       "Canceled               18.512946   20.991792   16.051586\n",
       "Refused                17.053415   16.218316   18.874083\n",
       "Unused offer            1.545778    0.708042    2.419323\n",
       "All                   100.000000  100.000000  100.000000"
      ]
     },
     "execution_count": 13,
     "metadata": {},
     "output_type": "execute_result"
    }
   ],
   "source": [
    "# Setting the conditions\n",
    "# Because the DAYS_BIRTH are negative, the conditions have to be treated that way\n",
    "conditions = [\n",
    "    (application_train['DAYS_BIRTH'] > -12775),\n",
    "    (application_train['DAYS_BIRTH'] <= -12775) & (application_train['DAYS_BIRTH'] >= -21000),\n",
    "    (application_train['DAYS_BIRTH'] < -21000)\n",
    "]\n",
    "# Setting the values for age group\n",
    "values = [\"young\", \"middle\", \"senior\"]\n",
    "\n",
    "# Setting the data merge\n",
    "data = application_train.assign(AGE_GROUP = np.select(conditions, values))\\\n",
    ".merge(previous_application, on = 'SK_ID_CURR')\n",
    "\n",
    "# Setting the pivot table\n",
    "# Use the len function, after that devide the numbers by the total for the age group and multiply by 100 using mul\n",
    "# E.g. (portion middle / total middle) * 100\n",
    "# Select every row and column except the last column\n",
    "pivot = data.pivot_table(columns = 'AGE_GROUP', index = 'NAME_CONTRACT_STATUS', values = 'SK_ID_CURR', \n",
    "                         aggfunc = len, margins = True)\n",
    "pivot.div(pivot.iloc[-1]).mul(100).iloc[:, :-1]"
   ]
  },
  {
   "cell_type": "markdown",
   "id": "17c656e8",
   "metadata": {},
   "source": [
    "## 7. Find clients that have the most recorded loans in the Credit bureau (above 95th percentile). What percentage of those have had at least one loan with STATUS == 5 (DPD 120+) in their Credit Bureau history"
   ]
  },
  {
   "cell_type": "code",
   "execution_count": null,
   "id": "fd3396df",
   "metadata": {},
   "outputs": [],
   "source": []
  }
 ],
 "metadata": {
  "kernelspec": {
   "display_name": "Python 3 (ipykernel)",
   "language": "python",
   "name": "python3"
  },
  "language_info": {
   "codemirror_mode": {
    "name": "ipython",
    "version": 3
   },
   "file_extension": ".py",
   "mimetype": "text/x-python",
   "name": "python",
   "nbconvert_exporter": "python",
   "pygments_lexer": "ipython3",
   "version": "3.9.7"
  }
 },
 "nbformat": 4,
 "nbformat_minor": 5
}

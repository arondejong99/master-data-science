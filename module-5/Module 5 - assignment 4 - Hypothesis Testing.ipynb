{
 "cells": [
  {
   "cell_type": "markdown",
   "id": "a42661ce",
   "metadata": {},
   "source": [
    "# Introduction\n",
    "In this exercise, a regression line will be fitted into the data. The data of this exercise is a survey. After that, some hyposis testing will be done."
   ]
  },
  {
   "cell_type": "code",
   "execution_count": 71,
   "id": "3bb1560c",
   "metadata": {},
   "outputs": [],
   "source": [
    "# Install dc_stat_think if you haven't already\n",
    "#%pip install dc_stat_think"
   ]
  },
  {
   "cell_type": "code",
   "execution_count": 72,
   "id": "cd9ef23d",
   "metadata": {},
   "outputs": [],
   "source": [
    "# Importing the necessary modules\n",
    "import pandas as pd\n",
    "import numpy as np\n",
    "import matplotlib.pyplot as plt\n",
    "import seaborn as sns\n",
    "import dc_stat_think as dcst"
   ]
  },
  {
   "cell_type": "markdown",
   "id": "79520181",
   "metadata": {},
   "source": [
    "# Linear regression line\n",
    "In this chapter, we're going to fit a regression line for the 'accuracy' column with the 'B4' column ('I use my brain'). First, some EDA will be applied to check if the data is clean. Then, it will be explained why this feature was chosen. And finally the legression line will be drawn.\n",
    "\n",
    "## EDA"
   ]
  },
  {
   "cell_type": "code",
   "execution_count": 73,
   "id": "6cdef7ba",
   "metadata": {},
   "outputs": [
    {
     "name": "stdout",
     "output_type": "stream",
     "text": [
      "           accuracy            B4           age       elapsed\n",
      "count  4.915900e+04  49159.000000  4.915900e+04  4.915900e+04\n",
      "mean   4.764119e+04      4.315853  4.371320e+04  2.506205e+03\n",
      "std    9.704611e+06      0.833983  9.685640e+06  5.082819e+04\n",
      "min    1.000000e+00      0.000000  1.300000e+01  5.000000e+00\n",
      "25%    8.500000e+01      4.000000  1.800000e+01  5.840000e+02\n",
      "50%    9.000000e+01      4.000000  2.100000e+01  7.540000e+02\n",
      "75%    9.700000e+01      5.000000  3.000000e+01  1.045000e+03\n",
      "max    2.147484e+09      5.000000  2.147484e+09  8.534589e+06\n",
      "<class 'pandas.core.frame.DataFrame'>\n",
      "RangeIndex: 49159 entries, 0 to 49158\n",
      "Data columns (total 4 columns):\n",
      " #   Column    Non-Null Count  Dtype\n",
      "---  ------    --------------  -----\n",
      " 0   accuracy  49159 non-null  int64\n",
      " 1   B4        49159 non-null  int64\n",
      " 2   age       49159 non-null  int64\n",
      " 3   elapsed   49159 non-null  int64\n",
      "dtypes: int64(4)\n",
      "memory usage: 1.5 MB\n",
      "None\n"
     ]
    }
   ],
   "source": [
    "# Read the dataset and extract the columns\n",
    "data = pd.read_csv('data.csv', sep = \"\\t\")\n",
    "cols = ['accuracy', 'B4', 'age', 'elapsed']\n",
    "\n",
    "# Show general information about the features\n",
    "print(data[cols].describe())\n",
    "print(data[cols].info())"
   ]
  },
  {
   "cell_type": "code",
   "execution_count": 74,
   "id": "098bb3ab",
   "metadata": {},
   "outputs": [
    {
     "data": {
      "image/png": "[encoded data removed]",
      "text/plain": [
       "<Figure size 1008x432 with 2 Axes>"
      ]
     },
     "metadata": {
      "needs_background": "light"
     },
     "output_type": "display_data"
    }
   ],
   "source": [
    "# Draw boxplots of the sets using seaborn\n",
    "fig, ax = plt.subplots(ncols = 2, figsize=(14, 6))\n",
    "\n",
    "# Draw first boxplot\n",
    "ax[0].boxplot(df_lin.accuracy, vert = True)\n",
    "ax[0].set_title(\"Accuracy scores\")\n",
    "ax[0].set_ylabel(\"Accuracy score\")\n",
    "\n",
    "# Draw second boxplot\n",
    "ax[1].boxplot(df_lin.B4, vert = True)\n",
    "ax[1].set_title(\"Statements B4: I use my brain\")\n",
    "ax[1].set_ylabel(\"Answer (1-5)\")\n",
    "\n",
    "plt.show()"
   ]
  },
  {
   "cell_type": "markdown",
   "id": "9ef46242",
   "metadata": {},
   "source": [
    "### Findings\n",
    "Based on the info method, we can see that from the data we're going to use, there're no missing values and they're set to the appropiate data type. However, we can see that age and accuracy have huge outliers and some answers of B4 have the value 0. Both rows will be dealt with. Accuracy will have a maximum of 100, age will have a maximum of 80, B4 will have a minimum of 1 and elapsed time will have a maximum of 3 hours (10800 seconds)"
   ]
  },
  {
   "cell_type": "code",
   "execution_count": 75,
   "id": "300a7e0a",
   "metadata": {
    "scrolled": false
   },
   "outputs": [
    {
     "data": {
      "text/html": [
       "<div>\n",
       "<style scoped>\n",
       "    .dataframe tbody tr th:only-of-type {\n",
       "        vertical-align: middle;\n",
       "    }\n",
       "\n",
       "    .dataframe tbody tr th {\n",
       "        vertical-align: top;\n",
       "    }\n",
       "\n",
       "    .dataframe thead th {\n",
       "        text-align: right;\n",
       "    }\n",
       "</style>\n",
       "<table border=\"1\" class=\"dataframe\">\n",
       "  <thead>\n",
       "    <tr style=\"text-align: right;\">\n",
       "      <th></th>\n",
       "      <th>accuracy</th>\n",
       "      <th>B4</th>\n",
       "      <th>age</th>\n",
       "      <th>elapsed</th>\n",
       "    </tr>\n",
       "  </thead>\n",
       "  <tbody>\n",
       "    <tr>\n",
       "      <th>count</th>\n",
       "      <td>47921.000000</td>\n",
       "      <td>47921.000000</td>\n",
       "      <td>47921.000000</td>\n",
       "      <td>47921.000000</td>\n",
       "    </tr>\n",
       "    <tr>\n",
       "      <th>mean</th>\n",
       "      <td>88.517518</td>\n",
       "      <td>4.359049</td>\n",
       "      <td>25.327268</td>\n",
       "      <td>988.651656</td>\n",
       "    </tr>\n",
       "    <tr>\n",
       "      <th>std</th>\n",
       "      <td>12.148270</td>\n",
       "      <td>0.718208</td>\n",
       "      <td>11.030914</td>\n",
       "      <td>916.724892</td>\n",
       "    </tr>\n",
       "    <tr>\n",
       "      <th>min</th>\n",
       "      <td>1.000000</td>\n",
       "      <td>1.000000</td>\n",
       "      <td>13.000000</td>\n",
       "      <td>5.000000</td>\n",
       "    </tr>\n",
       "    <tr>\n",
       "      <th>25%</th>\n",
       "      <td>85.000000</td>\n",
       "      <td>4.000000</td>\n",
       "      <td>18.000000</td>\n",
       "      <td>586.000000</td>\n",
       "    </tr>\n",
       "    <tr>\n",
       "      <th>50%</th>\n",
       "      <td>90.000000</td>\n",
       "      <td>4.000000</td>\n",
       "      <td>21.000000</td>\n",
       "      <td>752.000000</td>\n",
       "    </tr>\n",
       "    <tr>\n",
       "      <th>75%</th>\n",
       "      <td>97.000000</td>\n",
       "      <td>5.000000</td>\n",
       "      <td>29.000000</td>\n",
       "      <td>1028.000000</td>\n",
       "    </tr>\n",
       "    <tr>\n",
       "      <th>max</th>\n",
       "      <td>100.000000</td>\n",
       "      <td>5.000000</td>\n",
       "      <td>80.000000</td>\n",
       "      <td>10775.000000</td>\n",
       "    </tr>\n",
       "  </tbody>\n",
       "</table>\n",
       "</div>"
      ],
      "text/plain": [
       "           accuracy            B4           age       elapsed\n",
       "count  47921.000000  47921.000000  47921.000000  47921.000000\n",
       "mean      88.517518      4.359049     25.327268    988.651656\n",
       "std       12.148270      0.718208     11.030914    916.724892\n",
       "min        1.000000      1.000000     13.000000      5.000000\n",
       "25%       85.000000      4.000000     18.000000    586.000000\n",
       "50%       90.000000      4.000000     21.000000    752.000000\n",
       "75%       97.000000      5.000000     29.000000   1028.000000\n",
       "max      100.000000      5.000000     80.000000  10775.000000"
      ]
     },
     "execution_count": 75,
     "metadata": {},
     "output_type": "execute_result"
    }
   ],
   "source": [
    "# Clean the outliers\n",
    "df_lin = data.loc[(data['accuracy'] <= 100) & (data.age <= 80) \n",
    "                          & (data.B4 > 0) & (data.elapsed <= 10800)]\n",
    "\n",
    "df_lin_clean = df_lin[cols]\n",
    "\n",
    "df_lin_clean.describe()"
   ]
  },
  {
   "cell_type": "code",
   "execution_count": 76,
   "id": "da072c23",
   "metadata": {},
   "outputs": [
    {
     "data": {
      "image/png": "[encoded data removed]",
      "text/plain": [
       "<Figure size 1008x432 with 2 Axes>"
      ]
     },
     "metadata": {
      "needs_background": "light"
     },
     "output_type": "display_data"
    }
   ],
   "source": [
    "# Draw boxplots of the sets using seaborn\n",
    "fig, ax = plt.subplots(ncols = 2, figsize=(14, 6))\n",
    "\n",
    "# Draw first boxplot \n",
    "ax[0].boxplot(df_lin_clean.accuracy, vert = True)\n",
    "ax[0].set_title(\"Accuracy scores\")\n",
    "ax[0].set_ylabel(\"Accuracy score\")\n",
    "\n",
    "# Draw second boxplot\n",
    "ax[1].boxplot(df_lin_clean.B4, vert = True)\n",
    "ax[1].set_title(\"Statements B4: I use my brain\")\n",
    "ax[1].set_ylabel(\"Answer (1-5)\")\n",
    "\n",
    "plt.show()"
   ]
  },
  {
   "cell_type": "markdown",
   "id": "deccda0c",
   "metadata": {},
   "source": [
    "## Motivation feature choice\n",
    "The column 'B4' is chosen because of the question it contains: I use my brain. This type of questions indicates that the person is highly self-confident. You'll also see below that there's a correlation of the feature."
   ]
  },
  {
   "cell_type": "code",
   "execution_count": 77,
   "id": "d39cb407",
   "metadata": {},
   "outputs": [
    {
     "data": {
      "image/png": "[encoded data removed]",
      "text/plain": [
       "<Figure size 432x288 with 2 Axes>"
      ]
     },
     "metadata": {
      "needs_background": "light"
     },
     "output_type": "display_data"
    }
   ],
   "source": [
    "cor = df_lin_clean.corr()\n",
    "\n",
    "# Display the correlation matrix\n",
    "sns.heatmap(cor, annot=True, cmap = 'Greens')\n",
    "plt.title(\"Correlation matrix\")\n",
    "plt.show()"
   ]
  },
  {
   "cell_type": "markdown",
   "id": "7f61c587",
   "metadata": {},
   "source": [
    "## Regression line"
   ]
  },
  {
   "cell_type": "code",
   "execution_count": 78,
   "id": "30217558",
   "metadata": {
    "scrolled": false
   },
   "outputs": [
    {
     "data": {
      "image/png": "[encoded data removed]",
      "text/plain": [
       "<Figure size 576x576 with 1 Axes>"
      ]
     },
     "metadata": {
      "needs_background": "light"
     },
     "output_type": "display_data"
    }
   ],
   "source": [
    "b4 = df_lin_clean.B4\n",
    "acc = df_lin_clean.accuracy\n",
    "slope, intercept = np.polyfit(b4,acc, 1)\n",
    "\n",
    "fig, ax = plt.subplots(figsize = (8, 8))\n",
    "ax.plot(b4, acc, marker = '.',\n",
    "         linestyle = 'none', alpha = 0.2, label = 'Accuracy')\n",
    "ax.plot(b4, slope * b4 + intercept, color = 'red', label = \"Linear regression from data\")\n",
    "plt.xlabel(\"Score from question B4 (1-5)\")\n",
    "plt.ylabel(\"Accuracy\")\n",
    "plt.title(\"Accuracy compared to score in statement B4: I use my brain\")\n",
    "plt.margins(0.2)\n",
    "plt.legend()\n",
    "plt.show()"
   ]
  },
  {
   "cell_type": "markdown",
   "id": "611db64f",
   "metadata": {},
   "source": [
    "### Findings\n",
    "Accuracy slightly increases after answer from B4 increases as well. "
   ]
  },
  {
   "cell_type": "markdown",
   "id": "eeb659c6",
   "metadata": {},
   "source": [
    "# Hypothesis testing\n",
    "In this chapter, a hypothesis test will be performed. For this hypothesis test, the following questions will be used:\n",
    "- I make people feel at ease (A6)\n",
    "- I consider myself an average person (B9)\n",
    "- I feel comfortable with myself (C2)\n",
    "- I say what I think (D3)\n",
    "- I respect authority (F4)\n",
    "\n",
    "For this hypothesis test, we want to see if gender has an effect on how the Dutch respondents answered these questions on average.\n",
    "\n",
    "In order to test that, we'll formulate the following null hypothesis:\n",
    "\n",
    "_Gender has no influence on how the Dutch respondents answered the questions A6, B9, C2, D3 and F4._"
   ]
  },
  {
   "cell_type": "markdown",
   "id": "085ff8aa",
   "metadata": {},
   "source": [
    "## Gather data"
   ]
  },
  {
   "cell_type": "code",
   "execution_count": 79,
   "id": "9ffd7d0a",
   "metadata": {
    "scrolled": false
   },
   "outputs": [
    {
     "data": {
      "text/html": [
       "<div>\n",
       "<style scoped>\n",
       "    .dataframe tbody tr th:only-of-type {\n",
       "        vertical-align: middle;\n",
       "    }\n",
       "\n",
       "    .dataframe tbody tr th {\n",
       "        vertical-align: top;\n",
       "    }\n",
       "\n",
       "    .dataframe thead th {\n",
       "        text-align: right;\n",
       "    }\n",
       "</style>\n",
       "<table border=\"1\" class=\"dataframe\">\n",
       "  <thead>\n",
       "    <tr style=\"text-align: right;\">\n",
       "      <th></th>\n",
       "      <th>gender</th>\n",
       "      <th>A6</th>\n",
       "      <th>B9</th>\n",
       "      <th>C2</th>\n",
       "      <th>D3</th>\n",
       "      <th>F4</th>\n",
       "      <th>total</th>\n",
       "    </tr>\n",
       "  </thead>\n",
       "  <tbody>\n",
       "    <tr>\n",
       "      <th>0</th>\n",
       "      <td>1</td>\n",
       "      <td>2</td>\n",
       "      <td>1</td>\n",
       "      <td>2</td>\n",
       "      <td>4</td>\n",
       "      <td>1</td>\n",
       "      <td>10</td>\n",
       "    </tr>\n",
       "    <tr>\n",
       "      <th>1</th>\n",
       "      <td>1</td>\n",
       "      <td>3</td>\n",
       "      <td>2</td>\n",
       "      <td>4</td>\n",
       "      <td>3</td>\n",
       "      <td>3</td>\n",
       "      <td>15</td>\n",
       "    </tr>\n",
       "    <tr>\n",
       "      <th>2</th>\n",
       "      <td>1</td>\n",
       "      <td>4</td>\n",
       "      <td>4</td>\n",
       "      <td>4</td>\n",
       "      <td>4</td>\n",
       "      <td>2</td>\n",
       "      <td>18</td>\n",
       "    </tr>\n",
       "    <tr>\n",
       "      <th>3</th>\n",
       "      <td>1</td>\n",
       "      <td>4</td>\n",
       "      <td>2</td>\n",
       "      <td>5</td>\n",
       "      <td>4</td>\n",
       "      <td>2</td>\n",
       "      <td>17</td>\n",
       "    </tr>\n",
       "    <tr>\n",
       "      <th>4</th>\n",
       "      <td>1</td>\n",
       "      <td>4</td>\n",
       "      <td>4</td>\n",
       "      <td>4</td>\n",
       "      <td>4</td>\n",
       "      <td>4</td>\n",
       "      <td>20</td>\n",
       "    </tr>\n",
       "  </tbody>\n",
       "</table>\n",
       "</div>"
      ],
      "text/plain": [
       "   gender  A6  B9  C2  D3  F4  total\n",
       "0       1   2   1   2   4   1     10\n",
       "1       1   3   2   4   3   3     15\n",
       "2       1   4   4   4   4   2     18\n",
       "3       1   4   2   5   4   2     17\n",
       "4       1   4   4   4   4   4     20"
      ]
     },
     "metadata": {},
     "output_type": "display_data"
    },
    {
     "data": {
      "text/html": [
       "<div>\n",
       "<style scoped>\n",
       "    .dataframe tbody tr th:only-of-type {\n",
       "        vertical-align: middle;\n",
       "    }\n",
       "\n",
       "    .dataframe tbody tr th {\n",
       "        vertical-align: top;\n",
       "    }\n",
       "\n",
       "    .dataframe thead th {\n",
       "        text-align: right;\n",
       "    }\n",
       "</style>\n",
       "<table border=\"1\" class=\"dataframe\">\n",
       "  <thead>\n",
       "    <tr style=\"text-align: right;\">\n",
       "      <th></th>\n",
       "      <th>gender</th>\n",
       "      <th>A6</th>\n",
       "      <th>B9</th>\n",
       "      <th>C2</th>\n",
       "      <th>D3</th>\n",
       "      <th>F4</th>\n",
       "      <th>total</th>\n",
       "    </tr>\n",
       "  </thead>\n",
       "  <tbody>\n",
       "    <tr>\n",
       "      <th>0</th>\n",
       "      <td>2</td>\n",
       "      <td>5</td>\n",
       "      <td>2</td>\n",
       "      <td>5</td>\n",
       "      <td>5</td>\n",
       "      <td>1</td>\n",
       "      <td>18</td>\n",
       "    </tr>\n",
       "    <tr>\n",
       "      <th>1</th>\n",
       "      <td>2</td>\n",
       "      <td>5</td>\n",
       "      <td>4</td>\n",
       "      <td>5</td>\n",
       "      <td>2</td>\n",
       "      <td>4</td>\n",
       "      <td>20</td>\n",
       "    </tr>\n",
       "    <tr>\n",
       "      <th>2</th>\n",
       "      <td>2</td>\n",
       "      <td>4</td>\n",
       "      <td>2</td>\n",
       "      <td>3</td>\n",
       "      <td>5</td>\n",
       "      <td>3</td>\n",
       "      <td>17</td>\n",
       "    </tr>\n",
       "    <tr>\n",
       "      <th>3</th>\n",
       "      <td>2</td>\n",
       "      <td>4</td>\n",
       "      <td>2</td>\n",
       "      <td>4</td>\n",
       "      <td>3</td>\n",
       "      <td>3</td>\n",
       "      <td>16</td>\n",
       "    </tr>\n",
       "    <tr>\n",
       "      <th>4</th>\n",
       "      <td>2</td>\n",
       "      <td>4</td>\n",
       "      <td>4</td>\n",
       "      <td>4</td>\n",
       "      <td>3</td>\n",
       "      <td>5</td>\n",
       "      <td>20</td>\n",
       "    </tr>\n",
       "  </tbody>\n",
       "</table>\n",
       "</div>"
      ],
      "text/plain": [
       "   gender  A6  B9  C2  D3  F4  total\n",
       "0       2   5   2   5   5   1     18\n",
       "1       2   5   4   5   2   4     20\n",
       "2       2   4   2   3   5   3     17\n",
       "3       2   4   2   4   3   3     16\n",
       "4       2   4   4   4   3   5     20"
      ]
     },
     "metadata": {},
     "output_type": "display_data"
    },
    {
     "name": "stdout",
     "output_type": "stream",
     "text": [
      "<class 'pandas.core.frame.DataFrame'>\n",
      "RangeIndex: 122 entries, 0 to 121\n",
      "Data columns (total 7 columns):\n",
      " #   Column  Non-Null Count  Dtype\n",
      "---  ------  --------------  -----\n",
      " 0   gender  122 non-null    int64\n",
      " 1   A6      122 non-null    int64\n",
      " 2   B9      122 non-null    int64\n",
      " 3   C2      122 non-null    int64\n",
      " 4   D3      122 non-null    int64\n",
      " 5   F4      122 non-null    int64\n",
      " 6   total   122 non-null    int64\n",
      "dtypes: int64(7)\n",
      "memory usage: 6.8 KB\n",
      "<class 'pandas.core.frame.DataFrame'>\n",
      "RangeIndex: 135 entries, 0 to 134\n",
      "Data columns (total 7 columns):\n",
      " #   Column  Non-Null Count  Dtype\n",
      "---  ------  --------------  -----\n",
      " 0   gender  135 non-null    int64\n",
      " 1   A6      135 non-null    int64\n",
      " 2   B9      135 non-null    int64\n",
      " 3   C2      135 non-null    int64\n",
      " 4   D3      135 non-null    int64\n",
      " 5   F4      135 non-null    int64\n",
      " 6   total   135 non-null    int64\n",
      "dtypes: int64(7)\n",
      "memory usage: 7.5 KB\n"
     ]
    },
    {
     "data": {
      "text/plain": [
       "None"
      ]
     },
     "metadata": {},
     "output_type": "display_data"
    },
    {
     "data": {
      "text/plain": [
       "None"
      ]
     },
     "metadata": {},
     "output_type": "display_data"
    }
   ],
   "source": [
    "# Gather the data based on the questions and gender\n",
    "cols = ['gender', 'A6', 'B9', 'C2', 'D3', 'F4']\n",
    "\n",
    "# Select the data based on the conditions and add new column: total\n",
    "df_nl_male = df_lin.loc[(df_lin.gender == 1) & (df_lin.country == \"NL\"), cols].reset_index(drop = True)\n",
    "df_nl_male['total'] = df_nl_male[cols[1:]].sum(axis = 1)\n",
    "df_nl_female = df_lin.loc[(df_lin.gender == 2) & (df_lin.country == \"NL\"), cols].reset_index(drop = True)\n",
    "df_nl_female['total']= df_nl_female[cols[1:]].sum(axis = 1)\n",
    "\n",
    "# Display head and info\n",
    "display(df_nl_male.head(), df_nl_female.head())\n",
    "display(df_nl_male.info(), df_nl_female.info())"
   ]
  },
  {
   "cell_type": "markdown",
   "id": "ce42afa5",
   "metadata": {},
   "source": [
    "## ECDF\n",
    "In this chapter an ECDF will be plotted to show "
   ]
  },
  {
   "cell_type": "code",
   "execution_count": 83,
   "id": "f0026db2",
   "metadata": {},
   "outputs": [
    {
     "data": {
      "image/png": "[encoded data removed]",
      "text/plain": [
       "<Figure size 576x432 with 1 Axes>"
      ]
     },
     "metadata": {
      "needs_background": "light"
     },
     "output_type": "display_data"
    }
   ],
   "source": [
    "fig, ax = plt.subplots(figsize = (8, 6))\n",
    "\n",
    "# Plot histograms\n",
    "plt.hist(df_nl_male.total, label = \"Male\", alpha = 0.2, bins = 15, \n",
    "         density = True, color = 'blue', histtype = 'step', lw = 3)\n",
    "plt.hist(df_nl_female.total, label = \"Female\", alpha = 0.2, bins = 15, \n",
    "         density = True, color = 'red', histtype = 'step', lw = 3)\n",
    "\n",
    "# Label the axis and title\n",
    "plt.xlabel(\"Total score\")\n",
    "plt.ylabel(\"Probability density\")\n",
    "plt.title(\"Probability distribution of Dutch Male and Female respondents\")\n",
    "\n",
    "# Show the plot\n",
    "plt.legend()\n",
    "plt.show()"
   ]
  },
  {
   "cell_type": "code",
   "execution_count": 81,
   "id": "a7769f3a",
   "metadata": {
    "scrolled": false
   },
   "outputs": [
    {
     "data": {
      "image/png": "[encoded data removed]",
      "text/plain": [
       "<Figure size 576x432 with 1 Axes>"
      ]
     },
     "metadata": {
      "needs_background": "light"
     },
     "output_type": "display_data"
    }
   ],
   "source": [
    "# Making ECDF plot \n",
    "fig, ax = plt.subplots(figsize = (8, 6))\n",
    "\n",
    "# Set the ECDFs\n",
    "x_male, y_male = dcst.ecdf(df_nl_male.total)\n",
    "x_female, y_female = dcst.ecdf(df_nl_female.total)\n",
    "\n",
    "# Plot the ECDF\n",
    "plt.plot(x_male, y_male, marker='.', linestyle='none')\n",
    "plt.plot(x_female, y_female, marker='.', linestyle='none')\n",
    "\n",
    "# Set legend, axes and title\n",
    "plt.legend((\"Male data\", \"Female data\"))\n",
    "plt.xlabel(\"Total score\")\n",
    "plt.ylabel(\"ECDF\")\n",
    "plt.title(\"ECDF of Dutch Male and Female respondents\")\n",
    "\n",
    "plt.show()"
   ]
  },
  {
   "cell_type": "markdown",
   "id": "bbcae1bf",
   "metadata": {},
   "source": [
    "### Findings\n",
    "Based on the ECDF and histogram plot, we can see that in general, Dutch women tend to answer the questions higher than their male counterparts. This will affect how we're going to approach the statistical testing. "
   ]
  },
  {
   "cell_type": "markdown",
   "id": "4290802d",
   "metadata": {},
   "source": [
    "## Statistical testing using bootstrap replicates"
   ]
  },
  {
   "cell_type": "code",
   "execution_count": 82,
   "id": "32268cc2",
   "metadata": {},
   "outputs": [
    {
     "name": "stdout",
     "output_type": "stream",
     "text": [
      "p value is: 0.0003\n"
     ]
    }
   ],
   "source": [
    "# Compute mean of combined data set: combined_mean\n",
    "combined_mean = np.mean(np.concatenate((df_nl_female.total, df_nl_male.total)))\n",
    "\n",
    "# Shift the samples based on the mean values\n",
    "df_male_shifted = np.array(df_nl_male.total) - np.mean(df_nl_male.total) + combined_mean\n",
    "df_female_shifted = np.array(df_nl_female.total) - np.mean(df_nl_female.total) + combined_mean\n",
    "\n",
    "bs_replicates_male = dcst.draw_bs_reps(df_male_shifted, np.mean, 10000)\n",
    "bs_replicates_female = dcst.draw_bs_reps(df_female_shifted, np.mean, 10000)\n",
    "\n",
    "# Compute replicates of difference of means: bs_diff_replicates\n",
    "bs_diff_replicates = bs_replicates_female - bs_replicates_male\n",
    "\n",
    "mean_diff = (np.mean(df_nl_female.total) - np.mean(df_nl_male.total))\n",
    "\n",
    "# Create the p-value for our null hypothesis testing. It's based on the difference of means from the data\n",
    "p = np.sum(bs_diff_replicates >= mean_diff) / len(bs_diff_replicates)\n",
    "\n",
    "print(f\"p value is: {p}\")"
   ]
  },
  {
   "cell_type": "markdown",
   "id": "3edb8de1",
   "metadata": {},
   "source": [
    "### Findings\n",
    "After running the hypothesis testing, the P value range from 0.0001 to 0.0003. This indicates that a strong statstical significane between the two genders in the Netherlands. Based on that, we reject the null-hypothesis."
   ]
  }
 ],
 "metadata": {
  "kernelspec": {
   "display_name": "Python 3 (ipykernel)",
   "language": "python",
   "name": "python3"
  },
  "language_info": {
   "codemirror_mode": {
    "name": "ipython",
    "version": 3
   },
   "file_extension": ".py",
   "mimetype": "text/x-python",
   "name": "python",
   "nbconvert_exporter": "python",
   "pygments_lexer": "ipython3",
   "version": "3.9.7"
  }
 },
 "nbformat": 4,
 "nbformat_minor": 5
}
